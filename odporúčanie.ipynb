{
 "cells": [
  {
   "cell_type": "code",
   "execution_count": 1,
   "metadata": {},
   "outputs": [],
   "source": [
    "import numpy as np\n",
    "import pandas as pd\n",
    "import matplotlib.pyplot as plt\n",
    "import seaborn as sns\n",
    "import scipy.stats as stats\n",
    "import warnings\n",
    "warnings.filterwarnings('ignore')\n",
    "%matplotlib inline"
   ]
  },
  {
   "cell_type": "markdown",
   "metadata": {},
   "source": [
    "# Exploračná analýza"
   ]
  },
  {
   "cell_type": "markdown",
   "metadata": {},
   "source": [
    "## Tabuľka events"
   ]
  },
  {
   "cell_type": "code",
   "execution_count": 2,
   "metadata": {
    "scrolled": true
   },
   "outputs": [
    {
     "data": {
      "text/html": [
       "<div>\n",
       "<style scoped>\n",
       "    .dataframe tbody tr th:only-of-type {\n",
       "        vertical-align: middle;\n",
       "    }\n",
       "\n",
       "    .dataframe tbody tr th {\n",
       "        vertical-align: top;\n",
       "    }\n",
       "\n",
       "    .dataframe thead th {\n",
       "        text-align: right;\n",
       "    }\n",
       "</style>\n",
       "<table border=\"1\" class=\"dataframe\">\n",
       "  <thead>\n",
       "    <tr style=\"text-align: right;\">\n",
       "      <th></th>\n",
       "      <th>customer_id</th>\n",
       "      <th>timestamp</th>\n",
       "      <th>event_type</th>\n",
       "      <th>product_id</th>\n",
       "      <th>title</th>\n",
       "      <th>category_name</th>\n",
       "      <th>price</th>\n",
       "    </tr>\n",
       "  </thead>\n",
       "  <tbody>\n",
       "    <tr>\n",
       "      <td>10573559</td>\n",
       "      <td>9c321e1a-35fe-40d0-89bb-4352399bb12a</td>\n",
       "      <td>2019-08-16 14:10:44.785572 UTC</td>\n",
       "      <td>view_item</td>\n",
       "      <td>4fe102d6-647d-4a54-b564-b8240267930e</td>\n",
       "      <td>Lee Cooper Check Dress Ladies</td>\n",
       "      <td>Women&gt;Women's Clothing&gt;Dresses&gt;Summer and beac...</td>\n",
       "      <td>25.13</td>\n",
       "    </tr>\n",
       "    <tr>\n",
       "      <td>4949068</td>\n",
       "      <td>85c73c85-2674-47f9-973e-0ad78699d5fc</td>\n",
       "      <td>2019-07-24 21:22:02.874581 UTC</td>\n",
       "      <td>view_item</td>\n",
       "      <td>871f84fc-be1d-4094-bc01-2fc311bc7410</td>\n",
       "      <td>Bafiz Team Mens Mule Slippers</td>\n",
       "      <td>Men&gt;Men Footwear&gt;Sandals &amp; Flip-Flops&gt;Sliders</td>\n",
       "      <td>13.32</td>\n",
       "    </tr>\n",
       "    <tr>\n",
       "      <td>7569559</td>\n",
       "      <td>16115860-32d0-43e5-94d8-7cfdba0dfe21</td>\n",
       "      <td>2019-08-05 02:59:18.795894 UTC</td>\n",
       "      <td>view_item</td>\n",
       "      <td>ac3e0965-6b1d-4538-a0ff-b71ffdb38808</td>\n",
       "      <td>Lee Cooper Classic T Shirt Ladies</td>\n",
       "      <td>Women&gt;Women's Clothing&gt;T-Shirts&gt;Short Sleeve</td>\n",
       "      <td>12.41</td>\n",
       "    </tr>\n",
       "    <tr>\n",
       "      <td>11598572</td>\n",
       "      <td>7056cac1-3a35-48f9-8d42-50e5f7c6a9d9</td>\n",
       "      <td>2019-08-20 19:27:47.981375 UTC</td>\n",
       "      <td>view_item</td>\n",
       "      <td>214001e6-c3da-42de-96ee-fb01e3aead22</td>\n",
       "      <td>Slazenger Three Quarter Track Pants Junior Boys</td>\n",
       "      <td>Children&gt;Boy's Clothing&gt;Shorts&gt;Casual shorts</td>\n",
       "      <td>9.88</td>\n",
       "    </tr>\n",
       "    <tr>\n",
       "      <td>9859887</td>\n",
       "      <td>f407c03d-f0f0-41c0-8adb-5339db0a773e</td>\n",
       "      <td>2019-08-13 17:40:18.835259 UTC</td>\n",
       "      <td>view_item</td>\n",
       "      <td>e6502e92-7c3c-435f-93ed-d8a52acd6c88</td>\n",
       "      <td>Women's Sports dress Numoco 139</td>\n",
       "      <td>Women&gt;Women's Clothing&gt;Dresses&gt;Casual Dress</td>\n",
       "      <td>19.24</td>\n",
       "    </tr>\n",
       "    <tr>\n",
       "      <td>4592148</td>\n",
       "      <td>9557b3ae-710b-4e7b-a7a3-23da9ef821eb</td>\n",
       "      <td>2019-07-23 07:30:21.870528 UTC</td>\n",
       "      <td>view_item</td>\n",
       "      <td>15e4e32c-41b7-4a8d-87e6-81f16d22c599</td>\n",
       "      <td>Slazenger Mens Swimming Trunks</td>\n",
       "      <td>Sports&gt;Water Sports&gt;Men's Shorts and Swimwear</td>\n",
       "      <td>11.49</td>\n",
       "    </tr>\n",
       "    <tr>\n",
       "      <td>12934085</td>\n",
       "      <td>d382e83e-6785-4f2b-ac9b-33c787c9f341</td>\n",
       "      <td>2019-08-26 04:24:03.224646 UTC</td>\n",
       "      <td>view_item</td>\n",
       "      <td>096eb8cd-ffd8-4225-8de1-79bafe6796c0</td>\n",
       "      <td>Ombre Clothing Men's hoodie B821</td>\n",
       "      <td>Men&gt;Men Clothing&gt;Sweatshirts&gt;Hoodies</td>\n",
       "      <td>13.76</td>\n",
       "    </tr>\n",
       "    <tr>\n",
       "      <td>6669225</td>\n",
       "      <td>47a6fcd1-3750-458b-9db6-c42c5df18f2c</td>\n",
       "      <td>2019-08-01 14:25:53.15073 UTC</td>\n",
       "      <td>view_item</td>\n",
       "      <td>f43e7f41-691f-4474-939c-a7487d82ce3c</td>\n",
       "      <td>Crafted Junior Boys 3 Pack Jog Set</td>\n",
       "      <td>Children&gt;Boy's Clothing&gt;Boy's sets</td>\n",
       "      <td>19.87</td>\n",
       "    </tr>\n",
       "    <tr>\n",
       "      <td>1923860</td>\n",
       "      <td>f94759ee-4561-45b9-9947-e4421a0f66af</td>\n",
       "      <td>2019-07-10 09:49:53.373104 UTC</td>\n",
       "      <td>view_item</td>\n",
       "      <td>8b9db101-d64e-434c-bc1e-0bf1e533907e</td>\n",
       "      <td>Nike Air Bella 2 Trainers Ladies</td>\n",
       "      <td>NaN</td>\n",
       "      <td>93.06</td>\n",
       "    </tr>\n",
       "    <tr>\n",
       "      <td>8056460</td>\n",
       "      <td>1a457088-4456-4dbe-9b64-a7e053bdf209</td>\n",
       "      <td>2019-08-06 18:46:23.058316 UTC</td>\n",
       "      <td>view_item</td>\n",
       "      <td>7d1c1e91-88bb-4add-9df3-bdfa696d4a15</td>\n",
       "      <td>Nike Air Max LTD 3 Mens Trainers</td>\n",
       "      <td>Men&gt;Men Footwear&gt;Sneakers&gt;Low sneakers</td>\n",
       "      <td>126.40</td>\n",
       "    </tr>\n",
       "  </tbody>\n",
       "</table>\n",
       "</div>"
      ],
      "text/plain": [
       "                                   customer_id  \\\n",
       "10573559  9c321e1a-35fe-40d0-89bb-4352399bb12a   \n",
       "4949068   85c73c85-2674-47f9-973e-0ad78699d5fc   \n",
       "7569559   16115860-32d0-43e5-94d8-7cfdba0dfe21   \n",
       "11598572  7056cac1-3a35-48f9-8d42-50e5f7c6a9d9   \n",
       "9859887   f407c03d-f0f0-41c0-8adb-5339db0a773e   \n",
       "4592148   9557b3ae-710b-4e7b-a7a3-23da9ef821eb   \n",
       "12934085  d382e83e-6785-4f2b-ac9b-33c787c9f341   \n",
       "6669225   47a6fcd1-3750-458b-9db6-c42c5df18f2c   \n",
       "1923860   f94759ee-4561-45b9-9947-e4421a0f66af   \n",
       "8056460   1a457088-4456-4dbe-9b64-a7e053bdf209   \n",
       "\n",
       "                               timestamp event_type  \\\n",
       "10573559  2019-08-16 14:10:44.785572 UTC  view_item   \n",
       "4949068   2019-07-24 21:22:02.874581 UTC  view_item   \n",
       "7569559   2019-08-05 02:59:18.795894 UTC  view_item   \n",
       "11598572  2019-08-20 19:27:47.981375 UTC  view_item   \n",
       "9859887   2019-08-13 17:40:18.835259 UTC  view_item   \n",
       "4592148   2019-07-23 07:30:21.870528 UTC  view_item   \n",
       "12934085  2019-08-26 04:24:03.224646 UTC  view_item   \n",
       "6669225    2019-08-01 14:25:53.15073 UTC  view_item   \n",
       "1923860   2019-07-10 09:49:53.373104 UTC  view_item   \n",
       "8056460   2019-08-06 18:46:23.058316 UTC  view_item   \n",
       "\n",
       "                                    product_id  \\\n",
       "10573559  4fe102d6-647d-4a54-b564-b8240267930e   \n",
       "4949068   871f84fc-be1d-4094-bc01-2fc311bc7410   \n",
       "7569559   ac3e0965-6b1d-4538-a0ff-b71ffdb38808   \n",
       "11598572  214001e6-c3da-42de-96ee-fb01e3aead22   \n",
       "9859887   e6502e92-7c3c-435f-93ed-d8a52acd6c88   \n",
       "4592148   15e4e32c-41b7-4a8d-87e6-81f16d22c599   \n",
       "12934085  096eb8cd-ffd8-4225-8de1-79bafe6796c0   \n",
       "6669225   f43e7f41-691f-4474-939c-a7487d82ce3c   \n",
       "1923860   8b9db101-d64e-434c-bc1e-0bf1e533907e   \n",
       "8056460   7d1c1e91-88bb-4add-9df3-bdfa696d4a15   \n",
       "\n",
       "                                                    title  \\\n",
       "10573559                    Lee Cooper Check Dress Ladies   \n",
       "4949068                     Bafiz Team Mens Mule Slippers   \n",
       "7569559                 Lee Cooper Classic T Shirt Ladies   \n",
       "11598572  Slazenger Three Quarter Track Pants Junior Boys   \n",
       "9859887                   Women's Sports dress Numoco 139   \n",
       "4592148                    Slazenger Mens Swimming Trunks   \n",
       "12934085                 Ombre Clothing Men's hoodie B821   \n",
       "6669225                Crafted Junior Boys 3 Pack Jog Set   \n",
       "1923860                  Nike Air Bella 2 Trainers Ladies   \n",
       "8056460                  Nike Air Max LTD 3 Mens Trainers   \n",
       "\n",
       "                                              category_name   price  \n",
       "10573559  Women>Women's Clothing>Dresses>Summer and beac...   25.13  \n",
       "4949068       Men>Men Footwear>Sandals & Flip-Flops>Sliders   13.32  \n",
       "7569559        Women>Women's Clothing>T-Shirts>Short Sleeve   12.41  \n",
       "11598572       Children>Boy's Clothing>Shorts>Casual shorts    9.88  \n",
       "9859887         Women>Women's Clothing>Dresses>Casual Dress   19.24  \n",
       "4592148       Sports>Water Sports>Men's Shorts and Swimwear   11.49  \n",
       "12934085               Men>Men Clothing>Sweatshirts>Hoodies   13.76  \n",
       "6669225                  Children>Boy's Clothing>Boy's sets   19.87  \n",
       "1923860                                                 NaN   93.06  \n",
       "8056460              Men>Men Footwear>Sneakers>Low sneakers  126.40  "
      ]
     },
     "execution_count": 2,
     "metadata": {},
     "output_type": "execute_result"
    }
   ],
   "source": [
    "events = pd.read_csv('vi_data/events_train.csv')\n",
    "events.sample(10)"
   ]
  },
  {
   "cell_type": "code",
   "execution_count": 3,
   "metadata": {},
   "outputs": [
    {
     "data": {
      "text/plain": [
       "(14614385, 7)"
      ]
     },
     "execution_count": 3,
     "metadata": {},
     "output_type": "execute_result"
    }
   ],
   "source": [
    "events.shape"
   ]
  },
  {
   "cell_type": "code",
   "execution_count": 4,
   "metadata": {
    "scrolled": true
   },
   "outputs": [
    {
     "data": {
      "text/plain": [
       "array(['view_item'], dtype=object)"
      ]
     },
     "execution_count": 4,
     "metadata": {},
     "output_type": "execute_result"
    }
   ],
   "source": [
    "events.event_type.unique()"
   ]
  },
  {
   "cell_type": "markdown",
   "metadata": {},
   "source": [
    "## Tabuľka purchases"
   ]
  },
  {
   "cell_type": "code",
   "execution_count": 5,
   "metadata": {
    "scrolled": false
   },
   "outputs": [
    {
     "data": {
      "text/html": [
       "<div>\n",
       "<style scoped>\n",
       "    .dataframe tbody tr th:only-of-type {\n",
       "        vertical-align: middle;\n",
       "    }\n",
       "\n",
       "    .dataframe tbody tr th {\n",
       "        vertical-align: top;\n",
       "    }\n",
       "\n",
       "    .dataframe thead th {\n",
       "        text-align: right;\n",
       "    }\n",
       "</style>\n",
       "<table border=\"1\" class=\"dataframe\">\n",
       "  <thead>\n",
       "    <tr style=\"text-align: right;\">\n",
       "      <th></th>\n",
       "      <th>customer_id</th>\n",
       "      <th>timestamp</th>\n",
       "      <th>event_type</th>\n",
       "      <th>product_id</th>\n",
       "      <th>title</th>\n",
       "      <th>category_name</th>\n",
       "      <th>price</th>\n",
       "    </tr>\n",
       "  </thead>\n",
       "  <tbody>\n",
       "    <tr>\n",
       "      <td>39111</td>\n",
       "      <td>87d5c1e3-9c9c-42cc-813d-159b207a0f6d</td>\n",
       "      <td>2019-07-15 06:55:09.312518 UTC</td>\n",
       "      <td>purchase_item</td>\n",
       "      <td>3868ea1a-8dff-4078-84ed-6b03c71f7923</td>\n",
       "      <td>Lee Cooper Fashion T Shirt Ladies</td>\n",
       "      <td>NaN</td>\n",
       "      <td>NaN</td>\n",
       "    </tr>\n",
       "    <tr>\n",
       "      <td>126891</td>\n",
       "      <td>424e041e-703f-4e8e-940b-157c6b7242a4</td>\n",
       "      <td>2019-08-12 18:49:57.774208 UTC</td>\n",
       "      <td>purchase_item</td>\n",
       "      <td>42db8156-68db-47db-b441-4c49aa08e28e</td>\n",
       "      <td>Lee Cooper Men's boxers 5-pack</td>\n",
       "      <td>NEW IN</td>\n",
       "      <td>12.08</td>\n",
       "    </tr>\n",
       "    <tr>\n",
       "      <td>94377</td>\n",
       "      <td>95dc6965-1dac-494f-8865-2fc09a91997f</td>\n",
       "      <td>2019-08-03 17:51:15.988554 UTC</td>\n",
       "      <td>purchase_item</td>\n",
       "      <td>717e1bc2-ad01-4b50-a44e-860f6ac530eb</td>\n",
       "      <td>Men's shorts 4F H4L19-SKMT001A</td>\n",
       "      <td>Men&gt;Men Clothing&gt;Shorts&gt;Sports shorts</td>\n",
       "      <td>10.25</td>\n",
       "    </tr>\n",
       "    <tr>\n",
       "      <td>119944</td>\n",
       "      <td>248f435a-a05b-4981-ace0-48a34fe50a9b</td>\n",
       "      <td>2019-08-10 18:56:43.496038 UTC</td>\n",
       "      <td>purchase_item</td>\n",
       "      <td>8369aebc-fba5-4957-b3fb-7da05f327dff</td>\n",
       "      <td>Lee Cooper Full Zip Hoody Mens</td>\n",
       "      <td>Men&gt;Men Clothing&gt;Sweatshirts</td>\n",
       "      <td>16.68</td>\n",
       "    </tr>\n",
       "    <tr>\n",
       "      <td>13448</td>\n",
       "      <td>84ddda30-c5bb-47bf-ac8d-5c10aa107714</td>\n",
       "      <td>2019-07-06 04:20:42.79311 UTC</td>\n",
       "      <td>purchase_item</td>\n",
       "      <td>a39ecbca-53ba-41e6-96db-90772370fdf8</td>\n",
       "      <td>Lee Cooper Classic T Shirt Ladies</td>\n",
       "      <td>NaN</td>\n",
       "      <td>NaN</td>\n",
       "    </tr>\n",
       "    <tr>\n",
       "      <td>67023</td>\n",
       "      <td>8c20882c-75ed-4709-9e27-efecaacf5ab5</td>\n",
       "      <td>2019-07-26 00:46:46.402741 UTC</td>\n",
       "      <td>purchase_item</td>\n",
       "      <td>f9c39709-e8c7-4789-8197-6556c8f5f2c6</td>\n",
       "      <td>Ombre Clothing Men's socks U39 - mix 4</td>\n",
       "      <td>Men&gt;Men Clothing&gt;Underwear&gt;Socks</td>\n",
       "      <td>4.41</td>\n",
       "    </tr>\n",
       "    <tr>\n",
       "      <td>96544</td>\n",
       "      <td>9385ef99-39d5-4694-9862-4760ec8fc4be</td>\n",
       "      <td>2019-08-04 10:09:47.793583 UTC</td>\n",
       "      <td>purchase_item</td>\n",
       "      <td>3d99f0f7-c341-4ec1-ac6c-6e4a1ee38cdc</td>\n",
       "      <td>Slazenger Woven Shorts Mens</td>\n",
       "      <td>Men&gt;Men Clothing&gt;Shorts&gt;Sports shorts</td>\n",
       "      <td>14.72</td>\n",
       "    </tr>\n",
       "    <tr>\n",
       "      <td>89997</td>\n",
       "      <td>f68293aa-41ee-464c-9ea7-f18fb084d693</td>\n",
       "      <td>2019-08-02 12:50:22.474882 UTC</td>\n",
       "      <td>purchase_item</td>\n",
       "      <td>1fdd9bbd-6990-4cb6-ac7b-d98afa6540f1</td>\n",
       "      <td>Lee Cooper Slip On Zip Ladies Trainers</td>\n",
       "      <td>Women&gt;Women's Footwear&gt;Slip-on</td>\n",
       "      <td>22.06</td>\n",
       "    </tr>\n",
       "    <tr>\n",
       "      <td>111670</td>\n",
       "      <td>9119501b-b509-4e9d-ae2e-bfd3c8454cdc</td>\n",
       "      <td>2019-08-08 10:07:28.816279 UTC</td>\n",
       "      <td>purchase_item</td>\n",
       "      <td>27ebd864-91c0-4694-bcc3-dd71c94be92a</td>\n",
       "      <td>Men's T-shirt Lee Cooper 1P</td>\n",
       "      <td>Men&gt;Men Clothing&gt;T-Shirts &amp; Polo shirts&gt;Short ...</td>\n",
       "      <td>4.79</td>\n",
       "    </tr>\n",
       "    <tr>\n",
       "      <td>55876</td>\n",
       "      <td>10dc18a9-545f-44fd-b188-be4049938ef7</td>\n",
       "      <td>2019-07-21 11:33:22.733798 UTC</td>\n",
       "      <td>purchase_item</td>\n",
       "      <td>a766ed37-95ad-4fcd-b36d-e8c163b6d304</td>\n",
       "      <td>Official Rolling Stones T Shirt</td>\n",
       "      <td>Men&gt;Men Clothing&gt;T-Shirts &amp; Polo shirts&gt;Short ...</td>\n",
       "      <td>22.74</td>\n",
       "    </tr>\n",
       "  </tbody>\n",
       "</table>\n",
       "</div>"
      ],
      "text/plain": [
       "                                 customer_id                       timestamp  \\\n",
       "39111   87d5c1e3-9c9c-42cc-813d-159b207a0f6d  2019-07-15 06:55:09.312518 UTC   \n",
       "126891  424e041e-703f-4e8e-940b-157c6b7242a4  2019-08-12 18:49:57.774208 UTC   \n",
       "94377   95dc6965-1dac-494f-8865-2fc09a91997f  2019-08-03 17:51:15.988554 UTC   \n",
       "119944  248f435a-a05b-4981-ace0-48a34fe50a9b  2019-08-10 18:56:43.496038 UTC   \n",
       "13448   84ddda30-c5bb-47bf-ac8d-5c10aa107714   2019-07-06 04:20:42.79311 UTC   \n",
       "67023   8c20882c-75ed-4709-9e27-efecaacf5ab5  2019-07-26 00:46:46.402741 UTC   \n",
       "96544   9385ef99-39d5-4694-9862-4760ec8fc4be  2019-08-04 10:09:47.793583 UTC   \n",
       "89997   f68293aa-41ee-464c-9ea7-f18fb084d693  2019-08-02 12:50:22.474882 UTC   \n",
       "111670  9119501b-b509-4e9d-ae2e-bfd3c8454cdc  2019-08-08 10:07:28.816279 UTC   \n",
       "55876   10dc18a9-545f-44fd-b188-be4049938ef7  2019-07-21 11:33:22.733798 UTC   \n",
       "\n",
       "           event_type                            product_id  \\\n",
       "39111   purchase_item  3868ea1a-8dff-4078-84ed-6b03c71f7923   \n",
       "126891  purchase_item  42db8156-68db-47db-b441-4c49aa08e28e   \n",
       "94377   purchase_item  717e1bc2-ad01-4b50-a44e-860f6ac530eb   \n",
       "119944  purchase_item  8369aebc-fba5-4957-b3fb-7da05f327dff   \n",
       "13448   purchase_item  a39ecbca-53ba-41e6-96db-90772370fdf8   \n",
       "67023   purchase_item  f9c39709-e8c7-4789-8197-6556c8f5f2c6   \n",
       "96544   purchase_item  3d99f0f7-c341-4ec1-ac6c-6e4a1ee38cdc   \n",
       "89997   purchase_item  1fdd9bbd-6990-4cb6-ac7b-d98afa6540f1   \n",
       "111670  purchase_item  27ebd864-91c0-4694-bcc3-dd71c94be92a   \n",
       "55876   purchase_item  a766ed37-95ad-4fcd-b36d-e8c163b6d304   \n",
       "\n",
       "                                         title  \\\n",
       "39111        Lee Cooper Fashion T Shirt Ladies   \n",
       "126891          Lee Cooper Men's boxers 5-pack   \n",
       "94377           Men's shorts 4F H4L19-SKMT001A   \n",
       "119944          Lee Cooper Full Zip Hoody Mens   \n",
       "13448        Lee Cooper Classic T Shirt Ladies   \n",
       "67023   Ombre Clothing Men's socks U39 - mix 4   \n",
       "96544              Slazenger Woven Shorts Mens   \n",
       "89997   Lee Cooper Slip On Zip Ladies Trainers   \n",
       "111670             Men's T-shirt Lee Cooper 1P   \n",
       "55876          Official Rolling Stones T Shirt   \n",
       "\n",
       "                                            category_name  price  \n",
       "39111                                                 NaN    NaN  \n",
       "126891                                             NEW IN  12.08  \n",
       "94377               Men>Men Clothing>Shorts>Sports shorts  10.25  \n",
       "119944                       Men>Men Clothing>Sweatshirts  16.68  \n",
       "13448                                                 NaN    NaN  \n",
       "67023                    Men>Men Clothing>Underwear>Socks   4.41  \n",
       "96544               Men>Men Clothing>Shorts>Sports shorts  14.72  \n",
       "89997                      Women>Women's Footwear>Slip-on  22.06  \n",
       "111670  Men>Men Clothing>T-Shirts & Polo shirts>Short ...   4.79  \n",
       "55876   Men>Men Clothing>T-Shirts & Polo shirts>Short ...  22.74  "
      ]
     },
     "execution_count": 5,
     "metadata": {},
     "output_type": "execute_result"
    }
   ],
   "source": [
    "purchases = pd.read_csv('vi_data/purchases_train.csv')\n",
    "purchases.sample(10) "
   ]
  },
  {
   "cell_type": "code",
   "execution_count": 6,
   "metadata": {
    "scrolled": false
   },
   "outputs": [
    {
     "data": {
      "text/plain": [
       "(188712, 7)"
      ]
     },
     "execution_count": 6,
     "metadata": {},
     "output_type": "execute_result"
    }
   ],
   "source": [
    "purchases.shape"
   ]
  },
  {
   "cell_type": "code",
   "execution_count": 7,
   "metadata": {},
   "outputs": [
    {
     "data": {
      "text/plain": [
       "array(['purchase_item'], dtype=object)"
      ]
     },
     "execution_count": 7,
     "metadata": {},
     "output_type": "execute_result"
    }
   ],
   "source": [
    "purchases.event_type.unique()"
   ]
  },
  {
   "cell_type": "markdown",
   "metadata": {},
   "source": [
    "tabulky events a purchaches majú roznaké stĺpce "
   ]
  },
  {
   "cell_type": "markdown",
   "metadata": {},
   "source": [
    "## Spojenie events and purchases"
   ]
  },
  {
   "cell_type": "code",
   "execution_count": 11,
   "metadata": {
    "scrolled": true
   },
   "outputs": [
    {
     "data": {
      "text/html": [
       "<div>\n",
       "<style scoped>\n",
       "    .dataframe tbody tr th:only-of-type {\n",
       "        vertical-align: middle;\n",
       "    }\n",
       "\n",
       "    .dataframe tbody tr th {\n",
       "        vertical-align: top;\n",
       "    }\n",
       "\n",
       "    .dataframe thead th {\n",
       "        text-align: right;\n",
       "    }\n",
       "</style>\n",
       "<table border=\"1\" class=\"dataframe\">\n",
       "  <thead>\n",
       "    <tr style=\"text-align: right;\">\n",
       "      <th></th>\n",
       "      <th>customer_id</th>\n",
       "      <th>timestamp</th>\n",
       "      <th>event_type</th>\n",
       "      <th>product_id</th>\n",
       "      <th>title</th>\n",
       "      <th>category_name</th>\n",
       "      <th>price</th>\n",
       "    </tr>\n",
       "  </thead>\n",
       "  <tbody>\n",
       "    <tr>\n",
       "      <td>11478030</td>\n",
       "      <td>82bef739-7edd-411e-bd89-09258c4e3bc3</td>\n",
       "      <td>2019-08-20 11:15:45.087056 UTC</td>\n",
       "      <td>view_item</td>\n",
       "      <td>554f6c0a-ae21-4602-90c4-7733bf171e20</td>\n",
       "      <td>LA Gear V Neck T Shirt Ladies</td>\n",
       "      <td>Women&gt;Women's Clothing&gt;T-Shirts&gt;Short Sleeve</td>\n",
       "      <td>10.38</td>\n",
       "    </tr>\n",
       "    <tr>\n",
       "      <td>7413813</td>\n",
       "      <td>6c5a939e-17a8-43ba-b8b1-4f9000a2c228</td>\n",
       "      <td>2019-08-04 13:39:06.20768 UTC</td>\n",
       "      <td>view_item</td>\n",
       "      <td>765cc8cc-4110-4f94-980d-9856c8d52087</td>\n",
       "      <td>Trendyol Bronze Volan detailed patterned eveni...</td>\n",
       "      <td>Dresses&gt;Women&gt;Women's Clothing&gt;Evening dress</td>\n",
       "      <td>72.23</td>\n",
       "    </tr>\n",
       "    <tr>\n",
       "      <td>13124266</td>\n",
       "      <td>1a0f73ea-cc80-46c2-8bbb-ff41a2d3a17c</td>\n",
       "      <td>2019-08-26 17:36:52.216156 UTC</td>\n",
       "      <td>view_item</td>\n",
       "      <td>227e41e2-b621-4ce5-ba4e-0290000b9cc8</td>\n",
       "      <td>Women's lightweight jacket TRIMM CANDY</td>\n",
       "      <td>Women&gt;Women's Clothing&gt;Jackets &amp; Coats&gt;Quilted...</td>\n",
       "      <td>32.29</td>\n",
       "    </tr>\n",
       "    <tr>\n",
       "      <td>2184478</td>\n",
       "      <td>cbbce6ed-c244-4401-ab24-d40c587b6d0a</td>\n",
       "      <td>2019-07-11 15:47:35.405104 UTC</td>\n",
       "      <td>view_item</td>\n",
       "      <td>dd5a3959-0460-4819-8708-ad6f1b8f9df7</td>\n",
       "      <td>Puma Retaliate Mens Trainers</td>\n",
       "      <td>NaN</td>\n",
       "      <td>61.10</td>\n",
       "    </tr>\n",
       "    <tr>\n",
       "      <td>3153787</td>\n",
       "      <td>5a64027b-88aa-4d8c-b154-51ce770137cc</td>\n",
       "      <td>2019-07-15 21:27:02.828522 UTC</td>\n",
       "      <td>view_item</td>\n",
       "      <td>b3db184c-5bde-4ddc-8778-4e4f927a5ab8</td>\n",
       "      <td>Trendyol Mac high waist Bikini bottom</td>\n",
       "      <td>NaN</td>\n",
       "      <td>12.36</td>\n",
       "    </tr>\n",
       "    <tr>\n",
       "      <td>11672271</td>\n",
       "      <td>190a01ce-b735-4c48-8bda-15d390e849d8</td>\n",
       "      <td>2019-08-21 06:35:10.555938 UTC</td>\n",
       "      <td>view_item</td>\n",
       "      <td>d6cd4a45-787d-4002-bbc5-65b80c825e1d</td>\n",
       "      <td>Adidas Shiny Full Zip Tracksuit Boys</td>\n",
       "      <td>Children&gt;Girl's Clothing&gt;Girl's sets</td>\n",
       "      <td>53.83</td>\n",
       "    </tr>\n",
       "    <tr>\n",
       "      <td>5744922</td>\n",
       "      <td>425f8019-a607-48fd-880e-79d6b7904125</td>\n",
       "      <td>2019-07-28 19:01:31.188815 UTC</td>\n",
       "      <td>view_item</td>\n",
       "      <td>2b6ce6a0-8ebd-49a0-94ef-d1f3ef8fd861</td>\n",
       "      <td>Made Of Emotion Woman's Dress M276</td>\n",
       "      <td>Women&gt;Women's Clothing&gt;Dresses&gt;Midi dress</td>\n",
       "      <td>36.21</td>\n",
       "    </tr>\n",
       "    <tr>\n",
       "      <td>6823129</td>\n",
       "      <td>82c2072e-497d-4993-b00a-d77a52c52c0c</td>\n",
       "      <td>2019-08-02 07:33:39.829517 UTC</td>\n",
       "      <td>view_item</td>\n",
       "      <td>c838021b-4d15-47fc-a603-eac7a1f1b0bd</td>\n",
       "      <td>Nike Arrowz Mens Trainers</td>\n",
       "      <td>Men&gt;Men Footwear&gt;Sneakers&gt;Sport sneakers</td>\n",
       "      <td>74.73</td>\n",
       "    </tr>\n",
       "    <tr>\n",
       "      <td>14683153</td>\n",
       "      <td>60d0231b-3ca3-4221-af4c-d471d111daea</td>\n",
       "      <td>2019-07-26 16:09:08.787849 UTC</td>\n",
       "      <td>purchase_item</td>\n",
       "      <td>4ce05861-4306-4b12-829a-9c1ed4561800</td>\n",
       "      <td>Pierre Cardin Small Check Short Sleeve Shirt Mens</td>\n",
       "      <td>Men&gt;Men Clothing&gt;Shirts&gt;short sleeves</td>\n",
       "      <td>14.15</td>\n",
       "    </tr>\n",
       "    <tr>\n",
       "      <td>11942473</td>\n",
       "      <td>765809d7-42cf-457e-b3ea-e5dbedb8a701</td>\n",
       "      <td>2019-08-22 07:58:04.64111 UTC</td>\n",
       "      <td>view_item</td>\n",
       "      <td>6f193c8a-79ab-4f30-a853-e9d3ef5f659b</td>\n",
       "      <td>Larica Women’s bow oxfords LR308 grey</td>\n",
       "      <td>Women&gt;Women's Footwear&gt;Oxford shoes &amp; Moccasin...</td>\n",
       "      <td>13.87</td>\n",
       "    </tr>\n",
       "  </tbody>\n",
       "</table>\n",
       "</div>"
      ],
      "text/plain": [
       "                                   customer_id  \\\n",
       "11478030  82bef739-7edd-411e-bd89-09258c4e3bc3   \n",
       "7413813   6c5a939e-17a8-43ba-b8b1-4f9000a2c228   \n",
       "13124266  1a0f73ea-cc80-46c2-8bbb-ff41a2d3a17c   \n",
       "2184478   cbbce6ed-c244-4401-ab24-d40c587b6d0a   \n",
       "3153787   5a64027b-88aa-4d8c-b154-51ce770137cc   \n",
       "11672271  190a01ce-b735-4c48-8bda-15d390e849d8   \n",
       "5744922   425f8019-a607-48fd-880e-79d6b7904125   \n",
       "6823129   82c2072e-497d-4993-b00a-d77a52c52c0c   \n",
       "14683153  60d0231b-3ca3-4221-af4c-d471d111daea   \n",
       "11942473  765809d7-42cf-457e-b3ea-e5dbedb8a701   \n",
       "\n",
       "                               timestamp     event_type  \\\n",
       "11478030  2019-08-20 11:15:45.087056 UTC      view_item   \n",
       "7413813    2019-08-04 13:39:06.20768 UTC      view_item   \n",
       "13124266  2019-08-26 17:36:52.216156 UTC      view_item   \n",
       "2184478   2019-07-11 15:47:35.405104 UTC      view_item   \n",
       "3153787   2019-07-15 21:27:02.828522 UTC      view_item   \n",
       "11672271  2019-08-21 06:35:10.555938 UTC      view_item   \n",
       "5744922   2019-07-28 19:01:31.188815 UTC      view_item   \n",
       "6823129   2019-08-02 07:33:39.829517 UTC      view_item   \n",
       "14683153  2019-07-26 16:09:08.787849 UTC  purchase_item   \n",
       "11942473   2019-08-22 07:58:04.64111 UTC      view_item   \n",
       "\n",
       "                                    product_id  \\\n",
       "11478030  554f6c0a-ae21-4602-90c4-7733bf171e20   \n",
       "7413813   765cc8cc-4110-4f94-980d-9856c8d52087   \n",
       "13124266  227e41e2-b621-4ce5-ba4e-0290000b9cc8   \n",
       "2184478   dd5a3959-0460-4819-8708-ad6f1b8f9df7   \n",
       "3153787   b3db184c-5bde-4ddc-8778-4e4f927a5ab8   \n",
       "11672271  d6cd4a45-787d-4002-bbc5-65b80c825e1d   \n",
       "5744922   2b6ce6a0-8ebd-49a0-94ef-d1f3ef8fd861   \n",
       "6823129   c838021b-4d15-47fc-a603-eac7a1f1b0bd   \n",
       "14683153  4ce05861-4306-4b12-829a-9c1ed4561800   \n",
       "11942473  6f193c8a-79ab-4f30-a853-e9d3ef5f659b   \n",
       "\n",
       "                                                      title  \\\n",
       "11478030                      LA Gear V Neck T Shirt Ladies   \n",
       "7413813   Trendyol Bronze Volan detailed patterned eveni...   \n",
       "13124266             Women's lightweight jacket TRIMM CANDY   \n",
       "2184478                        Puma Retaliate Mens Trainers   \n",
       "3153787               Trendyol Mac high waist Bikini bottom   \n",
       "11672271               Adidas Shiny Full Zip Tracksuit Boys   \n",
       "5744922                  Made Of Emotion Woman's Dress M276   \n",
       "6823129                           Nike Arrowz Mens Trainers   \n",
       "14683153  Pierre Cardin Small Check Short Sleeve Shirt Mens   \n",
       "11942473              Larica Women’s bow oxfords LR308 grey   \n",
       "\n",
       "                                              category_name  price  \n",
       "11478030       Women>Women's Clothing>T-Shirts>Short Sleeve  10.38  \n",
       "7413813        Dresses>Women>Women's Clothing>Evening dress  72.23  \n",
       "13124266  Women>Women's Clothing>Jackets & Coats>Quilted...  32.29  \n",
       "2184478                                                 NaN  61.10  \n",
       "3153787                                                 NaN  12.36  \n",
       "11672271               Children>Girl's Clothing>Girl's sets  53.83  \n",
       "5744922           Women>Women's Clothing>Dresses>Midi dress  36.21  \n",
       "6823129            Men>Men Footwear>Sneakers>Sport sneakers  74.73  \n",
       "14683153              Men>Men Clothing>Shirts>short sleeves  14.15  \n",
       "11942473  Women>Women's Footwear>Oxford shoes & Moccasin...  13.87  "
      ]
     },
     "execution_count": 11,
     "metadata": {},
     "output_type": "execute_result"
    }
   ],
   "source": [
    "data = pd.concat([events, purchases], ignore_index=True)\n",
    "data.sample(10)"
   ]
  },
  {
   "cell_type": "code",
   "execution_count": 15,
   "metadata": {
    "scrolled": true
   },
   "outputs": [
    {
     "name": "stdout",
     "output_type": "stream",
     "text": [
      "14803097\n",
      "7\n"
     ]
    }
   ],
   "source": [
    "rows_num, cols_num = data.shape\n",
    "print(rows_num)\n",
    "print(cols_num)"
   ]
  },
  {
   "cell_type": "code",
   "execution_count": 16,
   "metadata": {},
   "outputs": [],
   "source": [
    "del events\n",
    "del purchases"
   ]
  },
  {
   "cell_type": "markdown",
   "metadata": {},
   "source": [
    "## Atribúty"
   ]
  },
  {
   "cell_type": "markdown",
   "metadata": {},
   "source": [
    "### customer_id"
   ]
  },
  {
   "cell_type": "code",
   "execution_count": 11,
   "metadata": {
    "scrolled": true
   },
   "outputs": [
    {
     "data": {
      "text/plain": [
       "count                                 14803097\n",
       "unique                                 2211386\n",
       "top       53f841c7-970b-4e0b-96bf-97a95ecfb734\n",
       "freq                                      4804\n",
       "Name: customer_id, dtype: object"
      ]
     },
     "execution_count": 11,
     "metadata": {},
     "output_type": "execute_result"
    }
   ],
   "source": [
    "data.customer_id.describe()"
   ]
  },
  {
   "cell_type": "code",
   "execution_count": 12,
   "metadata": {
    "scrolled": false
   },
   "outputs": [
    {
     "data": {
      "text/plain": [
       "0"
      ]
     },
     "execution_count": 12,
     "metadata": {},
     "output_type": "execute_result"
    }
   ],
   "source": [
    "len(data[data.customer_id.isna()])"
   ]
  },
  {
   "cell_type": "code",
   "execution_count": 13,
   "metadata": {},
   "outputs": [
    {
     "data": {
      "text/plain": [
       "6.694035776657716"
      ]
     },
     "execution_count": 13,
     "metadata": {},
     "output_type": "execute_result"
    }
   ],
   "source": [
    "rows_num/len(data.customer_id.unique())"
   ]
  },
  {
   "cell_type": "code",
   "execution_count": 14,
   "metadata": {
    "scrolled": true
   },
   "outputs": [
    {
     "data": {
      "text/plain": [
       "2.0"
      ]
     },
     "execution_count": 14,
     "metadata": {},
     "output_type": "execute_result"
    }
   ],
   "source": [
    "data.groupby(['customer_id']).count()['timestamp'].median()"
   ]
  },
  {
   "cell_type": "code",
   "execution_count": 14,
   "metadata": {
    "scrolled": true
   },
   "outputs": [
    {
     "data": {
      "text/plain": [
       "53f841c7-970b-4e0b-96bf-97a95ecfb734    4804\n",
       "9eb76d09-8006-4262-b5eb-459556f338a9    3577\n",
       "546a1146-64be-4549-a472-a8a4a8ca41b0    3189\n",
       "a3fe2d55-b8fc-4aaa-8f7f-99f6498b191f    3060\n",
       "68b2c520-5366-4143-a253-04fd96aeb251    2855\n",
       "                                        ... \n",
       "28f3de37-5d91-451b-9d71-c016ff28765a       1\n",
       "ddaea6ea-cf1e-4ef3-84d0-4d97f5019dab       1\n",
       "ee2c4b69-2194-4785-a817-76a30ea8a54b       1\n",
       "db9f09e8-ea9e-4444-986a-39c973a7dfe3       1\n",
       "3fe6ea93-4d29-4d6f-990a-6a873f19c2ed       1\n",
       "Name: customer_id, Length: 2211386, dtype: int64"
      ]
     },
     "execution_count": 14,
     "metadata": {},
     "output_type": "execute_result"
    }
   ],
   "source": [
    "customer_rows = data['customer_id'].value_counts()\n",
    "customer_rows"
   ]
  },
  {
   "cell_type": "code",
   "execution_count": 28,
   "metadata": {},
   "outputs": [
    {
     "name": "stdout",
     "output_type": "stream",
     "text": [
      "1 913643\n",
      "2 329587\n",
      "3 199175\n"
     ]
    }
   ],
   "source": [
    "for i, num in enumerate(customer_rows.value_counts()[:3]):\n",
    "    print(i+1, num)"
   ]
  },
  {
   "cell_type": "code",
   "execution_count": 29,
   "metadata": {},
   "outputs": [
    {
     "data": {
      "text/plain": [
       "0.4131540129131685"
      ]
     },
     "execution_count": 29,
     "metadata": {},
     "output_type": "execute_result"
    }
   ],
   "source": [
    "(913643)/2211386"
   ]
  },
  {
   "cell_type": "code",
   "execution_count": 20,
   "metadata": {},
   "outputs": [
    {
     "data": {
      "text/plain": [
       "0.5621949311427313"
      ]
     },
     "execution_count": 20,
     "metadata": {},
     "output_type": "execute_result"
    }
   ],
   "source": [
    "(913643+329587)/2211386"
   ]
  },
  {
   "cell_type": "code",
   "execution_count": 26,
   "metadata": {
    "scrolled": true
   },
   "outputs": [
    {
     "name": "stdout",
     "output_type": "stream",
     "text": [
      "4 129721\n",
      "8 45301\n",
      "12 22832\n",
      "16 13311\n",
      "20 8728\n",
      "24 6193\n",
      "28 4481\n",
      "32 3349\n",
      "36 2677\n",
      "40 2124\n",
      "44 1784\n",
      "48 1405\n"
     ]
    }
   ],
   "source": [
    "for i, num in enumerate(customer_rows.value_counts()[3:50:4]):\n",
    "    print(4*i+4, num)"
   ]
  },
  {
   "cell_type": "markdown",
   "metadata": {},
   "source": [
    "- 2,211,386 unikátnych zákazníkov\n",
    "- žiadne NaN hodnoty\n",
    "- v priemere vyše 6 záznamov na zákazníka\n",
    "    - ale median je iba 2\n",
    "    - 913,643 (41%) zákazníkov má len 1 záznam\n",
    "    - 56% zákazníkov má 2 záznamy"
   ]
  },
  {
   "cell_type": "markdown",
   "metadata": {},
   "source": [
    "### timestamp"
   ]
  },
  {
   "cell_type": "code",
   "execution_count": 16,
   "metadata": {
    "scrolled": false
   },
   "outputs": [
    {
     "data": {
      "text/plain": [
       "count                           14803097\n",
       "unique                          14802889\n",
       "top       2019-07-22 04:33:52.889148 UTC\n",
       "freq                                   4\n",
       "Name: timestamp, dtype: object"
      ]
     },
     "execution_count": 16,
     "metadata": {},
     "output_type": "execute_result"
    }
   ],
   "source": [
    "data.timestamp.describe()"
   ]
  },
  {
   "cell_type": "code",
   "execution_count": 17,
   "metadata": {},
   "outputs": [
    {
     "data": {
      "text/html": [
       "<div>\n",
       "<style scoped>\n",
       "    .dataframe tbody tr th:only-of-type {\n",
       "        vertical-align: middle;\n",
       "    }\n",
       "\n",
       "    .dataframe tbody tr th {\n",
       "        vertical-align: top;\n",
       "    }\n",
       "\n",
       "    .dataframe thead th {\n",
       "        text-align: right;\n",
       "    }\n",
       "</style>\n",
       "<table border=\"1\" class=\"dataframe\">\n",
       "  <thead>\n",
       "    <tr style=\"text-align: right;\">\n",
       "      <th></th>\n",
       "      <th>customer_id</th>\n",
       "      <th>timestamp</th>\n",
       "      <th>event_type</th>\n",
       "      <th>product_id</th>\n",
       "      <th>title</th>\n",
       "      <th>category_name</th>\n",
       "      <th>price</th>\n",
       "    </tr>\n",
       "  </thead>\n",
       "  <tbody>\n",
       "    <tr>\n",
       "      <td>4361630</td>\n",
       "      <td>8b57d536-f432-45a9-8b45-3bd54d68ba69</td>\n",
       "      <td>2019-07-22 04:33:52.889148 UTC</td>\n",
       "      <td>view_item</td>\n",
       "      <td>5bbe88b4-9650-4c1a-8f95-9a09c264b2c9</td>\n",
       "      <td>Hot Tuna Crew T Shirt Mens</td>\n",
       "      <td>Men&gt;Men Clothing&gt;T-Shirts &amp; Polo shirts</td>\n",
       "      <td>12.84</td>\n",
       "    </tr>\n",
       "    <tr>\n",
       "      <td>4361631</td>\n",
       "      <td>8b57d536-f432-45a9-8b45-3bd54d68ba69</td>\n",
       "      <td>2019-07-22 04:33:52.889148 UTC</td>\n",
       "      <td>view_item</td>\n",
       "      <td>248faf65-d1e2-4d7b-84c8-ce1c459ee086</td>\n",
       "      <td>Lonsdale Jersey Polo Shirt Mens</td>\n",
       "      <td>Men&gt;Men Clothing&gt;T-Shirts &amp; Polo shirts&gt;Polo S...</td>\n",
       "      <td>12.90</td>\n",
       "    </tr>\n",
       "    <tr>\n",
       "      <td>4361632</td>\n",
       "      <td>8b57d536-f432-45a9-8b45-3bd54d68ba69</td>\n",
       "      <td>2019-07-22 04:33:52.889148 UTC</td>\n",
       "      <td>view_item</td>\n",
       "      <td>377bdb75-6f46-4c29-b559-9af0c6ba2ae8</td>\n",
       "      <td>Pierre Cardin Web Belt Shorts Mens</td>\n",
       "      <td>Men&gt;Men Clothing&gt;Shorts</td>\n",
       "      <td>17.12</td>\n",
       "    </tr>\n",
       "    <tr>\n",
       "      <td>4361633</td>\n",
       "      <td>8b57d536-f432-45a9-8b45-3bd54d68ba69</td>\n",
       "      <td>2019-07-22 04:33:52.889148 UTC</td>\n",
       "      <td>view_item</td>\n",
       "      <td>b2bcef2f-df2d-4c23-aee7-73ca112ef815</td>\n",
       "      <td>Lee Cooper Men's boxers 5-pack</td>\n",
       "      <td>Men&gt;Men Clothing&gt;Underwear&gt;Boxer shorts &amp; trunks</td>\n",
       "      <td>13.10</td>\n",
       "    </tr>\n",
       "  </tbody>\n",
       "</table>\n",
       "</div>"
      ],
      "text/plain": [
       "                                  customer_id                       timestamp  \\\n",
       "4361630  8b57d536-f432-45a9-8b45-3bd54d68ba69  2019-07-22 04:33:52.889148 UTC   \n",
       "4361631  8b57d536-f432-45a9-8b45-3bd54d68ba69  2019-07-22 04:33:52.889148 UTC   \n",
       "4361632  8b57d536-f432-45a9-8b45-3bd54d68ba69  2019-07-22 04:33:52.889148 UTC   \n",
       "4361633  8b57d536-f432-45a9-8b45-3bd54d68ba69  2019-07-22 04:33:52.889148 UTC   \n",
       "\n",
       "        event_type                            product_id  \\\n",
       "4361630  view_item  5bbe88b4-9650-4c1a-8f95-9a09c264b2c9   \n",
       "4361631  view_item  248faf65-d1e2-4d7b-84c8-ce1c459ee086   \n",
       "4361632  view_item  377bdb75-6f46-4c29-b559-9af0c6ba2ae8   \n",
       "4361633  view_item  b2bcef2f-df2d-4c23-aee7-73ca112ef815   \n",
       "\n",
       "                                      title  \\\n",
       "4361630          Hot Tuna Crew T Shirt Mens   \n",
       "4361631     Lonsdale Jersey Polo Shirt Mens   \n",
       "4361632  Pierre Cardin Web Belt Shorts Mens   \n",
       "4361633      Lee Cooper Men's boxers 5-pack   \n",
       "\n",
       "                                             category_name  price  \n",
       "4361630            Men>Men Clothing>T-Shirts & Polo shirts  12.84  \n",
       "4361631  Men>Men Clothing>T-Shirts & Polo shirts>Polo S...  12.90  \n",
       "4361632                            Men>Men Clothing>Shorts  17.12  \n",
       "4361633   Men>Men Clothing>Underwear>Boxer shorts & trunks  13.10  "
      ]
     },
     "execution_count": 17,
     "metadata": {},
     "output_type": "execute_result"
    }
   ],
   "source": [
    "data.loc[data['timestamp'] == \"2019-07-22 04:33:52.889148 UTC\"]"
   ]
  },
  {
   "cell_type": "code",
   "execution_count": 47,
   "metadata": {},
   "outputs": [],
   "source": [
    "# data[\"timestamp\"] = pd.to_datetime(data[\"timestamp\"])"
   ]
  },
  {
   "cell_type": "code",
   "execution_count": 18,
   "metadata": {},
   "outputs": [
    {
     "data": {
      "text/plain": [
       "'2019-07-01 00:00:01.101977 UTC'"
      ]
     },
     "execution_count": 18,
     "metadata": {},
     "output_type": "execute_result"
    }
   ],
   "source": [
    "min(data.timestamp)"
   ]
  },
  {
   "cell_type": "code",
   "execution_count": 19,
   "metadata": {},
   "outputs": [
    {
     "data": {
      "text/plain": [
       "'2019-08-31 23:59:59.536067 UTC'"
      ]
     },
     "execution_count": 19,
     "metadata": {},
     "output_type": "execute_result"
    }
   ],
   "source": [
    "max(data.timestamp)"
   ]
  },
  {
   "cell_type": "code",
   "execution_count": 7,
   "metadata": {
    "scrolled": true
   },
   "outputs": [
    {
     "data": {
      "text/plain": [
       "0"
      ]
     },
     "execution_count": 7,
     "metadata": {},
     "output_type": "execute_result"
    }
   ],
   "source": [
    "len(data[data.timestamp.isna()])"
   ]
  },
  {
   "cell_type": "markdown",
   "metadata": {},
   "source": [
    "- dátumy z intervalu 2 mesiacov\n",
    "- žiadne NaN hodnoty\n",
    "- existujú záznamy typu `view_item`, kde je daný zákazník v danom čase a rôzne produkty. "
   ]
  },
  {
   "cell_type": "markdown",
   "metadata": {},
   "source": [
    "### event_type"
   ]
  },
  {
   "cell_type": "code",
   "execution_count": 21,
   "metadata": {
    "scrolled": true
   },
   "outputs": [
    {
     "data": {
      "text/plain": [
       "array(['view_item', 'purchase_item'], dtype=object)"
      ]
     },
     "execution_count": 21,
     "metadata": {},
     "output_type": "execute_result"
    }
   ],
   "source": [
    "data.event_type.unique()"
   ]
  },
  {
   "cell_type": "code",
   "execution_count": 22,
   "metadata": {
    "scrolled": true
   },
   "outputs": [
    {
     "data": {
      "text/plain": [
       "0"
      ]
     },
     "execution_count": 22,
     "metadata": {},
     "output_type": "execute_result"
    }
   ],
   "source": [
    "len(data[data.event_type.isna()])"
   ]
  },
  {
   "cell_type": "code",
   "execution_count": 23,
   "metadata": {},
   "outputs": [
    {
     "data": {
      "text/plain": [
       "0.9872518568242848"
      ]
     },
     "execution_count": 23,
     "metadata": {},
     "output_type": "execute_result"
    }
   ],
   "source": [
    "len(data.loc[data['event_type'] == \"view_item\"])/rows_num"
   ]
  },
  {
   "cell_type": "code",
   "execution_count": 24,
   "metadata": {},
   "outputs": [
    {
     "data": {
      "text/plain": [
       "0.01274814317571519"
      ]
     },
     "execution_count": 24,
     "metadata": {},
     "output_type": "execute_result"
    }
   ],
   "source": [
    "len(data.loc[data['event_type'] == \"purchase_item\"])/rows_num"
   ]
  },
  {
   "cell_type": "markdown",
   "metadata": {},
   "source": [
    "- dva typy: `view_item` a `purchase_item`\n",
    "- pomer je 98.7% ku 1.27%\n",
    "- žiadne NaN hodnoty"
   ]
  },
  {
   "cell_type": "markdown",
   "metadata": {},
   "source": [
    "### product_id"
   ]
  },
  {
   "cell_type": "code",
   "execution_count": 25,
   "metadata": {
    "scrolled": true
   },
   "outputs": [
    {
     "data": {
      "text/plain": [
       "count                                 14803097\n",
       "unique                                  123837\n",
       "top       31ae211d-57a9-4bfa-b95f-40776af03c3f\n",
       "freq                                     52736\n",
       "Name: product_id, dtype: object"
      ]
     },
     "execution_count": 25,
     "metadata": {},
     "output_type": "execute_result"
    }
   ],
   "source": [
    "data.product_id.describe()"
   ]
  },
  {
   "cell_type": "code",
   "execution_count": 60,
   "metadata": {},
   "outputs": [
    {
     "data": {
      "text/plain": [
       "0"
      ]
     },
     "execution_count": 60,
     "metadata": {},
     "output_type": "execute_result"
    }
   ],
   "source": [
    "len(data[data.product_id.isna()])"
   ]
  },
  {
   "cell_type": "code",
   "execution_count": 61,
   "metadata": {},
   "outputs": [
    {
     "data": {
      "text/plain": [
       "119.53694776197744"
      ]
     },
     "execution_count": 61,
     "metadata": {},
     "output_type": "execute_result"
    }
   ],
   "source": [
    "rows_num/len(data.product_id.unique())"
   ]
  },
  {
   "cell_type": "code",
   "execution_count": 62,
   "metadata": {},
   "outputs": [
    {
     "data": {
      "text/plain": [
       "17.0"
      ]
     },
     "execution_count": 62,
     "metadata": {},
     "output_type": "execute_result"
    }
   ],
   "source": [
    "data.groupby(['product_id']).count()['timestamp'].median() "
   ]
  },
  {
   "cell_type": "code",
   "execution_count": 32,
   "metadata": {},
   "outputs": [
    {
     "data": {
      "text/plain": [
       "31ae211d-57a9-4bfa-b95f-40776af03c3f    52736\n",
       "0f943312-7141-4606-abfa-81fd63a5498f    49141\n",
       "a8f0292d-5fca-42b9-b0d3-b38e7efa416b    48343\n",
       "e33cea18-ee3f-4e37-83a7-1d88c54d83b8    45421\n",
       "608f32cd-210c-4af5-99d8-6182a9678cf5    39801\n",
       "                                        ...  \n",
       "6b0e71d0-cdca-4160-8df1-ae7b43ef967c        1\n",
       "630d92d1-ed2b-4a75-a778-3dacba195eb5        1\n",
       "0633f706-85d4-4ac6-b34d-7f653fa7139d        1\n",
       "a3c46419-d8fb-4273-88ba-06dc92b42696        1\n",
       "326e712f-9733-4761-b458-217f3f695833        1\n",
       "Name: product_id, Length: 123837, dtype: int64"
      ]
     },
     "execution_count": 32,
     "metadata": {},
     "output_type": "execute_result"
    }
   ],
   "source": [
    "product_rows = data['product_id'].value_counts()\n",
    "product_rows"
   ]
  },
  {
   "cell_type": "code",
   "execution_count": 36,
   "metadata": {},
   "outputs": [
    {
     "name": "stdout",
     "output_type": "stream",
     "text": [
      "1 15982\n",
      "5 3582\n",
      "9 2365\n",
      "13 1792\n",
      "17 1376\n",
      "21 1139\n",
      "25 948\n",
      "29 810\n",
      "33 694\n",
      "37 624\n",
      "41 528\n",
      "45 501\n",
      "49 436\n"
     ]
    }
   ],
   "source": [
    "for i, num in enumerate(product_rows.value_counts()[:50:4]):\n",
    "    print(4*i+1, num)"
   ]
  },
  {
   "cell_type": "markdown",
   "metadata": {},
   "source": [
    "- 123,837 unikátnych produktov\n",
    "- žiadne NaN hodnoty\n",
    "- v priemere vyše 119 záznamov na produkt\n",
    "    - maximum je 52,736\n",
    "    - minimum je 1\n",
    "    - median je 17\n",
    "    - 15,982 produktov má len 1 záznam"
   ]
  },
  {
   "cell_type": "markdown",
   "metadata": {},
   "source": [
    "### title"
   ]
  },
  {
   "cell_type": "code",
   "execution_count": 63,
   "metadata": {
    "scrolled": true
   },
   "outputs": [
    {
     "data": {
      "text/plain": [
       "count                     14801284\n",
       "unique                       71440\n",
       "top       Lee Cooper Marl Backpack\n",
       "freq                        168766\n",
       "Name: title, dtype: object"
      ]
     },
     "execution_count": 63,
     "metadata": {},
     "output_type": "execute_result"
    }
   ],
   "source": [
    "data.title.describe()"
   ]
  },
  {
   "cell_type": "code",
   "execution_count": 72,
   "metadata": {
    "scrolled": false
   },
   "outputs": [
    {
     "data": {
      "text/plain": [
       "array(['Batoh Lee Cooper Marl', 'Lee Cooper Marl Backpack'], dtype=object)"
      ]
     },
     "execution_count": 72,
     "metadata": {},
     "output_type": "execute_result"
    }
   ],
   "source": [
    "data.loc[data['product_id'] == \"31ae211d-57a9-4bfa-b95f-40776af03c3f\"].title.unique()"
   ]
  },
  {
   "cell_type": "code",
   "execution_count": 64,
   "metadata": {},
   "outputs": [
    {
     "data": {
      "text/plain": [
       "0"
      ]
     },
     "execution_count": 64,
     "metadata": {},
     "output_type": "execute_result"
    }
   ],
   "source": [
    "len(data[data.product_id.isna()])"
   ]
  },
  {
   "cell_type": "markdown",
   "metadata": {},
   "source": [
    "- 71,440 unikátnych označení (našli sme 123,837 unikátnych produktov)\n",
    "    - produkt môže mať viac rôznych označení\n",
    "- žiadne NaN hodnoty"
   ]
  },
  {
   "cell_type": "markdown",
   "metadata": {},
   "source": [
    "### price"
   ]
  },
  {
   "cell_type": "code",
   "execution_count": 85,
   "metadata": {
    "scrolled": true
   },
   "outputs": [
    {
     "data": {
      "text/plain": [
       "count    14758211.000000\n",
       "mean           33.122065\n",
       "std           121.532833\n",
       "min             0.060000\n",
       "25%            12.710000\n",
       "50%            21.860000\n",
       "75%            39.490000\n",
       "max         32636.460000\n",
       "Name: price, dtype: object"
      ]
     },
     "execution_count": 85,
     "metadata": {},
     "output_type": "execute_result"
    }
   ],
   "source": [
    "data.price.describe().apply(lambda x: format(x, 'f'))"
   ]
  },
  {
   "cell_type": "code",
   "execution_count": 87,
   "metadata": {},
   "outputs": [
    {
     "data": {
      "text/plain": [
       "21.86"
      ]
     },
     "execution_count": 87,
     "metadata": {},
     "output_type": "execute_result"
    }
   ],
   "source": [
    "np.nanmedian(data.price)"
   ]
  },
  {
   "cell_type": "code",
   "execution_count": 73,
   "metadata": {},
   "outputs": [
    {
     "data": {
      "text/plain": [
       "44886"
      ]
     },
     "execution_count": 73,
     "metadata": {},
     "output_type": "execute_result"
    }
   ],
   "source": [
    "len(data[data.price.isna()])"
   ]
  },
  {
   "cell_type": "code",
   "execution_count": 89,
   "metadata": {},
   "outputs": [
    {
     "data": {
      "text/plain": [
       "array([12.9 , 12.73, 13.11, 13.32, 12.49, 12.71, 13.45, 12.65, 12.83,\n",
       "       11.46, 11.8 , 11.44, 11.38, 12.1 , 11.24, 11.61, 11.99, 11.55,\n",
       "        9.55,  9.56, 10.61, 10.63, 13.49,  7.32, 12.14, 12.27, 12.33,\n",
       "       13.04, 12.92, 12.51, 12.11, 12.45, 12.35, 13.09, 16.84, 16.41,\n",
       "       16.11, 16.03, 16.23, 15.95, 16.  , 15.58, 16.39, 16.97, 13.65,\n",
       "       14.75, 13.98, 14.02, 14.05, 14.22, 14.38, 14.87, 14.12, 14.37,\n",
       "       12.46, 12.37, 13.12, 12.04, 13.02, 12.39, 12.68, 12.55, 12.69,\n",
       "         nan])"
      ]
     },
     "execution_count": 89,
     "metadata": {},
     "output_type": "execute_result"
    }
   ],
   "source": [
    "data.loc[data['product_id'] == \"31ae211d-57a9-4bfa-b95f-40776af03c3f\"].price.unique()"
   ]
  },
  {
   "cell_type": "markdown",
   "metadata": {},
   "source": [
    "- priemer ceny je cca 33\n",
    "- median ceny je cca 22\n",
    "- 44,886 NaN hodnôt\n",
    "- jeden produkt môže mať viac cien"
   ]
  },
  {
   "cell_type": "markdown",
   "metadata": {},
   "source": [
    "### category_name"
   ]
  },
  {
   "cell_type": "code",
   "execution_count": 90,
   "metadata": {
    "scrolled": true
   },
   "outputs": [
    {
     "data": {
      "text/plain": [
       "count                                   11367365\n",
       "unique                                       713\n",
       "top       Men>Men Footwear>Sneakers>Low sneakers\n",
       "freq                                      462179\n",
       "Name: category_name, dtype: object"
      ]
     },
     "execution_count": 90,
     "metadata": {},
     "output_type": "execute_result"
    }
   ],
   "source": [
    "data.category_name.describe()"
   ]
  },
  {
   "cell_type": "code",
   "execution_count": 103,
   "metadata": {},
   "outputs": [
    {
     "name": "stdout",
     "output_type": "stream",
     "text": [
      "2 [nan 'Men>Men Clothing>T-Shirts & Polo shirts>Polo Shirts']\n",
      "3 [nan \"Women>Women's Clothing>Shirts\"\n",
      " \"Women>Women's Clothing>Shirts>Patterned shirts\"]\n",
      "2 [nan \"Women>Women's Clothing>Jackets & Coats>Coats\"]\n",
      "2 [nan \"Women>Women's Footwear>Slip-on\"]\n",
      "2 [nan \"Women>Women's Clothing>Dresses>Wedding dress\"]\n",
      "2 [nan 'Men>Men Clothing>T-Shirts & Polo shirts>Polo Shirts']\n",
      "2 [nan \"Sports>Running>Running Shoes>Women's Running Shoes\"]\n",
      "2 [nan 'Accessories >Backpacks and Bags>Fashion backpacks']\n",
      "3 [\"Women>Women's Clothing>Pants & Jeans>Pants\"\n",
      " \"Women>Women's Clothing>Pants >Pants\"\n",
      " \"Women>Women's Clothing>Pants >Single-colored pants\"]\n",
      "2 [nan \"Women>Women's Clothing>Jumpsuits\"]\n"
     ]
    }
   ],
   "source": [
    "for pid in data.product_id.sample(10):\n",
    "    unique_categories = data.loc[data['product_id'] == pid].category_name.unique()\n",
    "    print(len(unique_categories), unique_categories)"
   ]
  },
  {
   "cell_type": "code",
   "execution_count": 96,
   "metadata": {},
   "outputs": [
    {
     "data": {
      "text/plain": [
       "3435732"
      ]
     },
     "execution_count": 96,
     "metadata": {},
     "output_type": "execute_result"
    }
   ],
   "source": [
    "category_name_nans_num = len(data[data.category_name.isna()])\n",
    "category_name_nans_num"
   ]
  },
  {
   "cell_type": "code",
   "execution_count": 95,
   "metadata": {
    "scrolled": true
   },
   "outputs": [
    {
     "data": {
      "text/plain": [
       "0.23209548650529008"
      ]
     },
     "execution_count": 95,
     "metadata": {},
     "output_type": "execute_result"
    }
   ],
   "source": [
    "category_name_nans_num/rows_num"
   ]
  },
  {
   "cell_type": "code",
   "execution_count": 45,
   "metadata": {},
   "outputs": [
    {
     "data": {
      "text/plain": [
       "(14803097, 7)"
      ]
     },
     "execution_count": 45,
     "metadata": {},
     "output_type": "execute_result"
    }
   ],
   "source": [
    "data[\"category_name\"].str.split(\">\", expand = True).shape"
   ]
  },
  {
   "cell_type": "code",
   "execution_count": 40,
   "metadata": {},
   "outputs": [],
   "source": [
    "data_15K = data.sample(15000)"
   ]
  },
  {
   "cell_type": "code",
   "execution_count": 116,
   "metadata": {},
   "outputs": [],
   "source": [
    "categories = data_15K[\"category_name\"].str.split(\">\", expand = True)"
   ]
  },
  {
   "cell_type": "markdown",
   "metadata": {},
   "source": [
    "Keďže `data` má skoro 15M záznamov, spracovanie v niektorkých prípadoch trvá veľmi dlho. Vybrali sme len 15K."
   ]
  },
  {
   "cell_type": "code",
   "execution_count": 123,
   "metadata": {
    "scrolled": false
   },
   "outputs": [
    {
     "data": {
      "text/html": [
       "<div>\n",
       "<style scoped>\n",
       "    .dataframe tbody tr th:only-of-type {\n",
       "        vertical-align: middle;\n",
       "    }\n",
       "\n",
       "    .dataframe tbody tr th {\n",
       "        vertical-align: top;\n",
       "    }\n",
       "\n",
       "    .dataframe thead th {\n",
       "        text-align: right;\n",
       "    }\n",
       "</style>\n",
       "<table border=\"1\" class=\"dataframe\">\n",
       "  <thead>\n",
       "    <tr style=\"text-align: right;\">\n",
       "      <th></th>\n",
       "      <th>0</th>\n",
       "      <th>1</th>\n",
       "      <th>2</th>\n",
       "      <th>3</th>\n",
       "      <th>4</th>\n",
       "    </tr>\n",
       "  </thead>\n",
       "  <tbody>\n",
       "    <tr>\n",
       "      <td>2563389</td>\n",
       "      <td>NaN</td>\n",
       "      <td>NaN</td>\n",
       "      <td>NaN</td>\n",
       "      <td>NaN</td>\n",
       "      <td>NaN</td>\n",
       "    </tr>\n",
       "    <tr>\n",
       "      <td>7189282</td>\n",
       "      <td>Women</td>\n",
       "      <td>Women's Footwear</td>\n",
       "      <td>Balerinas</td>\n",
       "      <td>None</td>\n",
       "      <td>None</td>\n",
       "    </tr>\n",
       "    <tr>\n",
       "      <td>11478593</td>\n",
       "      <td>Men</td>\n",
       "      <td>Men Clothing</td>\n",
       "      <td>T-Shirts &amp; Polo shirts</td>\n",
       "      <td>Short Sleeve</td>\n",
       "      <td>None</td>\n",
       "    </tr>\n",
       "    <tr>\n",
       "      <td>6003198</td>\n",
       "      <td>Women</td>\n",
       "      <td>Women's Clothing</td>\n",
       "      <td>Swimmsuits &amp; bikins</td>\n",
       "      <td>One-piece</td>\n",
       "      <td>None</td>\n",
       "    </tr>\n",
       "    <tr>\n",
       "      <td>1495798</td>\n",
       "      <td>NaN</td>\n",
       "      <td>None</td>\n",
       "      <td>None</td>\n",
       "      <td>None</td>\n",
       "      <td>None</td>\n",
       "    </tr>\n",
       "  </tbody>\n",
       "</table>\n",
       "</div>"
      ],
      "text/plain": [
       "              0                 1                       2             3     4\n",
       "2563389     NaN               NaN                     NaN           NaN   NaN\n",
       "7189282   Women  Women's Footwear               Balerinas          None  None\n",
       "11478593    Men      Men Clothing  T-Shirts & Polo shirts  Short Sleeve  None\n",
       "6003198   Women  Women's Clothing     Swimmsuits & bikins     One-piece  None\n",
       "1495798     NaN              None                    None          None  None"
      ]
     },
     "execution_count": 123,
     "metadata": {},
     "output_type": "execute_result"
    }
   ],
   "source": [
    "categories.sample(5)"
   ]
  },
  {
   "cell_type": "code",
   "execution_count": 136,
   "metadata": {},
   "outputs": [
    {
     "name": "stdout",
     "output_type": "stream",
     "text": [
      "col_0 unique values = 21\n",
      "col_0 NaN values = 3455\n",
      "\n",
      "col_1 unique values = 38\n",
      "col_1 NaN values = 3551\n",
      "\n",
      "col_2 unique values = 154\n",
      "col_2 NaN values = 3669\n",
      "\n",
      "col_3 unique values = 216\n",
      "col_3 NaN values = 6845\n",
      "\n",
      "col_4 unique values = 49\n",
      "col_4 NaN values = 14513\n",
      "\n"
     ]
    }
   ],
   "source": [
    "for i in range(5):\n",
    "    print('col_{} unique values ='.format(i), len(categories[i].unique()))\n",
    "    print('col_{} NaN values ='.format(i), len(categories[categories[i].isna()]))\n",
    "    print()"
   ]
  },
  {
   "cell_type": "code",
   "execution_count": 126,
   "metadata": {
    "scrolled": true
   },
   "outputs": [
    {
     "data": {
      "text/plain": [
       "array([nan, 'Men', 'Women', 'Sports', \"Women's Clothing\", 'Children',\n",
       "       'Accessories ', 'Backpacks and Bags', 'Men Clothing',\n",
       "       \"Boy's Clothing\", 'Sale - Men', 'Sale - Women', 'Dresses',\n",
       "       'NEW IN', 'Unlisted', \"Children's Footwear\", 'strom kategorii',\n",
       "       'T-Shirts', 'NY FASHION WEEK', 'Sale - Children',\n",
       "       'Delivery Immediately'], dtype=object)"
      ]
     },
     "execution_count": 126,
     "metadata": {},
     "output_type": "execute_result"
    }
   ],
   "source": [
    "categories[0].unique()"
   ]
  },
  {
   "cell_type": "markdown",
   "metadata": {},
   "source": [
    "- **iba** 713 unikátnych kategórií (našli sme 123,837 unikátnych produktov)\n",
    "- jeden produkt môže mať rôzne `category_name` hodnoty, vrátane NaN\n",
    "- 23.2% záznamov je NaN\n",
    "\n",
    "- po rozparsovaní stromu `category_name` vzniklo 7 stĺpcov (t.j. výška stromu)\n",
    "- smerom od koreňa rastie počet NaN hodnôt a unikátnych hodnôt\n",
    "- vyskytujú sa tématicky rovnaké len inak napísané kategórie\n"
   ]
  },
  {
   "cell_type": "markdown",
   "metadata": {},
   "source": [
    "### Diskusia\n",
    "- málo záznamov od jedného zákazníka\n",
    "\n",
    "Potreba zjednotiť hodnoty:\n",
    "- `title`\n",
    "- `category_name`\n",
    "- možno `cena`?"
   ]
  },
  {
   "cell_type": "markdown",
   "metadata": {},
   "source": [
    "---"
   ]
  },
  {
   "cell_type": "markdown",
   "metadata": {},
   "source": [
    "# Predspracovanie a oprava dát"
   ]
  },
  {
   "cell_type": "code",
   "execution_count": 17,
   "metadata": {},
   "outputs": [],
   "source": [
    "categories = data[\"category_name\"].str.split(\">\", expand = True, n=3)\n",
    "del categories[3]\n",
    "del data[\"category_name\"]"
   ]
  },
  {
   "cell_type": "code",
   "execution_count": 20,
   "metadata": {
    "scrolled": true
   },
   "outputs": [],
   "source": [
    "categories = categories.rename(columns={0: \"cat_0\", 1: \"cat_1\", 2: \"cat_2\"})"
   ]
  },
  {
   "cell_type": "code",
   "execution_count": 28,
   "metadata": {},
   "outputs": [],
   "source": [
    "data = pd.concat([data, categories], axis=1, sort=False)"
   ]
  },
  {
   "cell_type": "markdown",
   "metadata": {},
   "source": [
    "Vypasovali sme prve tri kategórie zo stromu kategorií a pridali ako samostatné stĺpce"
   ]
  },
  {
   "cell_type": "code",
   "execution_count": 31,
   "metadata": {},
   "outputs": [],
   "source": [
    "product_ids = list(data.product_id.unique())"
   ]
  },
  {
   "cell_type": "code",
   "execution_count": 62,
   "metadata": {
    "scrolled": true
   },
   "outputs": [],
   "source": [
    "# flatten = lambda l: set(item for sublist in l for item in sublist)\n",
    "# products = {}\n",
    "# for pid in product_ids:\n",
    "#     try:\n",
    "#         atr = {}\n",
    "#         rows = data[data.product_id == pid]\n",
    "#         atr['title'] = flatten([i.split() for i in list(rows.title.unique())])\n",
    "#         atr['price'] = np.median(rows.price)\n",
    "#         atr['cat_0'] = list(rows.cat_0.dropna().unique())[0]\n",
    "#         atr['cat_1'] = list(rows.cat_1.dropna().unique())[0]\n",
    "#         atr['cat_2'] = list(rows.cat_2.dropna().unique())[0]\n",
    "#     except IndexError:\n",
    "#         pass\n",
    "#     products[pid] = atr"
   ]
  },
  {
   "cell_type": "code",
   "execution_count": 58,
   "metadata": {},
   "outputs": [
    {
     "data": {
      "text/plain": [
       "1"
      ]
     },
     "execution_count": 58,
     "metadata": {},
     "output_type": "execute_result"
    }
   ],
   "source": [
    "len(products)"
   ]
  },
  {
   "cell_type": "code",
   "execution_count": 33,
   "metadata": {},
   "outputs": [
    {
     "data": {
      "text/html": [
       "<div>\n",
       "<style scoped>\n",
       "    .dataframe tbody tr th:only-of-type {\n",
       "        vertical-align: middle;\n",
       "    }\n",
       "\n",
       "    .dataframe tbody tr th {\n",
       "        vertical-align: top;\n",
       "    }\n",
       "\n",
       "    .dataframe thead th {\n",
       "        text-align: right;\n",
       "    }\n",
       "</style>\n",
       "<table border=\"1\" class=\"dataframe\">\n",
       "  <thead>\n",
       "    <tr style=\"text-align: right;\">\n",
       "      <th></th>\n",
       "      <th>customer_id</th>\n",
       "      <th>timestamp</th>\n",
       "      <th>event_type</th>\n",
       "      <th>product_id</th>\n",
       "      <th>title</th>\n",
       "      <th>price</th>\n",
       "      <th>cat_0</th>\n",
       "      <th>cat_1</th>\n",
       "      <th>cat_2</th>\n",
       "    </tr>\n",
       "  </thead>\n",
       "  <tbody>\n",
       "    <tr>\n",
       "      <td>0</td>\n",
       "      <td>204685f9-00f0-4a36-bab1-e0b74673c3b1</td>\n",
       "      <td>2019-07-01 00:00:01.101977 UTC</td>\n",
       "      <td>view_item</td>\n",
       "      <td>f130c542-d793-41d0-88f6-d1c52b4fe8f0</td>\n",
       "      <td>Michael Kors Nappa Leather Racer Jacket</td>\n",
       "      <td>747.49</td>\n",
       "      <td>NaN</td>\n",
       "      <td>None</td>\n",
       "      <td>None</td>\n",
       "    </tr>\n",
       "    <tr>\n",
       "      <td>50497</td>\n",
       "      <td>4246f982-6ec4-408e-ac13-0b1ae1633750</td>\n",
       "      <td>2019-07-01 09:14:26.818799 UTC</td>\n",
       "      <td>view_item</td>\n",
       "      <td>f130c542-d793-41d0-88f6-d1c52b4fe8f0</td>\n",
       "      <td>Michael Kors Nappa Leather Racer Jacket</td>\n",
       "      <td>747.49</td>\n",
       "      <td>NaN</td>\n",
       "      <td>None</td>\n",
       "      <td>None</td>\n",
       "    </tr>\n",
       "    <tr>\n",
       "      <td>56918</td>\n",
       "      <td>20c0c866-ef84-4308-809f-2fa0104aaa76</td>\n",
       "      <td>2019-07-01 09:47:45.62947 UTC</td>\n",
       "      <td>view_item</td>\n",
       "      <td>f130c542-d793-41d0-88f6-d1c52b4fe8f0</td>\n",
       "      <td>Michael Kors Nappa Leather Racer Jacket</td>\n",
       "      <td>747.49</td>\n",
       "      <td>NaN</td>\n",
       "      <td>None</td>\n",
       "      <td>None</td>\n",
       "    </tr>\n",
       "    <tr>\n",
       "      <td>120723</td>\n",
       "      <td>26cccf04-9acb-4231-b72b-45186dabfb6e</td>\n",
       "      <td>2019-07-01 15:06:00.006045 UTC</td>\n",
       "      <td>view_item</td>\n",
       "      <td>f130c542-d793-41d0-88f6-d1c52b4fe8f0</td>\n",
       "      <td>Michael Kors Nappa Leather Racer Jacket</td>\n",
       "      <td>747.49</td>\n",
       "      <td>NaN</td>\n",
       "      <td>None</td>\n",
       "      <td>None</td>\n",
       "    </tr>\n",
       "    <tr>\n",
       "      <td>211849</td>\n",
       "      <td>4262beec-3a73-45ca-a6ee-d4d5587f8777</td>\n",
       "      <td>2019-07-01 21:38:43.882073 UTC</td>\n",
       "      <td>view_item</td>\n",
       "      <td>f130c542-d793-41d0-88f6-d1c52b4fe8f0</td>\n",
       "      <td>Michael Kors Nappa Leather Racer Jacket</td>\n",
       "      <td>747.49</td>\n",
       "      <td>NaN</td>\n",
       "      <td>NaN</td>\n",
       "      <td>NaN</td>\n",
       "    </tr>\n",
       "    <tr>\n",
       "      <td>...</td>\n",
       "      <td>...</td>\n",
       "      <td>...</td>\n",
       "      <td>...</td>\n",
       "      <td>...</td>\n",
       "      <td>...</td>\n",
       "      <td>...</td>\n",
       "      <td>...</td>\n",
       "      <td>...</td>\n",
       "      <td>...</td>\n",
       "    </tr>\n",
       "    <tr>\n",
       "      <td>5328958</td>\n",
       "      <td>1df90fc5-6fd3-492a-ac98-323f81df6890</td>\n",
       "      <td>2019-07-26 20:38:42.181133 UTC</td>\n",
       "      <td>view_item</td>\n",
       "      <td>f130c542-d793-41d0-88f6-d1c52b4fe8f0</td>\n",
       "      <td>Michael Kors Nappa Leather Racer Jacket</td>\n",
       "      <td>695.16</td>\n",
       "      <td>Men</td>\n",
       "      <td>Men Clothing</td>\n",
       "      <td>Jackets &amp; Coats</td>\n",
       "    </tr>\n",
       "    <tr>\n",
       "      <td>5556108</td>\n",
       "      <td>16c1770b-e3cd-4f22-b6a0-4b303ba736df</td>\n",
       "      <td>2019-07-28 05:24:05.449254 UTC</td>\n",
       "      <td>view_item</td>\n",
       "      <td>f130c542-d793-41d0-88f6-d1c52b4fe8f0</td>\n",
       "      <td>Michael Kors Nappa Leather Racer Jacket</td>\n",
       "      <td>695.16</td>\n",
       "      <td>Men</td>\n",
       "      <td>Men Clothing</td>\n",
       "      <td>Jackets &amp; Coats</td>\n",
       "    </tr>\n",
       "    <tr>\n",
       "      <td>9860697</td>\n",
       "      <td>141b70c8-fa1b-47b4-8f99-68b416af2dbc</td>\n",
       "      <td>2019-08-13 17:43:44.032062 UTC</td>\n",
       "      <td>view_item</td>\n",
       "      <td>f130c542-d793-41d0-88f6-d1c52b4fe8f0</td>\n",
       "      <td>Michael Kors Nappa Leather Racer Jacket</td>\n",
       "      <td>771.31</td>\n",
       "      <td>Men</td>\n",
       "      <td>Men Clothing</td>\n",
       "      <td>Jackets &amp; Coats</td>\n",
       "    </tr>\n",
       "    <tr>\n",
       "      <td>9860738</td>\n",
       "      <td>141b70c8-fa1b-47b4-8f99-68b416af2dbc</td>\n",
       "      <td>2019-08-13 17:43:56.556062 UTC</td>\n",
       "      <td>view_item</td>\n",
       "      <td>f130c542-d793-41d0-88f6-d1c52b4fe8f0</td>\n",
       "      <td>Michael Kors Nappa Leather Racer Jacket</td>\n",
       "      <td>771.31</td>\n",
       "      <td>Men</td>\n",
       "      <td>Men Clothing</td>\n",
       "      <td>Jackets &amp; Coats</td>\n",
       "    </tr>\n",
       "    <tr>\n",
       "      <td>12703509</td>\n",
       "      <td>000444b3-d86e-47c4-9826-b7e22dbfdea2</td>\n",
       "      <td>2019-08-25 09:13:15.631153 UTC</td>\n",
       "      <td>view_item</td>\n",
       "      <td>f130c542-d793-41d0-88f6-d1c52b4fe8f0</td>\n",
       "      <td>Michael Kors Nappa Leather Racer Jacket</td>\n",
       "      <td>728.80</td>\n",
       "      <td>Men</td>\n",
       "      <td>Men Clothing</td>\n",
       "      <td>Jackets &amp; Coats</td>\n",
       "    </tr>\n",
       "  </tbody>\n",
       "</table>\n",
       "<p>77 rows × 9 columns</p>\n",
       "</div>"
      ],
      "text/plain": [
       "                                   customer_id  \\\n",
       "0         204685f9-00f0-4a36-bab1-e0b74673c3b1   \n",
       "50497     4246f982-6ec4-408e-ac13-0b1ae1633750   \n",
       "56918     20c0c866-ef84-4308-809f-2fa0104aaa76   \n",
       "120723    26cccf04-9acb-4231-b72b-45186dabfb6e   \n",
       "211849    4262beec-3a73-45ca-a6ee-d4d5587f8777   \n",
       "...                                        ...   \n",
       "5328958   1df90fc5-6fd3-492a-ac98-323f81df6890   \n",
       "5556108   16c1770b-e3cd-4f22-b6a0-4b303ba736df   \n",
       "9860697   141b70c8-fa1b-47b4-8f99-68b416af2dbc   \n",
       "9860738   141b70c8-fa1b-47b4-8f99-68b416af2dbc   \n",
       "12703509  000444b3-d86e-47c4-9826-b7e22dbfdea2   \n",
       "\n",
       "                               timestamp event_type  \\\n",
       "0         2019-07-01 00:00:01.101977 UTC  view_item   \n",
       "50497     2019-07-01 09:14:26.818799 UTC  view_item   \n",
       "56918      2019-07-01 09:47:45.62947 UTC  view_item   \n",
       "120723    2019-07-01 15:06:00.006045 UTC  view_item   \n",
       "211849    2019-07-01 21:38:43.882073 UTC  view_item   \n",
       "...                                  ...        ...   \n",
       "5328958   2019-07-26 20:38:42.181133 UTC  view_item   \n",
       "5556108   2019-07-28 05:24:05.449254 UTC  view_item   \n",
       "9860697   2019-08-13 17:43:44.032062 UTC  view_item   \n",
       "9860738   2019-08-13 17:43:56.556062 UTC  view_item   \n",
       "12703509  2019-08-25 09:13:15.631153 UTC  view_item   \n",
       "\n",
       "                                    product_id  \\\n",
       "0         f130c542-d793-41d0-88f6-d1c52b4fe8f0   \n",
       "50497     f130c542-d793-41d0-88f6-d1c52b4fe8f0   \n",
       "56918     f130c542-d793-41d0-88f6-d1c52b4fe8f0   \n",
       "120723    f130c542-d793-41d0-88f6-d1c52b4fe8f0   \n",
       "211849    f130c542-d793-41d0-88f6-d1c52b4fe8f0   \n",
       "...                                        ...   \n",
       "5328958   f130c542-d793-41d0-88f6-d1c52b4fe8f0   \n",
       "5556108   f130c542-d793-41d0-88f6-d1c52b4fe8f0   \n",
       "9860697   f130c542-d793-41d0-88f6-d1c52b4fe8f0   \n",
       "9860738   f130c542-d793-41d0-88f6-d1c52b4fe8f0   \n",
       "12703509  f130c542-d793-41d0-88f6-d1c52b4fe8f0   \n",
       "\n",
       "                                            title   price cat_0         cat_1  \\\n",
       "0         Michael Kors Nappa Leather Racer Jacket  747.49   NaN          None   \n",
       "50497     Michael Kors Nappa Leather Racer Jacket  747.49   NaN          None   \n",
       "56918     Michael Kors Nappa Leather Racer Jacket  747.49   NaN          None   \n",
       "120723    Michael Kors Nappa Leather Racer Jacket  747.49   NaN          None   \n",
       "211849    Michael Kors Nappa Leather Racer Jacket  747.49   NaN           NaN   \n",
       "...                                           ...     ...   ...           ...   \n",
       "5328958   Michael Kors Nappa Leather Racer Jacket  695.16   Men  Men Clothing   \n",
       "5556108   Michael Kors Nappa Leather Racer Jacket  695.16   Men  Men Clothing   \n",
       "9860697   Michael Kors Nappa Leather Racer Jacket  771.31   Men  Men Clothing   \n",
       "9860738   Michael Kors Nappa Leather Racer Jacket  771.31   Men  Men Clothing   \n",
       "12703509  Michael Kors Nappa Leather Racer Jacket  728.80   Men  Men Clothing   \n",
       "\n",
       "                    cat_2  \n",
       "0                    None  \n",
       "50497                None  \n",
       "56918                None  \n",
       "120723               None  \n",
       "211849                NaN  \n",
       "...                   ...  \n",
       "5328958   Jackets & Coats  \n",
       "5556108   Jackets & Coats  \n",
       "9860697   Jackets & Coats  \n",
       "9860738   Jackets & Coats  \n",
       "12703509  Jackets & Coats  \n",
       "\n",
       "[77 rows x 9 columns]"
      ]
     },
     "execution_count": 33,
     "metadata": {},
     "output_type": "execute_result"
    }
   ],
   "source": [
    "data[data.product_id == product_ids[0]]"
   ]
  },
  {
   "cell_type": "code",
   "execution_count": null,
   "metadata": {},
   "outputs": [],
   "source": [
    "# data.groupby('customer')['...'].apply(list)"
   ]
  },
  {
   "cell_type": "code",
   "execution_count": 27,
   "metadata": {
    "scrolled": true
   },
   "outputs": [],
   "source": [
    "# categories_onehot = pd.get_dummies(categories)\n",
    "# categories_onehot.sample(5)"
   ]
  },
  {
   "cell_type": "markdown",
   "metadata": {},
   "source": [
    "# Rozdelenie dát do vzoriek"
   ]
  },
  {
   "cell_type": "markdown",
   "metadata": {},
   "source": [
    "## Odstránenie používateľov s jedným záznamom"
   ]
  },
  {
   "cell_type": "code",
   "execution_count": 38,
   "metadata": {},
   "outputs": [
    {
     "data": {
      "text/plain": [
       "14803097"
      ]
     },
     "execution_count": 38,
     "metadata": {},
     "output_type": "execute_result"
    }
   ],
   "source": [
    "rows_num"
   ]
  },
  {
   "cell_type": "code",
   "execution_count": 39,
   "metadata": {},
   "outputs": [
    {
     "data": {
      "text/plain": [
       "0         False\n",
       "1         False\n",
       "2         False\n",
       "3          True\n",
       "4         False\n",
       "          ...  \n",
       "188707     True\n",
       "188708     True\n",
       "188709     True\n",
       "188710     True\n",
       "188711     True\n",
       "Name: customer_id, Length: 14803097, dtype: bool"
      ]
     },
     "execution_count": 39,
     "metadata": {},
     "output_type": "execute_result"
    }
   ],
   "source": [
    "data.customer_id.duplicated()"
   ]
  },
  {
   "cell_type": "markdown",
   "metadata": {},
   "source": [
    "## "
   ]
  },
  {
   "cell_type": "code",
   "execution_count": 12,
   "metadata": {},
   "outputs": [],
   "source": [
    "train_ratio, validation_ratio, test_ratio = 0.8, 0.20"
   ]
  },
  {
   "cell_type": "code",
   "execution_count": 9,
   "metadata": {
    "scrolled": true
   },
   "outputs": [
    {
     "data": {
      "text/plain": [
       "14803097"
      ]
     },
     "execution_count": 9,
     "metadata": {},
     "output_type": "execute_result"
    }
   ],
   "source": [
    "len(data)"
   ]
  },
  {
   "cell_type": "code",
   "execution_count": null,
   "metadata": {},
   "outputs": [],
   "source": [
    "del data"
   ]
  },
  {
   "cell_type": "markdown",
   "metadata": {},
   "source": [
    "# Primitívny odporúčač"
   ]
  },
  {
   "cell_type": "markdown",
   "metadata": {},
   "source": [
    "Odporúčanie najpredávanejších produktov"
   ]
  },
  {
   "cell_type": "code",
   "execution_count": 69,
   "metadata": {},
   "outputs": [],
   "source": [
    "class PrimitiveRecomender:\n",
    "    def __init__(self, df):\n",
    "        self.tops = list(df['product_id'].value_counts().head(10).index)\n",
    "    def recomend(self, id):\n",
    "        # ID is not used in any way\n",
    "        return self.tops"
   ]
  },
  {
   "cell_type": "markdown",
   "metadata": {},
   "source": [
    "# Obsahový odporúčač"
   ]
  },
  {
   "cell_type": "code",
   "execution_count": 130,
   "metadata": {},
   "outputs": [],
   "source": [
    "from sklearn.cluster import KMeans"
   ]
  },
  {
   "cell_type": "code",
   "execution_count": 131,
   "metadata": {},
   "outputs": [],
   "source": [
    "X = np.array([[1, 2], [1, 4], [1, 0],\n",
    "            [10, 2], [10, 4], [10, 0]])"
   ]
  },
  {
   "cell_type": "code",
   "execution_count": 132,
   "metadata": {},
   "outputs": [],
   "source": [
    "kmeans = KMeans(n_clusters=2, random_state=0).fit(X)"
   ]
  },
  {
   "cell_type": "code",
   "execution_count": 133,
   "metadata": {},
   "outputs": [
    {
     "data": {
      "text/plain": [
       "array([1, 1, 1, 0, 0, 0], dtype=int32)"
      ]
     },
     "execution_count": 133,
     "metadata": {},
     "output_type": "execute_result"
    }
   ],
   "source": [
    "kmeans.labels_"
   ]
  },
  {
   "cell_type": "code",
   "execution_count": 134,
   "metadata": {
    "scrolled": false
   },
   "outputs": [
    {
     "data": {
      "text/plain": [
       "array([1, 0], dtype=int32)"
      ]
     },
     "execution_count": 134,
     "metadata": {},
     "output_type": "execute_result"
    }
   ],
   "source": [
    "kmeans.predict([[0, 0], [12, 3]])"
   ]
  },
  {
   "cell_type": "code",
   "execution_count": 135,
   "metadata": {
    "scrolled": false
   },
   "outputs": [
    {
     "data": {
      "text/plain": [
       "array([[10.,  2.],\n",
       "       [ 1.,  2.]])"
      ]
     },
     "execution_count": 135,
     "metadata": {},
     "output_type": "execute_result"
    }
   ],
   "source": [
    "kmeans.cluster_centers_"
   ]
  },
  {
   "cell_type": "code",
   "execution_count": 27,
   "metadata": {},
   "outputs": [],
   "source": [
    "class ContentRecomender:\n",
    "    def __init__(self, train):\n",
    "        self.train = train\n",
    "    def recomend(self, id):\n",
    "        return [1, 2, 3, 4, 5]"
   ]
  },
  {
   "cell_type": "code",
   "execution_count": 32,
   "metadata": {},
   "outputs": [],
   "source": [
    "def recomendation(recomender, data):\n",
    "    results = {}\n",
    "    for id in data:\n",
    "        results[id] = recomender.recomend(id)\n",
    "    return results"
   ]
  },
  {
   "cell_type": "markdown",
   "metadata": {},
   "source": [
    "# Evaluácia"
   ]
  },
  {
   "cell_type": "markdown",
   "metadata": {},
   "source": [
    "## Metriky"
   ]
  },
  {
   "cell_type": "markdown",
   "metadata": {},
   "source": [
    "Použité implementácie z [Ranking Metrics](https://gist.github.com/bwhite/3726239)"
   ]
  },
  {
   "cell_type": "code",
   "execution_count": 101,
   "metadata": {
    "scrolled": true
   },
   "outputs": [],
   "source": [
    "def precision_at_k(r, k):\n",
    "    \"\"\"Score is precision @ k\n",
    "    Relevance is binary (nonzero is relevant).\n",
    "    Args:\n",
    "        r: Relevance scores (list or numpy) in rank order\n",
    "            (first element is the first item)\n",
    "    Returns:\n",
    "        Precision @ k\n",
    "    Raises:\n",
    "        ValueError: len(r) must be >= k\n",
    "    \"\"\"\n",
    "    assert k >= 1\n",
    "    r = np.asarray(r)[:k] != 0\n",
    "    if r.size != k:\n",
    "        raise ValueError('Relevance score length < k')\n",
    "    return np.mean(r)"
   ]
  },
  {
   "cell_type": "code",
   "execution_count": 98,
   "metadata": {},
   "outputs": [],
   "source": [
    "def relevance(predicted, test):\n",
    "    r = []\n",
    "    for x in predicted:\n",
    "        r.append(1 if x in test else 0)\n",
    "    return r"
   ]
  },
  {
   "cell_type": "markdown",
   "metadata": {},
   "source": [
    "## Výsledky"
   ]
  },
  {
   "cell_type": "markdown",
   "metadata": {},
   "source": [
    "## 1"
   ]
  },
  {
   "cell_type": "code",
   "execution_count": 70,
   "metadata": {},
   "outputs": [],
   "source": [
    "primitive_recomender = PrimitiveRecomender(data)"
   ]
  },
  {
   "cell_type": "code",
   "execution_count": 95,
   "metadata": {
    "scrolled": true
   },
   "outputs": [],
   "source": [
    "predicted_products = primitive_recomender.recomend(0)"
   ]
  },
  {
   "cell_type": "code",
   "execution_count": 105,
   "metadata": {},
   "outputs": [],
   "source": [
    "test_customers = list(data.customer_id.unique()[:100])"
   ]
  },
  {
   "cell_type": "code",
   "execution_count": 106,
   "metadata": {
    "scrolled": true
   },
   "outputs": [],
   "source": [
    "test_products = {}\n",
    "for cid in test_customers:  \n",
    "    test_products[cid] = list(data[data.customer_id == cid]['product_id'])"
   ]
  },
  {
   "cell_type": "code",
   "execution_count": 114,
   "metadata": {
    "collapsed": true
   },
   "outputs": [
    {
     "ename": "ValueError",
     "evalue": "Relevance score length < k",
     "output_type": "error",
     "traceback": [
      "\u001b[0;31m---------------------------------------------------------------------------\u001b[0m",
      "\u001b[0;31mValueError\u001b[0m                                Traceback (most recent call last)",
      "\u001b[0;32m<ipython-input-114-9f986431285c>\u001b[0m in \u001b[0;36m<module>\u001b[0;34m\u001b[0m\n\u001b[0;32m----> 1\u001b[0;31m \u001b[0mnp\u001b[0m\u001b[0;34m.\u001b[0m\u001b[0mmean\u001b[0m\u001b[0;34m(\u001b[0m\u001b[0;34m[\u001b[0m\u001b[0mprecision_at_k\u001b[0m\u001b[0;34m(\u001b[0m\u001b[0mrelevance\u001b[0m\u001b[0;34m(\u001b[0m\u001b[0mtest_products\u001b[0m\u001b[0;34m[\u001b[0m\u001b[0mkey\u001b[0m\u001b[0;34m]\u001b[0m\u001b[0;34m,\u001b[0m \u001b[0mpredicted_products\u001b[0m\u001b[0;34m)\u001b[0m\u001b[0;34m,\u001b[0m \u001b[0;36m3\u001b[0m\u001b[0;34m)\u001b[0m \u001b[0;32mfor\u001b[0m \u001b[0mkey\u001b[0m \u001b[0;32min\u001b[0m \u001b[0mtest_customers\u001b[0m\u001b[0;34m]\u001b[0m\u001b[0;34m)\u001b[0m\u001b[0;34m\u001b[0m\u001b[0;34m\u001b[0m\u001b[0m\n\u001b[0m",
      "\u001b[0;32m<ipython-input-114-9f986431285c>\u001b[0m in \u001b[0;36m<listcomp>\u001b[0;34m(.0)\u001b[0m\n\u001b[0;32m----> 1\u001b[0;31m \u001b[0mnp\u001b[0m\u001b[0;34m.\u001b[0m\u001b[0mmean\u001b[0m\u001b[0;34m(\u001b[0m\u001b[0;34m[\u001b[0m\u001b[0mprecision_at_k\u001b[0m\u001b[0;34m(\u001b[0m\u001b[0mrelevance\u001b[0m\u001b[0;34m(\u001b[0m\u001b[0mtest_products\u001b[0m\u001b[0;34m[\u001b[0m\u001b[0mkey\u001b[0m\u001b[0;34m]\u001b[0m\u001b[0;34m,\u001b[0m \u001b[0mpredicted_products\u001b[0m\u001b[0;34m)\u001b[0m\u001b[0;34m,\u001b[0m \u001b[0;36m3\u001b[0m\u001b[0;34m)\u001b[0m \u001b[0;32mfor\u001b[0m \u001b[0mkey\u001b[0m \u001b[0;32min\u001b[0m \u001b[0mtest_customers\u001b[0m\u001b[0;34m]\u001b[0m\u001b[0;34m)\u001b[0m\u001b[0;34m\u001b[0m\u001b[0;34m\u001b[0m\u001b[0m\n\u001b[0m",
      "\u001b[0;32m<ipython-input-101-fc07edeaa360>\u001b[0m in \u001b[0;36mprecision_at_k\u001b[0;34m(r, k)\u001b[0m\n\u001b[1;32m     13\u001b[0m     \u001b[0mr\u001b[0m \u001b[0;34m=\u001b[0m \u001b[0mnp\u001b[0m\u001b[0;34m.\u001b[0m\u001b[0masarray\u001b[0m\u001b[0;34m(\u001b[0m\u001b[0mr\u001b[0m\u001b[0;34m)\u001b[0m\u001b[0;34m[\u001b[0m\u001b[0;34m:\u001b[0m\u001b[0mk\u001b[0m\u001b[0;34m]\u001b[0m \u001b[0;34m!=\u001b[0m \u001b[0;36m0\u001b[0m\u001b[0;34m\u001b[0m\u001b[0;34m\u001b[0m\u001b[0m\n\u001b[1;32m     14\u001b[0m     \u001b[0;32mif\u001b[0m \u001b[0mr\u001b[0m\u001b[0;34m.\u001b[0m\u001b[0msize\u001b[0m \u001b[0;34m!=\u001b[0m \u001b[0mk\u001b[0m\u001b[0;34m:\u001b[0m\u001b[0;34m\u001b[0m\u001b[0;34m\u001b[0m\u001b[0m\n\u001b[0;32m---> 15\u001b[0;31m         \u001b[0;32mraise\u001b[0m \u001b[0mValueError\u001b[0m\u001b[0;34m(\u001b[0m\u001b[0;34m'Relevance score length < k'\u001b[0m\u001b[0;34m)\u001b[0m\u001b[0;34m\u001b[0m\u001b[0;34m\u001b[0m\u001b[0m\n\u001b[0m\u001b[1;32m     16\u001b[0m     \u001b[0;32mreturn\u001b[0m \u001b[0mnp\u001b[0m\u001b[0;34m.\u001b[0m\u001b[0mmean\u001b[0m\u001b[0;34m(\u001b[0m\u001b[0mr\u001b[0m\u001b[0;34m)\u001b[0m\u001b[0;34m\u001b[0m\u001b[0;34m\u001b[0m\u001b[0m\n",
      "\u001b[0;31mValueError\u001b[0m: Relevance score length < k"
     ]
    }
   ],
   "source": [
    "np.mean([precision_at_k(relevance(test_products[key], predicted_products), 3) for key in test_customers])"
   ]
  },
  {
   "cell_type": "markdown",
   "metadata": {},
   "source": [
    "## 2"
   ]
  },
  {
   "cell_type": "code",
   "execution_count": 35,
   "metadata": {},
   "outputs": [],
   "source": [
    "test_customers = [0, 1, 2]\n",
    "test_products = {0: [1, 2, 5], 1: [3, 4, 5], 2: [1, 2, 3, 4]}"
   ]
  },
  {
   "cell_type": "code",
   "execution_count": 33,
   "metadata": {},
   "outputs": [],
   "source": [
    "content_recomender = ContentRecomender(None)"
   ]
  },
  {
   "cell_type": "code",
   "execution_count": 36,
   "metadata": {},
   "outputs": [],
   "source": [
    "predicted_products = recomendation(content_recomender, test_customers)"
   ]
  },
  {
   "cell_type": "code",
   "execution_count": 37,
   "metadata": {
    "collapsed": true
   },
   "outputs": [
    {
     "ename": "NameError",
     "evalue": "name 'precision_at_k' is not defined",
     "output_type": "error",
     "traceback": [
      "\u001b[0;31m---------------------------------------------------------------------------\u001b[0m",
      "\u001b[0;31mNameError\u001b[0m                                 Traceback (most recent call last)",
      "\u001b[0;32m<ipython-input-37-d0c506303e51>\u001b[0m in \u001b[0;36m<module>\u001b[0;34m\u001b[0m\n\u001b[0;32m----> 1\u001b[0;31m \u001b[0mnp\u001b[0m\u001b[0;34m.\u001b[0m\u001b[0mmean\u001b[0m\u001b[0;34m(\u001b[0m\u001b[0;34m[\u001b[0m\u001b[0mprecision_at_k\u001b[0m\u001b[0;34m(\u001b[0m\u001b[0mrelevance\u001b[0m\u001b[0;34m(\u001b[0m\u001b[0mtest_products\u001b[0m\u001b[0;34m[\u001b[0m\u001b[0mkey\u001b[0m\u001b[0;34m]\u001b[0m\u001b[0;34m,\u001b[0m \u001b[0mpredicted_products\u001b[0m\u001b[0;34m[\u001b[0m\u001b[0mkey\u001b[0m\u001b[0;34m]\u001b[0m\u001b[0;34m)\u001b[0m\u001b[0;34m,\u001b[0m \u001b[0;36m3\u001b[0m\u001b[0;34m)\u001b[0m \u001b[0;32mfor\u001b[0m \u001b[0mkey\u001b[0m \u001b[0;32min\u001b[0m \u001b[0mtest_customers\u001b[0m\u001b[0;34m]\u001b[0m\u001b[0;34m)\u001b[0m\u001b[0;34m\u001b[0m\u001b[0;34m\u001b[0m\u001b[0m\n\u001b[0m",
      "\u001b[0;32m<ipython-input-37-d0c506303e51>\u001b[0m in \u001b[0;36m<listcomp>\u001b[0;34m(.0)\u001b[0m\n\u001b[0;32m----> 1\u001b[0;31m \u001b[0mnp\u001b[0m\u001b[0;34m.\u001b[0m\u001b[0mmean\u001b[0m\u001b[0;34m(\u001b[0m\u001b[0;34m[\u001b[0m\u001b[0mprecision_at_k\u001b[0m\u001b[0;34m(\u001b[0m\u001b[0mrelevance\u001b[0m\u001b[0;34m(\u001b[0m\u001b[0mtest_products\u001b[0m\u001b[0;34m[\u001b[0m\u001b[0mkey\u001b[0m\u001b[0;34m]\u001b[0m\u001b[0;34m,\u001b[0m \u001b[0mpredicted_products\u001b[0m\u001b[0;34m[\u001b[0m\u001b[0mkey\u001b[0m\u001b[0;34m]\u001b[0m\u001b[0;34m)\u001b[0m\u001b[0;34m,\u001b[0m \u001b[0;36m3\u001b[0m\u001b[0;34m)\u001b[0m \u001b[0;32mfor\u001b[0m \u001b[0mkey\u001b[0m \u001b[0;32min\u001b[0m \u001b[0mtest_customers\u001b[0m\u001b[0;34m]\u001b[0m\u001b[0;34m)\u001b[0m\u001b[0;34m\u001b[0m\u001b[0;34m\u001b[0m\u001b[0m\n\u001b[0m",
      "\u001b[0;31mNameError\u001b[0m: name 'precision_at_k' is not defined"
     ]
    }
   ],
   "source": [
    "np.mean([precision_at_k(relevance(test_products[key], predicted_products[key]), 3) for key in test_customers])"
   ]
  },
  {
   "cell_type": "markdown",
   "metadata": {},
   "source": [
    "## 3"
   ]
  },
  {
   "cell_type": "markdown",
   "metadata": {},
   "source": [
    "# Poznámky"
   ]
  },
  {
   "cell_type": "markdown",
   "metadata": {},
   "source": [
    "1. koľko odporúčaní generovať?\n",
    "2. používalov s 1 záznamom vyhodiť?"
   ]
  }
 ],
 "metadata": {
  "kernelspec": {
   "display_name": "Python 3",
   "language": "python",
   "name": "python3"
  },
  "language_info": {
   "codemirror_mode": {
    "name": "ipython",
    "version": 3
   },
   "file_extension": ".py",
   "mimetype": "text/x-python",
   "name": "python",
   "nbconvert_exporter": "python",
   "pygments_lexer": "ipython3",
   "version": "3.7.4"
  }
 },
 "nbformat": 4,
 "nbformat_minor": 2
}
