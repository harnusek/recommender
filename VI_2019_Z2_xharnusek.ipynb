{
 "cells": [
  {
   "cell_type": "code",
   "execution_count": 115,
   "metadata": {
    "scrolled": true
   },
   "outputs": [],
   "source": [
    "import numpy as np\n",
    "import pandas as pd\n",
    "import warnings\n",
    "import json\n",
    "import requests\n",
    "import random\n",
    "import time\n",
    "from elasticsearch import Elasticsearch\n",
    "warnings.filterwarnings('ignore')"
   ]
  },
  {
   "cell_type": "markdown",
   "metadata": {},
   "source": [
    "# 1. Exploračná analýza"
   ]
  },
  {
   "cell_type": "markdown",
   "metadata": {},
   "source": [
    "## Tabuľka events"
   ]
  },
  {
   "cell_type": "code",
   "execution_count": 3,
   "metadata": {
    "scrolled": true
   },
   "outputs": [
    {
     "data": {
      "text/html": [
       "<div>\n",
       "<style scoped>\n",
       "    .dataframe tbody tr th:only-of-type {\n",
       "        vertical-align: middle;\n",
       "    }\n",
       "\n",
       "    .dataframe tbody tr th {\n",
       "        vertical-align: top;\n",
       "    }\n",
       "\n",
       "    .dataframe thead th {\n",
       "        text-align: right;\n",
       "    }\n",
       "</style>\n",
       "<table border=\"1\" class=\"dataframe\">\n",
       "  <thead>\n",
       "    <tr style=\"text-align: right;\">\n",
       "      <th></th>\n",
       "      <th>customer_id</th>\n",
       "      <th>timestamp</th>\n",
       "      <th>event_type</th>\n",
       "      <th>product_id</th>\n",
       "      <th>title</th>\n",
       "      <th>category_name</th>\n",
       "      <th>price</th>\n",
       "    </tr>\n",
       "  </thead>\n",
       "  <tbody>\n",
       "    <tr>\n",
       "      <td>6544103</td>\n",
       "      <td>9d519c78-75c9-4ec0-9d61-f74767fe615c</td>\n",
       "      <td>2019-08-01 02:43:21.058 UTC</td>\n",
       "      <td>view_item</td>\n",
       "      <td>b345fd30-281d-4b32-8f88-76fc84bea664</td>\n",
       "      <td>Lee Cooper PU Biker Jacket Mens</td>\n",
       "      <td>Men&gt;Men Clothing&gt;Jackets &amp; Coats</td>\n",
       "      <td>25.64</td>\n",
       "    </tr>\n",
       "    <tr>\n",
       "      <td>9502814</td>\n",
       "      <td>a9e2dea1-e183-471d-aa66-fdee5c2c3447</td>\n",
       "      <td>2019-08-12 10:45:41.02378 UTC</td>\n",
       "      <td>view_item</td>\n",
       "      <td>3a1cf659-e8a3-49c7-b1da-d0ea0fe82dd5</td>\n",
       "      <td>Lacoste Infant Unisex Marice Canvas Shoes</td>\n",
       "      <td>Children&gt;Children's Footwear&gt;Ballerinas</td>\n",
       "      <td>12.57</td>\n",
       "    </tr>\n",
       "    <tr>\n",
       "      <td>11560592</td>\n",
       "      <td>828538b3-b031-436e-a177-f2150514ac77</td>\n",
       "      <td>2019-08-20 16:58:56.308113 UTC</td>\n",
       "      <td>view_item</td>\n",
       "      <td>b124071d-de2f-471f-9078-4c4cc0450154</td>\n",
       "      <td>Lonsdale Leyton Leather Mens Trainers</td>\n",
       "      <td>Men&gt;Men Footwear&gt;Sneakers&gt;Low sneakers</td>\n",
       "      <td>34.46</td>\n",
       "    </tr>\n",
       "    <tr>\n",
       "      <td>8213567</td>\n",
       "      <td>c74c7d0b-3807-44be-b917-349645729080</td>\n",
       "      <td>2019-08-07 10:42:30.455449 UTC</td>\n",
       "      <td>view_item</td>\n",
       "      <td>174b55d6-4747-4a77-9139-72588048f15f</td>\n",
       "      <td>Crafted Junior Boys 3 Pack Jog Set</td>\n",
       "      <td>Children&gt;Boy's Clothing&gt;Boy's sets</td>\n",
       "      <td>22.97</td>\n",
       "    </tr>\n",
       "    <tr>\n",
       "      <td>9540352</td>\n",
       "      <td>116464c9-fe13-465d-aede-3f641c645203</td>\n",
       "      <td>2019-08-12 13:06:32.629186 UTC</td>\n",
       "      <td>view_item</td>\n",
       "      <td>85bad8ed-d704-489b-bdae-c3061871a187</td>\n",
       "      <td>Lee Cooper Casual Woven Pants Mens</td>\n",
       "      <td>Men&gt;Men Clothing&gt;Tracksuit&gt;Tracksuit bottoms</td>\n",
       "      <td>12.55</td>\n",
       "    </tr>\n",
       "    <tr>\n",
       "      <td>11794660</td>\n",
       "      <td>8fe7383f-83ea-4280-b2a5-9451d6397b18</td>\n",
       "      <td>2019-08-21 15:56:34.117964 UTC</td>\n",
       "      <td>view_item</td>\n",
       "      <td>de1b9182-defe-4c9f-8111-18fb8f1fa6c5</td>\n",
       "      <td>Lee Cooper Marl Backpack</td>\n",
       "      <td>Backpacks and Bags&gt;Accessories &gt;School Backpacks</td>\n",
       "      <td>13.02</td>\n",
       "    </tr>\n",
       "    <tr>\n",
       "      <td>3581409</td>\n",
       "      <td>9c7ad161-65eb-44bc-b888-d60f9ba57175</td>\n",
       "      <td>2019-07-18 05:10:08.540763 UTC</td>\n",
       "      <td>view_item</td>\n",
       "      <td>a6f866c8-a1eb-422a-a935-aa0646e54d13</td>\n",
       "      <td>Nike AOP W RunnerGrl91</td>\n",
       "      <td>Children&gt;Girl's Clothing&gt;Jackets</td>\n",
       "      <td>68.76</td>\n",
       "    </tr>\n",
       "    <tr>\n",
       "      <td>12297058</td>\n",
       "      <td>03de8819-d9aa-4933-ba5a-c88e3211e333</td>\n",
       "      <td>2019-08-23 14:08:48.424513 UTC</td>\n",
       "      <td>view_item</td>\n",
       "      <td>e27ddfad-5ffb-4826-ba3f-0e95d3d6b49b</td>\n",
       "      <td>Karrimor Ithaca Mens Walking Sandals</td>\n",
       "      <td>Men&gt;Men Footwear&gt;Sandals &amp; Flip-Flops&gt;Sandals</td>\n",
       "      <td>57.42</td>\n",
       "    </tr>\n",
       "    <tr>\n",
       "      <td>1819712</td>\n",
       "      <td>509a9bcb-c500-431c-affe-0d9feca00022</td>\n",
       "      <td>2019-07-09 19:02:58.958022 UTC</td>\n",
       "      <td>view_item</td>\n",
       "      <td>8d42785e-8bf8-4640-a731-787b8e4a6b7d</td>\n",
       "      <td>Miso Mixed Briefs Ladies</td>\n",
       "      <td>NaN</td>\n",
       "      <td>4.01</td>\n",
       "    </tr>\n",
       "    <tr>\n",
       "      <td>9588572</td>\n",
       "      <td>9ab2ab4f-57f8-4ff8-a982-f97857678fef</td>\n",
       "      <td>2019-08-12 16:23:07.870848 UTC</td>\n",
       "      <td>view_item</td>\n",
       "      <td>2295babf-d796-4986-b088-08ad33893880</td>\n",
       "      <td>Women's hight heels GEOX VIVYANNE HIGH D</td>\n",
       "      <td>Women&gt;Women's Footwear&gt;Court shoes</td>\n",
       "      <td>81.89</td>\n",
       "    </tr>\n",
       "  </tbody>\n",
       "</table>\n",
       "</div>"
      ],
      "text/plain": [
       "                                   customer_id  \\\n",
       "6544103   9d519c78-75c9-4ec0-9d61-f74767fe615c   \n",
       "9502814   a9e2dea1-e183-471d-aa66-fdee5c2c3447   \n",
       "11560592  828538b3-b031-436e-a177-f2150514ac77   \n",
       "8213567   c74c7d0b-3807-44be-b917-349645729080   \n",
       "9540352   116464c9-fe13-465d-aede-3f641c645203   \n",
       "11794660  8fe7383f-83ea-4280-b2a5-9451d6397b18   \n",
       "3581409   9c7ad161-65eb-44bc-b888-d60f9ba57175   \n",
       "12297058  03de8819-d9aa-4933-ba5a-c88e3211e333   \n",
       "1819712   509a9bcb-c500-431c-affe-0d9feca00022   \n",
       "9588572   9ab2ab4f-57f8-4ff8-a982-f97857678fef   \n",
       "\n",
       "                               timestamp event_type  \\\n",
       "6544103      2019-08-01 02:43:21.058 UTC  view_item   \n",
       "9502814    2019-08-12 10:45:41.02378 UTC  view_item   \n",
       "11560592  2019-08-20 16:58:56.308113 UTC  view_item   \n",
       "8213567   2019-08-07 10:42:30.455449 UTC  view_item   \n",
       "9540352   2019-08-12 13:06:32.629186 UTC  view_item   \n",
       "11794660  2019-08-21 15:56:34.117964 UTC  view_item   \n",
       "3581409   2019-07-18 05:10:08.540763 UTC  view_item   \n",
       "12297058  2019-08-23 14:08:48.424513 UTC  view_item   \n",
       "1819712   2019-07-09 19:02:58.958022 UTC  view_item   \n",
       "9588572   2019-08-12 16:23:07.870848 UTC  view_item   \n",
       "\n",
       "                                    product_id  \\\n",
       "6544103   b345fd30-281d-4b32-8f88-76fc84bea664   \n",
       "9502814   3a1cf659-e8a3-49c7-b1da-d0ea0fe82dd5   \n",
       "11560592  b124071d-de2f-471f-9078-4c4cc0450154   \n",
       "8213567   174b55d6-4747-4a77-9139-72588048f15f   \n",
       "9540352   85bad8ed-d704-489b-bdae-c3061871a187   \n",
       "11794660  de1b9182-defe-4c9f-8111-18fb8f1fa6c5   \n",
       "3581409   a6f866c8-a1eb-422a-a935-aa0646e54d13   \n",
       "12297058  e27ddfad-5ffb-4826-ba3f-0e95d3d6b49b   \n",
       "1819712   8d42785e-8bf8-4640-a731-787b8e4a6b7d   \n",
       "9588572   2295babf-d796-4986-b088-08ad33893880   \n",
       "\n",
       "                                              title  \\\n",
       "6544103             Lee Cooper PU Biker Jacket Mens   \n",
       "9502814   Lacoste Infant Unisex Marice Canvas Shoes   \n",
       "11560592      Lonsdale Leyton Leather Mens Trainers   \n",
       "8213567          Crafted Junior Boys 3 Pack Jog Set   \n",
       "9540352          Lee Cooper Casual Woven Pants Mens   \n",
       "11794660                   Lee Cooper Marl Backpack   \n",
       "3581409                      Nike AOP W RunnerGrl91   \n",
       "12297058       Karrimor Ithaca Mens Walking Sandals   \n",
       "1819712                    Miso Mixed Briefs Ladies   \n",
       "9588572    Women's hight heels GEOX VIVYANNE HIGH D   \n",
       "\n",
       "                                             category_name  price  \n",
       "6544103                   Men>Men Clothing>Jackets & Coats  25.64  \n",
       "9502814            Children>Children's Footwear>Ballerinas  12.57  \n",
       "11560592            Men>Men Footwear>Sneakers>Low sneakers  34.46  \n",
       "8213567                 Children>Boy's Clothing>Boy's sets  22.97  \n",
       "9540352       Men>Men Clothing>Tracksuit>Tracksuit bottoms  12.55  \n",
       "11794660  Backpacks and Bags>Accessories >School Backpacks  13.02  \n",
       "3581409                   Children>Girl's Clothing>Jackets  68.76  \n",
       "12297058     Men>Men Footwear>Sandals & Flip-Flops>Sandals  57.42  \n",
       "1819712                                                NaN   4.01  \n",
       "9588572                 Women>Women's Footwear>Court shoes  81.89  "
      ]
     },
     "execution_count": 3,
     "metadata": {},
     "output_type": "execute_result"
    }
   ],
   "source": [
    "events = pd.read_csv('vi_data/events_train.csv')\n",
    "events.sample(10)"
   ]
  },
  {
   "cell_type": "code",
   "execution_count": 102,
   "metadata": {},
   "outputs": [
    {
     "data": {
      "text/plain": [
       "(14614385, 7)"
      ]
     },
     "execution_count": 102,
     "metadata": {},
     "output_type": "execute_result"
    }
   ],
   "source": [
    "events.shape"
   ]
  },
  {
   "cell_type": "code",
   "execution_count": 103,
   "metadata": {
    "scrolled": true
   },
   "outputs": [
    {
     "data": {
      "text/plain": [
       "array(['view_item'], dtype=object)"
      ]
     },
     "execution_count": 103,
     "metadata": {},
     "output_type": "execute_result"
    }
   ],
   "source": [
    "events.event_type.unique()"
   ]
  },
  {
   "cell_type": "markdown",
   "metadata": {},
   "source": [
    "## Tabuľka purchases"
   ]
  },
  {
   "cell_type": "code",
   "execution_count": 104,
   "metadata": {
    "scrolled": false
   },
   "outputs": [
    {
     "data": {
      "text/html": [
       "<div>\n",
       "<style scoped>\n",
       "    .dataframe tbody tr th:only-of-type {\n",
       "        vertical-align: middle;\n",
       "    }\n",
       "\n",
       "    .dataframe tbody tr th {\n",
       "        vertical-align: top;\n",
       "    }\n",
       "\n",
       "    .dataframe thead th {\n",
       "        text-align: right;\n",
       "    }\n",
       "</style>\n",
       "<table border=\"1\" class=\"dataframe\">\n",
       "  <thead>\n",
       "    <tr style=\"text-align: right;\">\n",
       "      <th></th>\n",
       "      <th>customer_id</th>\n",
       "      <th>timestamp</th>\n",
       "      <th>event_type</th>\n",
       "      <th>product_id</th>\n",
       "      <th>title</th>\n",
       "      <th>category_name</th>\n",
       "      <th>price</th>\n",
       "    </tr>\n",
       "  </thead>\n",
       "  <tbody>\n",
       "    <tr>\n",
       "      <td>188537</td>\n",
       "      <td>28689368-b934-4b01-9806-f51a24869fb1</td>\n",
       "      <td>2019-08-31 21:34:33.485056 UTC</td>\n",
       "      <td>purchase_item</td>\n",
       "      <td>2a5c9040-f73c-4531-bd75-51b580c2355b</td>\n",
       "      <td>Ombre Clothing Men's mid-season quilted jacket...</td>\n",
       "      <td>Men&gt;Men Clothing&gt;Jackets &amp; Coats</td>\n",
       "      <td>26.00</td>\n",
       "    </tr>\n",
       "    <tr>\n",
       "      <td>35410</td>\n",
       "      <td>ec9bbec0-47f3-474b-b443-ddaebd61f2d2</td>\n",
       "      <td>2019-07-14 06:47:46.534368 UTC</td>\n",
       "      <td>purchase_item</td>\n",
       "      <td>11b5c302-a4e5-4f63-82f6-3b406685102b</td>\n",
       "      <td>Full Circle Poplin Long Shorts Ladies</td>\n",
       "      <td>NaN</td>\n",
       "      <td>NaN</td>\n",
       "    </tr>\n",
       "    <tr>\n",
       "      <td>128875</td>\n",
       "      <td>4edabc3c-8f11-4ddd-a212-e9580ecdcf23</td>\n",
       "      <td>2019-08-13 10:57:23.529451 UTC</td>\n",
       "      <td>purchase_item</td>\n",
       "      <td>0dde6d77-74d2-493f-9aad-b064febfabed</td>\n",
       "      <td>Firetrap Blackseal Long Line Bikini Top</td>\n",
       "      <td>Women&gt;Women's Clothing&gt;Swimmsuits &amp; bikins</td>\n",
       "      <td>9.49</td>\n",
       "    </tr>\n",
       "    <tr>\n",
       "      <td>58594</td>\n",
       "      <td>899aeee2-c790-4da3-b9fa-5270b3a6b114</td>\n",
       "      <td>2019-07-22 14:04:58.742876 UTC</td>\n",
       "      <td>purchase_item</td>\n",
       "      <td>bd9a157e-7bc8-4f7c-a466-5385f96e48ed</td>\n",
       "      <td>Lee Cooper Fleece Shorts Mens</td>\n",
       "      <td>Men&gt;Men Clothing&gt;Shorts</td>\n",
       "      <td>11.38</td>\n",
       "    </tr>\n",
       "    <tr>\n",
       "      <td>143682</td>\n",
       "      <td>ccb2fc3d-ec18-4dfa-8c34-8fba74905ca6</td>\n",
       "      <td>2019-08-18 11:12:25.301356 UTC</td>\n",
       "      <td>purchase_item</td>\n",
       "      <td>03c9c3a8-5c84-4761-b1aa-52a62c4781f8</td>\n",
       "      <td>Nike Fav Leggings Junior Girls</td>\n",
       "      <td>Children&gt;Girl's Clothing&gt;Tracksuit &amp; Leggings&gt;...</td>\n",
       "      <td>18.21</td>\n",
       "    </tr>\n",
       "    <tr>\n",
       "      <td>155292</td>\n",
       "      <td>74ebb333-5948-4217-8d88-0ec3cbafa5d6</td>\n",
       "      <td>2019-08-21 22:22:43.62673 UTC</td>\n",
       "      <td>purchase_item</td>\n",
       "      <td>3f157c53-d2ae-4f6f-bc22-eef0335cc1fd</td>\n",
       "      <td>Crocheted headband DOKE HEADBAND</td>\n",
       "      <td>Women&gt;Women's  Accessories&gt;Caps</td>\n",
       "      <td>11.77</td>\n",
       "    </tr>\n",
       "    <tr>\n",
       "      <td>21848</td>\n",
       "      <td>bc082c6b-74aa-40a9-8f46-6d122294093c</td>\n",
       "      <td>2019-07-09 08:06:26.711642 UTC</td>\n",
       "      <td>purchase_item</td>\n",
       "      <td>c5e73991-6c18-4176-9f12-925237f3e49a</td>\n",
       "      <td>Miso Rib Tank Top Ladies</td>\n",
       "      <td>NaN</td>\n",
       "      <td>NaN</td>\n",
       "    </tr>\n",
       "    <tr>\n",
       "      <td>23252</td>\n",
       "      <td>c77958ce-9071-438e-b004-2d4ba40f1ef6</td>\n",
       "      <td>2019-07-09 17:53:38.506568 UTC</td>\n",
       "      <td>purchase_item</td>\n",
       "      <td>a395c73b-2f47-4fcc-a749-fe0889d83489</td>\n",
       "      <td>Women's Jacket Marine</td>\n",
       "      <td>NaN</td>\n",
       "      <td>NaN</td>\n",
       "    </tr>\n",
       "    <tr>\n",
       "      <td>139859</td>\n",
       "      <td>a28a6b46-58d3-4e07-93f7-f7f53365ecfd</td>\n",
       "      <td>2019-08-16 20:01:08.510294 UTC</td>\n",
       "      <td>purchase_item</td>\n",
       "      <td>5c5df210-fec3-4ba1-a7e1-b0b734bec26c</td>\n",
       "      <td>Puma Epic V2  Flip JnC99</td>\n",
       "      <td>Women&gt;Women's Footwear&gt;Sliders &amp; Flip-Flops&gt;Fl...</td>\n",
       "      <td>16.12</td>\n",
       "    </tr>\n",
       "    <tr>\n",
       "      <td>33479</td>\n",
       "      <td>8dafc90f-9d6c-4bc3-9397-c8172dab6236</td>\n",
       "      <td>2019-07-13 10:57:08.081649 UTC</td>\n",
       "      <td>purchase_item</td>\n",
       "      <td>6bb56998-9fb1-443e-a8e8-62fe55199574</td>\n",
       "      <td>Lee Cooper Sling Dress Ladies</td>\n",
       "      <td>NaN</td>\n",
       "      <td>NaN</td>\n",
       "    </tr>\n",
       "  </tbody>\n",
       "</table>\n",
       "</div>"
      ],
      "text/plain": [
       "                                 customer_id                       timestamp  \\\n",
       "188537  28689368-b934-4b01-9806-f51a24869fb1  2019-08-31 21:34:33.485056 UTC   \n",
       "35410   ec9bbec0-47f3-474b-b443-ddaebd61f2d2  2019-07-14 06:47:46.534368 UTC   \n",
       "128875  4edabc3c-8f11-4ddd-a212-e9580ecdcf23  2019-08-13 10:57:23.529451 UTC   \n",
       "58594   899aeee2-c790-4da3-b9fa-5270b3a6b114  2019-07-22 14:04:58.742876 UTC   \n",
       "143682  ccb2fc3d-ec18-4dfa-8c34-8fba74905ca6  2019-08-18 11:12:25.301356 UTC   \n",
       "155292  74ebb333-5948-4217-8d88-0ec3cbafa5d6   2019-08-21 22:22:43.62673 UTC   \n",
       "21848   bc082c6b-74aa-40a9-8f46-6d122294093c  2019-07-09 08:06:26.711642 UTC   \n",
       "23252   c77958ce-9071-438e-b004-2d4ba40f1ef6  2019-07-09 17:53:38.506568 UTC   \n",
       "139859  a28a6b46-58d3-4e07-93f7-f7f53365ecfd  2019-08-16 20:01:08.510294 UTC   \n",
       "33479   8dafc90f-9d6c-4bc3-9397-c8172dab6236  2019-07-13 10:57:08.081649 UTC   \n",
       "\n",
       "           event_type                            product_id  \\\n",
       "188537  purchase_item  2a5c9040-f73c-4531-bd75-51b580c2355b   \n",
       "35410   purchase_item  11b5c302-a4e5-4f63-82f6-3b406685102b   \n",
       "128875  purchase_item  0dde6d77-74d2-493f-9aad-b064febfabed   \n",
       "58594   purchase_item  bd9a157e-7bc8-4f7c-a466-5385f96e48ed   \n",
       "143682  purchase_item  03c9c3a8-5c84-4761-b1aa-52a62c4781f8   \n",
       "155292  purchase_item  3f157c53-d2ae-4f6f-bc22-eef0335cc1fd   \n",
       "21848   purchase_item  c5e73991-6c18-4176-9f12-925237f3e49a   \n",
       "23252   purchase_item  a395c73b-2f47-4fcc-a749-fe0889d83489   \n",
       "139859  purchase_item  5c5df210-fec3-4ba1-a7e1-b0b734bec26c   \n",
       "33479   purchase_item  6bb56998-9fb1-443e-a8e8-62fe55199574   \n",
       "\n",
       "                                                    title  \\\n",
       "188537  Ombre Clothing Men's mid-season quilted jacket...   \n",
       "35410               Full Circle Poplin Long Shorts Ladies   \n",
       "128875            Firetrap Blackseal Long Line Bikini Top   \n",
       "58594                       Lee Cooper Fleece Shorts Mens   \n",
       "143682                     Nike Fav Leggings Junior Girls   \n",
       "155292                   Crocheted headband DOKE HEADBAND   \n",
       "21848                            Miso Rib Tank Top Ladies   \n",
       "23252                               Women's Jacket Marine   \n",
       "139859                           Puma Epic V2  Flip JnC99   \n",
       "33479                       Lee Cooper Sling Dress Ladies   \n",
       "\n",
       "                                            category_name  price  \n",
       "188537                   Men>Men Clothing>Jackets & Coats  26.00  \n",
       "35410                                                 NaN    NaN  \n",
       "128875         Women>Women's Clothing>Swimmsuits & bikins   9.49  \n",
       "58594                             Men>Men Clothing>Shorts  11.38  \n",
       "143682  Children>Girl's Clothing>Tracksuit & Leggings>...  18.21  \n",
       "155292                    Women>Women's  Accessories>Caps  11.77  \n",
       "21848                                                 NaN    NaN  \n",
       "23252                                                 NaN    NaN  \n",
       "139859  Women>Women's Footwear>Sliders & Flip-Flops>Fl...  16.12  \n",
       "33479                                                 NaN    NaN  "
      ]
     },
     "execution_count": 104,
     "metadata": {},
     "output_type": "execute_result"
    }
   ],
   "source": [
    "purchases = pd.read_csv('vi_data/purchases_train.csv')\n",
    "purchases.sample(10) "
   ]
  },
  {
   "cell_type": "code",
   "execution_count": 7,
   "metadata": {
    "scrolled": false
   },
   "outputs": [
    {
     "data": {
      "text/plain": [
       "(188712, 7)"
      ]
     },
     "execution_count": 7,
     "metadata": {},
     "output_type": "execute_result"
    }
   ],
   "source": [
    "purchases.shape"
   ]
  },
  {
   "cell_type": "code",
   "execution_count": 105,
   "metadata": {},
   "outputs": [
    {
     "data": {
      "text/plain": [
       "array(['purchase_item'], dtype=object)"
      ]
     },
     "execution_count": 105,
     "metadata": {},
     "output_type": "execute_result"
    }
   ],
   "source": [
    "purchases.event_type.unique()"
   ]
  },
  {
   "cell_type": "markdown",
   "metadata": {},
   "source": [
    "tabulky events a purchaches majú rovnaké stĺpce "
   ]
  },
  {
   "cell_type": "markdown",
   "metadata": {},
   "source": [
    "## Spojenie events and purchases"
   ]
  },
  {
   "cell_type": "code",
   "execution_count": 106,
   "metadata": {
    "scrolled": true
   },
   "outputs": [
    {
     "data": {
      "text/html": [
       "<div>\n",
       "<style scoped>\n",
       "    .dataframe tbody tr th:only-of-type {\n",
       "        vertical-align: middle;\n",
       "    }\n",
       "\n",
       "    .dataframe tbody tr th {\n",
       "        vertical-align: top;\n",
       "    }\n",
       "\n",
       "    .dataframe thead th {\n",
       "        text-align: right;\n",
       "    }\n",
       "</style>\n",
       "<table border=\"1\" class=\"dataframe\">\n",
       "  <thead>\n",
       "    <tr style=\"text-align: right;\">\n",
       "      <th></th>\n",
       "      <th>customer_id</th>\n",
       "      <th>timestamp</th>\n",
       "      <th>event_type</th>\n",
       "      <th>product_id</th>\n",
       "      <th>title</th>\n",
       "      <th>category_name</th>\n",
       "      <th>price</th>\n",
       "    </tr>\n",
       "  </thead>\n",
       "  <tbody>\n",
       "    <tr>\n",
       "      <td>9786662</td>\n",
       "      <td>24a57718-3b21-46a1-bb85-795977466299</td>\n",
       "      <td>2019-08-13 12:12:46.572911 UTC</td>\n",
       "      <td>view_item</td>\n",
       "      <td>61e3a366-abfd-4f64-a6f9-7699a23ba760</td>\n",
       "      <td>Wallet WOOX Moneta Triviala</td>\n",
       "      <td>Women&gt;Women's  Accessories&gt;Wallets</td>\n",
       "      <td>36.69</td>\n",
       "    </tr>\n",
       "    <tr>\n",
       "      <td>794201</td>\n",
       "      <td>dcd2e418-77eb-4d1c-88a1-22a761a6088d</td>\n",
       "      <td>2019-07-04 18:12:28.321765 UTC</td>\n",
       "      <td>view_item</td>\n",
       "      <td>9bb87057-23d6-47e3-ad97-46a6f98c5560</td>\n",
       "      <td>Trendyol Dusty rose glitter tulle detailed dress</td>\n",
       "      <td>NaN</td>\n",
       "      <td>52.70</td>\n",
       "    </tr>\n",
       "    <tr>\n",
       "      <td>6196100</td>\n",
       "      <td>5cd20652-736d-40d9-aaf1-080d57aa29ca</td>\n",
       "      <td>2019-07-30 16:06:43.631195 UTC</td>\n",
       "      <td>view_item</td>\n",
       "      <td>3b7c7c4b-12a2-4643-a838-5dcda0ad6838</td>\n",
       "      <td>Under Armour Perpetual Cap Mens</td>\n",
       "      <td>Men&gt;Men Accessories&gt;Baseball caps</td>\n",
       "      <td>34.35</td>\n",
       "    </tr>\n",
       "    <tr>\n",
       "      <td>2513664</td>\n",
       "      <td>302f5d55-6bcc-4198-8163-f13cdfa54940</td>\n",
       "      <td>2019-07-13 10:43:10.919824 UTC</td>\n",
       "      <td>view_item</td>\n",
       "      <td>7d896761-6132-4667-9781-b21f035a0c9f</td>\n",
       "      <td>Men's polo shirt B&amp;amp;C Basic</td>\n",
       "      <td>NaN</td>\n",
       "      <td>8.43</td>\n",
       "    </tr>\n",
       "    <tr>\n",
       "      <td>4897142</td>\n",
       "      <td>cc740252-253f-431b-a08c-58272470582a</td>\n",
       "      <td>2019-07-24 17:03:07.627691 UTC</td>\n",
       "      <td>view_item</td>\n",
       "      <td>f8840c14-f913-4128-8d78-e8e6705f6f04</td>\n",
       "      <td>Garmin FR 245 Music Sn04</td>\n",
       "      <td>Men&gt;Men Accessories&gt;Watches</td>\n",
       "      <td>502.46</td>\n",
       "    </tr>\n",
       "    <tr>\n",
       "      <td>3243681</td>\n",
       "      <td>8ae9b194-06cd-443b-9f01-83b660c72859</td>\n",
       "      <td>2019-07-16 11:40:31.632604 UTC</td>\n",
       "      <td>view_item</td>\n",
       "      <td>1b0578ff-5b62-42d3-9bad-8f33ba341dd1</td>\n",
       "      <td>Puma Retaliate Mens Trainers</td>\n",
       "      <td>Men&gt;Men Footwear&gt;Sneakers&gt;Sport sneakers</td>\n",
       "      <td>75.79</td>\n",
       "    </tr>\n",
       "    <tr>\n",
       "      <td>14791181</td>\n",
       "      <td>8b42aab2-1402-4605-a504-e643c001f7a6</td>\n",
       "      <td>2019-08-28 13:12:17.237471 UTC</td>\n",
       "      <td>purchase_item</td>\n",
       "      <td>1939227f-b47a-4faf-8a53-7234a7772866</td>\n",
       "      <td>Women's T-shirt Trendyol Flower Lace Detailed</td>\n",
       "      <td>Women&gt;Women's Clothing&gt;T-Shirts&gt;Short Sleeve</td>\n",
       "      <td>18.23</td>\n",
       "    </tr>\n",
       "    <tr>\n",
       "      <td>11643565</td>\n",
       "      <td>2443879a-c908-42e2-a731-3dfc4cce2fae</td>\n",
       "      <td>2019-08-20 23:16:45.18704 UTC</td>\n",
       "      <td>view_item</td>\n",
       "      <td>01583de3-8a35-40fc-acbb-8fbe65e3b9de</td>\n",
       "      <td>SoulCal Deluxe Oxford Shirt</td>\n",
       "      <td>Men&gt;Men Clothing&gt;Shirts&gt;Short sleeved shirts</td>\n",
       "      <td>13.12</td>\n",
       "    </tr>\n",
       "    <tr>\n",
       "      <td>13494897</td>\n",
       "      <td>74a909c9-b09d-43a3-ae52-c8f3660b3b23</td>\n",
       "      <td>2019-08-27 20:31:27.445261 UTC</td>\n",
       "      <td>view_item</td>\n",
       "      <td>e54a4c0c-38aa-47cb-bcc3-0291ce33425a</td>\n",
       "      <td>Character Gilet Set Girls</td>\n",
       "      <td>Children&gt;Girl's Clothing&gt;Girl's sets</td>\n",
       "      <td>38.15</td>\n",
       "    </tr>\n",
       "    <tr>\n",
       "      <td>8416741</td>\n",
       "      <td>f0a63d23-aec1-490a-9bae-25c6f669449b</td>\n",
       "      <td>2019-08-08 05:14:45.635668 UTC</td>\n",
       "      <td>view_item</td>\n",
       "      <td>860f347d-02cd-43aa-ad10-fdf8d0591eb4</td>\n",
       "      <td>Nike NSW Dress Tee Girls</td>\n",
       "      <td>Children&gt;Girl's Clothing&gt;Dresses &amp; Skirts &amp; Ov...</td>\n",
       "      <td>36.22</td>\n",
       "    </tr>\n",
       "  </tbody>\n",
       "</table>\n",
       "</div>"
      ],
      "text/plain": [
       "                                   customer_id  \\\n",
       "9786662   24a57718-3b21-46a1-bb85-795977466299   \n",
       "794201    dcd2e418-77eb-4d1c-88a1-22a761a6088d   \n",
       "6196100   5cd20652-736d-40d9-aaf1-080d57aa29ca   \n",
       "2513664   302f5d55-6bcc-4198-8163-f13cdfa54940   \n",
       "4897142   cc740252-253f-431b-a08c-58272470582a   \n",
       "3243681   8ae9b194-06cd-443b-9f01-83b660c72859   \n",
       "14791181  8b42aab2-1402-4605-a504-e643c001f7a6   \n",
       "11643565  2443879a-c908-42e2-a731-3dfc4cce2fae   \n",
       "13494897  74a909c9-b09d-43a3-ae52-c8f3660b3b23   \n",
       "8416741   f0a63d23-aec1-490a-9bae-25c6f669449b   \n",
       "\n",
       "                               timestamp     event_type  \\\n",
       "9786662   2019-08-13 12:12:46.572911 UTC      view_item   \n",
       "794201    2019-07-04 18:12:28.321765 UTC      view_item   \n",
       "6196100   2019-07-30 16:06:43.631195 UTC      view_item   \n",
       "2513664   2019-07-13 10:43:10.919824 UTC      view_item   \n",
       "4897142   2019-07-24 17:03:07.627691 UTC      view_item   \n",
       "3243681   2019-07-16 11:40:31.632604 UTC      view_item   \n",
       "14791181  2019-08-28 13:12:17.237471 UTC  purchase_item   \n",
       "11643565   2019-08-20 23:16:45.18704 UTC      view_item   \n",
       "13494897  2019-08-27 20:31:27.445261 UTC      view_item   \n",
       "8416741   2019-08-08 05:14:45.635668 UTC      view_item   \n",
       "\n",
       "                                    product_id  \\\n",
       "9786662   61e3a366-abfd-4f64-a6f9-7699a23ba760   \n",
       "794201    9bb87057-23d6-47e3-ad97-46a6f98c5560   \n",
       "6196100   3b7c7c4b-12a2-4643-a838-5dcda0ad6838   \n",
       "2513664   7d896761-6132-4667-9781-b21f035a0c9f   \n",
       "4897142   f8840c14-f913-4128-8d78-e8e6705f6f04   \n",
       "3243681   1b0578ff-5b62-42d3-9bad-8f33ba341dd1   \n",
       "14791181  1939227f-b47a-4faf-8a53-7234a7772866   \n",
       "11643565  01583de3-8a35-40fc-acbb-8fbe65e3b9de   \n",
       "13494897  e54a4c0c-38aa-47cb-bcc3-0291ce33425a   \n",
       "8416741   860f347d-02cd-43aa-ad10-fdf8d0591eb4   \n",
       "\n",
       "                                                     title  \\\n",
       "9786662                        Wallet WOOX Moneta Triviala   \n",
       "794201    Trendyol Dusty rose glitter tulle detailed dress   \n",
       "6196100                    Under Armour Perpetual Cap Mens   \n",
       "2513664                     Men's polo shirt B&amp;C Basic   \n",
       "4897142                           Garmin FR 245 Music Sn04   \n",
       "3243681                       Puma Retaliate Mens Trainers   \n",
       "14791181    Women's T-shirt Trendyol Flower Lace Detailed    \n",
       "11643565                       SoulCal Deluxe Oxford Shirt   \n",
       "13494897                         Character Gilet Set Girls   \n",
       "8416741                           Nike NSW Dress Tee Girls   \n",
       "\n",
       "                                              category_name   price  \n",
       "9786662                  Women>Women's  Accessories>Wallets   36.69  \n",
       "794201                                                  NaN   52.70  \n",
       "6196100                   Men>Men Accessories>Baseball caps   34.35  \n",
       "2513664                                                 NaN    8.43  \n",
       "4897142                         Men>Men Accessories>Watches  502.46  \n",
       "3243681            Men>Men Footwear>Sneakers>Sport sneakers   75.79  \n",
       "14791181       Women>Women's Clothing>T-Shirts>Short Sleeve   18.23  \n",
       "11643565       Men>Men Clothing>Shirts>Short sleeved shirts   13.12  \n",
       "13494897               Children>Girl's Clothing>Girl's sets   38.15  \n",
       "8416741   Children>Girl's Clothing>Dresses & Skirts & Ov...   36.22  "
      ]
     },
     "execution_count": 106,
     "metadata": {},
     "output_type": "execute_result"
    }
   ],
   "source": [
    "data = pd.concat([events, purchases], ignore_index=True)\n",
    "data.sample(10)"
   ]
  },
  {
   "cell_type": "code",
   "execution_count": 107,
   "metadata": {
    "scrolled": true
   },
   "outputs": [
    {
     "name": "stdout",
     "output_type": "stream",
     "text": [
      "14803097\n",
      "7\n"
     ]
    }
   ],
   "source": [
    "rows_num, cols_num = data.shape\n",
    "print(rows_num)\n",
    "print(cols_num)"
   ]
  },
  {
   "cell_type": "code",
   "execution_count": 108,
   "metadata": {},
   "outputs": [],
   "source": [
    "del events\n",
    "del purchases"
   ]
  },
  {
   "cell_type": "markdown",
   "metadata": {},
   "source": [
    "## Atribúty"
   ]
  },
  {
   "cell_type": "markdown",
   "metadata": {},
   "source": [
    "### customer_id"
   ]
  },
  {
   "cell_type": "code",
   "execution_count": 11,
   "metadata": {
    "scrolled": true
   },
   "outputs": [
    {
     "data": {
      "text/plain": [
       "count                                 14803097\n",
       "unique                                 2211386\n",
       "top       53f841c7-970b-4e0b-96bf-97a95ecfb734\n",
       "freq                                      4804\n",
       "Name: customer_id, dtype: object"
      ]
     },
     "execution_count": 11,
     "metadata": {},
     "output_type": "execute_result"
    }
   ],
   "source": [
    "data.customer_id.describe()"
   ]
  },
  {
   "cell_type": "code",
   "execution_count": 12,
   "metadata": {
    "scrolled": false
   },
   "outputs": [
    {
     "data": {
      "text/plain": [
       "0"
      ]
     },
     "execution_count": 12,
     "metadata": {},
     "output_type": "execute_result"
    }
   ],
   "source": [
    "len(data[data.customer_id.isna()])"
   ]
  },
  {
   "cell_type": "code",
   "execution_count": 13,
   "metadata": {},
   "outputs": [
    {
     "data": {
      "text/plain": [
       "6.694035776657716"
      ]
     },
     "execution_count": 13,
     "metadata": {},
     "output_type": "execute_result"
    }
   ],
   "source": [
    "rows_num/len(data.customer_id.unique())"
   ]
  },
  {
   "cell_type": "code",
   "execution_count": 14,
   "metadata": {
    "scrolled": true
   },
   "outputs": [
    {
     "data": {
      "text/plain": [
       "2.0"
      ]
     },
     "execution_count": 14,
     "metadata": {},
     "output_type": "execute_result"
    }
   ],
   "source": [
    "data.groupby(['customer_id']).count()['timestamp'].median()"
   ]
  },
  {
   "cell_type": "code",
   "execution_count": 14,
   "metadata": {
    "scrolled": true
   },
   "outputs": [
    {
     "data": {
      "text/plain": [
       "53f841c7-970b-4e0b-96bf-97a95ecfb734    4804\n",
       "9eb76d09-8006-4262-b5eb-459556f338a9    3577\n",
       "546a1146-64be-4549-a472-a8a4a8ca41b0    3189\n",
       "a3fe2d55-b8fc-4aaa-8f7f-99f6498b191f    3060\n",
       "68b2c520-5366-4143-a253-04fd96aeb251    2855\n",
       "                                        ... \n",
       "28f3de37-5d91-451b-9d71-c016ff28765a       1\n",
       "ddaea6ea-cf1e-4ef3-84d0-4d97f5019dab       1\n",
       "ee2c4b69-2194-4785-a817-76a30ea8a54b       1\n",
       "db9f09e8-ea9e-4444-986a-39c973a7dfe3       1\n",
       "3fe6ea93-4d29-4d6f-990a-6a873f19c2ed       1\n",
       "Name: customer_id, Length: 2211386, dtype: int64"
      ]
     },
     "execution_count": 14,
     "metadata": {},
     "output_type": "execute_result"
    }
   ],
   "source": [
    "customer_rows = data['customer_id'].value_counts()\n",
    "customer_rows"
   ]
  },
  {
   "cell_type": "code",
   "execution_count": 28,
   "metadata": {},
   "outputs": [
    {
     "name": "stdout",
     "output_type": "stream",
     "text": [
      "1 913643\n",
      "2 329587\n",
      "3 199175\n"
     ]
    }
   ],
   "source": [
    "for i, num in enumerate(customer_rows.value_counts()[:3]):\n",
    "    print(i+1, num)"
   ]
  },
  {
   "cell_type": "code",
   "execution_count": 29,
   "metadata": {},
   "outputs": [
    {
     "data": {
      "text/plain": [
       "0.4131540129131685"
      ]
     },
     "execution_count": 29,
     "metadata": {},
     "output_type": "execute_result"
    }
   ],
   "source": [
    "(913643)/2211386"
   ]
  },
  {
   "cell_type": "code",
   "execution_count": 20,
   "metadata": {},
   "outputs": [
    {
     "data": {
      "text/plain": [
       "0.5621949311427313"
      ]
     },
     "execution_count": 20,
     "metadata": {},
     "output_type": "execute_result"
    }
   ],
   "source": [
    "(913643+329587)/2211386"
   ]
  },
  {
   "cell_type": "code",
   "execution_count": 26,
   "metadata": {
    "scrolled": true
   },
   "outputs": [
    {
     "name": "stdout",
     "output_type": "stream",
     "text": [
      "4 129721\n",
      "8 45301\n",
      "12 22832\n",
      "16 13311\n",
      "20 8728\n",
      "24 6193\n",
      "28 4481\n",
      "32 3349\n",
      "36 2677\n",
      "40 2124\n",
      "44 1784\n",
      "48 1405\n"
     ]
    }
   ],
   "source": [
    "for i, num in enumerate(customer_rows.value_counts()[3:50:4]):\n",
    "    print(4*i+4, num)"
   ]
  },
  {
   "cell_type": "markdown",
   "metadata": {},
   "source": [
    "- 2,211,386 unikátnych zákazníkov\n",
    "- žiadne NaN hodnoty\n",
    "- v priemere vyše 6 záznamov na zákazníka\n",
    "    - ale median je iba 2\n",
    "    - 913,643 (41%) zákazníkov má len 1 záznam\n",
    "    - 56% zákazníkov má 2 záznamy"
   ]
  },
  {
   "cell_type": "markdown",
   "metadata": {},
   "source": [
    "### timestamp"
   ]
  },
  {
   "cell_type": "code",
   "execution_count": 16,
   "metadata": {
    "scrolled": false
   },
   "outputs": [
    {
     "data": {
      "text/plain": [
       "count                           14803097\n",
       "unique                          14802889\n",
       "top       2019-07-22 04:33:52.889148 UTC\n",
       "freq                                   4\n",
       "Name: timestamp, dtype: object"
      ]
     },
     "execution_count": 16,
     "metadata": {},
     "output_type": "execute_result"
    }
   ],
   "source": [
    "data.timestamp.describe()"
   ]
  },
  {
   "cell_type": "code",
   "execution_count": 17,
   "metadata": {},
   "outputs": [
    {
     "data": {
      "text/html": [
       "<div>\n",
       "<style scoped>\n",
       "    .dataframe tbody tr th:only-of-type {\n",
       "        vertical-align: middle;\n",
       "    }\n",
       "\n",
       "    .dataframe tbody tr th {\n",
       "        vertical-align: top;\n",
       "    }\n",
       "\n",
       "    .dataframe thead th {\n",
       "        text-align: right;\n",
       "    }\n",
       "</style>\n",
       "<table border=\"1\" class=\"dataframe\">\n",
       "  <thead>\n",
       "    <tr style=\"text-align: right;\">\n",
       "      <th></th>\n",
       "      <th>customer_id</th>\n",
       "      <th>timestamp</th>\n",
       "      <th>event_type</th>\n",
       "      <th>product_id</th>\n",
       "      <th>title</th>\n",
       "      <th>category_name</th>\n",
       "      <th>price</th>\n",
       "    </tr>\n",
       "  </thead>\n",
       "  <tbody>\n",
       "    <tr>\n",
       "      <td>4361630</td>\n",
       "      <td>8b57d536-f432-45a9-8b45-3bd54d68ba69</td>\n",
       "      <td>2019-07-22 04:33:52.889148 UTC</td>\n",
       "      <td>view_item</td>\n",
       "      <td>5bbe88b4-9650-4c1a-8f95-9a09c264b2c9</td>\n",
       "      <td>Hot Tuna Crew T Shirt Mens</td>\n",
       "      <td>Men&gt;Men Clothing&gt;T-Shirts &amp; Polo shirts</td>\n",
       "      <td>12.84</td>\n",
       "    </tr>\n",
       "    <tr>\n",
       "      <td>4361631</td>\n",
       "      <td>8b57d536-f432-45a9-8b45-3bd54d68ba69</td>\n",
       "      <td>2019-07-22 04:33:52.889148 UTC</td>\n",
       "      <td>view_item</td>\n",
       "      <td>248faf65-d1e2-4d7b-84c8-ce1c459ee086</td>\n",
       "      <td>Lonsdale Jersey Polo Shirt Mens</td>\n",
       "      <td>Men&gt;Men Clothing&gt;T-Shirts &amp; Polo shirts&gt;Polo S...</td>\n",
       "      <td>12.90</td>\n",
       "    </tr>\n",
       "    <tr>\n",
       "      <td>4361632</td>\n",
       "      <td>8b57d536-f432-45a9-8b45-3bd54d68ba69</td>\n",
       "      <td>2019-07-22 04:33:52.889148 UTC</td>\n",
       "      <td>view_item</td>\n",
       "      <td>377bdb75-6f46-4c29-b559-9af0c6ba2ae8</td>\n",
       "      <td>Pierre Cardin Web Belt Shorts Mens</td>\n",
       "      <td>Men&gt;Men Clothing&gt;Shorts</td>\n",
       "      <td>17.12</td>\n",
       "    </tr>\n",
       "    <tr>\n",
       "      <td>4361633</td>\n",
       "      <td>8b57d536-f432-45a9-8b45-3bd54d68ba69</td>\n",
       "      <td>2019-07-22 04:33:52.889148 UTC</td>\n",
       "      <td>view_item</td>\n",
       "      <td>b2bcef2f-df2d-4c23-aee7-73ca112ef815</td>\n",
       "      <td>Lee Cooper Men's boxers 5-pack</td>\n",
       "      <td>Men&gt;Men Clothing&gt;Underwear&gt;Boxer shorts &amp; trunks</td>\n",
       "      <td>13.10</td>\n",
       "    </tr>\n",
       "  </tbody>\n",
       "</table>\n",
       "</div>"
      ],
      "text/plain": [
       "                                  customer_id                       timestamp  \\\n",
       "4361630  8b57d536-f432-45a9-8b45-3bd54d68ba69  2019-07-22 04:33:52.889148 UTC   \n",
       "4361631  8b57d536-f432-45a9-8b45-3bd54d68ba69  2019-07-22 04:33:52.889148 UTC   \n",
       "4361632  8b57d536-f432-45a9-8b45-3bd54d68ba69  2019-07-22 04:33:52.889148 UTC   \n",
       "4361633  8b57d536-f432-45a9-8b45-3bd54d68ba69  2019-07-22 04:33:52.889148 UTC   \n",
       "\n",
       "        event_type                            product_id  \\\n",
       "4361630  view_item  5bbe88b4-9650-4c1a-8f95-9a09c264b2c9   \n",
       "4361631  view_item  248faf65-d1e2-4d7b-84c8-ce1c459ee086   \n",
       "4361632  view_item  377bdb75-6f46-4c29-b559-9af0c6ba2ae8   \n",
       "4361633  view_item  b2bcef2f-df2d-4c23-aee7-73ca112ef815   \n",
       "\n",
       "                                      title  \\\n",
       "4361630          Hot Tuna Crew T Shirt Mens   \n",
       "4361631     Lonsdale Jersey Polo Shirt Mens   \n",
       "4361632  Pierre Cardin Web Belt Shorts Mens   \n",
       "4361633      Lee Cooper Men's boxers 5-pack   \n",
       "\n",
       "                                             category_name  price  \n",
       "4361630            Men>Men Clothing>T-Shirts & Polo shirts  12.84  \n",
       "4361631  Men>Men Clothing>T-Shirts & Polo shirts>Polo S...  12.90  \n",
       "4361632                            Men>Men Clothing>Shorts  17.12  \n",
       "4361633   Men>Men Clothing>Underwear>Boxer shorts & trunks  13.10  "
      ]
     },
     "execution_count": 17,
     "metadata": {},
     "output_type": "execute_result"
    }
   ],
   "source": [
    "data.loc[data['timestamp'] == \"2019-07-22 04:33:52.889148 UTC\"]"
   ]
  },
  {
   "cell_type": "code",
   "execution_count": 18,
   "metadata": {},
   "outputs": [
    {
     "data": {
      "text/plain": [
       "'2019-07-01 00:00:01.101977 UTC'"
      ]
     },
     "execution_count": 18,
     "metadata": {},
     "output_type": "execute_result"
    }
   ],
   "source": [
    "min(data.timestamp)"
   ]
  },
  {
   "cell_type": "code",
   "execution_count": 19,
   "metadata": {},
   "outputs": [
    {
     "data": {
      "text/plain": [
       "'2019-08-31 23:59:59.536067 UTC'"
      ]
     },
     "execution_count": 19,
     "metadata": {},
     "output_type": "execute_result"
    }
   ],
   "source": [
    "max(data.timestamp)"
   ]
  },
  {
   "cell_type": "code",
   "execution_count": 7,
   "metadata": {
    "scrolled": true
   },
   "outputs": [
    {
     "data": {
      "text/plain": [
       "0"
      ]
     },
     "execution_count": 7,
     "metadata": {},
     "output_type": "execute_result"
    }
   ],
   "source": [
    "len(data[data.timestamp.isna()])"
   ]
  },
  {
   "cell_type": "markdown",
   "metadata": {},
   "source": [
    "- dátumy z intervalu 2 mesiacov\n",
    "- žiadne NaN hodnoty\n",
    "- existujú záznamy typu `view_item`, kde je daný zákazník v danom čase a rôzne produkty. "
   ]
  },
  {
   "cell_type": "markdown",
   "metadata": {},
   "source": [
    "### event_type"
   ]
  },
  {
   "cell_type": "code",
   "execution_count": 21,
   "metadata": {
    "scrolled": true
   },
   "outputs": [
    {
     "data": {
      "text/plain": [
       "array(['view_item', 'purchase_item'], dtype=object)"
      ]
     },
     "execution_count": 21,
     "metadata": {},
     "output_type": "execute_result"
    }
   ],
   "source": [
    "data.event_type.unique()"
   ]
  },
  {
   "cell_type": "code",
   "execution_count": 22,
   "metadata": {
    "scrolled": true
   },
   "outputs": [
    {
     "data": {
      "text/plain": [
       "0"
      ]
     },
     "execution_count": 22,
     "metadata": {},
     "output_type": "execute_result"
    }
   ],
   "source": [
    "len(data[data.event_type.isna()])"
   ]
  },
  {
   "cell_type": "code",
   "execution_count": 23,
   "metadata": {},
   "outputs": [
    {
     "data": {
      "text/plain": [
       "0.9872518568242848"
      ]
     },
     "execution_count": 23,
     "metadata": {},
     "output_type": "execute_result"
    }
   ],
   "source": [
    "len(data.loc[data['event_type'] == \"view_item\"])/rows_num"
   ]
  },
  {
   "cell_type": "code",
   "execution_count": 24,
   "metadata": {},
   "outputs": [
    {
     "data": {
      "text/plain": [
       "0.01274814317571519"
      ]
     },
     "execution_count": 24,
     "metadata": {},
     "output_type": "execute_result"
    }
   ],
   "source": [
    "len(data.loc[data['event_type'] == \"purchase_item\"])/rows_num"
   ]
  },
  {
   "cell_type": "markdown",
   "metadata": {},
   "source": [
    "- dva typy: `view_item` a `purchase_item`\n",
    "- pomer je 98.7% ku 1.27%\n",
    "- žiadne NaN hodnoty"
   ]
  },
  {
   "cell_type": "markdown",
   "metadata": {},
   "source": [
    "### product_id"
   ]
  },
  {
   "cell_type": "code",
   "execution_count": 25,
   "metadata": {
    "scrolled": true
   },
   "outputs": [
    {
     "data": {
      "text/plain": [
       "count                                 14803097\n",
       "unique                                  123837\n",
       "top       31ae211d-57a9-4bfa-b95f-40776af03c3f\n",
       "freq                                     52736\n",
       "Name: product_id, dtype: object"
      ]
     },
     "execution_count": 25,
     "metadata": {},
     "output_type": "execute_result"
    }
   ],
   "source": [
    "data.product_id.describe()"
   ]
  },
  {
   "cell_type": "code",
   "execution_count": 60,
   "metadata": {},
   "outputs": [
    {
     "data": {
      "text/plain": [
       "0"
      ]
     },
     "execution_count": 60,
     "metadata": {},
     "output_type": "execute_result"
    }
   ],
   "source": [
    "len(data[data.product_id.isna()])"
   ]
  },
  {
   "cell_type": "code",
   "execution_count": 61,
   "metadata": {},
   "outputs": [
    {
     "data": {
      "text/plain": [
       "119.53694776197744"
      ]
     },
     "execution_count": 61,
     "metadata": {},
     "output_type": "execute_result"
    }
   ],
   "source": [
    "rows_num/len(data.product_id.unique())"
   ]
  },
  {
   "cell_type": "code",
   "execution_count": 62,
   "metadata": {},
   "outputs": [
    {
     "data": {
      "text/plain": [
       "17.0"
      ]
     },
     "execution_count": 62,
     "metadata": {},
     "output_type": "execute_result"
    }
   ],
   "source": [
    "data.groupby(['product_id']).count()['timestamp'].median() "
   ]
  },
  {
   "cell_type": "code",
   "execution_count": 32,
   "metadata": {},
   "outputs": [
    {
     "data": {
      "text/plain": [
       "31ae211d-57a9-4bfa-b95f-40776af03c3f    52736\n",
       "0f943312-7141-4606-abfa-81fd63a5498f    49141\n",
       "a8f0292d-5fca-42b9-b0d3-b38e7efa416b    48343\n",
       "e33cea18-ee3f-4e37-83a7-1d88c54d83b8    45421\n",
       "608f32cd-210c-4af5-99d8-6182a9678cf5    39801\n",
       "                                        ...  \n",
       "6b0e71d0-cdca-4160-8df1-ae7b43ef967c        1\n",
       "630d92d1-ed2b-4a75-a778-3dacba195eb5        1\n",
       "0633f706-85d4-4ac6-b34d-7f653fa7139d        1\n",
       "a3c46419-d8fb-4273-88ba-06dc92b42696        1\n",
       "326e712f-9733-4761-b458-217f3f695833        1\n",
       "Name: product_id, Length: 123837, dtype: int64"
      ]
     },
     "execution_count": 32,
     "metadata": {},
     "output_type": "execute_result"
    }
   ],
   "source": [
    "product_rows = data['product_id'].value_counts()\n",
    "product_rows"
   ]
  },
  {
   "cell_type": "code",
   "execution_count": 36,
   "metadata": {},
   "outputs": [
    {
     "name": "stdout",
     "output_type": "stream",
     "text": [
      "1 15982\n",
      "5 3582\n",
      "9 2365\n",
      "13 1792\n",
      "17 1376\n",
      "21 1139\n",
      "25 948\n",
      "29 810\n",
      "33 694\n",
      "37 624\n",
      "41 528\n",
      "45 501\n",
      "49 436\n"
     ]
    }
   ],
   "source": [
    "for i, num in enumerate(product_rows.value_counts()[:50:4]):\n",
    "    print(4*i+1, num)"
   ]
  },
  {
   "cell_type": "markdown",
   "metadata": {},
   "source": [
    "- 123,837 unikátnych produktov\n",
    "- žiadne NaN hodnoty\n",
    "- v priemere vyše 119 záznamov na produkt\n",
    "    - maximum je 52,736\n",
    "    - minimum je 1\n",
    "    - median je 17\n",
    "    - 15,982 produktov má len 1 záznam"
   ]
  },
  {
   "cell_type": "markdown",
   "metadata": {},
   "source": [
    "### title"
   ]
  },
  {
   "cell_type": "code",
   "execution_count": 63,
   "metadata": {
    "scrolled": true
   },
   "outputs": [
    {
     "data": {
      "text/plain": [
       "count                     14801284\n",
       "unique                       71440\n",
       "top       Lee Cooper Marl Backpack\n",
       "freq                        168766\n",
       "Name: title, dtype: object"
      ]
     },
     "execution_count": 63,
     "metadata": {},
     "output_type": "execute_result"
    }
   ],
   "source": [
    "data.title.describe()"
   ]
  },
  {
   "cell_type": "code",
   "execution_count": 72,
   "metadata": {
    "scrolled": false
   },
   "outputs": [
    {
     "data": {
      "text/plain": [
       "array(['Batoh Lee Cooper Marl', 'Lee Cooper Marl Backpack'], dtype=object)"
      ]
     },
     "execution_count": 72,
     "metadata": {},
     "output_type": "execute_result"
    }
   ],
   "source": [
    "data.loc[data['product_id'] == \"31ae211d-57a9-4bfa-b95f-40776af03c3f\"].title.unique()"
   ]
  },
  {
   "cell_type": "code",
   "execution_count": 64,
   "metadata": {},
   "outputs": [
    {
     "data": {
      "text/plain": [
       "0"
      ]
     },
     "execution_count": 64,
     "metadata": {},
     "output_type": "execute_result"
    }
   ],
   "source": [
    "len(data[data.product_id.isna()])"
   ]
  },
  {
   "cell_type": "markdown",
   "metadata": {},
   "source": [
    "- 71,440 unikátnych označení (našli sme 123,837 unikátnych produktov)\n",
    "    - produkt môže mať viac rôznych označení\n",
    "- žiadne NaN hodnoty"
   ]
  },
  {
   "cell_type": "markdown",
   "metadata": {},
   "source": [
    "### price"
   ]
  },
  {
   "cell_type": "code",
   "execution_count": 85,
   "metadata": {
    "scrolled": true
   },
   "outputs": [
    {
     "data": {
      "text/plain": [
       "count    14758211.000000\n",
       "mean           33.122065\n",
       "std           121.532833\n",
       "min             0.060000\n",
       "25%            12.710000\n",
       "50%            21.860000\n",
       "75%            39.490000\n",
       "max         32636.460000\n",
       "Name: price, dtype: object"
      ]
     },
     "execution_count": 85,
     "metadata": {},
     "output_type": "execute_result"
    }
   ],
   "source": [
    "data.price.describe().apply(lambda x: format(x, 'f'))"
   ]
  },
  {
   "cell_type": "code",
   "execution_count": 87,
   "metadata": {},
   "outputs": [
    {
     "data": {
      "text/plain": [
       "21.86"
      ]
     },
     "execution_count": 87,
     "metadata": {},
     "output_type": "execute_result"
    }
   ],
   "source": [
    "np.nanmedian(data.price)"
   ]
  },
  {
   "cell_type": "code",
   "execution_count": 73,
   "metadata": {},
   "outputs": [
    {
     "data": {
      "text/plain": [
       "44886"
      ]
     },
     "execution_count": 73,
     "metadata": {},
     "output_type": "execute_result"
    }
   ],
   "source": [
    "len(data[data.price.isna()])"
   ]
  },
  {
   "cell_type": "code",
   "execution_count": 89,
   "metadata": {},
   "outputs": [
    {
     "data": {
      "text/plain": [
       "array([12.9 , 12.73, 13.11, 13.32, 12.49, 12.71, 13.45, 12.65, 12.83,\n",
       "       11.46, 11.8 , 11.44, 11.38, 12.1 , 11.24, 11.61, 11.99, 11.55,\n",
       "        9.55,  9.56, 10.61, 10.63, 13.49,  7.32, 12.14, 12.27, 12.33,\n",
       "       13.04, 12.92, 12.51, 12.11, 12.45, 12.35, 13.09, 16.84, 16.41,\n",
       "       16.11, 16.03, 16.23, 15.95, 16.  , 15.58, 16.39, 16.97, 13.65,\n",
       "       14.75, 13.98, 14.02, 14.05, 14.22, 14.38, 14.87, 14.12, 14.37,\n",
       "       12.46, 12.37, 13.12, 12.04, 13.02, 12.39, 12.68, 12.55, 12.69,\n",
       "         nan])"
      ]
     },
     "execution_count": 89,
     "metadata": {},
     "output_type": "execute_result"
    }
   ],
   "source": [
    "data.loc[data['product_id'] == \"31ae211d-57a9-4bfa-b95f-40776af03c3f\"].price.unique()"
   ]
  },
  {
   "cell_type": "markdown",
   "metadata": {},
   "source": [
    "- priemer ceny je cca 33\n",
    "- median ceny je cca 22\n",
    "- 44,886 NaN hodnôt\n",
    "- jeden produkt môže mať viac cien"
   ]
  },
  {
   "cell_type": "markdown",
   "metadata": {},
   "source": [
    "### category_name"
   ]
  },
  {
   "cell_type": "code",
   "execution_count": 90,
   "metadata": {
    "scrolled": true
   },
   "outputs": [
    {
     "data": {
      "text/plain": [
       "count                                   11367365\n",
       "unique                                       713\n",
       "top       Men>Men Footwear>Sneakers>Low sneakers\n",
       "freq                                      462179\n",
       "Name: category_name, dtype: object"
      ]
     },
     "execution_count": 90,
     "metadata": {},
     "output_type": "execute_result"
    }
   ],
   "source": [
    "data.category_name.describe()"
   ]
  },
  {
   "cell_type": "code",
   "execution_count": 103,
   "metadata": {},
   "outputs": [
    {
     "name": "stdout",
     "output_type": "stream",
     "text": [
      "2 [nan 'Men>Men Clothing>T-Shirts & Polo shirts>Polo Shirts']\n",
      "3 [nan \"Women>Women's Clothing>Shirts\"\n",
      " \"Women>Women's Clothing>Shirts>Patterned shirts\"]\n",
      "2 [nan \"Women>Women's Clothing>Jackets & Coats>Coats\"]\n",
      "2 [nan \"Women>Women's Footwear>Slip-on\"]\n",
      "2 [nan \"Women>Women's Clothing>Dresses>Wedding dress\"]\n",
      "2 [nan 'Men>Men Clothing>T-Shirts & Polo shirts>Polo Shirts']\n",
      "2 [nan \"Sports>Running>Running Shoes>Women's Running Shoes\"]\n",
      "2 [nan 'Accessories >Backpacks and Bags>Fashion backpacks']\n",
      "3 [\"Women>Women's Clothing>Pants & Jeans>Pants\"\n",
      " \"Women>Women's Clothing>Pants >Pants\"\n",
      " \"Women>Women's Clothing>Pants >Single-colored pants\"]\n",
      "2 [nan \"Women>Women's Clothing>Jumpsuits\"]\n"
     ]
    }
   ],
   "source": [
    "for pid in data.product_id.sample(10):\n",
    "    unique_categories = data.loc[data['product_id'] == pid].category_name.unique()\n",
    "    print(len(unique_categories), unique_categories)"
   ]
  },
  {
   "cell_type": "code",
   "execution_count": 96,
   "metadata": {},
   "outputs": [
    {
     "data": {
      "text/plain": [
       "3435732"
      ]
     },
     "execution_count": 96,
     "metadata": {},
     "output_type": "execute_result"
    }
   ],
   "source": [
    "category_name_nans_num = len(data[data.category_name.isna()])\n",
    "category_name_nans_num"
   ]
  },
  {
   "cell_type": "code",
   "execution_count": 95,
   "metadata": {
    "scrolled": true
   },
   "outputs": [
    {
     "data": {
      "text/plain": [
       "0.23209548650529008"
      ]
     },
     "execution_count": 95,
     "metadata": {},
     "output_type": "execute_result"
    }
   ],
   "source": [
    "category_name_nans_num/rows_num"
   ]
  },
  {
   "cell_type": "code",
   "execution_count": 45,
   "metadata": {},
   "outputs": [
    {
     "data": {
      "text/plain": [
       "(14803097, 7)"
      ]
     },
     "execution_count": 45,
     "metadata": {},
     "output_type": "execute_result"
    }
   ],
   "source": [
    "data[\"category_name\"].str.split(\">\", expand = True).shape"
   ]
  },
  {
   "cell_type": "code",
   "execution_count": 40,
   "metadata": {},
   "outputs": [],
   "source": [
    "data_15K = data.sample(15000)"
   ]
  },
  {
   "cell_type": "code",
   "execution_count": 116,
   "metadata": {},
   "outputs": [],
   "source": [
    "categories = data_15K[\"category_name\"].str.split(\">\", expand = True)"
   ]
  },
  {
   "cell_type": "markdown",
   "metadata": {},
   "source": [
    "Keďže `data` má skoro 15M záznamov, spracovanie trvá veľmi dlho. Vybrali sme len 15K."
   ]
  },
  {
   "cell_type": "code",
   "execution_count": 123,
   "metadata": {
    "scrolled": false
   },
   "outputs": [
    {
     "data": {
      "text/html": [
       "<div>\n",
       "<style scoped>\n",
       "    .dataframe tbody tr th:only-of-type {\n",
       "        vertical-align: middle;\n",
       "    }\n",
       "\n",
       "    .dataframe tbody tr th {\n",
       "        vertical-align: top;\n",
       "    }\n",
       "\n",
       "    .dataframe thead th {\n",
       "        text-align: right;\n",
       "    }\n",
       "</style>\n",
       "<table border=\"1\" class=\"dataframe\">\n",
       "  <thead>\n",
       "    <tr style=\"text-align: right;\">\n",
       "      <th></th>\n",
       "      <th>0</th>\n",
       "      <th>1</th>\n",
       "      <th>2</th>\n",
       "      <th>3</th>\n",
       "      <th>4</th>\n",
       "    </tr>\n",
       "  </thead>\n",
       "  <tbody>\n",
       "    <tr>\n",
       "      <td>2563389</td>\n",
       "      <td>NaN</td>\n",
       "      <td>NaN</td>\n",
       "      <td>NaN</td>\n",
       "      <td>NaN</td>\n",
       "      <td>NaN</td>\n",
       "    </tr>\n",
       "    <tr>\n",
       "      <td>7189282</td>\n",
       "      <td>Women</td>\n",
       "      <td>Women's Footwear</td>\n",
       "      <td>Balerinas</td>\n",
       "      <td>None</td>\n",
       "      <td>None</td>\n",
       "    </tr>\n",
       "    <tr>\n",
       "      <td>11478593</td>\n",
       "      <td>Men</td>\n",
       "      <td>Men Clothing</td>\n",
       "      <td>T-Shirts &amp; Polo shirts</td>\n",
       "      <td>Short Sleeve</td>\n",
       "      <td>None</td>\n",
       "    </tr>\n",
       "    <tr>\n",
       "      <td>6003198</td>\n",
       "      <td>Women</td>\n",
       "      <td>Women's Clothing</td>\n",
       "      <td>Swimmsuits &amp; bikins</td>\n",
       "      <td>One-piece</td>\n",
       "      <td>None</td>\n",
       "    </tr>\n",
       "    <tr>\n",
       "      <td>1495798</td>\n",
       "      <td>NaN</td>\n",
       "      <td>None</td>\n",
       "      <td>None</td>\n",
       "      <td>None</td>\n",
       "      <td>None</td>\n",
       "    </tr>\n",
       "  </tbody>\n",
       "</table>\n",
       "</div>"
      ],
      "text/plain": [
       "              0                 1                       2             3     4\n",
       "2563389     NaN               NaN                     NaN           NaN   NaN\n",
       "7189282   Women  Women's Footwear               Balerinas          None  None\n",
       "11478593    Men      Men Clothing  T-Shirts & Polo shirts  Short Sleeve  None\n",
       "6003198   Women  Women's Clothing     Swimmsuits & bikins     One-piece  None\n",
       "1495798     NaN              None                    None          None  None"
      ]
     },
     "execution_count": 123,
     "metadata": {},
     "output_type": "execute_result"
    }
   ],
   "source": [
    "categories.sample(5)"
   ]
  },
  {
   "cell_type": "code",
   "execution_count": 136,
   "metadata": {},
   "outputs": [
    {
     "name": "stdout",
     "output_type": "stream",
     "text": [
      "col_0 unique values = 21\n",
      "col_0 NaN values = 3455\n",
      "\n",
      "col_1 unique values = 38\n",
      "col_1 NaN values = 3551\n",
      "\n",
      "col_2 unique values = 154\n",
      "col_2 NaN values = 3669\n",
      "\n",
      "col_3 unique values = 216\n",
      "col_3 NaN values = 6845\n",
      "\n",
      "col_4 unique values = 49\n",
      "col_4 NaN values = 14513\n",
      "\n"
     ]
    }
   ],
   "source": [
    "for i in range(5):\n",
    "    print('col_{} unique values ='.format(i), len(categories[i].unique()))\n",
    "    print('col_{} NaN values ='.format(i), len(categories[categories[i].isna()]))\n",
    "    print()"
   ]
  },
  {
   "cell_type": "code",
   "execution_count": 126,
   "metadata": {
    "scrolled": true
   },
   "outputs": [
    {
     "data": {
      "text/plain": [
       "array([nan, 'Men', 'Women', 'Sports', \"Women's Clothing\", 'Children',\n",
       "       'Accessories ', 'Backpacks and Bags', 'Men Clothing',\n",
       "       \"Boy's Clothing\", 'Sale - Men', 'Sale - Women', 'Dresses',\n",
       "       'NEW IN', 'Unlisted', \"Children's Footwear\", 'strom kategorii',\n",
       "       'T-Shirts', 'NY FASHION WEEK', 'Sale - Children',\n",
       "       'Delivery Immediately'], dtype=object)"
      ]
     },
     "execution_count": 126,
     "metadata": {},
     "output_type": "execute_result"
    }
   ],
   "source": [
    "categories[0].unique()"
   ]
  },
  {
   "cell_type": "markdown",
   "metadata": {},
   "source": [
    "- **iba** 713 unikátnych kategórií (našli sme 123,837 unikátnych produktov)\n",
    "- jeden produkt môže mať rôzne `category_name` hodnoty, vrátane NaN\n",
    "- 23.2% záznamov je NaN\n",
    "\n",
    "- po rozparsovaní stromu `category_name` vzniklo 7 stĺpcov (t.j. výška stromu)\n",
    "- smerom od koreňa rastie počet NaN hodnôt a unikátnych hodnôt\n",
    "- vyskytujú sa tématicky rovnaké len inak napísané kategórie\n"
   ]
  },
  {
   "cell_type": "markdown",
   "metadata": {},
   "source": [
    "### Diskusia\n",
    "- Produkty zákazníka sa môžu opakovať, a preto je vhodné odporúčať už pozerané produkty\n",
    "- Potreba zjednotiť nejednotné atribúty rovnakého produktu:\n",
    "    - `title`\n",
    "    - `category_name`\n",
    "    - možno `cena`"
   ]
  },
  {
   "cell_type": "markdown",
   "metadata": {},
   "source": [
    "---"
   ]
  },
  {
   "cell_type": "markdown",
   "metadata": {},
   "source": [
    "# 2. Zjednotenie a spracovanie dát"
   ]
  },
  {
   "cell_type": "code",
   "execution_count": 7,
   "metadata": {},
   "outputs": [],
   "source": [
    "categories = data[\"category_name\"].str.split(\">\", expand = True)\n",
    "del data[\"category_name\"]\n",
    "category_names = {}\n",
    "for i in range(7):\n",
    "    category_names[i] = \"category_{}\".format(i) \n",
    "categories = categories.rename(columns=category_names)\n",
    "data = pd.concat([data, categories], axis=1, sort=False)\n",
    "del categories"
   ]
  },
  {
   "cell_type": "markdown",
   "metadata": {},
   "source": [
    "Vyparsovanie `category`"
   ]
  },
  {
   "cell_type": "code",
   "execution_count": 88,
   "metadata": {},
   "outputs": [],
   "source": [
    "# Uloženie medzi-výsledku\n",
    "# data.to_csv('vi_data/data_train.csv', encoding='utf-8')\n",
    "# data = pd.read_csv('vi_data/data_train.csv', index_col=0)"
   ]
  },
  {
   "cell_type": "code",
   "execution_count": 219,
   "metadata": {},
   "outputs": [
    {
     "data": {
      "text/html": [
       "<div>\n",
       "<style scoped>\n",
       "    .dataframe tbody tr th:only-of-type {\n",
       "        vertical-align: middle;\n",
       "    }\n",
       "\n",
       "    .dataframe tbody tr th {\n",
       "        vertical-align: top;\n",
       "    }\n",
       "\n",
       "    .dataframe thead th {\n",
       "        text-align: right;\n",
       "    }\n",
       "</style>\n",
       "<table border=\"1\" class=\"dataframe\">\n",
       "  <thead>\n",
       "    <tr style=\"text-align: right;\">\n",
       "      <th></th>\n",
       "      <th>customer_id</th>\n",
       "      <th>timestamp</th>\n",
       "      <th>event_type</th>\n",
       "      <th>product_id</th>\n",
       "      <th>title</th>\n",
       "      <th>price</th>\n",
       "      <th>category_0</th>\n",
       "      <th>category_1</th>\n",
       "      <th>category_2</th>\n",
       "      <th>category_3</th>\n",
       "      <th>category_4</th>\n",
       "      <th>category_5</th>\n",
       "      <th>category_6</th>\n",
       "    </tr>\n",
       "  </thead>\n",
       "  <tbody>\n",
       "    <tr>\n",
       "      <td>13029308</td>\n",
       "      <td>a307441c-2131-4cfe-a3f5-ceba85324cdb</td>\n",
       "      <td>2019-08-26 11:38:54.520998 UTC</td>\n",
       "      <td>view_item</td>\n",
       "      <td>7e40885a-c1e4-48e3-80e3-71951fc25a44</td>\n",
       "      <td>Children's Ski jacket LOAP FALDA</td>\n",
       "      <td>39.52</td>\n",
       "      <td>Children</td>\n",
       "      <td>Boy's Clothing</td>\n",
       "      <td>Jackets</td>\n",
       "      <td>Winter jackets</td>\n",
       "      <td>NaN</td>\n",
       "      <td>NaN</td>\n",
       "      <td>NaN</td>\n",
       "    </tr>\n",
       "    <tr>\n",
       "      <td>9634041</td>\n",
       "      <td>0e42ec0e-8d82-4d4a-b6ef-17ef06e3de1a</td>\n",
       "      <td>2019-08-12 19:25:21.494362 UTC</td>\n",
       "      <td>view_item</td>\n",
       "      <td>43bee0d7-2d3f-42ac-bef2-99de2b660be2</td>\n",
       "      <td>Top Secret LADY'S DRESS</td>\n",
       "      <td>15.34</td>\n",
       "      <td>Women</td>\n",
       "      <td>Women's Clothing</td>\n",
       "      <td>Dresses</td>\n",
       "      <td>Mini dress</td>\n",
       "      <td>NaN</td>\n",
       "      <td>NaN</td>\n",
       "      <td>NaN</td>\n",
       "    </tr>\n",
       "    <tr>\n",
       "      <td>14697110</td>\n",
       "      <td>7c04bdf3-0ea1-4830-9047-0350d7071ef2</td>\n",
       "      <td>2019-07-31 09:10:17.624419 UTC</td>\n",
       "      <td>purchase_item</td>\n",
       "      <td>ca3ccb9a-933f-45fb-a10a-dfde4eb046ee</td>\n",
       "      <td>Everlast Heavy Bomber Jacket Mens</td>\n",
       "      <td>35.00</td>\n",
       "      <td>Men Clothing</td>\n",
       "      <td>Men</td>\n",
       "      <td>Jackets &amp; Coats</td>\n",
       "      <td>Bomber jackets</td>\n",
       "      <td>NaN</td>\n",
       "      <td>NaN</td>\n",
       "      <td>NaN</td>\n",
       "    </tr>\n",
       "  </tbody>\n",
       "</table>\n",
       "</div>"
      ],
      "text/plain": [
       "                                   customer_id  \\\n",
       "13029308  a307441c-2131-4cfe-a3f5-ceba85324cdb   \n",
       "9634041   0e42ec0e-8d82-4d4a-b6ef-17ef06e3de1a   \n",
       "14697110  7c04bdf3-0ea1-4830-9047-0350d7071ef2   \n",
       "\n",
       "                               timestamp     event_type  \\\n",
       "13029308  2019-08-26 11:38:54.520998 UTC      view_item   \n",
       "9634041   2019-08-12 19:25:21.494362 UTC      view_item   \n",
       "14697110  2019-07-31 09:10:17.624419 UTC  purchase_item   \n",
       "\n",
       "                                    product_id  \\\n",
       "13029308  7e40885a-c1e4-48e3-80e3-71951fc25a44   \n",
       "9634041   43bee0d7-2d3f-42ac-bef2-99de2b660be2   \n",
       "14697110  ca3ccb9a-933f-45fb-a10a-dfde4eb046ee   \n",
       "\n",
       "                                      title  price    category_0  \\\n",
       "13029308   Children's Ski jacket LOAP FALDA  39.52      Children   \n",
       "9634041             Top Secret LADY'S DRESS  15.34         Women   \n",
       "14697110  Everlast Heavy Bomber Jacket Mens  35.00  Men Clothing   \n",
       "\n",
       "                category_1       category_2      category_3 category_4  \\\n",
       "13029308    Boy's Clothing          Jackets  Winter jackets        NaN   \n",
       "9634041   Women's Clothing          Dresses      Mini dress        NaN   \n",
       "14697110               Men  Jackets & Coats  Bomber jackets        NaN   \n",
       "\n",
       "         category_5 category_6  \n",
       "13029308        NaN        NaN  \n",
       "9634041         NaN        NaN  \n",
       "14697110        NaN        NaN  "
      ]
     },
     "execution_count": 219,
     "metadata": {},
     "output_type": "execute_result"
    }
   ],
   "source": [
    "data.sample(3)"
   ]
  },
  {
   "cell_type": "markdown",
   "metadata": {},
   "source": [
    "## Vytvorenie elastic indexu a naplnenie produktami"
   ]
  },
  {
   "cell_type": "markdown",
   "metadata": {},
   "source": [
    "**PUT http://localhost:9200/vi_products**\n",
    "```json\n",
    "{'settings': {'number_of_shards': 1, 'number_of_replicas': 0},\n",
    " 'mappings': {'properties': {'product_id': {'type': 'keyword'},\n",
    "   'title': {'type': 'text', 'analyzer': 'english'},\n",
    "   'price': {'type': 'double'},\n",
    "   'events_number': {'type': 'integer'},\n",
    "   'category_0': {'type': 'keyword'},\n",
    "   'category_1': {'type': 'keyword'},\n",
    "   'category_2': {'type': 'keyword'},\n",
    "   'category_3': {'type': 'keyword'},\n",
    "   'category_4': {'type': 'keyword'},\n",
    "   'category_5': {'type': 'keyword'},\n",
    "   'category_6': {'type': 'keyword'}}}}\n",
    "```"
   ]
  },
  {
   "cell_type": "code",
   "execution_count": 194,
   "metadata": {},
   "outputs": [],
   "source": [
    "product_ids = list(data.product_id.unique())"
   ]
  },
  {
   "cell_type": "code",
   "execution_count": 195,
   "metadata": {},
   "outputs": [
    {
     "data": {
      "text/plain": [
       "123837"
      ]
     },
     "execution_count": 195,
     "metadata": {},
     "output_type": "execute_result"
    }
   ],
   "source": [
    "len(product_ids)"
   ]
  },
  {
   "cell_type": "code",
   "execution_count": 192,
   "metadata": {
    "scrolled": true
   },
   "outputs": [],
   "source": [
    "def fill_index():\n",
    "    es = Elasticsearch([{'host': '127.0.0.1', 'port': 9200}])\n",
    "    doc = {}\n",
    "    for pid in product_ids:\n",
    "        rows = data[data.product_id == pid]\n",
    "        doc['product_id'] = pid\n",
    "        try:\n",
    "            doc['title'] = list(rows.title.dropna().unique())[0]\n",
    "        except IndexError:\n",
    "            pass\n",
    "        try:\n",
    "            doc['price'] = np.mean(rows.price.dropna().unique())\n",
    "        except IndexError:\n",
    "            pass\n",
    "        try:\n",
    "            doc['events_number'] = len(rows)\n",
    "        except IndexError:\n",
    "            pass\n",
    "        try:\n",
    "            doc['category_0'] = list(rows.category_0.dropna().unique())[0]\n",
    "        except IndexError:\n",
    "            pass\n",
    "        try:\n",
    "            doc['category_1'] = list(rows.category_1.dropna().unique())[0]\n",
    "        except IndexError:\n",
    "            pass\n",
    "        try:\n",
    "            doc['category_2'] = list(rows.category_2.dropna().unique())[0]\n",
    "        except IndexError:\n",
    "            pass\n",
    "        try:\n",
    "            doc['category_3'] = list(rows.category_3.dropna().unique())[0]\n",
    "        except IndexError:\n",
    "            pass\n",
    "        try:\n",
    "            doc['category_4'] = list(rows.category_4.dropna().unique())[0]\n",
    "        except IndexError:\n",
    "            pass\n",
    "        try:\n",
    "            doc['category_5'] = list(rows.category_5.dropna().unique())[0]\n",
    "        except IndexError:\n",
    "            pass\n",
    "        try:\n",
    "            doc['category_6'] = list(rows.category_6.dropna().unique())[0]\n",
    "        except IndexError:\n",
    "            pass\n",
    "        if np.isnan(doc['price']):\n",
    "            del doc['price']\n",
    "        es.index(index='vi_products', body=doc)"
   ]
  },
  {
   "cell_type": "code",
   "execution_count": 218,
   "metadata": {
    "scrolled": false
   },
   "outputs": [],
   "source": [
    "# fill_index()"
   ]
  },
  {
   "cell_type": "markdown",
   "metadata": {},
   "source": [
    "---"
   ]
  },
  {
   "cell_type": "markdown",
   "metadata": {},
   "source": [
    "# 3. Obsahový odporúčač"
   ]
  },
  {
   "cell_type": "markdown",
   "metadata": {},
   "source": [
    "Navrhli sme obsahový odporúčač, ktorý používa nástroj Elasticsearch a dopyt [More Like This](https://www.elastic.co/guide/en/elasticsearch/reference/current/query-dsl-mlt-query.html)."
   ]
  },
  {
   "cell_type": "code",
   "execution_count": 101,
   "metadata": {},
   "outputs": [],
   "source": [
    "def ES_recommender_should(product_ids, fields=[\"title\", \"category_0\", \"category_1\", \"category_2\", \"category_3\"], boosting_recent=False, count=10):\n",
    "    \"\"\"\n",
    "    Using elasticsearch more_like_this query with should clause\n",
    "    \"\"\"\n",
    "    url = 'http://localhost:9200/vi_products/_search'\n",
    "    def transform_id(pid):\n",
    "        data = {'query': {'bool': {'filter': {'term': {'product_id': pid}}}}}\n",
    "        r = requests.post(url, json=data)\n",
    "        try:\n",
    "            return json.loads(r.text)['hits']['hits'][0]['_id']\n",
    "        except IndexError:\n",
    "            return None\n",
    "    \n",
    "    ids = [transform_id(pid) for pid in product_ids if pid]\n",
    "    should = []\n",
    "    for i, _id in enumerate(ids):\n",
    "        boost = i if boosting_recent else 1\n",
    "        if _id:\n",
    "            mlt = {\n",
    "              \"more_like_this\": {\n",
    "                \"fields\": fields,\n",
    "                \"like\": [\n",
    "                  {\n",
    "                    \"_index\": \"vi_products\",\n",
    "                    \"_id\": _id\n",
    "                  }\n",
    "                ],\n",
    "                \"min_term_freq\": 1,\n",
    "                \"min_doc_freq\": 1,\n",
    "                \"max_query_terms\": 100,\n",
    "                \"include\": True,\n",
    "                \"boost\": boost\n",
    "              }\n",
    "            }\n",
    "            should.append(mlt)\n",
    "            \n",
    "    data = {\n",
    "              \"from\": 0,\n",
    "              \"size\": 10,\n",
    "              \"query\": {\n",
    "                \"bool\": {\n",
    "                  \"should\": should\n",
    "                }\n",
    "              }\n",
    "            }    \n",
    "#     print(json.dumps(data))\n",
    "    r = requests.post(url, json=data)\n",
    "    try: \n",
    "        return [hit['_source']['product_id'] for hit in json.loads(r.text)['hits']['hits']]\n",
    "    except KeyError as e:\n",
    "        print('KeyError:'+e, r.text) "
   ]
  },
  {
   "cell_type": "markdown",
   "metadata": {},
   "source": [
    "Odporúča produkty, ktoré sú v súčte najpodobnejšie všetkým z trénovacím produtov"
   ]
  },
  {
   "cell_type": "code",
   "execution_count": 88,
   "metadata": {},
   "outputs": [],
   "source": [
    "def ES_recommender_dis_max(product_ids, fields=[\"title\", \"category_0\", \"category_1\", \"category_2\", \"category_3\"], boosting_recent=False, count=10):\n",
    "    \"\"\"\n",
    "    Using elasticsearch more_like_this query with dis_max clause\n",
    "    \"\"\"\n",
    "    url = 'http://localhost:9200/vi_products/_search'\n",
    "    def transform_id(pid):\n",
    "        data = {'query': {'bool': {'filter': {'term': {'product_id': pid}}}}}\n",
    "        r = requests.post(url, json=data)\n",
    "        try:\n",
    "            return json.loads(r.text)['hits']['hits'][0]['_id']\n",
    "        except IndexError:\n",
    "            return None\n",
    "    \n",
    "    ids = [transform_id(pid) for pid in product_ids if pid]\n",
    "    queries = []\n",
    "    for i, _id in enumerate(ids):\n",
    "        boost = i if boosting_recent else 1\n",
    "        if _id:\n",
    "            mlt = {\n",
    "              \"more_like_this\": {\n",
    "                \"fields\": fields,\n",
    "                \"like\": [\n",
    "                  {\n",
    "                    \"_index\": \"vi_products\",\n",
    "                    \"_id\": _id\n",
    "                  }\n",
    "                ],\n",
    "                \"min_term_freq\": 1,\n",
    "                \"min_doc_freq\": 1,\n",
    "                \"max_query_terms\": 100,\n",
    "                \"include\": True,\n",
    "                \"boost\": boost\n",
    "              }\n",
    "            }\n",
    "            queries.append(mlt)\n",
    "            \n",
    "    data = {\n",
    "                \"from\":0,\n",
    "                \"size\":10,\n",
    "                \"query\": { \n",
    "                    \"dis_max\": {\n",
    "                       \"queries\": queries\n",
    "                    }\n",
    "                }\n",
    "            }   \n",
    "#     print(json.dumps(data))\n",
    "    r = requests.post(url, json=data)\n",
    "    try: \n",
    "        return [hit['_source']['product_id'] for hit in json.loads(r.text)['hits']['hits']]\n",
    "    except KeyError as e:\n",
    "        print('KeyError:'+e, r.text) "
   ]
  },
  {
   "cell_type": "markdown",
   "metadata": {},
   "source": [
    "Odporúča produkty, ktoré sú najpodobnejšie niektorému z trénovacích produtov"
   ]
  },
  {
   "cell_type": "markdown",
   "metadata": {},
   "source": [
    "# 4. Evaluácia"
   ]
  },
  {
   "cell_type": "markdown",
   "metadata": {},
   "source": [
    "## Metriky"
   ]
  },
  {
   "cell_type": "code",
   "execution_count": 57,
   "metadata": {},
   "outputs": [],
   "source": [
    "def precision_at_k(r, k=10):\n",
    "    \"\"\"Score is precision @ k\n",
    "    Args:\n",
    "        r: Relevance scores (list or numpy) in rank order\n",
    "            (first element is the first item)\n",
    "    Returns:\n",
    "        Precision @ k\n",
    "    Raises:\n",
    "        ValueError: len(r) must be > 0\n",
    "    \"\"\"\n",
    "    k = min(k, len(r))\n",
    "    assert k > 0\n",
    "    r = np.asarray(r)[:k] != 0\n",
    "    if r.size != k:\n",
    "        raise ValueError('Relevance score length < k')\n",
    "    return np.mean(r)\n",
    "\n",
    "def dcg_at_k(r, k=10):\n",
    "    \"\"\"Score is discounted cumulative gain (dcg)\n",
    "    Args:\n",
    "        r: Relevance scores (list or numpy) in rank order\n",
    "            (first element is the first item)\n",
    "        k: Number of results to consider\n",
    "    Returns:\n",
    "        Discounted cumulative gain\n",
    "    Raises:\n",
    "        ValueError: len(r) must be > 0\n",
    "    \"\"\"\n",
    "    k = min(k, len(r))\n",
    "    assert k > 0\n",
    "    r = np.asfarray(r)[:k]\n",
    "    if r.size:\n",
    "        return np.sum(np.subtract(np.power(2, r), 1) / np.log2(np.arange(2, r.size + 2)))\n",
    "    return 0.\n",
    "\n",
    "def ndcg_at_k(r, k=10):\n",
    "    \"\"\"Score is normalized discounted cumulative gain (ndcg)\n",
    "    Args:\n",
    "        r: Relevance scores (list or numpy) in rank order\n",
    "            (first element is the first item)\n",
    "        k: Number of results to consider\n",
    "    Returns:\n",
    "        Normalized discounted cumulative gain\n",
    "    Raises:\n",
    "        ValueError: len(r) must be > 0\n",
    "    \"\"\"\n",
    "    k = min(k, len(r))\n",
    "    assert k > 0\n",
    "    idcg = dcg_at_k(sorted(r, reverse=True), k)\n",
    "    if not idcg:\n",
    "        return 0.\n",
    "    return dcg_at_k(r, k) / idcg"
   ]
  },
  {
   "cell_type": "markdown",
   "metadata": {},
   "source": [
    "Upravené z [Ranking Metrics](https://gist.github.com/bwhite/3726239)"
   ]
  },
  {
   "cell_type": "code",
   "execution_count": 64,
   "metadata": {},
   "outputs": [],
   "source": [
    "def evaluate(customer_id, recomender_function, metric_function):\n",
    "    \"\"\"\n",
    "    Split customer's product, call recomender_function, compure relevance and metric_function\n",
    "    \"\"\"\n",
    "    def split_products(products):\n",
    "        middle = (len(products)+1)//2\n",
    "        return [products[:middle], products[middle:]]\n",
    "    customer_products = events[events.customer_id == customer_id].sort_values(by ='timestamp')\n",
    "    if len(customer_products) == 1:\n",
    "        raise Exception(customer_id + ' has just one product')\n",
    "    product_ids = list(customer_products.product_id)\n",
    "    train, test = split_products(product_ids)\n",
    "    recomended = recomender_function(train, \n",
    "                                     fields=[\"title\", \"category_0\", \"category_1\", \"category_2\", \"category_3\", \"category_4\", \"category_5\", \"category_6\"], \n",
    "                                     boosting_recent=True, \n",
    "                                     count=10)\n",
    "    r = list()\n",
    "    k = min(len(test), len(recomended))\n",
    "    test = test[:k]\n",
    "    recomended = recomended[:k]\n",
    "    for i in range(k):\n",
    "        r.append(1 if recomended[i] in test else 0)\n",
    "    rank = metric_function(r)\n",
    "    return rank #[train, test, recomended, r, rank]"
   ]
  },
  {
   "cell_type": "markdown",
   "metadata": {},
   "source": [
    "Na vygenerovenie odporúčania bola použitá tabuľka `events`"
   ]
  },
  {
   "cell_type": "markdown",
   "metadata": {},
   "source": [
    "## Výsledky"
   ]
  },
  {
   "cell_type": "code",
   "execution_count": 9,
   "metadata": {},
   "outputs": [],
   "source": [
    "customer_ids = sorted(list(events.customer_id.unique()), key=lambda k: random.random())"
   ]
  },
  {
   "cell_type": "code",
   "execution_count": 58,
   "metadata": {},
   "outputs": [
    {
     "data": {
      "text/plain": [
       "2210171"
      ]
     },
     "execution_count": 58,
     "metadata": {},
     "output_type": "execute_result"
    }
   ],
   "source": [
    "len(customer_ids)"
   ]
  },
  {
   "cell_type": "code",
   "execution_count": 59,
   "metadata": {
    "scrolled": true
   },
   "outputs": [],
   "source": [
    "def results(recomender_function, metric_function, NUMBER_TESTED=10):\n",
    "    start = time.time()\n",
    "    p = []\n",
    "    for cid in customer_ids:\n",
    "        try:\n",
    "            p.append(evaluate(cid, recomender_function, metric_function))\n",
    "        except:\n",
    "            pass\n",
    "        if len(p) >= NUMBER_TESTED:\n",
    "            break\n",
    "    print('seconds:', time.time()-start)\n",
    "    print('type:', recomender_function.__name__)\n",
    "    print('number of tested customers:', len(p))\n",
    "    print('average', metric_function.__name__,':', np.mean(p))"
   ]
  },
  {
   "cell_type": "code",
   "execution_count": 60,
   "metadata": {
    "scrolled": true
   },
   "outputs": [
    {
     "name": "stdout",
     "output_type": "stream",
     "text": [
      "seconds: 484.64383912086487\n",
      "type: ES_recommender_should\n",
      "number of tested customers: 300\n",
      "average ndcg_at_k : 0.2508594652179127\n"
     ]
    }
   ],
   "source": [
    "results(ES_recommender_should, ndcg_at_k, 300) #ES_recommender_should, title + 4 categoties"
   ]
  },
  {
   "cell_type": "code",
   "execution_count": 61,
   "metadata": {},
   "outputs": [
    {
     "name": "stdout",
     "output_type": "stream",
     "text": [
      "seconds: 691.1087830066681\n",
      "type: ES_recommender_dis_max\n",
      "number of tested customers: 300\n",
      "average ndcg_at_k : 0.327475554946516\n"
     ]
    }
   ],
   "source": [
    "results(ES_recommender_dis_max, ndcg_at_k, 300) #ES_recommender_dis_max, title + 4 categoties"
   ]
  },
  {
   "cell_type": "code",
   "execution_count": 63,
   "metadata": {},
   "outputs": [
    {
     "name": "stdout",
     "output_type": "stream",
     "text": [
      "seconds: 622.2124481201172\n",
      "type: ES_recommender_dis_max\n",
      "number of tested customers: 300\n",
      "average ndcg_at_k : 0.36574870105544943\n"
     ]
    }
   ],
   "source": [
    "results(ES_recommender_dis_max, ndcg_at_k, 300) #ES_recommender_dis_max, title + all categoties"
   ]
  },
  {
   "cell_type": "code",
   "execution_count": 70,
   "metadata": {},
   "outputs": [
    {
     "name": "stdout",
     "output_type": "stream",
     "text": [
      "seconds: 710.6878938674927\n",
      "type: ES_recommender_dis_max\n",
      "number of tested customers: 300\n",
      "average ndcg_at_k : 0.403434364394986\n"
     ]
    }
   ],
   "source": [
    "results(ES_recommender_dis_max, ndcg_at_k, 300) #ES_recommender_dis_max, title + all categoties + boosting_recent"
   ]
  },
  {
   "cell_type": "markdown",
   "metadata": {},
   "source": [
    "| **method**                                                       | **ndcg_at_10, average(300)** |\n",
    "|------------------------------------------------------------------|------------------------------|\n",
    "| ES_recommender_should, title + 4 categoties                      | 0.25085                      |\n",
    "| ES_recommender_dis_max, title + 4 categoties                     | 0.32747                      |\n",
    "| ES_recommender_dis_max, title + all categoties                   | 0.36574                      |\n",
    "| ES_recommender_dis_max, title + all categoties + boosting_recent | 0.40343                      |"
   ]
  },
  {
   "cell_type": "markdown",
   "metadata": {},
   "source": [
    "# 5. vi-challenge kaggle"
   ]
  },
  {
   "cell_type": "code",
   "execution_count": 110,
   "metadata": {
    "scrolled": false
   },
   "outputs": [
    {
     "data": {
      "text/plain": [
       "1000"
      ]
     },
     "execution_count": 110,
     "metadata": {},
     "output_type": "execute_result"
    }
   ],
   "source": [
    "vi_challenge_uID = pd.read_csv('vi_challenge_uID.csv', header=None)\n",
    "len(vi_challenge_uID)"
   ]
  },
  {
   "cell_type": "code",
   "execution_count": 114,
   "metadata": {},
   "outputs": [],
   "source": [
    "start = time.time()\n",
    "output = list()\n",
    "most_popular_products = list(data.product_id.value_counts().index[:10])\n",
    "for i, uid in enumerate(vi_challenge_uID[0]):\n",
    "    customer_products = data[data.customer_id == uid].sort_values(by ='timestamp')\n",
    "    product_ids = list(customer_products.product_id)\n",
    "    if product_ids:\n",
    "        recomended = ES_recommender_dis_max(product_ids,\n",
    "                                            fields=[\"title\", \"category_0\", \"category_1\", \"category_2\", \"category_3\", \"category_4\", \"category_5\", \"category_6\"], \n",
    "                                            boosting_recent=False, \n",
    "                                            count=10)\n",
    "#         print(i, \": \", len(recomended))\n",
    "        for r in recomended:\n",
    "            output.append([uid, r])\n",
    "    else:\n",
    "#         print(i, \"MPP\")\n",
    "        for r in most_popular_products:\n",
    "            output.append([uid, r])\n",
    "# print('seconds:', time.time()-start)"
   ]
  },
  {
   "cell_type": "code",
   "execution_count": 112,
   "metadata": {},
   "outputs": [
    {
     "data": {
      "text/plain": [
       "10000"
      ]
     },
     "execution_count": 112,
     "metadata": {},
     "output_type": "execute_result"
    }
   ],
   "source": [
    "submission = pd.DataFrame(output, columns=['customer_id', 'product_id'])\n",
    "submission.to_csv('harnusekSubmission.csv', index=False)\n",
    "len(submission)"
   ]
  },
  {
   "cell_type": "markdown",
   "metadata": {},
   "source": [
    "##### [Naše najlepšie skóre v súťaži:  0.10909](https://www.kaggle.com/harnusek)\n",
    "- použitie `ES_recommender_dis_max, title + all categoties`"
   ]
  },
  {
   "cell_type": "markdown",
   "metadata": {},
   "source": [
    "# 6. Zhodnotenie"
   ]
  },
  {
   "cell_type": "markdown",
   "metadata": {},
   "source": [
    "1. Počas exploračnej analýzy datasetu sme vypočítali štatistické údaje pre každý stĺpec a identifikovali sme potrebu ďalšieho predspracovania\n",
    "\n",
    "2. Následne sme vyparsovali stĺpec `category` na 7 stĺpcov/kategórií, zjednotli sme atribúty rovnakých produktov a vložili všetky produkty do Elasticsearch indexu\n",
    "\n",
    "3. Navrhli sme obsahový odporúčač, ktorý používa Elasticsearch dopyt [More Like This](https://www.elastic.co/guide/en/elasticsearch/reference/current/query-dsl-mlt-query.html)\n",
    "    - vytvorili sme 2 varianty odporúčača:\n",
    "        - `ES_recommender_should`: odporúča produkty, ktoré sú v súčte najpodobnejšie všetkým z trénovacím produtov\n",
    "        - `ES_recommender_dis_max`: odporúča produkty, ktoré sú najpodobnejšie niektorému z trénovacích produtov\n",
    "    - ich vstupom sú mená stĺpce na základe ktorých sa určuje podobnosť \n",
    "    - je možné použiť \"boostovanie\" podobnosti produktov od najnovšie pozeraných po najstaršie (`boosting_recent`)\n",
    "    \n",
    "4. Počas evaluácie sme porovnávali oba viarianty a viaceré nastavenia parametrov s použitím metrík `precision_at_k` a `ndcg_at_k`\n",
    "    - Podľa našich testov je najúspešnejší `ES_recommender_dis_max` s použitím `title`, všetkými kategóriami a `boosting_recent`\n",
    "5. V kaggle súťaži sme dosiahli najlepšie skóre: [0.10909](https://www.kaggle.com/harnusek)\n",
    "    - použitie `ES_recommender_dis_max` s použitím `title` a všetkými kategóriami"
   ]
  },
  {
   "cell_type": "markdown",
   "metadata": {},
   "source": [
    "## Výhody riešenia\n",
    "- vygenerovanie odporúčaní je pomerne rýchle (1000 zákazníkov trvá cca 20 minút)\n",
    "- naše riešenie umožnuje jednoduché pridanie ďalších produktov, bez nutnosti pretrénovania\n",
    "- možnosť jednoduchého experimentovania s parametrami\n",
    "\n",
    "## Nevýhody riešenia\n",
    "- zjednotenie dát a naplnenie indexu bolo veľmi pomalé (>24hodín)\n",
    "- použitie len prístupu založenom na obsahu (v budúcnosti: možnosť použitia popularity produktov `events_number` v indexe)\n",
    "- nepoužitie cien produktov"
   ]
  }
 ],
 "metadata": {
  "kernelspec": {
   "display_name": "Python 3",
   "language": "python",
   "name": "python3"
  },
  "language_info": {
   "codemirror_mode": {
    "name": "ipython",
    "version": 3
   },
   "file_extension": ".py",
   "mimetype": "text/x-python",
   "name": "python",
   "nbconvert_exporter": "python",
   "pygments_lexer": "ipython3",
   "version": "3.7.4"
  }
 },
 "nbformat": 4,
 "nbformat_minor": 2
}
