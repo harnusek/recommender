{
 "cells": [
  {
   "cell_type": "code",
   "execution_count": 1,
   "metadata": {
    "scrolled": true
   },
   "outputs": [],
   "source": [
    "import numpy as np\n",
    "import pandas as pd\n",
    "import warnings\n",
    "import json\n",
    "import requests\n",
    "import random\n",
    "import time\n",
    "from elasticsearch import Elasticsearch\n",
    "warnings.filterwarnings('ignore')"
   ]
  },
  {
   "cell_type": "markdown",
   "metadata": {},
   "source": [
    "# 1. Exploračná analýza"
   ]
  },
  {
   "cell_type": "markdown",
   "metadata": {},
   "source": [
    "## Tabuľka events"
   ]
  },
  {
   "cell_type": "code",
   "execution_count": 2,
   "metadata": {
    "scrolled": true
   },
   "outputs": [
    {
     "data": {
      "text/html": [
       "<div>\n",
       "<style scoped>\n",
       "    .dataframe tbody tr th:only-of-type {\n",
       "        vertical-align: middle;\n",
       "    }\n",
       "\n",
       "    .dataframe tbody tr th {\n",
       "        vertical-align: top;\n",
       "    }\n",
       "\n",
       "    .dataframe thead th {\n",
       "        text-align: right;\n",
       "    }\n",
       "</style>\n",
       "<table border=\"1\" class=\"dataframe\">\n",
       "  <thead>\n",
       "    <tr style=\"text-align: right;\">\n",
       "      <th></th>\n",
       "      <th>customer_id</th>\n",
       "      <th>timestamp</th>\n",
       "      <th>event_type</th>\n",
       "      <th>product_id</th>\n",
       "      <th>title</th>\n",
       "      <th>category_name</th>\n",
       "      <th>price</th>\n",
       "    </tr>\n",
       "  </thead>\n",
       "  <tbody>\n",
       "    <tr>\n",
       "      <td>11819545</td>\n",
       "      <td>f1bec958-bcf4-4981-af3f-42df86d70f0a</td>\n",
       "      <td>2019-08-21 17:55:51.593624 UTC</td>\n",
       "      <td>view_item</td>\n",
       "      <td>42a9183d-10c5-4a5d-b2de-e15a0b09128a</td>\n",
       "      <td>Women's bikini top Rip Curl SWIMSUIT  INFUSION...</td>\n",
       "      <td>Women&gt;Women's Clothing&gt;Swimmsuits &amp; bikins&gt;Bik...</td>\n",
       "      <td>39.30</td>\n",
       "    </tr>\n",
       "    <tr>\n",
       "      <td>7146985</td>\n",
       "      <td>4fdf16d7-2784-49ba-aa69-1f12376f2849</td>\n",
       "      <td>2019-08-03 13:43:48.971047 UTC</td>\n",
       "      <td>view_item</td>\n",
       "      <td>84a504b0-0442-4449-ae4d-583327a571e8</td>\n",
       "      <td>Trendyol Multicolored Patterned Shirt</td>\n",
       "      <td>Women&gt;Women's Clothing&gt;Shirts&gt;Patterned shirts</td>\n",
       "      <td>19.42</td>\n",
       "    </tr>\n",
       "    <tr>\n",
       "      <td>11089598</td>\n",
       "      <td>a7130a3a-9eee-4f5d-a9ce-cd28f1f76451</td>\n",
       "      <td>2019-08-18 18:48:49.121503 UTC</td>\n",
       "      <td>view_item</td>\n",
       "      <td>5893415a-0d4f-4e15-b719-a5f5727058f0</td>\n",
       "      <td>LA Gear Full Zip Hoody Ladies</td>\n",
       "      <td>Women&gt;Women's Clothing&gt;Sweatshirts&gt;Zip - Up Sw...</td>\n",
       "      <td>25.65</td>\n",
       "    </tr>\n",
       "    <tr>\n",
       "      <td>13600653</td>\n",
       "      <td>5914df58-6929-43f0-8ed6-ac545a65ac5f</td>\n",
       "      <td>2019-08-28 09:36:48.747409 UTC</td>\n",
       "      <td>view_item</td>\n",
       "      <td>3aff8bdb-fb00-439a-bc07-8795a4582c1e</td>\n",
       "      <td>Lonsdale Box T Shirt Mens</td>\n",
       "      <td>Men&gt;Men Clothing&gt;T-Shirts &amp; Polo shirts&gt;Short ...</td>\n",
       "      <td>14.62</td>\n",
       "    </tr>\n",
       "    <tr>\n",
       "      <td>9620202</td>\n",
       "      <td>a7506951-70b8-4c30-ade6-827337a04e33</td>\n",
       "      <td>2019-08-12 18:35:54.020504 UTC</td>\n",
       "      <td>view_item</td>\n",
       "      <td>0d1323e1-18dd-49f6-9d9c-0049c8011a66</td>\n",
       "      <td>Nike 'Whatever Print' Long Sleeve Crop Top Ladies</td>\n",
       "      <td>Women&gt;Women's Clothing&gt;T-Shirts&gt;Long Sleeve</td>\n",
       "      <td>29.72</td>\n",
       "    </tr>\n",
       "    <tr>\n",
       "      <td>13187086</td>\n",
       "      <td>4726d2dd-87ab-4742-9a33-1b858852c0ac</td>\n",
       "      <td>2019-08-26 20:34:07.699029 UTC</td>\n",
       "      <td>view_item</td>\n",
       "      <td>36348c1a-74ea-470f-ba0d-65209456091f</td>\n",
       "      <td>DKNY Jacket</td>\n",
       "      <td>Men&gt;Men Clothing&gt;Bomber jackets</td>\n",
       "      <td>75.13</td>\n",
       "    </tr>\n",
       "    <tr>\n",
       "      <td>6129110</td>\n",
       "      <td>2fbd6e4f-608b-4afb-90f7-af84aec13e99</td>\n",
       "      <td>2019-07-30 10:53:00.657973 UTC</td>\n",
       "      <td>view_item</td>\n",
       "      <td>a1c8b191-afe1-40ee-a48e-730d74acfb2a</td>\n",
       "      <td>Karrimor 3 in 1 Weathertite Jacket Ladies</td>\n",
       "      <td>Sports&gt;Outdoor&gt;Outdoor Clothing&gt;Women's Outdoo...</td>\n",
       "      <td>82.91</td>\n",
       "    </tr>\n",
       "    <tr>\n",
       "      <td>4675026</td>\n",
       "      <td>9d1e8669-4e97-4065-8a10-39a0d3914c9c</td>\n",
       "      <td>2019-07-23 15:10:23.347316 UTC</td>\n",
       "      <td>view_item</td>\n",
       "      <td>f47fada5-8871-4cf0-8ebb-fd835edfc8cc</td>\n",
       "      <td>USA Pro Pro Zip Front Swimsuit</td>\n",
       "      <td>Sports&gt;Water Sports&gt;Women's Swimwear &gt;One-piec...</td>\n",
       "      <td>17.97</td>\n",
       "    </tr>\n",
       "    <tr>\n",
       "      <td>7115562</td>\n",
       "      <td>a3160c05-d77e-4864-8cb7-99a1adc0bf12</td>\n",
       "      <td>2019-08-03 11:42:46.266079 UTC</td>\n",
       "      <td>view_item</td>\n",
       "      <td>0c9507ad-83d3-4081-a682-0de76547c5f0</td>\n",
       "      <td>Lee Cooper Xlite Hooded Down Jacket Boys</td>\n",
       "      <td>Children&gt;Boy's Clothing&gt;Jackets&gt;Winter jackets</td>\n",
       "      <td>23.52</td>\n",
       "    </tr>\n",
       "    <tr>\n",
       "      <td>12653065</td>\n",
       "      <td>4b110f74-2b32-46a9-a0f5-915c58fc9d03</td>\n",
       "      <td>2019-08-25 04:56:06.824595 UTC</td>\n",
       "      <td>view_item</td>\n",
       "      <td>1181d221-a710-4d22-a5bd-0a38010c5acb</td>\n",
       "      <td>Character Padded Coat Infant Girls</td>\n",
       "      <td>Children&gt;Girl's Clothing&gt;Jackets&gt;Winter jackets</td>\n",
       "      <td>38.11</td>\n",
       "    </tr>\n",
       "  </tbody>\n",
       "</table>\n",
       "</div>"
      ],
      "text/plain": [
       "                                   customer_id  \\\n",
       "11819545  f1bec958-bcf4-4981-af3f-42df86d70f0a   \n",
       "7146985   4fdf16d7-2784-49ba-aa69-1f12376f2849   \n",
       "11089598  a7130a3a-9eee-4f5d-a9ce-cd28f1f76451   \n",
       "13600653  5914df58-6929-43f0-8ed6-ac545a65ac5f   \n",
       "9620202   a7506951-70b8-4c30-ade6-827337a04e33   \n",
       "13187086  4726d2dd-87ab-4742-9a33-1b858852c0ac   \n",
       "6129110   2fbd6e4f-608b-4afb-90f7-af84aec13e99   \n",
       "4675026   9d1e8669-4e97-4065-8a10-39a0d3914c9c   \n",
       "7115562   a3160c05-d77e-4864-8cb7-99a1adc0bf12   \n",
       "12653065  4b110f74-2b32-46a9-a0f5-915c58fc9d03   \n",
       "\n",
       "                               timestamp event_type  \\\n",
       "11819545  2019-08-21 17:55:51.593624 UTC  view_item   \n",
       "7146985   2019-08-03 13:43:48.971047 UTC  view_item   \n",
       "11089598  2019-08-18 18:48:49.121503 UTC  view_item   \n",
       "13600653  2019-08-28 09:36:48.747409 UTC  view_item   \n",
       "9620202   2019-08-12 18:35:54.020504 UTC  view_item   \n",
       "13187086  2019-08-26 20:34:07.699029 UTC  view_item   \n",
       "6129110   2019-07-30 10:53:00.657973 UTC  view_item   \n",
       "4675026   2019-07-23 15:10:23.347316 UTC  view_item   \n",
       "7115562   2019-08-03 11:42:46.266079 UTC  view_item   \n",
       "12653065  2019-08-25 04:56:06.824595 UTC  view_item   \n",
       "\n",
       "                                    product_id  \\\n",
       "11819545  42a9183d-10c5-4a5d-b2de-e15a0b09128a   \n",
       "7146985   84a504b0-0442-4449-ae4d-583327a571e8   \n",
       "11089598  5893415a-0d4f-4e15-b719-a5f5727058f0   \n",
       "13600653  3aff8bdb-fb00-439a-bc07-8795a4582c1e   \n",
       "9620202   0d1323e1-18dd-49f6-9d9c-0049c8011a66   \n",
       "13187086  36348c1a-74ea-470f-ba0d-65209456091f   \n",
       "6129110   a1c8b191-afe1-40ee-a48e-730d74acfb2a   \n",
       "4675026   f47fada5-8871-4cf0-8ebb-fd835edfc8cc   \n",
       "7115562   0c9507ad-83d3-4081-a682-0de76547c5f0   \n",
       "12653065  1181d221-a710-4d22-a5bd-0a38010c5acb   \n",
       "\n",
       "                                                      title  \\\n",
       "11819545  Women's bikini top Rip Curl SWIMSUIT  INFUSION...   \n",
       "7146985               Trendyol Multicolored Patterned Shirt   \n",
       "11089598                      LA Gear Full Zip Hoody Ladies   \n",
       "13600653                          Lonsdale Box T Shirt Mens   \n",
       "9620202   Nike 'Whatever Print' Long Sleeve Crop Top Ladies   \n",
       "13187086                                        DKNY Jacket   \n",
       "6129110           Karrimor 3 in 1 Weathertite Jacket Ladies   \n",
       "4675026                      USA Pro Pro Zip Front Swimsuit   \n",
       "7115562            Lee Cooper Xlite Hooded Down Jacket Boys   \n",
       "12653065                 Character Padded Coat Infant Girls   \n",
       "\n",
       "                                              category_name  price  \n",
       "11819545  Women>Women's Clothing>Swimmsuits & bikins>Bik...  39.30  \n",
       "7146985      Women>Women's Clothing>Shirts>Patterned shirts  19.42  \n",
       "11089598  Women>Women's Clothing>Sweatshirts>Zip - Up Sw...  25.65  \n",
       "13600653  Men>Men Clothing>T-Shirts & Polo shirts>Short ...  14.62  \n",
       "9620202         Women>Women's Clothing>T-Shirts>Long Sleeve  29.72  \n",
       "13187086                    Men>Men Clothing>Bomber jackets  75.13  \n",
       "6129110   Sports>Outdoor>Outdoor Clothing>Women's Outdoo...  82.91  \n",
       "4675026   Sports>Water Sports>Women's Swimwear >One-piec...  17.97  \n",
       "7115562      Children>Boy's Clothing>Jackets>Winter jackets  23.52  \n",
       "12653065    Children>Girl's Clothing>Jackets>Winter jackets  38.11  "
      ]
     },
     "execution_count": 2,
     "metadata": {},
     "output_type": "execute_result"
    }
   ],
   "source": [
    "events = pd.read_csv('vi_data/events_train.csv')\n",
    "events.sample(10)"
   ]
  },
  {
   "cell_type": "code",
   "execution_count": 102,
   "metadata": {},
   "outputs": [
    {
     "data": {
      "text/plain": [
       "(14614385, 7)"
      ]
     },
     "execution_count": 102,
     "metadata": {},
     "output_type": "execute_result"
    }
   ],
   "source": [
    "events.shape"
   ]
  },
  {
   "cell_type": "code",
   "execution_count": 103,
   "metadata": {
    "scrolled": true
   },
   "outputs": [
    {
     "data": {
      "text/plain": [
       "array(['view_item'], dtype=object)"
      ]
     },
     "execution_count": 103,
     "metadata": {},
     "output_type": "execute_result"
    }
   ],
   "source": [
    "events.event_type.unique()"
   ]
  },
  {
   "cell_type": "markdown",
   "metadata": {},
   "source": [
    "## Tabuľka purchases"
   ]
  },
  {
   "cell_type": "code",
   "execution_count": 3,
   "metadata": {
    "scrolled": false
   },
   "outputs": [
    {
     "data": {
      "text/html": [
       "<div>\n",
       "<style scoped>\n",
       "    .dataframe tbody tr th:only-of-type {\n",
       "        vertical-align: middle;\n",
       "    }\n",
       "\n",
       "    .dataframe tbody tr th {\n",
       "        vertical-align: top;\n",
       "    }\n",
       "\n",
       "    .dataframe thead th {\n",
       "        text-align: right;\n",
       "    }\n",
       "</style>\n",
       "<table border=\"1\" class=\"dataframe\">\n",
       "  <thead>\n",
       "    <tr style=\"text-align: right;\">\n",
       "      <th></th>\n",
       "      <th>customer_id</th>\n",
       "      <th>timestamp</th>\n",
       "      <th>event_type</th>\n",
       "      <th>product_id</th>\n",
       "      <th>title</th>\n",
       "      <th>category_name</th>\n",
       "      <th>price</th>\n",
       "    </tr>\n",
       "  </thead>\n",
       "  <tbody>\n",
       "    <tr>\n",
       "      <td>164291</td>\n",
       "      <td>89e39bab-74a9-40a0-aae9-5f246901ef67</td>\n",
       "      <td>2019-08-24 20:18:36.032272 UTC</td>\n",
       "      <td>purchase_item</td>\n",
       "      <td>860f347d-02cd-43aa-ad10-fdf8d0591eb4</td>\n",
       "      <td>Nike NSW Dress Tee Girls</td>\n",
       "      <td>Children&gt;Girl's Clothing&gt;Dresses &amp; Skirts &amp; Ov...</td>\n",
       "      <td>24.37</td>\n",
       "    </tr>\n",
       "    <tr>\n",
       "      <td>104391</td>\n",
       "      <td>9c642b5e-042a-46c2-b956-0c702b781e7f</td>\n",
       "      <td>2019-08-06 07:05:06.639676 UTC</td>\n",
       "      <td>purchase_item</td>\n",
       "      <td>26c9ee01-db1a-437f-86c0-4e60836506b2</td>\n",
       "      <td>Ombre Clothing Men's printed t-shirt S986</td>\n",
       "      <td>Men&gt;Men Clothing&gt;T-Shirts &amp; Polo shirts&gt;Short ...</td>\n",
       "      <td>8.62</td>\n",
       "    </tr>\n",
       "    <tr>\n",
       "      <td>128176</td>\n",
       "      <td>6f932bdf-939a-4ead-9859-b998c51f8ebb</td>\n",
       "      <td>2019-08-13 07:04:04.658262 UTC</td>\n",
       "      <td>purchase_item</td>\n",
       "      <td>afa72b2c-e368-4894-81b1-e558fd753526</td>\n",
       "      <td>Women's t-shirt ROXY DARLIN BREAK</td>\n",
       "      <td>Women&gt;Women's Clothing&gt;T-Shirts&gt;Short Sleeve</td>\n",
       "      <td>15.24</td>\n",
       "    </tr>\n",
       "    <tr>\n",
       "      <td>146495</td>\n",
       "      <td>adc4c682-4e37-44fa-b203-941dfccbe196</td>\n",
       "      <td>2019-08-19 09:46:56.751796 UTC</td>\n",
       "      <td>purchase_item</td>\n",
       "      <td>71809234-1d68-48e2-a4f6-1fb505213458</td>\n",
       "      <td>Nike Heritage Backpack</td>\n",
       "      <td>Accessories &gt;Backpacks and Bags&gt;Urban Backpacks</td>\n",
       "      <td>22.13</td>\n",
       "    </tr>\n",
       "    <tr>\n",
       "      <td>34221</td>\n",
       "      <td>63a08cd5-b37c-47dc-91e6-2af959199871</td>\n",
       "      <td>2019-07-13 16:05:43.488472 UTC</td>\n",
       "      <td>purchase_item</td>\n",
       "      <td>7ef98d44-87e8-4fa8-a5b4-920730244523</td>\n",
       "      <td>Makadamia Woman's Dress M236</td>\n",
       "      <td>NaN</td>\n",
       "      <td>NaN</td>\n",
       "    </tr>\n",
       "    <tr>\n",
       "      <td>44013</td>\n",
       "      <td>28ca1707-b444-4a0e-b721-7f4b39161b30</td>\n",
       "      <td>2019-07-16 16:37:41.080111 UTC</td>\n",
       "      <td>purchase_item</td>\n",
       "      <td>7c6b5429-c518-4b66-bff2-eebb978c2445</td>\n",
       "      <td>Women's Tights Gabriella SAVIA</td>\n",
       "      <td>NaN</td>\n",
       "      <td>NaN</td>\n",
       "    </tr>\n",
       "    <tr>\n",
       "      <td>179854</td>\n",
       "      <td>0ed39c0f-4313-4cb1-afc0-9f7b6637edde</td>\n",
       "      <td>2019-08-29 09:37:09.860524 UTC</td>\n",
       "      <td>purchase_item</td>\n",
       "      <td>5e8a2e0d-e29b-42a9-b0fb-1e1ab7f1941f</td>\n",
       "      <td>Nike AeroSwift Shorts Ladies</td>\n",
       "      <td>Women's Clothing&gt;Shorts&gt;Women&gt;Sports shorts</td>\n",
       "      <td>55.27</td>\n",
       "    </tr>\n",
       "    <tr>\n",
       "      <td>16385</td>\n",
       "      <td>18f77b6f-46e4-45fb-bcab-176f0f631abf</td>\n",
       "      <td>2019-07-07 09:12:30.435546 UTC</td>\n",
       "      <td>purchase_item</td>\n",
       "      <td>e95855d5-fa06-4501-bcc0-b5008c56519b</td>\n",
       "      <td>Lee Cooper Swim Shorts Mens</td>\n",
       "      <td>NaN</td>\n",
       "      <td>NaN</td>\n",
       "    </tr>\n",
       "    <tr>\n",
       "      <td>28787</td>\n",
       "      <td>e4158dd6-c44f-427f-b5c2-fdcc8fb6eb96</td>\n",
       "      <td>2019-07-11 17:05:30.733437 UTC</td>\n",
       "      <td>purchase_item</td>\n",
       "      <td>de1d031d-2f64-4560-ab45-58d88b0d6dab</td>\n",
       "      <td>Trendyol Black Halter Embroidered Bikini Top</td>\n",
       "      <td>NaN</td>\n",
       "      <td>NaN</td>\n",
       "    </tr>\n",
       "    <tr>\n",
       "      <td>157972</td>\n",
       "      <td>976f088b-e4ff-43fd-a83a-d952cbb03605</td>\n",
       "      <td>2019-08-22 18:28:59.485013 UTC</td>\n",
       "      <td>purchase_item</td>\n",
       "      <td>590ac834-a5db-411a-8cd9-0e353713ed71</td>\n",
       "      <td>Women's dress NUMOCO 217 NEVA</td>\n",
       "      <td>Women&gt;Women's Clothing&gt;Dresses&gt;Mini dress</td>\n",
       "      <td>19.59</td>\n",
       "    </tr>\n",
       "  </tbody>\n",
       "</table>\n",
       "</div>"
      ],
      "text/plain": [
       "                                 customer_id                       timestamp  \\\n",
       "164291  89e39bab-74a9-40a0-aae9-5f246901ef67  2019-08-24 20:18:36.032272 UTC   \n",
       "104391  9c642b5e-042a-46c2-b956-0c702b781e7f  2019-08-06 07:05:06.639676 UTC   \n",
       "128176  6f932bdf-939a-4ead-9859-b998c51f8ebb  2019-08-13 07:04:04.658262 UTC   \n",
       "146495  adc4c682-4e37-44fa-b203-941dfccbe196  2019-08-19 09:46:56.751796 UTC   \n",
       "34221   63a08cd5-b37c-47dc-91e6-2af959199871  2019-07-13 16:05:43.488472 UTC   \n",
       "44013   28ca1707-b444-4a0e-b721-7f4b39161b30  2019-07-16 16:37:41.080111 UTC   \n",
       "179854  0ed39c0f-4313-4cb1-afc0-9f7b6637edde  2019-08-29 09:37:09.860524 UTC   \n",
       "16385   18f77b6f-46e4-45fb-bcab-176f0f631abf  2019-07-07 09:12:30.435546 UTC   \n",
       "28787   e4158dd6-c44f-427f-b5c2-fdcc8fb6eb96  2019-07-11 17:05:30.733437 UTC   \n",
       "157972  976f088b-e4ff-43fd-a83a-d952cbb03605  2019-08-22 18:28:59.485013 UTC   \n",
       "\n",
       "           event_type                            product_id  \\\n",
       "164291  purchase_item  860f347d-02cd-43aa-ad10-fdf8d0591eb4   \n",
       "104391  purchase_item  26c9ee01-db1a-437f-86c0-4e60836506b2   \n",
       "128176  purchase_item  afa72b2c-e368-4894-81b1-e558fd753526   \n",
       "146495  purchase_item  71809234-1d68-48e2-a4f6-1fb505213458   \n",
       "34221   purchase_item  7ef98d44-87e8-4fa8-a5b4-920730244523   \n",
       "44013   purchase_item  7c6b5429-c518-4b66-bff2-eebb978c2445   \n",
       "179854  purchase_item  5e8a2e0d-e29b-42a9-b0fb-1e1ab7f1941f   \n",
       "16385   purchase_item  e95855d5-fa06-4501-bcc0-b5008c56519b   \n",
       "28787   purchase_item  de1d031d-2f64-4560-ab45-58d88b0d6dab   \n",
       "157972  purchase_item  590ac834-a5db-411a-8cd9-0e353713ed71   \n",
       "\n",
       "                                               title  \\\n",
       "164291                      Nike NSW Dress Tee Girls   \n",
       "104391     Ombre Clothing Men's printed t-shirt S986   \n",
       "128176             Women's t-shirt ROXY DARLIN BREAK   \n",
       "146495                        Nike Heritage Backpack   \n",
       "34221                   Makadamia Woman's Dress M236   \n",
       "44013                 Women's Tights Gabriella SAVIA   \n",
       "179854                  Nike AeroSwift Shorts Ladies   \n",
       "16385                    Lee Cooper Swim Shorts Mens   \n",
       "28787   Trendyol Black Halter Embroidered Bikini Top   \n",
       "157972                 Women's dress NUMOCO 217 NEVA   \n",
       "\n",
       "                                            category_name  price  \n",
       "164291  Children>Girl's Clothing>Dresses & Skirts & Ov...  24.37  \n",
       "104391  Men>Men Clothing>T-Shirts & Polo shirts>Short ...   8.62  \n",
       "128176       Women>Women's Clothing>T-Shirts>Short Sleeve  15.24  \n",
       "146495    Accessories >Backpacks and Bags>Urban Backpacks  22.13  \n",
       "34221                                                 NaN    NaN  \n",
       "44013                                                 NaN    NaN  \n",
       "179854        Women's Clothing>Shorts>Women>Sports shorts  55.27  \n",
       "16385                                                 NaN    NaN  \n",
       "28787                                                 NaN    NaN  \n",
       "157972          Women>Women's Clothing>Dresses>Mini dress  19.59  "
      ]
     },
     "execution_count": 3,
     "metadata": {},
     "output_type": "execute_result"
    }
   ],
   "source": [
    "purchases = pd.read_csv('vi_data/purchases_train.csv')\n",
    "purchases.sample(10) "
   ]
  },
  {
   "cell_type": "code",
   "execution_count": 7,
   "metadata": {
    "scrolled": false
   },
   "outputs": [
    {
     "data": {
      "text/plain": [
       "(188712, 7)"
      ]
     },
     "execution_count": 7,
     "metadata": {},
     "output_type": "execute_result"
    }
   ],
   "source": [
    "purchases.shape"
   ]
  },
  {
   "cell_type": "code",
   "execution_count": 105,
   "metadata": {},
   "outputs": [
    {
     "data": {
      "text/plain": [
       "array(['purchase_item'], dtype=object)"
      ]
     },
     "execution_count": 105,
     "metadata": {},
     "output_type": "execute_result"
    }
   ],
   "source": [
    "purchases.event_type.unique()"
   ]
  },
  {
   "cell_type": "markdown",
   "metadata": {},
   "source": [
    "tabulky events a purchaches majú rovnaké stĺpce "
   ]
  },
  {
   "cell_type": "markdown",
   "metadata": {},
   "source": [
    "## Spojenie events and purchases"
   ]
  },
  {
   "cell_type": "code",
   "execution_count": 4,
   "metadata": {
    "scrolled": true
   },
   "outputs": [
    {
     "data": {
      "text/html": [
       "<div>\n",
       "<style scoped>\n",
       "    .dataframe tbody tr th:only-of-type {\n",
       "        vertical-align: middle;\n",
       "    }\n",
       "\n",
       "    .dataframe tbody tr th {\n",
       "        vertical-align: top;\n",
       "    }\n",
       "\n",
       "    .dataframe thead th {\n",
       "        text-align: right;\n",
       "    }\n",
       "</style>\n",
       "<table border=\"1\" class=\"dataframe\">\n",
       "  <thead>\n",
       "    <tr style=\"text-align: right;\">\n",
       "      <th></th>\n",
       "      <th>customer_id</th>\n",
       "      <th>timestamp</th>\n",
       "      <th>event_type</th>\n",
       "      <th>product_id</th>\n",
       "      <th>title</th>\n",
       "      <th>category_name</th>\n",
       "      <th>price</th>\n",
       "    </tr>\n",
       "  </thead>\n",
       "  <tbody>\n",
       "    <tr>\n",
       "      <td>3386034</td>\n",
       "      <td>221a5923-57e1-4cc4-a486-d8febeb375b4</td>\n",
       "      <td>2019-07-17 05:35:04.724771 UTC</td>\n",
       "      <td>view_item</td>\n",
       "      <td>8f97ee12-b26d-496f-ad31-7208207321a2</td>\n",
       "      <td>Firetrap Blackseal Bandage Bikini TOP dámsky</td>\n",
       "      <td>NaN</td>\n",
       "      <td>16.90</td>\n",
       "    </tr>\n",
       "    <tr>\n",
       "      <td>13065161</td>\n",
       "      <td>30b01c5f-464e-44ab-a3ee-2d5d27a6e397</td>\n",
       "      <td>2019-08-26 13:47:22.3709 UTC</td>\n",
       "      <td>view_item</td>\n",
       "      <td>0daa9625-342c-46c8-b2ad-5db464741124</td>\n",
       "      <td>Trendyol Mint Flywheel Detailed Dress</td>\n",
       "      <td>Women&gt;Women's Clothing&gt;Dresses</td>\n",
       "      <td>23.62</td>\n",
       "    </tr>\n",
       "    <tr>\n",
       "      <td>11162283</td>\n",
       "      <td>7cebf3d3-153c-4c14-8cfa-b1c0410ca974</td>\n",
       "      <td>2019-08-19 05:18:56.205214 UTC</td>\n",
       "      <td>view_item</td>\n",
       "      <td>c9efdd08-19c0-4769-a6da-d298159c700b</td>\n",
       "      <td>Lee Cooper Classic Polo Shirt Mens</td>\n",
       "      <td>Men&gt;Men Clothing&gt;T-Shirts &amp; Polo shirts&gt;Polo S...</td>\n",
       "      <td>11.40</td>\n",
       "    </tr>\n",
       "    <tr>\n",
       "      <td>14014301</td>\n",
       "      <td>ed4a53ec-a20f-4c08-a935-eafed959b658</td>\n",
       "      <td>2019-08-29 18:42:09.063363 UTC</td>\n",
       "      <td>view_item</td>\n",
       "      <td>88a528ee-d0bc-40c6-a893-734ef8e87538</td>\n",
       "      <td>Lee Cooper Button Down Jacket Mens</td>\n",
       "      <td>Men&gt;Men Clothing&gt;Winter jackets</td>\n",
       "      <td>28.72</td>\n",
       "    </tr>\n",
       "    <tr>\n",
       "      <td>9274814</td>\n",
       "      <td>608f85fe-1153-4ba3-b4c1-7d96cf461545</td>\n",
       "      <td>2019-08-11 13:19:37.387294 UTC</td>\n",
       "      <td>view_item</td>\n",
       "      <td>52fbe642-d01d-49d4-b454-5e143754e7ed</td>\n",
       "      <td>Top Secret LADY'S SHOES</td>\n",
       "      <td>Women&gt;Women's Footwear&gt;Sandals&gt;Heeled sandals</td>\n",
       "      <td>22.82</td>\n",
       "    </tr>\n",
       "    <tr>\n",
       "      <td>12689240</td>\n",
       "      <td>bbf74481-f80d-4604-b1da-1fd4b2674261</td>\n",
       "      <td>2019-08-25 08:17:34.28507 UTC</td>\n",
       "      <td>view_item</td>\n",
       "      <td>47e26c38-6be9-4222-aaef-4dd3a350cafd</td>\n",
       "      <td>Nike Air Max 90 Jn94</td>\n",
       "      <td>Children&gt;Children's Footwear&gt;Sneakers&gt;Low snea...</td>\n",
       "      <td>119.96</td>\n",
       "    </tr>\n",
       "    <tr>\n",
       "      <td>11976239</td>\n",
       "      <td>c7b08491-5dac-409d-8c99-f1ece069bbc7</td>\n",
       "      <td>2019-08-22 10:06:02.876584 UTC</td>\n",
       "      <td>view_item</td>\n",
       "      <td>0c6e3f78-5aff-47e6-8236-064f7297232b</td>\n",
       "      <td>Jack and Jones Marco Chinos</td>\n",
       "      <td>Men&gt;Men Clothing&gt;Pants&gt;Chino pants</td>\n",
       "      <td>45.70</td>\n",
       "    </tr>\n",
       "    <tr>\n",
       "      <td>6041944</td>\n",
       "      <td>cc6b97f0-062c-46b0-b13b-d9026256ed81</td>\n",
       "      <td>2019-07-29 22:28:51.383964 UTC</td>\n",
       "      <td>view_item</td>\n",
       "      <td>f3bd844e-a824-4ee0-83c7-b28b4d437a9f</td>\n",
       "      <td>Adidas Barricade 2018 Mens Tennis Shoes</td>\n",
       "      <td>Sports&gt;Tennis&gt;Tennis Shoes&gt;Men's Tennis Shoes</td>\n",
       "      <td>119.60</td>\n",
       "    </tr>\n",
       "    <tr>\n",
       "      <td>6004354</td>\n",
       "      <td>f963a627-2a60-467e-8203-da90f696e16d</td>\n",
       "      <td>2019-07-29 19:41:13.58416 UTC</td>\n",
       "      <td>view_item</td>\n",
       "      <td>09211e4d-6c4b-4f7a-b22f-ede5d6c0e61e</td>\n",
       "      <td>Lonsdale Ladbroke Trainers Mens</td>\n",
       "      <td>Men&gt;Men Footwear&gt;Sneakers&gt;Low sneakers</td>\n",
       "      <td>32.58</td>\n",
       "    </tr>\n",
       "    <tr>\n",
       "      <td>12801564</td>\n",
       "      <td>bfb905be-24a5-4dd2-9ae1-566ea9216cb7</td>\n",
       "      <td>2019-08-25 15:25:38.550198 UTC</td>\n",
       "      <td>view_item</td>\n",
       "      <td>3100111b-022b-44ff-83b9-f1de6adb20e2</td>\n",
       "      <td>Karrimor Mount Low Ladies Walking Shoes</td>\n",
       "      <td>Sports&gt;Outdoor&gt;Outdoor Shoes&gt;Women's Outdoor S...</td>\n",
       "      <td>62.47</td>\n",
       "    </tr>\n",
       "  </tbody>\n",
       "</table>\n",
       "</div>"
      ],
      "text/plain": [
       "                                   customer_id  \\\n",
       "3386034   221a5923-57e1-4cc4-a486-d8febeb375b4   \n",
       "13065161  30b01c5f-464e-44ab-a3ee-2d5d27a6e397   \n",
       "11162283  7cebf3d3-153c-4c14-8cfa-b1c0410ca974   \n",
       "14014301  ed4a53ec-a20f-4c08-a935-eafed959b658   \n",
       "9274814   608f85fe-1153-4ba3-b4c1-7d96cf461545   \n",
       "12689240  bbf74481-f80d-4604-b1da-1fd4b2674261   \n",
       "11976239  c7b08491-5dac-409d-8c99-f1ece069bbc7   \n",
       "6041944   cc6b97f0-062c-46b0-b13b-d9026256ed81   \n",
       "6004354   f963a627-2a60-467e-8203-da90f696e16d   \n",
       "12801564  bfb905be-24a5-4dd2-9ae1-566ea9216cb7   \n",
       "\n",
       "                               timestamp event_type  \\\n",
       "3386034   2019-07-17 05:35:04.724771 UTC  view_item   \n",
       "13065161    2019-08-26 13:47:22.3709 UTC  view_item   \n",
       "11162283  2019-08-19 05:18:56.205214 UTC  view_item   \n",
       "14014301  2019-08-29 18:42:09.063363 UTC  view_item   \n",
       "9274814   2019-08-11 13:19:37.387294 UTC  view_item   \n",
       "12689240   2019-08-25 08:17:34.28507 UTC  view_item   \n",
       "11976239  2019-08-22 10:06:02.876584 UTC  view_item   \n",
       "6041944   2019-07-29 22:28:51.383964 UTC  view_item   \n",
       "6004354    2019-07-29 19:41:13.58416 UTC  view_item   \n",
       "12801564  2019-08-25 15:25:38.550198 UTC  view_item   \n",
       "\n",
       "                                    product_id  \\\n",
       "3386034   8f97ee12-b26d-496f-ad31-7208207321a2   \n",
       "13065161  0daa9625-342c-46c8-b2ad-5db464741124   \n",
       "11162283  c9efdd08-19c0-4769-a6da-d298159c700b   \n",
       "14014301  88a528ee-d0bc-40c6-a893-734ef8e87538   \n",
       "9274814   52fbe642-d01d-49d4-b454-5e143754e7ed   \n",
       "12689240  47e26c38-6be9-4222-aaef-4dd3a350cafd   \n",
       "11976239  0c6e3f78-5aff-47e6-8236-064f7297232b   \n",
       "6041944   f3bd844e-a824-4ee0-83c7-b28b4d437a9f   \n",
       "6004354   09211e4d-6c4b-4f7a-b22f-ede5d6c0e61e   \n",
       "12801564  3100111b-022b-44ff-83b9-f1de6adb20e2   \n",
       "\n",
       "                                                 title  \\\n",
       "3386034   Firetrap Blackseal Bandage Bikini TOP dámsky   \n",
       "13065161         Trendyol Mint Flywheel Detailed Dress   \n",
       "11162283            Lee Cooper Classic Polo Shirt Mens   \n",
       "14014301            Lee Cooper Button Down Jacket Mens   \n",
       "9274814                        Top Secret LADY'S SHOES   \n",
       "12689240                          Nike Air Max 90 Jn94   \n",
       "11976239                   Jack and Jones Marco Chinos   \n",
       "6041944        Adidas Barricade 2018 Mens Tennis Shoes   \n",
       "6004354                Lonsdale Ladbroke Trainers Mens   \n",
       "12801564       Karrimor Mount Low Ladies Walking Shoes   \n",
       "\n",
       "                                              category_name   price  \n",
       "3386034                                                 NaN   16.90  \n",
       "13065161                     Women>Women's Clothing>Dresses   23.62  \n",
       "11162283  Men>Men Clothing>T-Shirts & Polo shirts>Polo S...   11.40  \n",
       "14014301                    Men>Men Clothing>Winter jackets   28.72  \n",
       "9274814       Women>Women's Footwear>Sandals>Heeled sandals   22.82  \n",
       "12689240  Children>Children's Footwear>Sneakers>Low snea...  119.96  \n",
       "11976239                 Men>Men Clothing>Pants>Chino pants   45.70  \n",
       "6041944       Sports>Tennis>Tennis Shoes>Men's Tennis Shoes  119.60  \n",
       "6004354              Men>Men Footwear>Sneakers>Low sneakers   32.58  \n",
       "12801564  Sports>Outdoor>Outdoor Shoes>Women's Outdoor S...   62.47  "
      ]
     },
     "execution_count": 4,
     "metadata": {},
     "output_type": "execute_result"
    }
   ],
   "source": [
    "data = pd.concat([events, purchases], ignore_index=True)\n",
    "data.sample(10)"
   ]
  },
  {
   "cell_type": "code",
   "execution_count": 5,
   "metadata": {
    "scrolled": true
   },
   "outputs": [
    {
     "name": "stdout",
     "output_type": "stream",
     "text": [
      "14803097\n",
      "7\n"
     ]
    }
   ],
   "source": [
    "rows_num, cols_num = data.shape\n",
    "print(rows_num)\n",
    "print(cols_num)"
   ]
  },
  {
   "cell_type": "code",
   "execution_count": 6,
   "metadata": {},
   "outputs": [],
   "source": [
    "del events\n",
    "del purchases"
   ]
  },
  {
   "cell_type": "markdown",
   "metadata": {},
   "source": [
    "## Atribúty"
   ]
  },
  {
   "cell_type": "markdown",
   "metadata": {},
   "source": [
    "### customer_id"
   ]
  },
  {
   "cell_type": "code",
   "execution_count": 11,
   "metadata": {
    "scrolled": true
   },
   "outputs": [
    {
     "data": {
      "text/plain": [
       "count                                 14803097\n",
       "unique                                 2211386\n",
       "top       53f841c7-970b-4e0b-96bf-97a95ecfb734\n",
       "freq                                      4804\n",
       "Name: customer_id, dtype: object"
      ]
     },
     "execution_count": 11,
     "metadata": {},
     "output_type": "execute_result"
    }
   ],
   "source": [
    "data.customer_id.describe()"
   ]
  },
  {
   "cell_type": "code",
   "execution_count": 12,
   "metadata": {
    "scrolled": false
   },
   "outputs": [
    {
     "data": {
      "text/plain": [
       "0"
      ]
     },
     "execution_count": 12,
     "metadata": {},
     "output_type": "execute_result"
    }
   ],
   "source": [
    "len(data[data.customer_id.isna()])"
   ]
  },
  {
   "cell_type": "code",
   "execution_count": 13,
   "metadata": {},
   "outputs": [
    {
     "data": {
      "text/plain": [
       "6.694035776657716"
      ]
     },
     "execution_count": 13,
     "metadata": {},
     "output_type": "execute_result"
    }
   ],
   "source": [
    "rows_num/len(data.customer_id.unique())"
   ]
  },
  {
   "cell_type": "code",
   "execution_count": 14,
   "metadata": {
    "scrolled": true
   },
   "outputs": [
    {
     "data": {
      "text/plain": [
       "2.0"
      ]
     },
     "execution_count": 14,
     "metadata": {},
     "output_type": "execute_result"
    }
   ],
   "source": [
    "data.groupby(['customer_id']).count()['timestamp'].median()"
   ]
  },
  {
   "cell_type": "code",
   "execution_count": 14,
   "metadata": {
    "scrolled": true
   },
   "outputs": [
    {
     "data": {
      "text/plain": [
       "53f841c7-970b-4e0b-96bf-97a95ecfb734    4804\n",
       "9eb76d09-8006-4262-b5eb-459556f338a9    3577\n",
       "546a1146-64be-4549-a472-a8a4a8ca41b0    3189\n",
       "a3fe2d55-b8fc-4aaa-8f7f-99f6498b191f    3060\n",
       "68b2c520-5366-4143-a253-04fd96aeb251    2855\n",
       "                                        ... \n",
       "28f3de37-5d91-451b-9d71-c016ff28765a       1\n",
       "ddaea6ea-cf1e-4ef3-84d0-4d97f5019dab       1\n",
       "ee2c4b69-2194-4785-a817-76a30ea8a54b       1\n",
       "db9f09e8-ea9e-4444-986a-39c973a7dfe3       1\n",
       "3fe6ea93-4d29-4d6f-990a-6a873f19c2ed       1\n",
       "Name: customer_id, Length: 2211386, dtype: int64"
      ]
     },
     "execution_count": 14,
     "metadata": {},
     "output_type": "execute_result"
    }
   ],
   "source": [
    "customer_rows = data['customer_id'].value_counts()\n",
    "customer_rows"
   ]
  },
  {
   "cell_type": "code",
   "execution_count": 28,
   "metadata": {},
   "outputs": [
    {
     "name": "stdout",
     "output_type": "stream",
     "text": [
      "1 913643\n",
      "2 329587\n",
      "3 199175\n"
     ]
    }
   ],
   "source": [
    "for i, num in enumerate(customer_rows.value_counts()[:3]):\n",
    "    print(i+1, num)"
   ]
  },
  {
   "cell_type": "code",
   "execution_count": 29,
   "metadata": {},
   "outputs": [
    {
     "data": {
      "text/plain": [
       "0.4131540129131685"
      ]
     },
     "execution_count": 29,
     "metadata": {},
     "output_type": "execute_result"
    }
   ],
   "source": [
    "(913643)/2211386"
   ]
  },
  {
   "cell_type": "code",
   "execution_count": 20,
   "metadata": {},
   "outputs": [
    {
     "data": {
      "text/plain": [
       "0.5621949311427313"
      ]
     },
     "execution_count": 20,
     "metadata": {},
     "output_type": "execute_result"
    }
   ],
   "source": [
    "(913643+329587)/2211386"
   ]
  },
  {
   "cell_type": "code",
   "execution_count": 26,
   "metadata": {
    "scrolled": true
   },
   "outputs": [
    {
     "name": "stdout",
     "output_type": "stream",
     "text": [
      "4 129721\n",
      "8 45301\n",
      "12 22832\n",
      "16 13311\n",
      "20 8728\n",
      "24 6193\n",
      "28 4481\n",
      "32 3349\n",
      "36 2677\n",
      "40 2124\n",
      "44 1784\n",
      "48 1405\n"
     ]
    }
   ],
   "source": [
    "for i, num in enumerate(customer_rows.value_counts()[3:50:4]):\n",
    "    print(4*i+4, num)"
   ]
  },
  {
   "cell_type": "markdown",
   "metadata": {},
   "source": [
    "- 2,211,386 unikátnych zákazníkov\n",
    "- žiadne NaN hodnoty\n",
    "- v priemere vyše 6 záznamov na zákazníka\n",
    "    - ale median je iba 2\n",
    "    - 913,643 (41%) zákazníkov má len 1 záznam\n",
    "    - 56% zákazníkov má 2 záznamy"
   ]
  },
  {
   "cell_type": "markdown",
   "metadata": {},
   "source": [
    "### timestamp"
   ]
  },
  {
   "cell_type": "code",
   "execution_count": 16,
   "metadata": {
    "scrolled": false
   },
   "outputs": [
    {
     "data": {
      "text/plain": [
       "count                           14803097\n",
       "unique                          14802889\n",
       "top       2019-07-22 04:33:52.889148 UTC\n",
       "freq                                   4\n",
       "Name: timestamp, dtype: object"
      ]
     },
     "execution_count": 16,
     "metadata": {},
     "output_type": "execute_result"
    }
   ],
   "source": [
    "data.timestamp.describe()"
   ]
  },
  {
   "cell_type": "code",
   "execution_count": 17,
   "metadata": {},
   "outputs": [
    {
     "data": {
      "text/html": [
       "<div>\n",
       "<style scoped>\n",
       "    .dataframe tbody tr th:only-of-type {\n",
       "        vertical-align: middle;\n",
       "    }\n",
       "\n",
       "    .dataframe tbody tr th {\n",
       "        vertical-align: top;\n",
       "    }\n",
       "\n",
       "    .dataframe thead th {\n",
       "        text-align: right;\n",
       "    }\n",
       "</style>\n",
       "<table border=\"1\" class=\"dataframe\">\n",
       "  <thead>\n",
       "    <tr style=\"text-align: right;\">\n",
       "      <th></th>\n",
       "      <th>customer_id</th>\n",
       "      <th>timestamp</th>\n",
       "      <th>event_type</th>\n",
       "      <th>product_id</th>\n",
       "      <th>title</th>\n",
       "      <th>category_name</th>\n",
       "      <th>price</th>\n",
       "    </tr>\n",
       "  </thead>\n",
       "  <tbody>\n",
       "    <tr>\n",
       "      <td>4361630</td>\n",
       "      <td>8b57d536-f432-45a9-8b45-3bd54d68ba69</td>\n",
       "      <td>2019-07-22 04:33:52.889148 UTC</td>\n",
       "      <td>view_item</td>\n",
       "      <td>5bbe88b4-9650-4c1a-8f95-9a09c264b2c9</td>\n",
       "      <td>Hot Tuna Crew T Shirt Mens</td>\n",
       "      <td>Men&gt;Men Clothing&gt;T-Shirts &amp; Polo shirts</td>\n",
       "      <td>12.84</td>\n",
       "    </tr>\n",
       "    <tr>\n",
       "      <td>4361631</td>\n",
       "      <td>8b57d536-f432-45a9-8b45-3bd54d68ba69</td>\n",
       "      <td>2019-07-22 04:33:52.889148 UTC</td>\n",
       "      <td>view_item</td>\n",
       "      <td>248faf65-d1e2-4d7b-84c8-ce1c459ee086</td>\n",
       "      <td>Lonsdale Jersey Polo Shirt Mens</td>\n",
       "      <td>Men&gt;Men Clothing&gt;T-Shirts &amp; Polo shirts&gt;Polo S...</td>\n",
       "      <td>12.90</td>\n",
       "    </tr>\n",
       "    <tr>\n",
       "      <td>4361632</td>\n",
       "      <td>8b57d536-f432-45a9-8b45-3bd54d68ba69</td>\n",
       "      <td>2019-07-22 04:33:52.889148 UTC</td>\n",
       "      <td>view_item</td>\n",
       "      <td>377bdb75-6f46-4c29-b559-9af0c6ba2ae8</td>\n",
       "      <td>Pierre Cardin Web Belt Shorts Mens</td>\n",
       "      <td>Men&gt;Men Clothing&gt;Shorts</td>\n",
       "      <td>17.12</td>\n",
       "    </tr>\n",
       "    <tr>\n",
       "      <td>4361633</td>\n",
       "      <td>8b57d536-f432-45a9-8b45-3bd54d68ba69</td>\n",
       "      <td>2019-07-22 04:33:52.889148 UTC</td>\n",
       "      <td>view_item</td>\n",
       "      <td>b2bcef2f-df2d-4c23-aee7-73ca112ef815</td>\n",
       "      <td>Lee Cooper Men's boxers 5-pack</td>\n",
       "      <td>Men&gt;Men Clothing&gt;Underwear&gt;Boxer shorts &amp; trunks</td>\n",
       "      <td>13.10</td>\n",
       "    </tr>\n",
       "  </tbody>\n",
       "</table>\n",
       "</div>"
      ],
      "text/plain": [
       "                                  customer_id                       timestamp  \\\n",
       "4361630  8b57d536-f432-45a9-8b45-3bd54d68ba69  2019-07-22 04:33:52.889148 UTC   \n",
       "4361631  8b57d536-f432-45a9-8b45-3bd54d68ba69  2019-07-22 04:33:52.889148 UTC   \n",
       "4361632  8b57d536-f432-45a9-8b45-3bd54d68ba69  2019-07-22 04:33:52.889148 UTC   \n",
       "4361633  8b57d536-f432-45a9-8b45-3bd54d68ba69  2019-07-22 04:33:52.889148 UTC   \n",
       "\n",
       "        event_type                            product_id  \\\n",
       "4361630  view_item  5bbe88b4-9650-4c1a-8f95-9a09c264b2c9   \n",
       "4361631  view_item  248faf65-d1e2-4d7b-84c8-ce1c459ee086   \n",
       "4361632  view_item  377bdb75-6f46-4c29-b559-9af0c6ba2ae8   \n",
       "4361633  view_item  b2bcef2f-df2d-4c23-aee7-73ca112ef815   \n",
       "\n",
       "                                      title  \\\n",
       "4361630          Hot Tuna Crew T Shirt Mens   \n",
       "4361631     Lonsdale Jersey Polo Shirt Mens   \n",
       "4361632  Pierre Cardin Web Belt Shorts Mens   \n",
       "4361633      Lee Cooper Men's boxers 5-pack   \n",
       "\n",
       "                                             category_name  price  \n",
       "4361630            Men>Men Clothing>T-Shirts & Polo shirts  12.84  \n",
       "4361631  Men>Men Clothing>T-Shirts & Polo shirts>Polo S...  12.90  \n",
       "4361632                            Men>Men Clothing>Shorts  17.12  \n",
       "4361633   Men>Men Clothing>Underwear>Boxer shorts & trunks  13.10  "
      ]
     },
     "execution_count": 17,
     "metadata": {},
     "output_type": "execute_result"
    }
   ],
   "source": [
    "data.loc[data['timestamp'] == \"2019-07-22 04:33:52.889148 UTC\"]"
   ]
  },
  {
   "cell_type": "code",
   "execution_count": 18,
   "metadata": {},
   "outputs": [
    {
     "data": {
      "text/plain": [
       "'2019-07-01 00:00:01.101977 UTC'"
      ]
     },
     "execution_count": 18,
     "metadata": {},
     "output_type": "execute_result"
    }
   ],
   "source": [
    "min(data.timestamp)"
   ]
  },
  {
   "cell_type": "code",
   "execution_count": 19,
   "metadata": {},
   "outputs": [
    {
     "data": {
      "text/plain": [
       "'2019-08-31 23:59:59.536067 UTC'"
      ]
     },
     "execution_count": 19,
     "metadata": {},
     "output_type": "execute_result"
    }
   ],
   "source": [
    "max(data.timestamp)"
   ]
  },
  {
   "cell_type": "code",
   "execution_count": 7,
   "metadata": {
    "scrolled": true
   },
   "outputs": [
    {
     "data": {
      "text/plain": [
       "0"
      ]
     },
     "execution_count": 7,
     "metadata": {},
     "output_type": "execute_result"
    }
   ],
   "source": [
    "len(data[data.timestamp.isna()])"
   ]
  },
  {
   "cell_type": "markdown",
   "metadata": {},
   "source": [
    "- dátumy z intervalu 2 mesiacov\n",
    "- žiadne NaN hodnoty\n",
    "- existujú záznamy typu `view_item`, kde je daný zákazník v danom čase a rôzne produkty. "
   ]
  },
  {
   "cell_type": "markdown",
   "metadata": {},
   "source": [
    "### event_type"
   ]
  },
  {
   "cell_type": "code",
   "execution_count": 21,
   "metadata": {
    "scrolled": true
   },
   "outputs": [
    {
     "data": {
      "text/plain": [
       "array(['view_item', 'purchase_item'], dtype=object)"
      ]
     },
     "execution_count": 21,
     "metadata": {},
     "output_type": "execute_result"
    }
   ],
   "source": [
    "data.event_type.unique()"
   ]
  },
  {
   "cell_type": "code",
   "execution_count": 22,
   "metadata": {
    "scrolled": true
   },
   "outputs": [
    {
     "data": {
      "text/plain": [
       "0"
      ]
     },
     "execution_count": 22,
     "metadata": {},
     "output_type": "execute_result"
    }
   ],
   "source": [
    "len(data[data.event_type.isna()])"
   ]
  },
  {
   "cell_type": "code",
   "execution_count": 23,
   "metadata": {},
   "outputs": [
    {
     "data": {
      "text/plain": [
       "0.9872518568242848"
      ]
     },
     "execution_count": 23,
     "metadata": {},
     "output_type": "execute_result"
    }
   ],
   "source": [
    "len(data.loc[data['event_type'] == \"view_item\"])/rows_num"
   ]
  },
  {
   "cell_type": "code",
   "execution_count": 24,
   "metadata": {},
   "outputs": [
    {
     "data": {
      "text/plain": [
       "0.01274814317571519"
      ]
     },
     "execution_count": 24,
     "metadata": {},
     "output_type": "execute_result"
    }
   ],
   "source": [
    "len(data.loc[data['event_type'] == \"purchase_item\"])/rows_num"
   ]
  },
  {
   "cell_type": "markdown",
   "metadata": {},
   "source": [
    "- dva typy: `view_item` a `purchase_item`\n",
    "- pomer je 98.7% ku 1.27%\n",
    "- žiadne NaN hodnoty"
   ]
  },
  {
   "cell_type": "markdown",
   "metadata": {},
   "source": [
    "### product_id"
   ]
  },
  {
   "cell_type": "code",
   "execution_count": 25,
   "metadata": {
    "scrolled": true
   },
   "outputs": [
    {
     "data": {
      "text/plain": [
       "count                                 14803097\n",
       "unique                                  123837\n",
       "top       31ae211d-57a9-4bfa-b95f-40776af03c3f\n",
       "freq                                     52736\n",
       "Name: product_id, dtype: object"
      ]
     },
     "execution_count": 25,
     "metadata": {},
     "output_type": "execute_result"
    }
   ],
   "source": [
    "data.product_id.describe()"
   ]
  },
  {
   "cell_type": "code",
   "execution_count": 60,
   "metadata": {},
   "outputs": [
    {
     "data": {
      "text/plain": [
       "0"
      ]
     },
     "execution_count": 60,
     "metadata": {},
     "output_type": "execute_result"
    }
   ],
   "source": [
    "len(data[data.product_id.isna()])"
   ]
  },
  {
   "cell_type": "code",
   "execution_count": 61,
   "metadata": {},
   "outputs": [
    {
     "data": {
      "text/plain": [
       "119.53694776197744"
      ]
     },
     "execution_count": 61,
     "metadata": {},
     "output_type": "execute_result"
    }
   ],
   "source": [
    "rows_num/len(data.product_id.unique())"
   ]
  },
  {
   "cell_type": "code",
   "execution_count": 62,
   "metadata": {},
   "outputs": [
    {
     "data": {
      "text/plain": [
       "17.0"
      ]
     },
     "execution_count": 62,
     "metadata": {},
     "output_type": "execute_result"
    }
   ],
   "source": [
    "data.groupby(['product_id']).count()['timestamp'].median() "
   ]
  },
  {
   "cell_type": "code",
   "execution_count": 32,
   "metadata": {},
   "outputs": [
    {
     "data": {
      "text/plain": [
       "31ae211d-57a9-4bfa-b95f-40776af03c3f    52736\n",
       "0f943312-7141-4606-abfa-81fd63a5498f    49141\n",
       "a8f0292d-5fca-42b9-b0d3-b38e7efa416b    48343\n",
       "e33cea18-ee3f-4e37-83a7-1d88c54d83b8    45421\n",
       "608f32cd-210c-4af5-99d8-6182a9678cf5    39801\n",
       "                                        ...  \n",
       "6b0e71d0-cdca-4160-8df1-ae7b43ef967c        1\n",
       "630d92d1-ed2b-4a75-a778-3dacba195eb5        1\n",
       "0633f706-85d4-4ac6-b34d-7f653fa7139d        1\n",
       "a3c46419-d8fb-4273-88ba-06dc92b42696        1\n",
       "326e712f-9733-4761-b458-217f3f695833        1\n",
       "Name: product_id, Length: 123837, dtype: int64"
      ]
     },
     "execution_count": 32,
     "metadata": {},
     "output_type": "execute_result"
    }
   ],
   "source": [
    "product_rows = data['product_id'].value_counts()\n",
    "product_rows"
   ]
  },
  {
   "cell_type": "code",
   "execution_count": 36,
   "metadata": {},
   "outputs": [
    {
     "name": "stdout",
     "output_type": "stream",
     "text": [
      "1 15982\n",
      "5 3582\n",
      "9 2365\n",
      "13 1792\n",
      "17 1376\n",
      "21 1139\n",
      "25 948\n",
      "29 810\n",
      "33 694\n",
      "37 624\n",
      "41 528\n",
      "45 501\n",
      "49 436\n"
     ]
    }
   ],
   "source": [
    "for i, num in enumerate(product_rows.value_counts()[:50:4]):\n",
    "    print(4*i+1, num)"
   ]
  },
  {
   "cell_type": "markdown",
   "metadata": {},
   "source": [
    "- 123,837 unikátnych produktov\n",
    "- žiadne NaN hodnoty\n",
    "- v priemere vyše 119 záznamov na produkt\n",
    "    - maximum je 52,736\n",
    "    - minimum je 1\n",
    "    - median je 17\n",
    "    - 15,982 produktov má len 1 záznam"
   ]
  },
  {
   "cell_type": "markdown",
   "metadata": {},
   "source": [
    "### title"
   ]
  },
  {
   "cell_type": "code",
   "execution_count": 63,
   "metadata": {
    "scrolled": true
   },
   "outputs": [
    {
     "data": {
      "text/plain": [
       "count                     14801284\n",
       "unique                       71440\n",
       "top       Lee Cooper Marl Backpack\n",
       "freq                        168766\n",
       "Name: title, dtype: object"
      ]
     },
     "execution_count": 63,
     "metadata": {},
     "output_type": "execute_result"
    }
   ],
   "source": [
    "data.title.describe()"
   ]
  },
  {
   "cell_type": "code",
   "execution_count": 72,
   "metadata": {
    "scrolled": false
   },
   "outputs": [
    {
     "data": {
      "text/plain": [
       "array(['Batoh Lee Cooper Marl', 'Lee Cooper Marl Backpack'], dtype=object)"
      ]
     },
     "execution_count": 72,
     "metadata": {},
     "output_type": "execute_result"
    }
   ],
   "source": [
    "data.loc[data['product_id'] == \"31ae211d-57a9-4bfa-b95f-40776af03c3f\"].title.unique()"
   ]
  },
  {
   "cell_type": "code",
   "execution_count": 64,
   "metadata": {},
   "outputs": [
    {
     "data": {
      "text/plain": [
       "0"
      ]
     },
     "execution_count": 64,
     "metadata": {},
     "output_type": "execute_result"
    }
   ],
   "source": [
    "len(data[data.product_id.isna()])"
   ]
  },
  {
   "cell_type": "markdown",
   "metadata": {},
   "source": [
    "- 71,440 unikátnych označení (našli sme 123,837 unikátnych produktov)\n",
    "    - produkt môže mať viac rôznych označení\n",
    "- žiadne NaN hodnoty"
   ]
  },
  {
   "cell_type": "markdown",
   "metadata": {},
   "source": [
    "### price"
   ]
  },
  {
   "cell_type": "code",
   "execution_count": 85,
   "metadata": {
    "scrolled": true
   },
   "outputs": [
    {
     "data": {
      "text/plain": [
       "count    14758211.000000\n",
       "mean           33.122065\n",
       "std           121.532833\n",
       "min             0.060000\n",
       "25%            12.710000\n",
       "50%            21.860000\n",
       "75%            39.490000\n",
       "max         32636.460000\n",
       "Name: price, dtype: object"
      ]
     },
     "execution_count": 85,
     "metadata": {},
     "output_type": "execute_result"
    }
   ],
   "source": [
    "data.price.describe().apply(lambda x: format(x, 'f'))"
   ]
  },
  {
   "cell_type": "code",
   "execution_count": 87,
   "metadata": {},
   "outputs": [
    {
     "data": {
      "text/plain": [
       "21.86"
      ]
     },
     "execution_count": 87,
     "metadata": {},
     "output_type": "execute_result"
    }
   ],
   "source": [
    "np.nanmedian(data.price)"
   ]
  },
  {
   "cell_type": "code",
   "execution_count": 73,
   "metadata": {},
   "outputs": [
    {
     "data": {
      "text/plain": [
       "44886"
      ]
     },
     "execution_count": 73,
     "metadata": {},
     "output_type": "execute_result"
    }
   ],
   "source": [
    "len(data[data.price.isna()])"
   ]
  },
  {
   "cell_type": "code",
   "execution_count": 89,
   "metadata": {},
   "outputs": [
    {
     "data": {
      "text/plain": [
       "array([12.9 , 12.73, 13.11, 13.32, 12.49, 12.71, 13.45, 12.65, 12.83,\n",
       "       11.46, 11.8 , 11.44, 11.38, 12.1 , 11.24, 11.61, 11.99, 11.55,\n",
       "        9.55,  9.56, 10.61, 10.63, 13.49,  7.32, 12.14, 12.27, 12.33,\n",
       "       13.04, 12.92, 12.51, 12.11, 12.45, 12.35, 13.09, 16.84, 16.41,\n",
       "       16.11, 16.03, 16.23, 15.95, 16.  , 15.58, 16.39, 16.97, 13.65,\n",
       "       14.75, 13.98, 14.02, 14.05, 14.22, 14.38, 14.87, 14.12, 14.37,\n",
       "       12.46, 12.37, 13.12, 12.04, 13.02, 12.39, 12.68, 12.55, 12.69,\n",
       "         nan])"
      ]
     },
     "execution_count": 89,
     "metadata": {},
     "output_type": "execute_result"
    }
   ],
   "source": [
    "data.loc[data['product_id'] == \"31ae211d-57a9-4bfa-b95f-40776af03c3f\"].price.unique()"
   ]
  },
  {
   "cell_type": "markdown",
   "metadata": {},
   "source": [
    "- priemer ceny je cca 33\n",
    "- median ceny je cca 22\n",
    "- 44,886 NaN hodnôt\n",
    "- jeden produkt môže mať viac cien"
   ]
  },
  {
   "cell_type": "markdown",
   "metadata": {},
   "source": [
    "### category_name"
   ]
  },
  {
   "cell_type": "code",
   "execution_count": 90,
   "metadata": {
    "scrolled": true
   },
   "outputs": [
    {
     "data": {
      "text/plain": [
       "count                                   11367365\n",
       "unique                                       713\n",
       "top       Men>Men Footwear>Sneakers>Low sneakers\n",
       "freq                                      462179\n",
       "Name: category_name, dtype: object"
      ]
     },
     "execution_count": 90,
     "metadata": {},
     "output_type": "execute_result"
    }
   ],
   "source": [
    "data.category_name.describe()"
   ]
  },
  {
   "cell_type": "code",
   "execution_count": 103,
   "metadata": {},
   "outputs": [
    {
     "name": "stdout",
     "output_type": "stream",
     "text": [
      "2 [nan 'Men>Men Clothing>T-Shirts & Polo shirts>Polo Shirts']\n",
      "3 [nan \"Women>Women's Clothing>Shirts\"\n",
      " \"Women>Women's Clothing>Shirts>Patterned shirts\"]\n",
      "2 [nan \"Women>Women's Clothing>Jackets & Coats>Coats\"]\n",
      "2 [nan \"Women>Women's Footwear>Slip-on\"]\n",
      "2 [nan \"Women>Women's Clothing>Dresses>Wedding dress\"]\n",
      "2 [nan 'Men>Men Clothing>T-Shirts & Polo shirts>Polo Shirts']\n",
      "2 [nan \"Sports>Running>Running Shoes>Women's Running Shoes\"]\n",
      "2 [nan 'Accessories >Backpacks and Bags>Fashion backpacks']\n",
      "3 [\"Women>Women's Clothing>Pants & Jeans>Pants\"\n",
      " \"Women>Women's Clothing>Pants >Pants\"\n",
      " \"Women>Women's Clothing>Pants >Single-colored pants\"]\n",
      "2 [nan \"Women>Women's Clothing>Jumpsuits\"]\n"
     ]
    }
   ],
   "source": [
    "for pid in data.product_id.sample(10):\n",
    "    unique_categories = data.loc[data['product_id'] == pid].category_name.unique()\n",
    "    print(len(unique_categories), unique_categories)"
   ]
  },
  {
   "cell_type": "code",
   "execution_count": 96,
   "metadata": {},
   "outputs": [
    {
     "data": {
      "text/plain": [
       "3435732"
      ]
     },
     "execution_count": 96,
     "metadata": {},
     "output_type": "execute_result"
    }
   ],
   "source": [
    "category_name_nans_num = len(data[data.category_name.isna()])\n",
    "category_name_nans_num"
   ]
  },
  {
   "cell_type": "code",
   "execution_count": 95,
   "metadata": {
    "scrolled": true
   },
   "outputs": [
    {
     "data": {
      "text/plain": [
       "0.23209548650529008"
      ]
     },
     "execution_count": 95,
     "metadata": {},
     "output_type": "execute_result"
    }
   ],
   "source": [
    "category_name_nans_num/rows_num"
   ]
  },
  {
   "cell_type": "code",
   "execution_count": 45,
   "metadata": {},
   "outputs": [
    {
     "data": {
      "text/plain": [
       "(14803097, 7)"
      ]
     },
     "execution_count": 45,
     "metadata": {},
     "output_type": "execute_result"
    }
   ],
   "source": [
    "data[\"category_name\"].str.split(\">\", expand = True).shape"
   ]
  },
  {
   "cell_type": "code",
   "execution_count": 40,
   "metadata": {},
   "outputs": [],
   "source": [
    "data_15K = data.sample(15000)"
   ]
  },
  {
   "cell_type": "code",
   "execution_count": 116,
   "metadata": {},
   "outputs": [],
   "source": [
    "categories = data_15K[\"category_name\"].str.split(\">\", expand = True)"
   ]
  },
  {
   "cell_type": "markdown",
   "metadata": {},
   "source": [
    "Keďže `data` má skoro 15M záznamov, spracovanie trvá veľmi dlho. Vybrali sme len 15K."
   ]
  },
  {
   "cell_type": "code",
   "execution_count": 123,
   "metadata": {
    "scrolled": false
   },
   "outputs": [
    {
     "data": {
      "text/html": [
       "<div>\n",
       "<style scoped>\n",
       "    .dataframe tbody tr th:only-of-type {\n",
       "        vertical-align: middle;\n",
       "    }\n",
       "\n",
       "    .dataframe tbody tr th {\n",
       "        vertical-align: top;\n",
       "    }\n",
       "\n",
       "    .dataframe thead th {\n",
       "        text-align: right;\n",
       "    }\n",
       "</style>\n",
       "<table border=\"1\" class=\"dataframe\">\n",
       "  <thead>\n",
       "    <tr style=\"text-align: right;\">\n",
       "      <th></th>\n",
       "      <th>0</th>\n",
       "      <th>1</th>\n",
       "      <th>2</th>\n",
       "      <th>3</th>\n",
       "      <th>4</th>\n",
       "    </tr>\n",
       "  </thead>\n",
       "  <tbody>\n",
       "    <tr>\n",
       "      <td>2563389</td>\n",
       "      <td>NaN</td>\n",
       "      <td>NaN</td>\n",
       "      <td>NaN</td>\n",
       "      <td>NaN</td>\n",
       "      <td>NaN</td>\n",
       "    </tr>\n",
       "    <tr>\n",
       "      <td>7189282</td>\n",
       "      <td>Women</td>\n",
       "      <td>Women's Footwear</td>\n",
       "      <td>Balerinas</td>\n",
       "      <td>None</td>\n",
       "      <td>None</td>\n",
       "    </tr>\n",
       "    <tr>\n",
       "      <td>11478593</td>\n",
       "      <td>Men</td>\n",
       "      <td>Men Clothing</td>\n",
       "      <td>T-Shirts &amp; Polo shirts</td>\n",
       "      <td>Short Sleeve</td>\n",
       "      <td>None</td>\n",
       "    </tr>\n",
       "    <tr>\n",
       "      <td>6003198</td>\n",
       "      <td>Women</td>\n",
       "      <td>Women's Clothing</td>\n",
       "      <td>Swimmsuits &amp; bikins</td>\n",
       "      <td>One-piece</td>\n",
       "      <td>None</td>\n",
       "    </tr>\n",
       "    <tr>\n",
       "      <td>1495798</td>\n",
       "      <td>NaN</td>\n",
       "      <td>None</td>\n",
       "      <td>None</td>\n",
       "      <td>None</td>\n",
       "      <td>None</td>\n",
       "    </tr>\n",
       "  </tbody>\n",
       "</table>\n",
       "</div>"
      ],
      "text/plain": [
       "              0                 1                       2             3     4\n",
       "2563389     NaN               NaN                     NaN           NaN   NaN\n",
       "7189282   Women  Women's Footwear               Balerinas          None  None\n",
       "11478593    Men      Men Clothing  T-Shirts & Polo shirts  Short Sleeve  None\n",
       "6003198   Women  Women's Clothing     Swimmsuits & bikins     One-piece  None\n",
       "1495798     NaN              None                    None          None  None"
      ]
     },
     "execution_count": 123,
     "metadata": {},
     "output_type": "execute_result"
    }
   ],
   "source": [
    "categories.sample(5)"
   ]
  },
  {
   "cell_type": "code",
   "execution_count": 136,
   "metadata": {},
   "outputs": [
    {
     "name": "stdout",
     "output_type": "stream",
     "text": [
      "col_0 unique values = 21\n",
      "col_0 NaN values = 3455\n",
      "\n",
      "col_1 unique values = 38\n",
      "col_1 NaN values = 3551\n",
      "\n",
      "col_2 unique values = 154\n",
      "col_2 NaN values = 3669\n",
      "\n",
      "col_3 unique values = 216\n",
      "col_3 NaN values = 6845\n",
      "\n",
      "col_4 unique values = 49\n",
      "col_4 NaN values = 14513\n",
      "\n"
     ]
    }
   ],
   "source": [
    "for i in range(5):\n",
    "    print('col_{} unique values ='.format(i), len(categories[i].unique()))\n",
    "    print('col_{} NaN values ='.format(i), len(categories[categories[i].isna()]))\n",
    "    print()"
   ]
  },
  {
   "cell_type": "code",
   "execution_count": 126,
   "metadata": {
    "scrolled": true
   },
   "outputs": [
    {
     "data": {
      "text/plain": [
       "array([nan, 'Men', 'Women', 'Sports', \"Women's Clothing\", 'Children',\n",
       "       'Accessories ', 'Backpacks and Bags', 'Men Clothing',\n",
       "       \"Boy's Clothing\", 'Sale - Men', 'Sale - Women', 'Dresses',\n",
       "       'NEW IN', 'Unlisted', \"Children's Footwear\", 'strom kategorii',\n",
       "       'T-Shirts', 'NY FASHION WEEK', 'Sale - Children',\n",
       "       'Delivery Immediately'], dtype=object)"
      ]
     },
     "execution_count": 126,
     "metadata": {},
     "output_type": "execute_result"
    }
   ],
   "source": [
    "categories[0].unique()"
   ]
  },
  {
   "cell_type": "markdown",
   "metadata": {},
   "source": [
    "- **iba** 713 unikátnych kategórií (našli sme 123,837 unikátnych produktov)\n",
    "- jeden produkt môže mať rôzne `category_name` hodnoty, vrátane NaN\n",
    "- 23.2% záznamov je NaN\n",
    "\n",
    "- po rozparsovaní stromu `category_name` vzniklo 7 stĺpcov (t.j. výška stromu)\n",
    "- smerom od koreňa rastie počet NaN hodnôt a unikátnych hodnôt\n",
    "- vyskytujú sa tématicky rovnaké len inak napísané kategórie\n"
   ]
  },
  {
   "cell_type": "markdown",
   "metadata": {},
   "source": [
    "### Diskusia\n",
    "- Produkty zákazníka sa môžu opakovať, a preto je vhodné odporúčať už pozerané produkty\n",
    "- Potreba zjednotiť nejednotné atribúty rovnakého produktu:\n",
    "    - `title`\n",
    "    - `category_name`\n",
    "    - možno `cena`"
   ]
  },
  {
   "cell_type": "markdown",
   "metadata": {},
   "source": [
    "---"
   ]
  },
  {
   "cell_type": "markdown",
   "metadata": {},
   "source": [
    "# 2. Zjednotenie a spracovanie dát"
   ]
  },
  {
   "cell_type": "code",
   "execution_count": 7,
   "metadata": {},
   "outputs": [],
   "source": [
    "categories = data[\"category_name\"].str.split(\">\", expand = True)\n",
    "del data[\"category_name\"]\n",
    "category_names = {}\n",
    "for i in range(7):\n",
    "    category_names[i] = \"category_{}\".format(i) \n",
    "categories = categories.rename(columns=category_names)\n",
    "data = pd.concat([data, categories], axis=1, sort=False)\n",
    "del categories"
   ]
  },
  {
   "cell_type": "markdown",
   "metadata": {},
   "source": [
    "Vyparsovanie `category`"
   ]
  },
  {
   "cell_type": "code",
   "execution_count": 88,
   "metadata": {},
   "outputs": [],
   "source": [
    "# Uloženie medzi-výsledku\n",
    "# data.to_csv('vi_data/data_train.csv', encoding='utf-8')\n",
    "# data = pd.read_csv('vi_data/data_train.csv', index_col=0)"
   ]
  },
  {
   "cell_type": "code",
   "execution_count": 219,
   "metadata": {},
   "outputs": [
    {
     "data": {
      "text/html": [
       "<div>\n",
       "<style scoped>\n",
       "    .dataframe tbody tr th:only-of-type {\n",
       "        vertical-align: middle;\n",
       "    }\n",
       "\n",
       "    .dataframe tbody tr th {\n",
       "        vertical-align: top;\n",
       "    }\n",
       "\n",
       "    .dataframe thead th {\n",
       "        text-align: right;\n",
       "    }\n",
       "</style>\n",
       "<table border=\"1\" class=\"dataframe\">\n",
       "  <thead>\n",
       "    <tr style=\"text-align: right;\">\n",
       "      <th></th>\n",
       "      <th>customer_id</th>\n",
       "      <th>timestamp</th>\n",
       "      <th>event_type</th>\n",
       "      <th>product_id</th>\n",
       "      <th>title</th>\n",
       "      <th>price</th>\n",
       "      <th>category_0</th>\n",
       "      <th>category_1</th>\n",
       "      <th>category_2</th>\n",
       "      <th>category_3</th>\n",
       "      <th>category_4</th>\n",
       "      <th>category_5</th>\n",
       "      <th>category_6</th>\n",
       "    </tr>\n",
       "  </thead>\n",
       "  <tbody>\n",
       "    <tr>\n",
       "      <td>13029308</td>\n",
       "      <td>a307441c-2131-4cfe-a3f5-ceba85324cdb</td>\n",
       "      <td>2019-08-26 11:38:54.520998 UTC</td>\n",
       "      <td>view_item</td>\n",
       "      <td>7e40885a-c1e4-48e3-80e3-71951fc25a44</td>\n",
       "      <td>Children's Ski jacket LOAP FALDA</td>\n",
       "      <td>39.52</td>\n",
       "      <td>Children</td>\n",
       "      <td>Boy's Clothing</td>\n",
       "      <td>Jackets</td>\n",
       "      <td>Winter jackets</td>\n",
       "      <td>NaN</td>\n",
       "      <td>NaN</td>\n",
       "      <td>NaN</td>\n",
       "    </tr>\n",
       "    <tr>\n",
       "      <td>9634041</td>\n",
       "      <td>0e42ec0e-8d82-4d4a-b6ef-17ef06e3de1a</td>\n",
       "      <td>2019-08-12 19:25:21.494362 UTC</td>\n",
       "      <td>view_item</td>\n",
       "      <td>43bee0d7-2d3f-42ac-bef2-99de2b660be2</td>\n",
       "      <td>Top Secret LADY'S DRESS</td>\n",
       "      <td>15.34</td>\n",
       "      <td>Women</td>\n",
       "      <td>Women's Clothing</td>\n",
       "      <td>Dresses</td>\n",
       "      <td>Mini dress</td>\n",
       "      <td>NaN</td>\n",
       "      <td>NaN</td>\n",
       "      <td>NaN</td>\n",
       "    </tr>\n",
       "    <tr>\n",
       "      <td>14697110</td>\n",
       "      <td>7c04bdf3-0ea1-4830-9047-0350d7071ef2</td>\n",
       "      <td>2019-07-31 09:10:17.624419 UTC</td>\n",
       "      <td>purchase_item</td>\n",
       "      <td>ca3ccb9a-933f-45fb-a10a-dfde4eb046ee</td>\n",
       "      <td>Everlast Heavy Bomber Jacket Mens</td>\n",
       "      <td>35.00</td>\n",
       "      <td>Men Clothing</td>\n",
       "      <td>Men</td>\n",
       "      <td>Jackets &amp; Coats</td>\n",
       "      <td>Bomber jackets</td>\n",
       "      <td>NaN</td>\n",
       "      <td>NaN</td>\n",
       "      <td>NaN</td>\n",
       "    </tr>\n",
       "  </tbody>\n",
       "</table>\n",
       "</div>"
      ],
      "text/plain": [
       "                                   customer_id  \\\n",
       "13029308  a307441c-2131-4cfe-a3f5-ceba85324cdb   \n",
       "9634041   0e42ec0e-8d82-4d4a-b6ef-17ef06e3de1a   \n",
       "14697110  7c04bdf3-0ea1-4830-9047-0350d7071ef2   \n",
       "\n",
       "                               timestamp     event_type  \\\n",
       "13029308  2019-08-26 11:38:54.520998 UTC      view_item   \n",
       "9634041   2019-08-12 19:25:21.494362 UTC      view_item   \n",
       "14697110  2019-07-31 09:10:17.624419 UTC  purchase_item   \n",
       "\n",
       "                                    product_id  \\\n",
       "13029308  7e40885a-c1e4-48e3-80e3-71951fc25a44   \n",
       "9634041   43bee0d7-2d3f-42ac-bef2-99de2b660be2   \n",
       "14697110  ca3ccb9a-933f-45fb-a10a-dfde4eb046ee   \n",
       "\n",
       "                                      title  price    category_0  \\\n",
       "13029308   Children's Ski jacket LOAP FALDA  39.52      Children   \n",
       "9634041             Top Secret LADY'S DRESS  15.34         Women   \n",
       "14697110  Everlast Heavy Bomber Jacket Mens  35.00  Men Clothing   \n",
       "\n",
       "                category_1       category_2      category_3 category_4  \\\n",
       "13029308    Boy's Clothing          Jackets  Winter jackets        NaN   \n",
       "9634041   Women's Clothing          Dresses      Mini dress        NaN   \n",
       "14697110               Men  Jackets & Coats  Bomber jackets        NaN   \n",
       "\n",
       "         category_5 category_6  \n",
       "13029308        NaN        NaN  \n",
       "9634041         NaN        NaN  \n",
       "14697110        NaN        NaN  "
      ]
     },
     "execution_count": 219,
     "metadata": {},
     "output_type": "execute_result"
    }
   ],
   "source": [
    "data.sample(3)"
   ]
  },
  {
   "cell_type": "markdown",
   "metadata": {},
   "source": [
    "## Vytvorenie elastic indexu a naplnenie produktami"
   ]
  },
  {
   "cell_type": "markdown",
   "metadata": {},
   "source": [
    "**PUT http://localhost:9200/vi_products**\n",
    "```json\n",
    "{'settings': {'number_of_shards': 1, 'number_of_replicas': 0},\n",
    " 'mappings': {'properties': {'product_id': {'type': 'keyword'},\n",
    "   'title': {'type': 'text', 'analyzer': 'english'},\n",
    "   'price': {'type': 'double'},\n",
    "   'events_number': {'type': 'integer'},\n",
    "   'category_0': {'type': 'keyword'},\n",
    "   'category_1': {'type': 'keyword'},\n",
    "   'category_2': {'type': 'keyword'},\n",
    "   'category_3': {'type': 'keyword'},\n",
    "   'category_4': {'type': 'keyword'},\n",
    "   'category_5': {'type': 'keyword'},\n",
    "   'category_6': {'type': 'keyword'}}}}\n",
    "```"
   ]
  },
  {
   "cell_type": "code",
   "execution_count": 194,
   "metadata": {},
   "outputs": [],
   "source": [
    "product_ids = list(data.product_id.unique())"
   ]
  },
  {
   "cell_type": "code",
   "execution_count": 195,
   "metadata": {},
   "outputs": [
    {
     "data": {
      "text/plain": [
       "123837"
      ]
     },
     "execution_count": 195,
     "metadata": {},
     "output_type": "execute_result"
    }
   ],
   "source": [
    "len(product_ids)"
   ]
  },
  {
   "cell_type": "code",
   "execution_count": 192,
   "metadata": {
    "scrolled": true
   },
   "outputs": [],
   "source": [
    "def fill_index():\n",
    "    es = Elasticsearch([{'host': '127.0.0.1', 'port': 9200}])\n",
    "    doc = {}\n",
    "    for pid in product_ids:\n",
    "        rows = data[data.product_id == pid]\n",
    "        doc['product_id'] = pid\n",
    "        try:\n",
    "            doc['title'] = list(rows.title.dropna().unique())[0]\n",
    "        except IndexError:\n",
    "            pass\n",
    "        try:\n",
    "            doc['price'] = np.mean(rows.price.dropna().unique())\n",
    "        except IndexError:\n",
    "            pass\n",
    "        try:\n",
    "            doc['events_number'] = len(rows)\n",
    "        except IndexError:\n",
    "            pass\n",
    "        try:\n",
    "            doc['category_0'] = list(rows.category_0.dropna().unique())[0]\n",
    "        except IndexError:\n",
    "            pass\n",
    "        try:\n",
    "            doc['category_1'] = list(rows.category_1.dropna().unique())[0]\n",
    "        except IndexError:\n",
    "            pass\n",
    "        try:\n",
    "            doc['category_2'] = list(rows.category_2.dropna().unique())[0]\n",
    "        except IndexError:\n",
    "            pass\n",
    "        try:\n",
    "            doc['category_3'] = list(rows.category_3.dropna().unique())[0]\n",
    "        except IndexError:\n",
    "            pass\n",
    "        try:\n",
    "            doc['category_4'] = list(rows.category_4.dropna().unique())[0]\n",
    "        except IndexError:\n",
    "            pass\n",
    "        try:\n",
    "            doc['category_5'] = list(rows.category_5.dropna().unique())[0]\n",
    "        except IndexError:\n",
    "            pass\n",
    "        try:\n",
    "            doc['category_6'] = list(rows.category_6.dropna().unique())[0]\n",
    "        except IndexError:\n",
    "            pass\n",
    "        if np.isnan(doc['price']):\n",
    "            del doc['price']\n",
    "        es.index(index='vi_products', body=doc)"
   ]
  },
  {
   "cell_type": "code",
   "execution_count": 218,
   "metadata": {
    "scrolled": false
   },
   "outputs": [],
   "source": [
    "# fill_index()"
   ]
  },
  {
   "cell_type": "markdown",
   "metadata": {},
   "source": [
    "---"
   ]
  },
  {
   "cell_type": "markdown",
   "metadata": {},
   "source": [
    "# 3. Obsahový odporúčač"
   ]
  },
  {
   "cell_type": "markdown",
   "metadata": {},
   "source": [
    "Navrhli sme obsahový odporúčač, ktorý používa nástroj Elasticsearch a dopyt [More Like This](https://www.elastic.co/guide/en/elasticsearch/reference/current/query-dsl-mlt-query.html)."
   ]
  },
  {
   "cell_type": "code",
   "execution_count": 101,
   "metadata": {},
   "outputs": [],
   "source": [
    "def ES_recommender_should(product_ids, fields=[\"title\", \"category_0\", \"category_1\", \"category_2\", \"category_3\"], boosting_recent=False, count=10):\n",
    "    \"\"\"\n",
    "    Using elasticsearch more_like_this query with should clause\n",
    "    \"\"\"\n",
    "    url = 'http://localhost:9200/vi_products/_search'\n",
    "    def transform_id(pid):\n",
    "        data = {'query': {'bool': {'filter': {'term': {'product_id': pid}}}}}\n",
    "        r = requests.post(url, json=data)\n",
    "        try:\n",
    "            return json.loads(r.text)['hits']['hits'][0]['_id']\n",
    "        except IndexError:\n",
    "            return None\n",
    "    \n",
    "    ids = [transform_id(pid) for pid in product_ids if pid]\n",
    "    should = []\n",
    "    for i, _id in enumerate(ids):\n",
    "        boost = i if boosting_recent else 1\n",
    "        if _id:\n",
    "            mlt = {\n",
    "              \"more_like_this\": {\n",
    "                \"fields\": fields,\n",
    "                \"like\": [\n",
    "                  {\n",
    "                    \"_index\": \"vi_products\",\n",
    "                    \"_id\": _id\n",
    "                  }\n",
    "                ],\n",
    "                \"min_term_freq\": 1,\n",
    "                \"min_doc_freq\": 1,\n",
    "                \"max_query_terms\": 100,\n",
    "                \"include\": True,\n",
    "                \"boost\": boost\n",
    "              }\n",
    "            }\n",
    "            should.append(mlt)\n",
    "            \n",
    "    data = {\n",
    "              \"from\": 0,\n",
    "              \"size\": 10,\n",
    "              \"query\": {\n",
    "                \"bool\": {\n",
    "                  \"should\": should\n",
    "                }\n",
    "              }\n",
    "            }    \n",
    "#     print(json.dumps(data))\n",
    "    r = requests.post(url, json=data)\n",
    "    try: \n",
    "        return [hit['_source']['product_id'] for hit in json.loads(r.text)['hits']['hits']]\n",
    "    except KeyError as e:\n",
    "        print('KeyError:'+e, r.text) "
   ]
  },
  {
   "cell_type": "markdown",
   "metadata": {},
   "source": [
    "Odporúča produkty, ktoré sú v súčte najpodobnejšie všetkým z trénovacím produtov"
   ]
  },
  {
   "cell_type": "code",
   "execution_count": 22,
   "metadata": {},
   "outputs": [],
   "source": [
    "def ES_recommender_dis_max(product_ids, fields=[\"title\", \"category_0\", \"category_1\", \"category_2\", \"category_3\"], boosting_recent=False, count=10):\n",
    "    \"\"\"\n",
    "    Using elasticsearch more_like_this query with dis_max clause\n",
    "    \"\"\"\n",
    "    url = 'http://localhost:9200/vi_products/_search'\n",
    "    def transform_id(pid):\n",
    "        data = {'query': {'bool': {'filter': {'term': {'product_id': pid}}}}}\n",
    "        r = requests.post(url, json=data)\n",
    "        try:\n",
    "            return json.loads(r.text)['hits']['hits'][0]['_id']\n",
    "        except IndexError:\n",
    "            return None\n",
    "    \n",
    "    ids = [transform_id(pid) for pid in product_ids if pid]\n",
    "    queries = []\n",
    "    for i, _id in enumerate(ids):\n",
    "        boost = i if boosting_recent else 1\n",
    "        if _id:\n",
    "            mlt = {\n",
    "              \"more_like_this\": {\n",
    "                \"fields\": fields,\n",
    "                \"like\": [\n",
    "                  {\n",
    "                    \"_index\": \"vi_products\",\n",
    "                    \"_id\": _id\n",
    "                  }\n",
    "                ],\n",
    "                \"min_term_freq\": 1,\n",
    "                \"min_doc_freq\": 1,\n",
    "                \"max_query_terms\": 100,\n",
    "                \"include\": True,\n",
    "                \"boost\": boost\n",
    "              }\n",
    "            }\n",
    "            queries.append(mlt)\n",
    "            \n",
    "    data = {\n",
    "              \"from\": 0,\n",
    "              \"size\": 10,\n",
    "              \"query\": {\n",
    "                \"script_score\": {\n",
    "                  \"query\": {\n",
    "                    \"dis_max\": {\n",
    "                      \"queries\": queries\n",
    "                    }\n",
    "                  },\n",
    "                  \"script\": {\n",
    "                    \"source\": \"(Math.log(doc['events_number'].value) / Math.log(10)) * _score\"\n",
    "                  }\n",
    "                }\n",
    "              }\n",
    "            }   \n",
    "#     print(json.dumps(data))\n",
    "    r = requests.post(url, json=data)\n",
    "    try: \n",
    "        return [hit['_source']['product_id'] for hit in json.loads(r.text)['hits']['hits']]\n",
    "    except KeyError as e:\n",
    "        print('KeyError:'+e, r.text) "
   ]
  },
  {
   "cell_type": "markdown",
   "metadata": {},
   "source": [
    "Odporúča produkty, ktoré sú najpodobnejšie niektorému z trénovacích produtov"
   ]
  },
  {
   "cell_type": "markdown",
   "metadata": {},
   "source": [
    "# 4. Evaluácia"
   ]
  },
  {
   "cell_type": "markdown",
   "metadata": {},
   "source": [
    "## Metriky"
   ]
  },
  {
   "cell_type": "code",
   "execution_count": 57,
   "metadata": {},
   "outputs": [],
   "source": [
    "def precision_at_k(r, k=10):\n",
    "    \"\"\"Score is precision @ k\n",
    "    Args:\n",
    "        r: Relevance scores (list or numpy) in rank order\n",
    "            (first element is the first item)\n",
    "    Returns:\n",
    "        Precision @ k\n",
    "    Raises:\n",
    "        ValueError: len(r) must be > 0\n",
    "    \"\"\"\n",
    "    k = min(k, len(r))\n",
    "    assert k > 0\n",
    "    r = np.asarray(r)[:k] != 0\n",
    "    if r.size != k:\n",
    "        raise ValueError('Relevance score length < k')\n",
    "    return np.mean(r)\n",
    "\n",
    "def dcg_at_k(r, k=10):\n",
    "    \"\"\"Score is discounted cumulative gain (dcg)\n",
    "    Args:\n",
    "        r: Relevance scores (list or numpy) in rank order\n",
    "            (first element is the first item)\n",
    "        k: Number of results to consider\n",
    "    Returns:\n",
    "        Discounted cumulative gain\n",
    "    Raises:\n",
    "        ValueError: len(r) must be > 0\n",
    "    \"\"\"\n",
    "    k = min(k, len(r))\n",
    "    assert k > 0\n",
    "    r = np.asfarray(r)[:k]\n",
    "    if r.size:\n",
    "        return np.sum(np.subtract(np.power(2, r), 1) / np.log2(np.arange(2, r.size + 2)))\n",
    "    return 0.\n",
    "\n",
    "def ndcg_at_k(r, k=10):\n",
    "    \"\"\"Score is normalized discounted cumulative gain (ndcg)\n",
    "    Args:\n",
    "        r: Relevance scores (list or numpy) in rank order\n",
    "            (first element is the first item)\n",
    "        k: Number of results to consider\n",
    "    Returns:\n",
    "        Normalized discounted cumulative gain\n",
    "    Raises:\n",
    "        ValueError: len(r) must be > 0\n",
    "    \"\"\"\n",
    "    k = min(k, len(r))\n",
    "    assert k > 0\n",
    "    idcg = dcg_at_k(sorted(r, reverse=True), k)\n",
    "    if not idcg:\n",
    "        return 0.\n",
    "    return dcg_at_k(r, k) / idcg"
   ]
  },
  {
   "cell_type": "markdown",
   "metadata": {},
   "source": [
    "Upravené z [Ranking Metrics](https://gist.github.com/bwhite/3726239)"
   ]
  },
  {
   "cell_type": "code",
   "execution_count": 64,
   "metadata": {},
   "outputs": [],
   "source": [
    "def evaluate(customer_id, recomender_function, metric_function):\n",
    "    \"\"\"\n",
    "    Split customer's product, call recomender_function, compure relevance and metric_function\n",
    "    \"\"\"\n",
    "    def split_products(products):\n",
    "        middle = (len(products)+1)//2\n",
    "        return [products[:middle], products[middle:]]\n",
    "    customer_products = events[events.customer_id == customer_id].sort_values(by ='timestamp')\n",
    "    if len(customer_products) == 1:\n",
    "        raise Exception(customer_id + ' has just one product')\n",
    "    product_ids = list(customer_products.product_id)\n",
    "    train, test = split_products(product_ids)\n",
    "    recomended = recomender_function(train, \n",
    "                                     fields=[\"title\", \"category_0\", \"category_1\", \"category_2\", \"category_3\", \"category_4\", \"category_5\", \"category_6\"], \n",
    "                                     boosting_recent=True, \n",
    "                                     count=10)\n",
    "    r = list()\n",
    "    k = min(len(test), len(recomended))\n",
    "    test = test[:k]\n",
    "    recomended = recomended[:k]\n",
    "    for i in range(k):\n",
    "        r.append(1 if recomended[i] in test else 0)\n",
    "    rank = metric_function(r)\n",
    "    return rank #[train, test, recomended, r, rank]"
   ]
  },
  {
   "cell_type": "markdown",
   "metadata": {},
   "source": [
    "Na vygenerovenie odporúčania bola použitá tabuľka `events`"
   ]
  },
  {
   "cell_type": "markdown",
   "metadata": {},
   "source": [
    "## Výsledky"
   ]
  },
  {
   "cell_type": "code",
   "execution_count": 9,
   "metadata": {},
   "outputs": [],
   "source": [
    "customer_ids = sorted(list(events.customer_id.unique()), key=lambda k: random.random())"
   ]
  },
  {
   "cell_type": "code",
   "execution_count": 58,
   "metadata": {},
   "outputs": [
    {
     "data": {
      "text/plain": [
       "2210171"
      ]
     },
     "execution_count": 58,
     "metadata": {},
     "output_type": "execute_result"
    }
   ],
   "source": [
    "len(customer_ids)"
   ]
  },
  {
   "cell_type": "code",
   "execution_count": 59,
   "metadata": {
    "scrolled": true
   },
   "outputs": [],
   "source": [
    "def results(recomender_function, metric_function, NUMBER_TESTED=10):\n",
    "    start = time.time()\n",
    "    p = []\n",
    "    for cid in customer_ids:\n",
    "        try:\n",
    "            p.append(evaluate(cid, recomender_function, metric_function))\n",
    "        except:\n",
    "            pass\n",
    "        if len(p) >= NUMBER_TESTED:\n",
    "            break\n",
    "    print('seconds:', time.time()-start)\n",
    "    print('type:', recomender_function.__name__)\n",
    "    print('number of tested customers:', len(p))\n",
    "    print('average', metric_function.__name__,':', np.mean(p))"
   ]
  },
  {
   "cell_type": "code",
   "execution_count": 60,
   "metadata": {
    "scrolled": true
   },
   "outputs": [
    {
     "name": "stdout",
     "output_type": "stream",
     "text": [
      "seconds: 484.64383912086487\n",
      "type: ES_recommender_should\n",
      "number of tested customers: 300\n",
      "average ndcg_at_k : 0.2508594652179127\n"
     ]
    }
   ],
   "source": [
    "results(ES_recommender_should, ndcg_at_k, 300) #ES_recommender_should, title + 4 categoties"
   ]
  },
  {
   "cell_type": "code",
   "execution_count": 61,
   "metadata": {},
   "outputs": [
    {
     "name": "stdout",
     "output_type": "stream",
     "text": [
      "seconds: 691.1087830066681\n",
      "type: ES_recommender_dis_max\n",
      "number of tested customers: 300\n",
      "average ndcg_at_k : 0.327475554946516\n"
     ]
    }
   ],
   "source": [
    "results(ES_recommender_dis_max, ndcg_at_k, 300) #ES_recommender_dis_max, title + 4 categoties"
   ]
  },
  {
   "cell_type": "code",
   "execution_count": 63,
   "metadata": {},
   "outputs": [
    {
     "name": "stdout",
     "output_type": "stream",
     "text": [
      "seconds: 622.2124481201172\n",
      "type: ES_recommender_dis_max\n",
      "number of tested customers: 300\n",
      "average ndcg_at_k : 0.36574870105544943\n"
     ]
    }
   ],
   "source": [
    "results(ES_recommender_dis_max, ndcg_at_k, 300) #ES_recommender_dis_max, title + all categoties"
   ]
  },
  {
   "cell_type": "code",
   "execution_count": 70,
   "metadata": {},
   "outputs": [
    {
     "name": "stdout",
     "output_type": "stream",
     "text": [
      "seconds: 710.6878938674927\n",
      "type: ES_recommender_dis_max\n",
      "number of tested customers: 300\n",
      "average ndcg_at_k : 0.403434364394986\n"
     ]
    }
   ],
   "source": [
    "results(ES_recommender_dis_max, ndcg_at_k, 300) #ES_recommender_dis_max, title + all categoties + boosting_recent"
   ]
  },
  {
   "cell_type": "markdown",
   "metadata": {},
   "source": [
    "| **method**                                                       | **ndcg_at_10, average(300)** |\n",
    "|------------------------------------------------------------------|------------------------------|\n",
    "| ES_recommender_should, title + 4 categoties                      | 0.25085                      |\n",
    "| ES_recommender_dis_max, title + 4 categoties                     | 0.32747                      |\n",
    "| ES_recommender_dis_max, title + all categoties                   | 0.36574                      |\n",
    "| ES_recommender_dis_max, title + all categoties + boosting_recent | 0.40343                      |"
   ]
  },
  {
   "cell_type": "markdown",
   "metadata": {},
   "source": [
    "# 5. vi-challenge kaggle"
   ]
  },
  {
   "cell_type": "code",
   "execution_count": 14,
   "metadata": {
    "scrolled": false
   },
   "outputs": [
    {
     "data": {
      "text/plain": [
       "1000"
      ]
     },
     "execution_count": 14,
     "metadata": {},
     "output_type": "execute_result"
    }
   ],
   "source": [
    "vi_challenge_uID = pd.read_csv('vi_challenge_uID.csv', header=None)\n",
    "len(vi_challenge_uID)"
   ]
  },
  {
   "cell_type": "code",
   "execution_count": 23,
   "metadata": {},
   "outputs": [
    {
     "name": "stdout",
     "output_type": "stream",
     "text": [
      "0 :  10\n",
      "1 :  10\n",
      "2 MPP\n",
      "3 MPP\n",
      "4 :  10\n",
      "5 MPP\n",
      "6 :  10\n",
      "7 MPP\n",
      "8 :  10\n",
      "9 :  10\n",
      "10 MPP\n",
      "11 :  10\n",
      "12 :  10\n",
      "13 :  10\n",
      "14 :  10\n",
      "15 :  10\n",
      "16 :  10\n",
      "17 MPP\n",
      "18 MPP\n",
      "19 MPP\n",
      "20 MPP\n",
      "21 :  10\n",
      "22 :  10\n",
      "23 :  10\n",
      "24 :  10\n",
      "25 :  10\n",
      "26 :  10\n",
      "27 :  10\n",
      "28 MPP\n",
      "29 :  10\n",
      "30 :  10\n",
      "31 :  10\n",
      "32 :  10\n",
      "33 MPP\n",
      "34 :  10\n",
      "35 :  10\n",
      "36 MPP\n",
      "37 :  10\n",
      "38 MPP\n",
      "39 :  10\n",
      "40 :  10\n",
      "41 :  10\n",
      "42 :  10\n",
      "43 :  10\n",
      "44 :  10\n",
      "45 :  10\n",
      "46 :  10\n",
      "47 :  10\n",
      "48 :  10\n",
      "49 :  10\n",
      "50 :  10\n",
      "51 :  10\n",
      "52 MPP\n",
      "53 :  10\n",
      "54 :  10\n",
      "55 :  10\n",
      "56 :  10\n",
      "57 :  10\n",
      "58 :  10\n",
      "59 :  10\n",
      "60 :  10\n",
      "61 :  10\n",
      "62 :  10\n",
      "63 :  10\n",
      "64 :  10\n",
      "65 :  10\n",
      "66 :  10\n",
      "67 :  10\n",
      "68 :  10\n",
      "69 :  10\n",
      "70 :  10\n",
      "71 :  10\n",
      "72 :  10\n",
      "73 :  10\n",
      "74 :  10\n",
      "75 :  10\n",
      "76 :  10\n",
      "77 MPP\n",
      "78 :  10\n",
      "79 :  10\n",
      "80 :  10\n",
      "81 :  10\n",
      "82 :  10\n",
      "83 :  10\n",
      "84 MPP\n",
      "85 MPP\n",
      "86 :  10\n",
      "87 :  10\n",
      "88 MPP\n",
      "89 :  10\n",
      "90 :  10\n",
      "91 :  10\n",
      "92 :  10\n",
      "93 :  10\n",
      "94 :  10\n",
      "95 :  10\n",
      "96 :  10\n",
      "97 :  10\n",
      "98 :  10\n",
      "99 :  10\n",
      "100 :  10\n",
      "101 :  10\n",
      "102 :  10\n",
      "103 :  10\n",
      "104 :  10\n",
      "105 :  10\n",
      "106 :  10\n",
      "107 :  10\n",
      "108 :  10\n",
      "109 :  10\n",
      "110 :  10\n",
      "111 :  10\n",
      "112 :  10\n",
      "113 :  10\n",
      "114 :  10\n",
      "115 :  10\n",
      "116 :  10\n",
      "117 :  10\n",
      "118 MPP\n",
      "119 :  10\n",
      "120 :  10\n",
      "121 :  10\n",
      "122 :  10\n",
      "123 :  10\n",
      "124 :  10\n",
      "125 :  10\n",
      "126 :  10\n",
      "127 :  10\n",
      "128 :  10\n",
      "129 :  10\n",
      "130 :  10\n",
      "131 :  10\n",
      "132 :  10\n",
      "133 MPP\n",
      "134 :  10\n",
      "135 MPP\n",
      "136 MPP\n",
      "137 :  10\n",
      "138 :  10\n",
      "139 :  10\n",
      "140 :  10\n",
      "141 :  10\n",
      "142 :  10\n",
      "143 :  10\n",
      "144 :  10\n",
      "145 :  10\n",
      "146 :  10\n",
      "147 :  10\n",
      "148 MPP\n",
      "149 :  10\n",
      "150 :  10\n",
      "151 :  10\n",
      "152 :  10\n",
      "153 :  10\n",
      "154 :  10\n",
      "155 MPP\n",
      "156 MPP\n",
      "157 :  10\n",
      "158 :  10\n",
      "159 :  10\n",
      "160 :  10\n",
      "161 :  10\n",
      "162 :  10\n",
      "163 :  10\n",
      "164 MPP\n",
      "165 :  10\n",
      "166 MPP\n",
      "167 :  10\n",
      "168 :  10\n",
      "169 :  10\n",
      "170 :  10\n",
      "171 :  10\n",
      "172 :  10\n",
      "173 :  10\n",
      "174 :  10\n",
      "175 :  10\n",
      "176 :  10\n",
      "177 MPP\n",
      "178 :  10\n",
      "179 :  10\n",
      "180 :  10\n",
      "181 :  10\n",
      "182 :  10\n",
      "183 :  10\n",
      "184 :  10\n",
      "185 :  10\n",
      "186 :  10\n",
      "187 :  10\n",
      "188 :  10\n",
      "189 :  10\n",
      "190 :  10\n",
      "191 :  10\n",
      "192 :  10\n",
      "193 :  10\n",
      "194 :  10\n",
      "195 :  10\n",
      "196 :  10\n",
      "197 :  10\n",
      "198 MPP\n",
      "199 :  10\n",
      "200 :  10\n",
      "201 :  10\n",
      "202 :  10\n",
      "203 :  10\n",
      "204 :  10\n",
      "205 :  10\n",
      "206 :  10\n",
      "207 :  10\n",
      "208 :  10\n",
      "209 :  10\n",
      "210 :  10\n",
      "211 :  10\n",
      "212 :  10\n",
      "213 :  10\n",
      "214 :  10\n",
      "215 :  10\n",
      "216 :  10\n",
      "217 :  10\n",
      "218 MPP\n",
      "219 :  10\n",
      "220 :  10\n",
      "221 :  10\n",
      "222 :  10\n",
      "223 MPP\n",
      "224 :  10\n",
      "225 :  10\n",
      "226 :  10\n",
      "227 :  10\n",
      "228 MPP\n",
      "229 :  10\n",
      "230 MPP\n",
      "231 MPP\n",
      "232 :  10\n",
      "233 MPP\n",
      "234 :  10\n",
      "235 :  10\n",
      "236 :  10\n",
      "237 MPP\n",
      "238 :  10\n",
      "239 :  10\n",
      "240 :  10\n",
      "241 MPP\n",
      "242 :  10\n",
      "243 :  10\n",
      "244 :  10\n",
      "245 :  10\n",
      "246 :  10\n",
      "247 :  10\n",
      "248 :  10\n",
      "249 :  10\n",
      "250 :  10\n",
      "251 :  10\n",
      "252 :  10\n",
      "253 :  10\n",
      "254 :  10\n",
      "255 :  10\n",
      "256 MPP\n",
      "257 :  10\n",
      "258 :  10\n",
      "259 :  10\n",
      "260 :  10\n",
      "261 :  10\n",
      "262 :  10\n",
      "263 :  10\n",
      "264 :  10\n",
      "265 :  10\n",
      "266 :  10\n",
      "267 :  10\n",
      "268 MPP\n",
      "269 :  10\n",
      "270 :  10\n",
      "271 :  10\n",
      "272 :  10\n",
      "273 :  10\n",
      "274 :  10\n",
      "275 :  10\n",
      "276 :  10\n",
      "277 :  10\n",
      "278 :  10\n",
      "279 :  10\n",
      "280 :  10\n",
      "281 :  10\n",
      "282 MPP\n",
      "283 :  10\n",
      "284 :  10\n",
      "285 :  10\n",
      "286 :  10\n",
      "287 MPP\n",
      "288 :  10\n",
      "289 :  10\n",
      "290 :  10\n",
      "291 :  10\n",
      "292 MPP\n",
      "293 :  10\n",
      "294 :  10\n",
      "295 :  10\n",
      "296 MPP\n",
      "297 :  10\n",
      "298 :  10\n",
      "299 :  10\n",
      "300 :  10\n",
      "301 :  10\n",
      "302 :  10\n",
      "303 MPP\n",
      "304 MPP\n",
      "305 :  10\n",
      "306 :  10\n",
      "307 MPP\n",
      "308 :  10\n",
      "309 :  10\n",
      "310 MPP\n",
      "311 :  10\n",
      "312 :  10\n",
      "313 :  10\n",
      "314 :  10\n",
      "315 :  10\n",
      "316 :  10\n",
      "317 MPP\n",
      "318 :  10\n",
      "319 :  10\n",
      "320 :  10\n",
      "321 MPP\n",
      "322 :  10\n",
      "323 MPP\n",
      "324 :  10\n",
      "325 :  10\n",
      "326 MPP\n",
      "327 :  10\n",
      "328 :  10\n",
      "329 :  10\n",
      "330 :  10\n",
      "331 :  10\n",
      "332 :  10\n",
      "333 :  10\n",
      "334 :  10\n",
      "335 :  10\n",
      "336 :  10\n",
      "337 MPP\n",
      "338 :  10\n",
      "339 :  10\n",
      "340 :  10\n",
      "341 :  10\n",
      "342 :  10\n",
      "343 MPP\n",
      "344 :  10\n",
      "345 :  10\n",
      "346 :  10\n",
      "347 :  10\n",
      "348 :  10\n",
      "349 :  10\n",
      "350 :  10\n",
      "351 :  10\n",
      "352 :  10\n",
      "353 MPP\n",
      "354 :  10\n",
      "355 :  10\n",
      "356 :  10\n",
      "357 :  10\n",
      "358 :  10\n",
      "359 :  10\n",
      "360 :  10\n",
      "361 :  10\n",
      "362 :  10\n",
      "363 MPP\n",
      "364 :  10\n",
      "365 :  10\n",
      "366 :  10\n",
      "367 :  10\n",
      "368 :  10\n",
      "369 :  10\n",
      "370 :  10\n",
      "371 :  10\n",
      "372 :  10\n",
      "373 MPP\n",
      "374 :  10\n",
      "375 :  10\n",
      "376 :  10\n",
      "377 :  10\n",
      "378 :  10\n",
      "379 :  10\n",
      "380 MPP\n",
      "381 :  10\n",
      "382 :  10\n",
      "383 :  10\n",
      "384 :  10\n",
      "385 MPP\n",
      "386 :  10\n",
      "387 :  10\n",
      "388 :  10\n",
      "389 MPP\n",
      "390 :  10\n",
      "391 :  10\n",
      "392 :  10\n",
      "393 :  10\n",
      "394 :  10\n",
      "395 MPP\n",
      "396 :  10\n",
      "397 :  10\n",
      "398 :  10\n",
      "399 :  10\n",
      "400 :  10\n",
      "401 :  10\n",
      "402 :  10\n",
      "403 :  10\n",
      "404 :  10\n",
      "405 :  10\n",
      "406 MPP\n",
      "407 MPP\n",
      "408 :  10\n",
      "409 :  10\n",
      "410 :  10\n",
      "411 MPP\n",
      "412 :  10\n",
      "413 :  10\n",
      "414 :  10\n",
      "415 :  10\n",
      "416 MPP\n",
      "417 MPP\n",
      "418 :  10\n",
      "419 :  10\n",
      "420 :  10\n",
      "421 :  10\n",
      "422 :  10\n",
      "423 :  10\n",
      "424 :  10\n",
      "425 :  10\n",
      "426 :  10\n",
      "427 :  10\n",
      "428 :  10\n",
      "429 :  10\n",
      "430 :  10\n",
      "431 :  10\n",
      "432 :  10\n",
      "433 :  10\n",
      "434 :  10\n",
      "435 :  10\n",
      "436 :  10\n",
      "437 :  10\n",
      "438 :  10\n",
      "439 :  10\n",
      "440 MPP\n",
      "441 :  10\n",
      "442 :  10\n",
      "443 :  10\n",
      "444 :  10\n",
      "445 :  10\n",
      "446 :  10\n",
      "447 :  10\n",
      "448 :  10\n",
      "449 :  10\n",
      "450 :  10\n",
      "451 :  10\n",
      "452 :  10\n",
      "453 :  10\n",
      "454 :  10\n",
      "455 MPP\n",
      "456 :  10\n",
      "457 :  10\n",
      "458 :  10\n",
      "459 MPP\n",
      "460 :  10\n",
      "461 :  10\n",
      "462 :  10\n",
      "463 :  10\n",
      "464 :  10\n",
      "465 MPP\n",
      "466 :  10\n",
      "467 MPP\n",
      "468 :  10\n",
      "469 :  10\n",
      "470 :  10\n",
      "471 :  10\n",
      "472 :  10\n",
      "473 :  10\n",
      "474 :  10\n",
      "475 :  10\n",
      "476 :  10\n",
      "477 :  10\n",
      "478 :  10\n",
      "479 :  10\n",
      "480 :  10\n",
      "481 :  10\n",
      "482 :  10\n",
      "483 :  10\n",
      "484 :  10\n",
      "485 MPP\n",
      "486 :  10\n",
      "487 MPP\n",
      "488 :  10\n",
      "489 :  10\n",
      "490 :  10\n",
      "491 :  10\n",
      "492 :  10\n",
      "493 MPP\n",
      "494 :  10\n",
      "495 :  10\n",
      "496 :  10\n",
      "497 :  10\n",
      "498 MPP\n",
      "499 :  10\n",
      "500 :  10\n",
      "501 :  10\n",
      "502 :  10\n",
      "503 :  10\n",
      "504 :  10\n",
      "505 MPP\n",
      "506 :  10\n",
      "507 :  10\n",
      "508 :  10\n",
      "509 :  10\n",
      "510 :  10\n",
      "511 :  10\n",
      "512 :  10\n",
      "513 MPP\n",
      "514 :  10\n",
      "515 :  10\n",
      "516 :  10\n",
      "517 :  10\n",
      "518 :  10\n",
      "519 :  10\n",
      "520 :  10\n",
      "521 :  10\n",
      "522 :  10\n",
      "523 :  10\n",
      "524 :  10\n",
      "525 MPP\n",
      "526 MPP\n",
      "527 MPP\n",
      "528 :  10\n",
      "529 :  10\n",
      "530 :  10\n",
      "531 :  10\n",
      "532 :  10\n",
      "533 :  10\n",
      "534 :  10\n",
      "535 :  10\n",
      "536 MPP\n",
      "537 :  10\n",
      "538 :  10\n",
      "539 :  10\n",
      "540 MPP\n",
      "541 :  10\n",
      "542 :  10\n",
      "543 :  10\n",
      "544 :  10\n",
      "545 :  10\n",
      "546 :  10\n",
      "547 :  10\n",
      "548 :  10\n",
      "549 :  10\n",
      "550 MPP\n",
      "551 :  10\n",
      "552 :  10\n",
      "553 :  10\n",
      "554 :  10\n",
      "555 :  10\n",
      "556 MPP\n",
      "557 :  10\n",
      "558 MPP\n",
      "559 :  10\n",
      "560 :  10\n",
      "561 MPP\n",
      "562 MPP\n",
      "563 :  10\n",
      "564 MPP\n",
      "565 :  10\n",
      "566 :  10\n",
      "567 :  10\n",
      "568 :  10\n",
      "569 :  10\n",
      "570 :  10\n",
      "571 :  10\n",
      "572 :  10\n",
      "573 :  10\n",
      "574 :  10\n",
      "575 :  10\n",
      "576 :  10\n",
      "577 :  10\n",
      "578 :  10\n",
      "579 :  10\n",
      "580 :  10\n",
      "581 MPP\n",
      "582 :  10\n",
      "583 :  10\n",
      "584 :  10\n",
      "585 :  10\n",
      "586 :  10\n",
      "587 MPP\n",
      "588 :  10\n",
      "589 :  10\n",
      "590 :  10\n",
      "591 :  10\n",
      "592 :  10\n",
      "593 :  10\n",
      "594 :  10\n",
      "595 :  10\n",
      "596 :  10\n",
      "597 :  10\n",
      "598 :  10\n",
      "599 :  10\n",
      "600 :  10\n",
      "601 :  10\n",
      "602 :  10\n",
      "603 :  10\n",
      "604 MPP\n",
      "605 :  10\n",
      "606 :  10\n",
      "607 :  10\n",
      "608 :  10\n",
      "609 :  10\n",
      "610 :  10\n",
      "611 :  10\n",
      "612 :  10\n",
      "613 :  10\n",
      "614 :  10\n",
      "615 :  10\n",
      "616 :  10\n",
      "617 :  10\n",
      "618 :  10\n",
      "619 :  10\n",
      "620 :  10\n",
      "621 :  10\n",
      "622 :  10\n",
      "623 :  10\n",
      "624 :  10\n",
      "625 :  10\n",
      "626 MPP\n",
      "627 :  10\n",
      "628 MPP\n",
      "629 :  10\n",
      "630 :  10\n",
      "631 MPP\n",
      "632 :  10\n",
      "633 :  10\n",
      "634 :  10\n",
      "635 :  10\n",
      "636 :  10\n",
      "637 :  10\n",
      "638 :  10\n",
      "639 :  10\n",
      "640 :  10\n",
      "641 :  10\n",
      "642 :  10\n",
      "643 :  10\n",
      "644 :  10\n",
      "645 :  10\n",
      "646 :  10\n",
      "647 :  10\n",
      "648 :  10\n",
      "649 :  10\n",
      "650 :  10\n",
      "651 :  10\n",
      "652 :  10\n",
      "653 :  10\n",
      "654 MPP\n",
      "655 :  10\n",
      "656 :  10\n",
      "657 :  10\n",
      "658 MPP\n",
      "659 :  10\n",
      "660 :  10\n",
      "661 :  10\n",
      "662 :  10\n",
      "663 :  10\n",
      "664 :  10\n",
      "665 :  10\n",
      "666 :  10\n",
      "667 :  10\n",
      "668 MPP\n",
      "669 :  10\n",
      "670 :  10\n",
      "671 :  10\n",
      "672 :  10\n",
      "673 :  10\n",
      "674 :  10\n",
      "675 :  10\n",
      "676 :  10\n",
      "677 :  10\n",
      "678 :  10\n",
      "679 :  10\n",
      "680 :  10\n",
      "681 :  10\n",
      "682 :  10\n",
      "683 :  10\n",
      "684 :  10\n",
      "685 MPP\n",
      "686 :  10\n",
      "687 MPP\n",
      "688 :  10\n",
      "689 :  10\n",
      "690 :  10\n",
      "691 :  10\n",
      "692 :  10\n",
      "693 :  10\n",
      "694 :  10\n",
      "695 MPP\n",
      "696 :  10\n",
      "697 :  10\n",
      "698 :  10\n",
      "699 :  10\n",
      "700 :  10\n",
      "701 :  10\n",
      "702 MPP\n",
      "703 :  10\n",
      "704 MPP\n",
      "705 :  10\n",
      "706 :  10\n",
      "707 :  10\n",
      "708 :  10\n",
      "709 :  10\n",
      "710 MPP\n",
      "711 MPP\n",
      "712 :  10\n",
      "713 :  10\n",
      "714 :  10\n",
      "715 :  10\n",
      "716 :  10\n",
      "717 :  10\n",
      "718 :  10\n",
      "719 :  10\n",
      "720 MPP\n",
      "721 :  10\n",
      "722 :  10\n",
      "723 :  10\n",
      "724 MPP\n",
      "725 :  10\n",
      "726 :  10\n",
      "727 :  10\n",
      "728 MPP\n",
      "729 :  10\n",
      "730 :  10\n",
      "731 :  10\n",
      "732 :  10\n",
      "733 MPP\n",
      "734 :  10\n",
      "735 :  10\n",
      "736 :  10\n",
      "737 :  10\n",
      "738 :  10\n",
      "739 :  10\n",
      "740 :  10\n",
      "741 :  10\n",
      "742 :  10\n",
      "743 :  10\n",
      "744 :  10\n",
      "745 :  10\n",
      "746 :  10\n",
      "747 MPP\n",
      "748 :  10\n",
      "749 :  10\n",
      "750 :  10\n",
      "751 MPP\n",
      "752 MPP\n",
      "753 :  10\n",
      "754 :  10\n",
      "755 :  10\n",
      "756 :  10\n",
      "757 MPP\n",
      "758 :  10\n",
      "759 :  10\n",
      "760 :  10\n",
      "761 :  10\n",
      "762 MPP\n",
      "763 :  10\n",
      "764 :  10\n",
      "765 :  10\n",
      "766 :  10\n",
      "767 :  10\n",
      "768 :  10\n",
      "769 :  10\n",
      "770 :  10\n",
      "771 :  10\n",
      "772 :  10\n",
      "773 :  10\n",
      "774 :  10\n",
      "775 :  10\n",
      "776 :  10\n",
      "777 :  10\n",
      "778 :  10\n",
      "779 :  10\n",
      "780 :  10\n",
      "781 :  10\n",
      "782 :  10\n",
      "783 :  10\n",
      "784 MPP\n",
      "785 :  10\n",
      "786 MPP\n",
      "787 :  10\n",
      "788 :  10\n",
      "789 :  10\n",
      "790 :  10\n",
      "791 :  10\n",
      "792 MPP\n",
      "793 :  10\n",
      "794 :  10\n",
      "795 MPP\n",
      "796 MPP\n",
      "797 :  10\n",
      "798 :  10\n",
      "799 :  10\n",
      "800 :  10\n",
      "801 :  10\n",
      "802 :  10\n",
      "803 :  10\n",
      "804 :  10\n",
      "805 :  10\n",
      "806 :  10\n",
      "807 :  10\n",
      "808 :  10\n",
      "809 :  10\n",
      "810 :  10\n",
      "811 :  10\n",
      "812 :  10\n",
      "813 :  10\n",
      "814 :  10\n",
      "815 MPP\n",
      "816 MPP\n",
      "817 :  10\n",
      "818 :  10\n",
      "819 :  10\n",
      "820 :  10\n",
      "821 :  10\n",
      "822 :  10\n",
      "823 :  10\n",
      "824 :  10\n",
      "825 :  10\n",
      "826 :  10\n",
      "827 :  10\n",
      "828 :  10\n",
      "829 :  10\n",
      "830 :  10\n",
      "831 :  10\n",
      "832 :  10\n",
      "833 MPP\n",
      "834 MPP\n",
      "835 MPP\n",
      "836 :  10\n",
      "837 :  10\n",
      "838 MPP\n",
      "839 :  10\n",
      "840 :  10\n",
      "841 :  10\n",
      "842 :  10\n",
      "843 :  10\n",
      "844 :  10\n",
      "845 :  10\n",
      "846 MPP\n",
      "847 :  10\n",
      "848 :  10\n",
      "849 :  10\n",
      "850 MPP\n",
      "851 :  10\n",
      "852 :  10\n",
      "853 :  10\n",
      "854 :  10\n",
      "855 :  10\n"
     ]
    },
    {
     "name": "stdout",
     "output_type": "stream",
     "text": [
      "856 :  10\n",
      "857 :  10\n",
      "858 :  10\n",
      "859 MPP\n",
      "860 :  10\n",
      "861 MPP\n",
      "862 :  10\n",
      "863 :  10\n",
      "864 :  10\n",
      "865 :  10\n",
      "866 :  10\n",
      "867 :  10\n",
      "868 :  10\n",
      "869 :  10\n",
      "870 :  10\n",
      "871 :  10\n",
      "872 MPP\n",
      "873 :  10\n",
      "874 :  10\n",
      "875 :  10\n",
      "876 :  10\n",
      "877 :  10\n",
      "878 MPP\n",
      "879 :  10\n",
      "880 :  10\n",
      "881 :  10\n",
      "882 :  10\n",
      "883 :  10\n",
      "884 MPP\n",
      "885 :  10\n",
      "886 :  10\n",
      "887 :  10\n",
      "888 :  10\n",
      "889 :  10\n",
      "890 :  10\n",
      "891 :  10\n",
      "892 :  10\n",
      "893 :  10\n",
      "894 :  10\n",
      "895 :  10\n",
      "896 :  10\n",
      "897 :  10\n",
      "898 :  10\n",
      "899 :  10\n",
      "900 :  10\n",
      "901 :  10\n",
      "902 MPP\n",
      "903 :  10\n",
      "904 :  10\n",
      "905 :  10\n",
      "906 :  10\n",
      "907 :  10\n",
      "908 :  10\n",
      "909 :  10\n",
      "910 :  10\n",
      "911 :  10\n",
      "912 MPP\n",
      "913 :  10\n",
      "914 :  10\n",
      "915 MPP\n",
      "916 :  10\n",
      "917 MPP\n",
      "918 :  10\n",
      "919 MPP\n",
      "920 :  10\n",
      "921 :  10\n",
      "922 :  10\n",
      "923 :  10\n",
      "924 :  10\n",
      "925 :  10\n",
      "926 :  10\n",
      "927 :  10\n",
      "928 :  10\n",
      "929 :  10\n",
      "930 MPP\n",
      "931 :  10\n",
      "932 MPP\n",
      "933 :  10\n",
      "934 :  10\n",
      "935 :  10\n",
      "936 :  10\n",
      "937 :  10\n",
      "938 :  10\n",
      "939 :  10\n",
      "940 MPP\n",
      "941 :  10\n",
      "942 :  10\n",
      "943 :  10\n",
      "944 MPP\n",
      "945 MPP\n",
      "946 :  10\n",
      "947 :  10\n",
      "948 :  10\n",
      "949 MPP\n",
      "950 MPP\n",
      "951 :  10\n",
      "952 :  10\n",
      "953 :  10\n",
      "954 :  10\n",
      "955 :  10\n",
      "956 MPP\n",
      "957 :  10\n",
      "958 :  10\n",
      "959 :  10\n",
      "960 :  10\n",
      "961 :  10\n",
      "962 MPP\n",
      "963 :  10\n",
      "964 :  10\n",
      "965 :  10\n",
      "966 :  10\n",
      "967 :  10\n",
      "968 :  10\n",
      "969 MPP\n",
      "970 :  10\n",
      "971 :  10\n",
      "972 :  10\n",
      "973 :  10\n",
      "974 MPP\n",
      "975 :  10\n",
      "976 :  10\n",
      "977 :  10\n",
      "978 :  10\n",
      "979 :  10\n",
      "980 :  10\n",
      "981 :  10\n",
      "982 :  10\n",
      "983 :  10\n",
      "984 MPP\n",
      "985 :  10\n",
      "986 :  10\n",
      "987 :  10\n",
      "988 :  10\n",
      "989 :  10\n",
      "990 :  10\n",
      "991 MPP\n",
      "992 :  10\n",
      "993 :  10\n",
      "994 :  10\n",
      "995 :  10\n",
      "996 :  10\n",
      "997 MPP\n",
      "998 :  10\n",
      "999 MPP\n",
      "seconds: 1352.9296200275421\n"
     ]
    }
   ],
   "source": [
    "start = time.time()\n",
    "output = list()\n",
    "most_popular_products = list(data.product_id.value_counts().index[:10])\n",
    "for i, uid in enumerate(vi_challenge_uID[0]):\n",
    "    customer_products = data[data.customer_id == uid].sort_values(by ='timestamp')\n",
    "    product_ids = list(customer_products.product_id)\n",
    "    if product_ids:\n",
    "        recomended = ES_recommender_dis_max(product_ids,\n",
    "                                            fields=[\"title\", \"category_0\", \"category_1\", \"category_2\", \"category_3\", \"category_4\", \"category_5\", \"category_6\"], \n",
    "                                            boosting_recent=False, \n",
    "                                            count=10)\n",
    "        print(i, \": \", len(recomended))\n",
    "        for r in recomended:\n",
    "            output.append([uid, r])\n",
    "    else:\n",
    "        print(i, \"MPP\")\n",
    "        for r in most_popular_products:\n",
    "            output.append([uid, r])\n",
    "print('seconds:', time.time()-start)"
   ]
  },
  {
   "cell_type": "code",
   "execution_count": 24,
   "metadata": {},
   "outputs": [
    {
     "data": {
      "text/plain": [
       "10000"
      ]
     },
     "execution_count": 24,
     "metadata": {},
     "output_type": "execute_result"
    }
   ],
   "source": [
    "submission = pd.DataFrame(output, columns=['customer_id', 'product_id'])\n",
    "submission.to_csv('harnusekSubmission.csv', index=False)\n",
    "len(submission)"
   ]
  },
  {
   "cell_type": "markdown",
   "metadata": {},
   "source": [
    "##### [Naše najlepšie skóre v súťaži:  0.10909](https://www.kaggle.com/harnusek)\n",
    "- použitie `ES_recommender_dis_max, title + all categoties`"
   ]
  },
  {
   "cell_type": "markdown",
   "metadata": {},
   "source": [
    "# 6. Zhodnotenie"
   ]
  },
  {
   "cell_type": "markdown",
   "metadata": {},
   "source": [
    "1. Počas exploračnej analýzy datasetu sme vypočítali štatistické údaje pre každý stĺpec a identifikovali sme potrebu ďalšieho predspracovania\n",
    "\n",
    "2. Následne sme vyparsovali stĺpec `category` na 7 stĺpcov/kategórií, zjednotli sme atribúty rovnakých produktov a vložili všetky produkty do Elasticsearch indexu\n",
    "\n",
    "3. Navrhli sme obsahový odporúčač, ktorý používa Elasticsearch dopyt [More Like This](https://www.elastic.co/guide/en/elasticsearch/reference/current/query-dsl-mlt-query.html)\n",
    "    - vytvorili sme 2 varianty odporúčača:\n",
    "        - `ES_recommender_should`: odporúča produkty, ktoré sú v súčte najpodobnejšie všetkým z trénovacím produtov\n",
    "        - `ES_recommender_dis_max`: odporúča produkty, ktoré sú najpodobnejšie niektorému z trénovacích produtov\n",
    "    - ich vstupom sú mená stĺpce na základe ktorých sa určuje podobnosť \n",
    "    - je možné použiť \"boostovanie\" podobnosti produktov od najnovšie pozeraných po najstaršie (`boosting_recent`)\n",
    "    \n",
    "4. Počas evaluácie sme porovnávali oba viarianty a viaceré nastavenia parametrov s použitím metrík `precision_at_k` a `ndcg_at_k`\n",
    "    - Podľa našich testov je najúspešnejší `ES_recommender_dis_max` s použitím `title`, všetkými kategóriami a `boosting_recent`\n",
    "5. V kaggle súťaži sme dosiahli najlepšie skóre: [0.10909](https://www.kaggle.com/harnusek)\n",
    "    - použitie `ES_recommender_dis_max` s použitím `title` a všetkými kategóriami"
   ]
  },
  {
   "cell_type": "markdown",
   "metadata": {},
   "source": [
    "## Výhody riešenia\n",
    "- vygenerovanie odporúčaní je pomerne rýchle (1000 zákazníkov trvá cca 20 minút)\n",
    "- naše riešenie umožnuje jednoduché pridanie ďalších produktov, bez nutnosti pretrénovania\n",
    "- možnosť jednoduchého experimentovania s parametrami\n",
    "\n",
    "## Nevýhody riešenia\n",
    "- zjednotenie dát a naplnenie indexu bolo veľmi pomalé (>24hodín)\n",
    "- použitie len prístupu založenom na obsahu (v budúcnosti: možnosť použitia popularity produktov `events_number` v indexe)\n",
    "- nepoužitie cien produktov"
   ]
  }
 ],
 "metadata": {
  "kernelspec": {
   "display_name": "Python 3",
   "language": "python",
   "name": "python3"
  },
  "language_info": {
   "codemirror_mode": {
    "name": "ipython",
    "version": 3
   },
   "file_extension": ".py",
   "mimetype": "text/x-python",
   "name": "python",
   "nbconvert_exporter": "python",
   "pygments_lexer": "ipython3",
   "version": "3.7.4"
  }
 },
 "nbformat": 4,
 "nbformat_minor": 2
}
