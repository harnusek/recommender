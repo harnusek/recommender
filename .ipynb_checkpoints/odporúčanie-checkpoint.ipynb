{
 "cells": [
  {
   "cell_type": "code",
   "execution_count": 1,
   "metadata": {},
   "outputs": [],
   "source": [
    "import numpy as np\n",
    "import pandas as pd\n",
    "import matplotlib.pyplot as plt\n",
    "import seaborn as sns\n",
    "import scipy.stats as stats\n",
    "import warnings\n",
    "warnings.filterwarnings('ignore')\n",
    "%matplotlib inline"
   ]
  },
  {
   "cell_type": "markdown",
   "metadata": {},
   "source": [
    "# Exploračná analýza"
   ]
  },
  {
   "cell_type": "markdown",
   "metadata": {},
   "source": [
    "## Tabuľka events"
   ]
  },
  {
   "cell_type": "code",
   "execution_count": 2,
   "metadata": {
    "scrolled": true
   },
   "outputs": [
    {
     "data": {
      "text/html": [
       "<div>\n",
       "<style scoped>\n",
       "    .dataframe tbody tr th:only-of-type {\n",
       "        vertical-align: middle;\n",
       "    }\n",
       "\n",
       "    .dataframe tbody tr th {\n",
       "        vertical-align: top;\n",
       "    }\n",
       "\n",
       "    .dataframe thead th {\n",
       "        text-align: right;\n",
       "    }\n",
       "</style>\n",
       "<table border=\"1\" class=\"dataframe\">\n",
       "  <thead>\n",
       "    <tr style=\"text-align: right;\">\n",
       "      <th></th>\n",
       "      <th>customer_id</th>\n",
       "      <th>timestamp</th>\n",
       "      <th>event_type</th>\n",
       "      <th>product_id</th>\n",
       "      <th>title</th>\n",
       "      <th>category_name</th>\n",
       "      <th>price</th>\n",
       "    </tr>\n",
       "  </thead>\n",
       "  <tbody>\n",
       "    <tr>\n",
       "      <td>12934742</td>\n",
       "      <td>82b3c205-ac14-4268-a11b-e1a24fa65730</td>\n",
       "      <td>2019-08-26 04:31:42.512728 UTC</td>\n",
       "      <td>view_item</td>\n",
       "      <td>a209c9e3-59c6-4567-8848-4b550ca5f8a5</td>\n",
       "      <td>Trendyol Yellow Ruffle Detail Dress</td>\n",
       "      <td>Women&gt;Women's Clothing&gt;Dresses&gt;Mini dress</td>\n",
       "      <td>23.11</td>\n",
       "    </tr>\n",
       "    <tr>\n",
       "      <td>4391614</td>\n",
       "      <td>3d998ca6-1482-4164-9990-e59ca595fae8</td>\n",
       "      <td>2019-07-22 08:08:47.143756 UTC</td>\n",
       "      <td>view_item</td>\n",
       "      <td>fcd526e8-da12-46d3-8fd4-e8ae1acc3476</td>\n",
       "      <td>Pierre Cardin Tipped Polo Shirt Mens</td>\n",
       "      <td>Men&gt;Men Clothing&gt;T-Shirts &amp; Polo shirts&gt;Polo S...</td>\n",
       "      <td>21.86</td>\n",
       "    </tr>\n",
       "    <tr>\n",
       "      <td>6520833</td>\n",
       "      <td>aa11ddba-81f7-4d97-ae70-002fd8304fd9</td>\n",
       "      <td>2019-07-31 21:06:09.270055 UTC</td>\n",
       "      <td>view_item</td>\n",
       "      <td>8c00cff6-c1d5-4d9d-8359-2101884a0c49</td>\n",
       "      <td>LA Gear Woven Shorts Ladies</td>\n",
       "      <td>Women's Clothing&gt;Shorts&gt;Women&gt;Sports shorts</td>\n",
       "      <td>9.19</td>\n",
       "    </tr>\n",
       "    <tr>\n",
       "      <td>10056638</td>\n",
       "      <td>29e666dd-22a6-4813-a35c-b9871d8e207f</td>\n",
       "      <td>2019-08-14 14:07:31.739937 UTC</td>\n",
       "      <td>view_item</td>\n",
       "      <td>a447063b-112e-4de6-a338-26b5bb526193</td>\n",
       "      <td>Nike Air Max Ivo Junior Boys</td>\n",
       "      <td>Children&gt;Children's Footwear&gt;Sneakers&gt;Low snea...</td>\n",
       "      <td>89.81</td>\n",
       "    </tr>\n",
       "    <tr>\n",
       "      <td>5866694</td>\n",
       "      <td>9b689a93-5256-475c-a5ff-bf5bab243bdb</td>\n",
       "      <td>2019-07-29 10:04:45.618652 UTC</td>\n",
       "      <td>view_item</td>\n",
       "      <td>6a393972-b6d4-4039-ac94-acafdbb95307</td>\n",
       "      <td>Muddyfox Sunglasses 100 Adults</td>\n",
       "      <td>Men&gt;Men Accessories&gt;Sunglasses</td>\n",
       "      <td>14.91</td>\n",
       "    </tr>\n",
       "    <tr>\n",
       "      <td>5446731</td>\n",
       "      <td>8ea10a87-9128-4fe4-8f33-d9e3ee33b472</td>\n",
       "      <td>2019-07-27 14:12:50.712225 UTC</td>\n",
       "      <td>view_item</td>\n",
       "      <td>e16d9ce5-5d00-4865-8eab-c4346363c2e2</td>\n",
       "      <td>Trendyol Purple Lace Detail Dress</td>\n",
       "      <td>Women&gt;Women's Clothing&gt;Dresses</td>\n",
       "      <td>43.49</td>\n",
       "    </tr>\n",
       "    <tr>\n",
       "      <td>489295</td>\n",
       "      <td>caeaf557-3c2b-480a-86c7-0604086641bd</td>\n",
       "      <td>2019-07-03 08:53:36.87434 UTC</td>\n",
       "      <td>view_item</td>\n",
       "      <td>83b1d8b7-f90c-4d7a-808c-319c0522d01c</td>\n",
       "      <td>Adidas Crazychaos Mens Trainers</td>\n",
       "      <td>NaN</td>\n",
       "      <td>88.12</td>\n",
       "    </tr>\n",
       "    <tr>\n",
       "      <td>782948</td>\n",
       "      <td>993ff133-d5f0-4fbd-9e83-35a28a686d71</td>\n",
       "      <td>2019-07-04 17:13:16.005438 UTC</td>\n",
       "      <td>view_item</td>\n",
       "      <td>ad3cbbad-db3d-46ae-bf9e-2f119ca0ba1a</td>\n",
       "      <td>Lee Cooper Cooper Essentials Crew Neck T Shirt...</td>\n",
       "      <td>NaN</td>\n",
       "      <td>13.68</td>\n",
       "    </tr>\n",
       "    <tr>\n",
       "      <td>2483776</td>\n",
       "      <td>b37482b8-31eb-4bc5-be73-c240972c6b6e</td>\n",
       "      <td>2019-07-13 07:47:01.871323 UTC</td>\n",
       "      <td>view_item</td>\n",
       "      <td>de08d80a-59f9-41de-8be2-8aec341326de</td>\n",
       "      <td>Lee Cooper Cooper Basic Vest Mens</td>\n",
       "      <td>NaN</td>\n",
       "      <td>6.66</td>\n",
       "    </tr>\n",
       "    <tr>\n",
       "      <td>14337944</td>\n",
       "      <td>7479e25c-143c-4ec4-99d3-964583271ac9</td>\n",
       "      <td>2019-08-30 22:03:20.109117 UTC</td>\n",
       "      <td>view_item</td>\n",
       "      <td>ceb3ace6-9874-4320-9485-5eebdda0f2a8</td>\n",
       "      <td>Trendyol Purple Belt Detailed Knitting Dress</td>\n",
       "      <td>Women&gt;Women's Clothing&gt;Dresses&gt;Summer and beac...</td>\n",
       "      <td>11.99</td>\n",
       "    </tr>\n",
       "  </tbody>\n",
       "</table>\n",
       "</div>"
      ],
      "text/plain": [
       "                                   customer_id  \\\n",
       "12934742  82b3c205-ac14-4268-a11b-e1a24fa65730   \n",
       "4391614   3d998ca6-1482-4164-9990-e59ca595fae8   \n",
       "6520833   aa11ddba-81f7-4d97-ae70-002fd8304fd9   \n",
       "10056638  29e666dd-22a6-4813-a35c-b9871d8e207f   \n",
       "5866694   9b689a93-5256-475c-a5ff-bf5bab243bdb   \n",
       "5446731   8ea10a87-9128-4fe4-8f33-d9e3ee33b472   \n",
       "489295    caeaf557-3c2b-480a-86c7-0604086641bd   \n",
       "782948    993ff133-d5f0-4fbd-9e83-35a28a686d71   \n",
       "2483776   b37482b8-31eb-4bc5-be73-c240972c6b6e   \n",
       "14337944  7479e25c-143c-4ec4-99d3-964583271ac9   \n",
       "\n",
       "                               timestamp event_type  \\\n",
       "12934742  2019-08-26 04:31:42.512728 UTC  view_item   \n",
       "4391614   2019-07-22 08:08:47.143756 UTC  view_item   \n",
       "6520833   2019-07-31 21:06:09.270055 UTC  view_item   \n",
       "10056638  2019-08-14 14:07:31.739937 UTC  view_item   \n",
       "5866694   2019-07-29 10:04:45.618652 UTC  view_item   \n",
       "5446731   2019-07-27 14:12:50.712225 UTC  view_item   \n",
       "489295     2019-07-03 08:53:36.87434 UTC  view_item   \n",
       "782948    2019-07-04 17:13:16.005438 UTC  view_item   \n",
       "2483776   2019-07-13 07:47:01.871323 UTC  view_item   \n",
       "14337944  2019-08-30 22:03:20.109117 UTC  view_item   \n",
       "\n",
       "                                    product_id  \\\n",
       "12934742  a209c9e3-59c6-4567-8848-4b550ca5f8a5   \n",
       "4391614   fcd526e8-da12-46d3-8fd4-e8ae1acc3476   \n",
       "6520833   8c00cff6-c1d5-4d9d-8359-2101884a0c49   \n",
       "10056638  a447063b-112e-4de6-a338-26b5bb526193   \n",
       "5866694   6a393972-b6d4-4039-ac94-acafdbb95307   \n",
       "5446731   e16d9ce5-5d00-4865-8eab-c4346363c2e2   \n",
       "489295    83b1d8b7-f90c-4d7a-808c-319c0522d01c   \n",
       "782948    ad3cbbad-db3d-46ae-bf9e-2f119ca0ba1a   \n",
       "2483776   de08d80a-59f9-41de-8be2-8aec341326de   \n",
       "14337944  ceb3ace6-9874-4320-9485-5eebdda0f2a8   \n",
       "\n",
       "                                                      title  \\\n",
       "12934742                Trendyol Yellow Ruffle Detail Dress   \n",
       "4391614                Pierre Cardin Tipped Polo Shirt Mens   \n",
       "6520833                         LA Gear Woven Shorts Ladies   \n",
       "10056638                       Nike Air Max Ivo Junior Boys   \n",
       "5866694                      Muddyfox Sunglasses 100 Adults   \n",
       "5446731                   Trendyol Purple Lace Detail Dress   \n",
       "489295                      Adidas Crazychaos Mens Trainers   \n",
       "782948    Lee Cooper Cooper Essentials Crew Neck T Shirt...   \n",
       "2483776                   Lee Cooper Cooper Basic Vest Mens   \n",
       "14337944       Trendyol Purple Belt Detailed Knitting Dress   \n",
       "\n",
       "                                              category_name  price  \n",
       "12934742          Women>Women's Clothing>Dresses>Mini dress  23.11  \n",
       "4391614   Men>Men Clothing>T-Shirts & Polo shirts>Polo S...  21.86  \n",
       "6520833         Women's Clothing>Shorts>Women>Sports shorts   9.19  \n",
       "10056638  Children>Children's Footwear>Sneakers>Low snea...  89.81  \n",
       "5866694                      Men>Men Accessories>Sunglasses  14.91  \n",
       "5446731                      Women>Women's Clothing>Dresses  43.49  \n",
       "489295                                                  NaN  88.12  \n",
       "782948                                                  NaN  13.68  \n",
       "2483776                                                 NaN   6.66  \n",
       "14337944  Women>Women's Clothing>Dresses>Summer and beac...  11.99  "
      ]
     },
     "execution_count": 2,
     "metadata": {},
     "output_type": "execute_result"
    }
   ],
   "source": [
    "events = pd.read_csv('vi_data/events_train.csv')\n",
    "events.sample(10)"
   ]
  },
  {
   "cell_type": "code",
   "execution_count": 4,
   "metadata": {},
   "outputs": [
    {
     "data": {
      "text/plain": [
       "(14614385, 7)"
      ]
     },
     "execution_count": 4,
     "metadata": {},
     "output_type": "execute_result"
    }
   ],
   "source": [
    "events.shape"
   ]
  },
  {
   "cell_type": "code",
   "execution_count": 5,
   "metadata": {
    "scrolled": true
   },
   "outputs": [
    {
     "data": {
      "text/plain": [
       "array(['view_item'], dtype=object)"
      ]
     },
     "execution_count": 5,
     "metadata": {},
     "output_type": "execute_result"
    }
   ],
   "source": [
    "events.event_type.unique()"
   ]
  },
  {
   "cell_type": "markdown",
   "metadata": {},
   "source": [
    "## Tabuľka purchases"
   ]
  },
  {
   "cell_type": "code",
   "execution_count": 3,
   "metadata": {
    "scrolled": false
   },
   "outputs": [
    {
     "data": {
      "text/html": [
       "<div>\n",
       "<style scoped>\n",
       "    .dataframe tbody tr th:only-of-type {\n",
       "        vertical-align: middle;\n",
       "    }\n",
       "\n",
       "    .dataframe tbody tr th {\n",
       "        vertical-align: top;\n",
       "    }\n",
       "\n",
       "    .dataframe thead th {\n",
       "        text-align: right;\n",
       "    }\n",
       "</style>\n",
       "<table border=\"1\" class=\"dataframe\">\n",
       "  <thead>\n",
       "    <tr style=\"text-align: right;\">\n",
       "      <th></th>\n",
       "      <th>customer_id</th>\n",
       "      <th>timestamp</th>\n",
       "      <th>event_type</th>\n",
       "      <th>product_id</th>\n",
       "      <th>title</th>\n",
       "      <th>category_name</th>\n",
       "      <th>price</th>\n",
       "    </tr>\n",
       "  </thead>\n",
       "  <tbody>\n",
       "    <tr>\n",
       "      <td>97576</td>\n",
       "      <td>f103cb77-74a1-4321-9c95-0080b876dce1</td>\n",
       "      <td>2019-08-04 14:20:01.114696 UTC</td>\n",
       "      <td>purchase_item</td>\n",
       "      <td>b572f0d3-5d63-4695-808f-932969ba1bdb</td>\n",
       "      <td>Kids socks MANY MORNINGS</td>\n",
       "      <td>Children&gt;Girl's Clothing&gt;Underwear&gt;Socks</td>\n",
       "      <td>3.51</td>\n",
       "    </tr>\n",
       "    <tr>\n",
       "      <td>97947</td>\n",
       "      <td>39843a42-b9f2-4858-b000-b960fa9ec739</td>\n",
       "      <td>2019-08-04 16:22:00.629292 UTC</td>\n",
       "      <td>purchase_item</td>\n",
       "      <td>6e82ee55-6a61-48f0-ae26-bf73ebce4d86</td>\n",
       "      <td>Womens hoodie Fruit of the Loom Basic</td>\n",
       "      <td>Women&gt;Women's Clothing&gt;Sweatshirts&gt;Hoodies</td>\n",
       "      <td>9.01</td>\n",
       "    </tr>\n",
       "    <tr>\n",
       "      <td>65238</td>\n",
       "      <td>1ae583a2-5730-4ff6-afa6-d76ee7757b7a</td>\n",
       "      <td>2019-07-25 11:27:55.507235 UTC</td>\n",
       "      <td>purchase_item</td>\n",
       "      <td>023ed07b-b1f4-4b75-be0d-56330528a799</td>\n",
       "      <td>Muddyfox Cycle Jacket Mens</td>\n",
       "      <td>Men&gt;Men Clothing&gt;Jackets &amp; Coats&gt;Lightweight s...</td>\n",
       "      <td>26.49</td>\n",
       "    </tr>\n",
       "    <tr>\n",
       "      <td>54762</td>\n",
       "      <td>a3c411c0-f31a-4f4d-9140-f1a766ae3b46</td>\n",
       "      <td>2019-07-20 20:24:40.817386 UTC</td>\n",
       "      <td>purchase_item</td>\n",
       "      <td>c0bc3023-a401-4790-ad6c-7e58ff8fb975</td>\n",
       "      <td>Trendyol Orange high waist Bikini bottom</td>\n",
       "      <td>Women&gt;Women's Clothing&gt;Swimmsuits &amp; bikins</td>\n",
       "      <td>11.58</td>\n",
       "    </tr>\n",
       "    <tr>\n",
       "      <td>124888</td>\n",
       "      <td>6c6fb741-1d37-4570-ae63-5e758875a5d2</td>\n",
       "      <td>2019-08-12 09:38:44.866307 UTC</td>\n",
       "      <td>purchase_item</td>\n",
       "      <td>73608106-72cd-4370-b6d4-a3bfd599b7c0</td>\n",
       "      <td>Nike Tanjun Girls Trainers</td>\n",
       "      <td>Women&gt;Women's Footwear&gt;Sneakers&gt;Sport sneakers</td>\n",
       "      <td>52.43</td>\n",
       "    </tr>\n",
       "    <tr>\n",
       "      <td>75922</td>\n",
       "      <td>49e43e9f-a8b0-44bc-b5c8-3e70df3cfb4d</td>\n",
       "      <td>2019-07-29 08:31:00.299825 UTC</td>\n",
       "      <td>purchase_item</td>\n",
       "      <td>d94e8a8d-64e0-4fca-953f-9b762f49a7db</td>\n",
       "      <td>Women's Dress NUMOCO 59</td>\n",
       "      <td>Women&gt;Women's Clothing&gt;Dresses&gt;Mini dress</td>\n",
       "      <td>29.40</td>\n",
       "    </tr>\n",
       "    <tr>\n",
       "      <td>90685</td>\n",
       "      <td>19dd5075-3d49-4a87-9011-a0a51fb58a61</td>\n",
       "      <td>2019-08-02 17:14:04.209189 UTC</td>\n",
       "      <td>purchase_item</td>\n",
       "      <td>c29fe27a-2146-4d77-8163-b0f6294e0354</td>\n",
       "      <td>Trendyol Khaki Swimsuit</td>\n",
       "      <td>Women&gt;Women's Clothing&gt;Swimmsuits &amp; bikins&gt;One...</td>\n",
       "      <td>28.56</td>\n",
       "    </tr>\n",
       "    <tr>\n",
       "      <td>178054</td>\n",
       "      <td>8d67f4be-60e5-44a8-a225-0c29e1c4d284</td>\n",
       "      <td>2019-08-28 19:27:07.030909 UTC</td>\n",
       "      <td>purchase_item</td>\n",
       "      <td>b8e230bc-dbb1-492b-9799-9eb9582c40ba</td>\n",
       "      <td>Slazenger 3 Pack Briefs Mens</td>\n",
       "      <td>Men&gt;Men Clothing&gt;Underwear&gt;Briefs</td>\n",
       "      <td>9.96</td>\n",
       "    </tr>\n",
       "    <tr>\n",
       "      <td>126916</td>\n",
       "      <td>1809e145-1096-456a-b0b0-2fc99d3438b9</td>\n",
       "      <td>2019-08-12 18:55:47.886959 UTC</td>\n",
       "      <td>purchase_item</td>\n",
       "      <td>a2e6be59-8f01-4543-b536-09403038d415</td>\n",
       "      <td>Women's Briefs Lee Cooper 2 Pack</td>\n",
       "      <td>Women&gt;Women's Clothing&gt;Underwear&gt;Panties</td>\n",
       "      <td>4.41</td>\n",
       "    </tr>\n",
       "    <tr>\n",
       "      <td>120498</td>\n",
       "      <td>6b836d2b-3c46-4db7-8c38-d7550330b57c</td>\n",
       "      <td>2019-08-10 22:07:49.137156 UTC</td>\n",
       "      <td>purchase_item</td>\n",
       "      <td>3973d445-ba2a-4eb4-8bc1-b227a1faa9ea</td>\n",
       "      <td>Lee Cooper Boxers 5 Pack</td>\n",
       "      <td>Men&gt;Men Clothing&gt;Underwear</td>\n",
       "      <td>11.52</td>\n",
       "    </tr>\n",
       "  </tbody>\n",
       "</table>\n",
       "</div>"
      ],
      "text/plain": [
       "                                 customer_id                       timestamp  \\\n",
       "97576   f103cb77-74a1-4321-9c95-0080b876dce1  2019-08-04 14:20:01.114696 UTC   \n",
       "97947   39843a42-b9f2-4858-b000-b960fa9ec739  2019-08-04 16:22:00.629292 UTC   \n",
       "65238   1ae583a2-5730-4ff6-afa6-d76ee7757b7a  2019-07-25 11:27:55.507235 UTC   \n",
       "54762   a3c411c0-f31a-4f4d-9140-f1a766ae3b46  2019-07-20 20:24:40.817386 UTC   \n",
       "124888  6c6fb741-1d37-4570-ae63-5e758875a5d2  2019-08-12 09:38:44.866307 UTC   \n",
       "75922   49e43e9f-a8b0-44bc-b5c8-3e70df3cfb4d  2019-07-29 08:31:00.299825 UTC   \n",
       "90685   19dd5075-3d49-4a87-9011-a0a51fb58a61  2019-08-02 17:14:04.209189 UTC   \n",
       "178054  8d67f4be-60e5-44a8-a225-0c29e1c4d284  2019-08-28 19:27:07.030909 UTC   \n",
       "126916  1809e145-1096-456a-b0b0-2fc99d3438b9  2019-08-12 18:55:47.886959 UTC   \n",
       "120498  6b836d2b-3c46-4db7-8c38-d7550330b57c  2019-08-10 22:07:49.137156 UTC   \n",
       "\n",
       "           event_type                            product_id  \\\n",
       "97576   purchase_item  b572f0d3-5d63-4695-808f-932969ba1bdb   \n",
       "97947   purchase_item  6e82ee55-6a61-48f0-ae26-bf73ebce4d86   \n",
       "65238   purchase_item  023ed07b-b1f4-4b75-be0d-56330528a799   \n",
       "54762   purchase_item  c0bc3023-a401-4790-ad6c-7e58ff8fb975   \n",
       "124888  purchase_item  73608106-72cd-4370-b6d4-a3bfd599b7c0   \n",
       "75922   purchase_item  d94e8a8d-64e0-4fca-953f-9b762f49a7db   \n",
       "90685   purchase_item  c29fe27a-2146-4d77-8163-b0f6294e0354   \n",
       "178054  purchase_item  b8e230bc-dbb1-492b-9799-9eb9582c40ba   \n",
       "126916  purchase_item  a2e6be59-8f01-4543-b536-09403038d415   \n",
       "120498  purchase_item  3973d445-ba2a-4eb4-8bc1-b227a1faa9ea   \n",
       "\n",
       "                                           title  \\\n",
       "97576                   Kids socks MANY MORNINGS   \n",
       "97947      Womens hoodie Fruit of the Loom Basic   \n",
       "65238                 Muddyfox Cycle Jacket Mens   \n",
       "54762   Trendyol Orange high waist Bikini bottom   \n",
       "124888                Nike Tanjun Girls Trainers   \n",
       "75922                    Women's Dress NUMOCO 59   \n",
       "90685                    Trendyol Khaki Swimsuit   \n",
       "178054              Slazenger 3 Pack Briefs Mens   \n",
       "126916          Women's Briefs Lee Cooper 2 Pack   \n",
       "120498                  Lee Cooper Boxers 5 Pack   \n",
       "\n",
       "                                            category_name  price  \n",
       "97576            Children>Girl's Clothing>Underwear>Socks   3.51  \n",
       "97947          Women>Women's Clothing>Sweatshirts>Hoodies   9.01  \n",
       "65238   Men>Men Clothing>Jackets & Coats>Lightweight s...  26.49  \n",
       "54762          Women>Women's Clothing>Swimmsuits & bikins  11.58  \n",
       "124888     Women>Women's Footwear>Sneakers>Sport sneakers  52.43  \n",
       "75922           Women>Women's Clothing>Dresses>Mini dress  29.40  \n",
       "90685   Women>Women's Clothing>Swimmsuits & bikins>One...  28.56  \n",
       "178054                  Men>Men Clothing>Underwear>Briefs   9.96  \n",
       "126916           Women>Women's Clothing>Underwear>Panties   4.41  \n",
       "120498                         Men>Men Clothing>Underwear  11.52  "
      ]
     },
     "execution_count": 3,
     "metadata": {},
     "output_type": "execute_result"
    }
   ],
   "source": [
    "purchases = pd.read_csv('vi_data/purchases_train.csv')\n",
    "purchases.sample(10) "
   ]
  },
  {
   "cell_type": "code",
   "execution_count": 7,
   "metadata": {
    "scrolled": false
   },
   "outputs": [
    {
     "data": {
      "text/plain": [
       "(188712, 7)"
      ]
     },
     "execution_count": 7,
     "metadata": {},
     "output_type": "execute_result"
    }
   ],
   "source": [
    "purchases.shape"
   ]
  },
  {
   "cell_type": "code",
   "execution_count": 8,
   "metadata": {},
   "outputs": [
    {
     "data": {
      "text/plain": [
       "array(['purchase_item'], dtype=object)"
      ]
     },
     "execution_count": 8,
     "metadata": {},
     "output_type": "execute_result"
    }
   ],
   "source": [
    "purchases.event_type.unique()"
   ]
  },
  {
   "cell_type": "markdown",
   "metadata": {},
   "source": [
    "tabulky events a purchaches majú roznaké stĺpce "
   ]
  },
  {
   "cell_type": "markdown",
   "metadata": {},
   "source": [
    "## Spojenie events and purchases"
   ]
  },
  {
   "cell_type": "code",
   "execution_count": 4,
   "metadata": {
    "scrolled": true
   },
   "outputs": [
    {
     "data": {
      "text/html": [
       "<div>\n",
       "<style scoped>\n",
       "    .dataframe tbody tr th:only-of-type {\n",
       "        vertical-align: middle;\n",
       "    }\n",
       "\n",
       "    .dataframe tbody tr th {\n",
       "        vertical-align: top;\n",
       "    }\n",
       "\n",
       "    .dataframe thead th {\n",
       "        text-align: right;\n",
       "    }\n",
       "</style>\n",
       "<table border=\"1\" class=\"dataframe\">\n",
       "  <thead>\n",
       "    <tr style=\"text-align: right;\">\n",
       "      <th></th>\n",
       "      <th>customer_id</th>\n",
       "      <th>timestamp</th>\n",
       "      <th>event_type</th>\n",
       "      <th>product_id</th>\n",
       "      <th>title</th>\n",
       "      <th>category_name</th>\n",
       "      <th>price</th>\n",
       "    </tr>\n",
       "  </thead>\n",
       "  <tbody>\n",
       "    <tr>\n",
       "      <td>7432605</td>\n",
       "      <td>6abcc5fa-ad10-48e2-a5a5-443d98e32138</td>\n",
       "      <td>2019-08-04 14:53:48.692227 UTC</td>\n",
       "      <td>view_item</td>\n",
       "      <td>2d3d0e2c-112f-468f-878b-694dfbcf501b</td>\n",
       "      <td>Firetrap LDN Bum Bag 93</td>\n",
       "      <td>Accessories &gt;Backpacks and Bags&gt;Bum bags</td>\n",
       "      <td>20.45</td>\n",
       "    </tr>\n",
       "    <tr>\n",
       "      <td>9645703</td>\n",
       "      <td>8d8feb23-b700-47e6-8509-34a3f8413a10</td>\n",
       "      <td>2019-08-12 20:01:36.577007 UTC</td>\n",
       "      <td>view_item</td>\n",
       "      <td>15b3e401-6159-46e2-94dd-1456cd144597</td>\n",
       "      <td>Puma Court Breaker Mens Trainers</td>\n",
       "      <td>Men&gt;Men Footwear&gt;Sneakers&gt;Low sneakers</td>\n",
       "      <td>50.62</td>\n",
       "    </tr>\n",
       "    <tr>\n",
       "      <td>12831915</td>\n",
       "      <td>1ceedea3-9d2f-41ea-ab06-410e157ce2bb</td>\n",
       "      <td>2019-08-25 17:17:28.629495 UTC</td>\n",
       "      <td>view_item</td>\n",
       "      <td>7093f50c-c7d9-4015-ab6e-bc832b9d44ff</td>\n",
       "      <td>Lemoniade Woman's Sweater LS213</td>\n",
       "      <td>Women&gt;Women's Clothing&gt;Sweaters &amp; Cardigans&gt;Ca...</td>\n",
       "      <td>34.12</td>\n",
       "    </tr>\n",
       "    <tr>\n",
       "      <td>2380034</td>\n",
       "      <td>69080ffe-407a-44ee-91bc-e82d4e9d6e5d</td>\n",
       "      <td>2019-07-12 16:14:09.839359 UTC</td>\n",
       "      <td>view_item</td>\n",
       "      <td>a1547fd5-c6c0-4dc0-989d-5fe286c893d6</td>\n",
       "      <td>DC Blitz II Trainers Mens</td>\n",
       "      <td>NaN</td>\n",
       "      <td>73.69</td>\n",
       "    </tr>\n",
       "    <tr>\n",
       "      <td>7734169</td>\n",
       "      <td>817d8add-1e27-4db9-94d2-6624e89e0e15</td>\n",
       "      <td>2019-08-05 15:48:34.34332 UTC</td>\n",
       "      <td>view_item</td>\n",
       "      <td>827bda66-2718-4549-8d56-39bfd1772a5b</td>\n",
       "      <td>Pierre Cardin Stripe Swimshorts Mens</td>\n",
       "      <td>Men&gt;Men Clothing&gt;Shorts</td>\n",
       "      <td>13.15</td>\n",
       "    </tr>\n",
       "    <tr>\n",
       "      <td>11914618</td>\n",
       "      <td>93234677-a0ae-423c-bef6-a05532f0f24e</td>\n",
       "      <td>2019-08-22 05:54:33.776936 UTC</td>\n",
       "      <td>view_item</td>\n",
       "      <td>f43e7f41-691f-4474-939c-a7487d82ce3c</td>\n",
       "      <td>Crafted Junior Boys 3 Pack Jog Set</td>\n",
       "      <td>Children&gt;Boy's Clothing&gt;Boy's sets</td>\n",
       "      <td>20.14</td>\n",
       "    </tr>\n",
       "    <tr>\n",
       "      <td>8511242</td>\n",
       "      <td>222791a6-09c0-497e-8b7a-e05a19e95877</td>\n",
       "      <td>2019-08-08 11:41:39.312886 UTC</td>\n",
       "      <td>view_item</td>\n",
       "      <td>b5861be8-fec3-4058-959d-f47f015f1598</td>\n",
       "      <td>Prince Reflex Mens Tennis Shoes</td>\n",
       "      <td>Men&gt;Men Footwear&gt;Sneakers&gt;Sport sneakers</td>\n",
       "      <td>57.42</td>\n",
       "    </tr>\n",
       "    <tr>\n",
       "      <td>6251879</td>\n",
       "      <td>464b63ec-0142-4a72-8cd9-fb0b7f0132d2</td>\n",
       "      <td>2019-07-30 20:04:46.710069 UTC</td>\n",
       "      <td>view_item</td>\n",
       "      <td>fa7b221d-95a1-48a3-96b2-c19a2bc6e7dc</td>\n",
       "      <td>Trendyol Black Patent Leather Detailed Women's...</td>\n",
       "      <td>Women&gt;Women's Footwear&gt;Court shoes</td>\n",
       "      <td>25.26</td>\n",
       "    </tr>\n",
       "    <tr>\n",
       "      <td>4502318</td>\n",
       "      <td>46d04df5-6331-4e61-b907-3f29f00b133c</td>\n",
       "      <td>2019-07-22 17:54:34.156284 UTC</td>\n",
       "      <td>view_item</td>\n",
       "      <td>6aa5329b-719e-4087-aaad-8f24a9ce24c0</td>\n",
       "      <td>Slazenger Canvas Kung Snr93</td>\n",
       "      <td>Men&gt;Men Footwear&gt;Sneakers&gt;Low sneakers</td>\n",
       "      <td>16.97</td>\n",
       "    </tr>\n",
       "    <tr>\n",
       "      <td>9041043</td>\n",
       "      <td>1ad4cf0a-c156-4888-924d-88d5cf39d788</td>\n",
       "      <td>2019-08-10 14:08:07.641959 UTC</td>\n",
       "      <td>view_item</td>\n",
       "      <td>d5a8b3f3-da4e-4009-89c6-f8102a256a8c</td>\n",
       "      <td>Blowfish Balta Boots</td>\n",
       "      <td>Women&gt;Women's Footwear&gt;Ankle shoes&gt;on wedge heel</td>\n",
       "      <td>38.14</td>\n",
       "    </tr>\n",
       "  </tbody>\n",
       "</table>\n",
       "</div>"
      ],
      "text/plain": [
       "                                   customer_id  \\\n",
       "7432605   6abcc5fa-ad10-48e2-a5a5-443d98e32138   \n",
       "9645703   8d8feb23-b700-47e6-8509-34a3f8413a10   \n",
       "12831915  1ceedea3-9d2f-41ea-ab06-410e157ce2bb   \n",
       "2380034   69080ffe-407a-44ee-91bc-e82d4e9d6e5d   \n",
       "7734169   817d8add-1e27-4db9-94d2-6624e89e0e15   \n",
       "11914618  93234677-a0ae-423c-bef6-a05532f0f24e   \n",
       "8511242   222791a6-09c0-497e-8b7a-e05a19e95877   \n",
       "6251879   464b63ec-0142-4a72-8cd9-fb0b7f0132d2   \n",
       "4502318   46d04df5-6331-4e61-b907-3f29f00b133c   \n",
       "9041043   1ad4cf0a-c156-4888-924d-88d5cf39d788   \n",
       "\n",
       "                               timestamp event_type  \\\n",
       "7432605   2019-08-04 14:53:48.692227 UTC  view_item   \n",
       "9645703   2019-08-12 20:01:36.577007 UTC  view_item   \n",
       "12831915  2019-08-25 17:17:28.629495 UTC  view_item   \n",
       "2380034   2019-07-12 16:14:09.839359 UTC  view_item   \n",
       "7734169    2019-08-05 15:48:34.34332 UTC  view_item   \n",
       "11914618  2019-08-22 05:54:33.776936 UTC  view_item   \n",
       "8511242   2019-08-08 11:41:39.312886 UTC  view_item   \n",
       "6251879   2019-07-30 20:04:46.710069 UTC  view_item   \n",
       "4502318   2019-07-22 17:54:34.156284 UTC  view_item   \n",
       "9041043   2019-08-10 14:08:07.641959 UTC  view_item   \n",
       "\n",
       "                                    product_id  \\\n",
       "7432605   2d3d0e2c-112f-468f-878b-694dfbcf501b   \n",
       "9645703   15b3e401-6159-46e2-94dd-1456cd144597   \n",
       "12831915  7093f50c-c7d9-4015-ab6e-bc832b9d44ff   \n",
       "2380034   a1547fd5-c6c0-4dc0-989d-5fe286c893d6   \n",
       "7734169   827bda66-2718-4549-8d56-39bfd1772a5b   \n",
       "11914618  f43e7f41-691f-4474-939c-a7487d82ce3c   \n",
       "8511242   b5861be8-fec3-4058-959d-f47f015f1598   \n",
       "6251879   fa7b221d-95a1-48a3-96b2-c19a2bc6e7dc   \n",
       "4502318   6aa5329b-719e-4087-aaad-8f24a9ce24c0   \n",
       "9041043   d5a8b3f3-da4e-4009-89c6-f8102a256a8c   \n",
       "\n",
       "                                                      title  \\\n",
       "7432605                             Firetrap LDN Bum Bag 93   \n",
       "9645703                    Puma Court Breaker Mens Trainers   \n",
       "12831915                    Lemoniade Woman's Sweater LS213   \n",
       "2380034                           DC Blitz II Trainers Mens   \n",
       "7734169                Pierre Cardin Stripe Swimshorts Mens   \n",
       "11914618                 Crafted Junior Boys 3 Pack Jog Set   \n",
       "8511242                     Prince Reflex Mens Tennis Shoes   \n",
       "6251879   Trendyol Black Patent Leather Detailed Women's...   \n",
       "4502318                         Slazenger Canvas Kung Snr93   \n",
       "9041043                                Blowfish Balta Boots   \n",
       "\n",
       "                                              category_name  price  \n",
       "7432605            Accessories >Backpacks and Bags>Bum bags  20.45  \n",
       "9645703              Men>Men Footwear>Sneakers>Low sneakers  50.62  \n",
       "12831915  Women>Women's Clothing>Sweaters & Cardigans>Ca...  34.12  \n",
       "2380034                                                 NaN  73.69  \n",
       "7734169                             Men>Men Clothing>Shorts  13.15  \n",
       "11914618                 Children>Boy's Clothing>Boy's sets  20.14  \n",
       "8511242            Men>Men Footwear>Sneakers>Sport sneakers  57.42  \n",
       "6251879                  Women>Women's Footwear>Court shoes  25.26  \n",
       "4502318              Men>Men Footwear>Sneakers>Low sneakers  16.97  \n",
       "9041043    Women>Women's Footwear>Ankle shoes>on wedge heel  38.14  "
      ]
     },
     "execution_count": 4,
     "metadata": {},
     "output_type": "execute_result"
    }
   ],
   "source": [
    "data = pd.concat([events, purchases], ignore_index=True)\n",
    "data.sample(10)"
   ]
  },
  {
   "cell_type": "code",
   "execution_count": 25,
   "metadata": {
    "scrolled": true
   },
   "outputs": [
    {
     "name": "stdout",
     "output_type": "stream",
     "text": [
      "14803097\n",
      "7\n"
     ]
    }
   ],
   "source": [
    "rows_num, cols_num = data.shape\n",
    "print(rows_num)\n",
    "print(cols_num)"
   ]
  },
  {
   "cell_type": "code",
   "execution_count": 5,
   "metadata": {},
   "outputs": [],
   "source": [
    "del events\n",
    "del purchases"
   ]
  },
  {
   "cell_type": "markdown",
   "metadata": {},
   "source": [
    "## Atribúty"
   ]
  },
  {
   "cell_type": "markdown",
   "metadata": {},
   "source": [
    "### customer_id"
   ]
  },
  {
   "cell_type": "code",
   "execution_count": 11,
   "metadata": {
    "scrolled": true
   },
   "outputs": [
    {
     "data": {
      "text/plain": [
       "count                                 14803097\n",
       "unique                                 2211386\n",
       "top       53f841c7-970b-4e0b-96bf-97a95ecfb734\n",
       "freq                                      4804\n",
       "Name: customer_id, dtype: object"
      ]
     },
     "execution_count": 11,
     "metadata": {},
     "output_type": "execute_result"
    }
   ],
   "source": [
    "data.customer_id.describe()"
   ]
  },
  {
   "cell_type": "code",
   "execution_count": 12,
   "metadata": {
    "scrolled": false
   },
   "outputs": [
    {
     "data": {
      "text/plain": [
       "0"
      ]
     },
     "execution_count": 12,
     "metadata": {},
     "output_type": "execute_result"
    }
   ],
   "source": [
    "len(data[data.customer_id.isna()])"
   ]
  },
  {
   "cell_type": "code",
   "execution_count": 13,
   "metadata": {},
   "outputs": [
    {
     "data": {
      "text/plain": [
       "6.694035776657716"
      ]
     },
     "execution_count": 13,
     "metadata": {},
     "output_type": "execute_result"
    }
   ],
   "source": [
    "rows_num/len(data.customer_id.unique())"
   ]
  },
  {
   "cell_type": "code",
   "execution_count": 14,
   "metadata": {
    "scrolled": true
   },
   "outputs": [
    {
     "data": {
      "text/plain": [
       "2.0"
      ]
     },
     "execution_count": 14,
     "metadata": {},
     "output_type": "execute_result"
    }
   ],
   "source": [
    "data.groupby(['customer_id']).count()['timestamp'].median()"
   ]
  },
  {
   "cell_type": "code",
   "execution_count": 14,
   "metadata": {
    "scrolled": true
   },
   "outputs": [
    {
     "data": {
      "text/plain": [
       "53f841c7-970b-4e0b-96bf-97a95ecfb734    4804\n",
       "9eb76d09-8006-4262-b5eb-459556f338a9    3577\n",
       "546a1146-64be-4549-a472-a8a4a8ca41b0    3189\n",
       "a3fe2d55-b8fc-4aaa-8f7f-99f6498b191f    3060\n",
       "68b2c520-5366-4143-a253-04fd96aeb251    2855\n",
       "                                        ... \n",
       "28f3de37-5d91-451b-9d71-c016ff28765a       1\n",
       "ddaea6ea-cf1e-4ef3-84d0-4d97f5019dab       1\n",
       "ee2c4b69-2194-4785-a817-76a30ea8a54b       1\n",
       "db9f09e8-ea9e-4444-986a-39c973a7dfe3       1\n",
       "3fe6ea93-4d29-4d6f-990a-6a873f19c2ed       1\n",
       "Name: customer_id, Length: 2211386, dtype: int64"
      ]
     },
     "execution_count": 14,
     "metadata": {},
     "output_type": "execute_result"
    }
   ],
   "source": [
    "customer_rows = data['customer_id'].value_counts()\n",
    "customer_rows"
   ]
  },
  {
   "cell_type": "code",
   "execution_count": 28,
   "metadata": {},
   "outputs": [
    {
     "name": "stdout",
     "output_type": "stream",
     "text": [
      "1 913643\n",
      "2 329587\n",
      "3 199175\n"
     ]
    }
   ],
   "source": [
    "for i, num in enumerate(customer_rows.value_counts()[:3]):\n",
    "    print(i+1, num)"
   ]
  },
  {
   "cell_type": "code",
   "execution_count": 29,
   "metadata": {},
   "outputs": [
    {
     "data": {
      "text/plain": [
       "0.4131540129131685"
      ]
     },
     "execution_count": 29,
     "metadata": {},
     "output_type": "execute_result"
    }
   ],
   "source": [
    "(913643)/2211386"
   ]
  },
  {
   "cell_type": "code",
   "execution_count": 20,
   "metadata": {},
   "outputs": [
    {
     "data": {
      "text/plain": [
       "0.5621949311427313"
      ]
     },
     "execution_count": 20,
     "metadata": {},
     "output_type": "execute_result"
    }
   ],
   "source": [
    "(913643+329587)/2211386"
   ]
  },
  {
   "cell_type": "code",
   "execution_count": 26,
   "metadata": {
    "scrolled": true
   },
   "outputs": [
    {
     "name": "stdout",
     "output_type": "stream",
     "text": [
      "4 129721\n",
      "8 45301\n",
      "12 22832\n",
      "16 13311\n",
      "20 8728\n",
      "24 6193\n",
      "28 4481\n",
      "32 3349\n",
      "36 2677\n",
      "40 2124\n",
      "44 1784\n",
      "48 1405\n"
     ]
    }
   ],
   "source": [
    "for i, num in enumerate(customer_rows.value_counts()[3:50:4]):\n",
    "    print(4*i+4, num)"
   ]
  },
  {
   "cell_type": "markdown",
   "metadata": {},
   "source": [
    "- 2,211,386 unikátnych zákazníkov\n",
    "- žiadne NaN hodnoty\n",
    "- v priemere vyše 6 záznamov na zákazníka\n",
    "    - ale median je iba 2\n",
    "    - 913,643 (41%) zákazníkov má len 1 záznam\n",
    "    - 56% zákazníkov má 2 záznamy"
   ]
  },
  {
   "cell_type": "markdown",
   "metadata": {},
   "source": [
    "### timestamp"
   ]
  },
  {
   "cell_type": "code",
   "execution_count": 16,
   "metadata": {
    "scrolled": false
   },
   "outputs": [
    {
     "data": {
      "text/plain": [
       "count                           14803097\n",
       "unique                          14802889\n",
       "top       2019-07-22 04:33:52.889148 UTC\n",
       "freq                                   4\n",
       "Name: timestamp, dtype: object"
      ]
     },
     "execution_count": 16,
     "metadata": {},
     "output_type": "execute_result"
    }
   ],
   "source": [
    "data.timestamp.describe()"
   ]
  },
  {
   "cell_type": "code",
   "execution_count": 17,
   "metadata": {},
   "outputs": [
    {
     "data": {
      "text/html": [
       "<div>\n",
       "<style scoped>\n",
       "    .dataframe tbody tr th:only-of-type {\n",
       "        vertical-align: middle;\n",
       "    }\n",
       "\n",
       "    .dataframe tbody tr th {\n",
       "        vertical-align: top;\n",
       "    }\n",
       "\n",
       "    .dataframe thead th {\n",
       "        text-align: right;\n",
       "    }\n",
       "</style>\n",
       "<table border=\"1\" class=\"dataframe\">\n",
       "  <thead>\n",
       "    <tr style=\"text-align: right;\">\n",
       "      <th></th>\n",
       "      <th>customer_id</th>\n",
       "      <th>timestamp</th>\n",
       "      <th>event_type</th>\n",
       "      <th>product_id</th>\n",
       "      <th>title</th>\n",
       "      <th>category_name</th>\n",
       "      <th>price</th>\n",
       "    </tr>\n",
       "  </thead>\n",
       "  <tbody>\n",
       "    <tr>\n",
       "      <td>4361630</td>\n",
       "      <td>8b57d536-f432-45a9-8b45-3bd54d68ba69</td>\n",
       "      <td>2019-07-22 04:33:52.889148 UTC</td>\n",
       "      <td>view_item</td>\n",
       "      <td>5bbe88b4-9650-4c1a-8f95-9a09c264b2c9</td>\n",
       "      <td>Hot Tuna Crew T Shirt Mens</td>\n",
       "      <td>Men&gt;Men Clothing&gt;T-Shirts &amp; Polo shirts</td>\n",
       "      <td>12.84</td>\n",
       "    </tr>\n",
       "    <tr>\n",
       "      <td>4361631</td>\n",
       "      <td>8b57d536-f432-45a9-8b45-3bd54d68ba69</td>\n",
       "      <td>2019-07-22 04:33:52.889148 UTC</td>\n",
       "      <td>view_item</td>\n",
       "      <td>248faf65-d1e2-4d7b-84c8-ce1c459ee086</td>\n",
       "      <td>Lonsdale Jersey Polo Shirt Mens</td>\n",
       "      <td>Men&gt;Men Clothing&gt;T-Shirts &amp; Polo shirts&gt;Polo S...</td>\n",
       "      <td>12.90</td>\n",
       "    </tr>\n",
       "    <tr>\n",
       "      <td>4361632</td>\n",
       "      <td>8b57d536-f432-45a9-8b45-3bd54d68ba69</td>\n",
       "      <td>2019-07-22 04:33:52.889148 UTC</td>\n",
       "      <td>view_item</td>\n",
       "      <td>377bdb75-6f46-4c29-b559-9af0c6ba2ae8</td>\n",
       "      <td>Pierre Cardin Web Belt Shorts Mens</td>\n",
       "      <td>Men&gt;Men Clothing&gt;Shorts</td>\n",
       "      <td>17.12</td>\n",
       "    </tr>\n",
       "    <tr>\n",
       "      <td>4361633</td>\n",
       "      <td>8b57d536-f432-45a9-8b45-3bd54d68ba69</td>\n",
       "      <td>2019-07-22 04:33:52.889148 UTC</td>\n",
       "      <td>view_item</td>\n",
       "      <td>b2bcef2f-df2d-4c23-aee7-73ca112ef815</td>\n",
       "      <td>Lee Cooper Men's boxers 5-pack</td>\n",
       "      <td>Men&gt;Men Clothing&gt;Underwear&gt;Boxer shorts &amp; trunks</td>\n",
       "      <td>13.10</td>\n",
       "    </tr>\n",
       "  </tbody>\n",
       "</table>\n",
       "</div>"
      ],
      "text/plain": [
       "                                  customer_id                       timestamp  \\\n",
       "4361630  8b57d536-f432-45a9-8b45-3bd54d68ba69  2019-07-22 04:33:52.889148 UTC   \n",
       "4361631  8b57d536-f432-45a9-8b45-3bd54d68ba69  2019-07-22 04:33:52.889148 UTC   \n",
       "4361632  8b57d536-f432-45a9-8b45-3bd54d68ba69  2019-07-22 04:33:52.889148 UTC   \n",
       "4361633  8b57d536-f432-45a9-8b45-3bd54d68ba69  2019-07-22 04:33:52.889148 UTC   \n",
       "\n",
       "        event_type                            product_id  \\\n",
       "4361630  view_item  5bbe88b4-9650-4c1a-8f95-9a09c264b2c9   \n",
       "4361631  view_item  248faf65-d1e2-4d7b-84c8-ce1c459ee086   \n",
       "4361632  view_item  377bdb75-6f46-4c29-b559-9af0c6ba2ae8   \n",
       "4361633  view_item  b2bcef2f-df2d-4c23-aee7-73ca112ef815   \n",
       "\n",
       "                                      title  \\\n",
       "4361630          Hot Tuna Crew T Shirt Mens   \n",
       "4361631     Lonsdale Jersey Polo Shirt Mens   \n",
       "4361632  Pierre Cardin Web Belt Shorts Mens   \n",
       "4361633      Lee Cooper Men's boxers 5-pack   \n",
       "\n",
       "                                             category_name  price  \n",
       "4361630            Men>Men Clothing>T-Shirts & Polo shirts  12.84  \n",
       "4361631  Men>Men Clothing>T-Shirts & Polo shirts>Polo S...  12.90  \n",
       "4361632                            Men>Men Clothing>Shorts  17.12  \n",
       "4361633   Men>Men Clothing>Underwear>Boxer shorts & trunks  13.10  "
      ]
     },
     "execution_count": 17,
     "metadata": {},
     "output_type": "execute_result"
    }
   ],
   "source": [
    "data.loc[data['timestamp'] == \"2019-07-22 04:33:52.889148 UTC\"]"
   ]
  },
  {
   "cell_type": "code",
   "execution_count": 47,
   "metadata": {},
   "outputs": [],
   "source": [
    "# data[\"timestamp\"] = pd.to_datetime(data[\"timestamp\"])"
   ]
  },
  {
   "cell_type": "code",
   "execution_count": 18,
   "metadata": {},
   "outputs": [
    {
     "data": {
      "text/plain": [
       "'2019-07-01 00:00:01.101977 UTC'"
      ]
     },
     "execution_count": 18,
     "metadata": {},
     "output_type": "execute_result"
    }
   ],
   "source": [
    "min(data.timestamp)"
   ]
  },
  {
   "cell_type": "code",
   "execution_count": 19,
   "metadata": {},
   "outputs": [
    {
     "data": {
      "text/plain": [
       "'2019-08-31 23:59:59.536067 UTC'"
      ]
     },
     "execution_count": 19,
     "metadata": {},
     "output_type": "execute_result"
    }
   ],
   "source": [
    "max(data.timestamp)"
   ]
  },
  {
   "cell_type": "code",
   "execution_count": 7,
   "metadata": {
    "scrolled": true
   },
   "outputs": [
    {
     "data": {
      "text/plain": [
       "0"
      ]
     },
     "execution_count": 7,
     "metadata": {},
     "output_type": "execute_result"
    }
   ],
   "source": [
    "len(data[data.timestamp.isna()])"
   ]
  },
  {
   "cell_type": "markdown",
   "metadata": {},
   "source": [
    "- dátumy z intervalu 2 mesiacov\n",
    "- žiadne NaN hodnoty\n",
    "- existujú záznamy typu `view_item`, kde je daný zákazník v danom čase a rôzne produkty. "
   ]
  },
  {
   "cell_type": "markdown",
   "metadata": {},
   "source": [
    "### event_type"
   ]
  },
  {
   "cell_type": "code",
   "execution_count": 21,
   "metadata": {
    "scrolled": true
   },
   "outputs": [
    {
     "data": {
      "text/plain": [
       "array(['view_item', 'purchase_item'], dtype=object)"
      ]
     },
     "execution_count": 21,
     "metadata": {},
     "output_type": "execute_result"
    }
   ],
   "source": [
    "data.event_type.unique()"
   ]
  },
  {
   "cell_type": "code",
   "execution_count": 22,
   "metadata": {
    "scrolled": true
   },
   "outputs": [
    {
     "data": {
      "text/plain": [
       "0"
      ]
     },
     "execution_count": 22,
     "metadata": {},
     "output_type": "execute_result"
    }
   ],
   "source": [
    "len(data[data.event_type.isna()])"
   ]
  },
  {
   "cell_type": "code",
   "execution_count": 23,
   "metadata": {},
   "outputs": [
    {
     "data": {
      "text/plain": [
       "0.9872518568242848"
      ]
     },
     "execution_count": 23,
     "metadata": {},
     "output_type": "execute_result"
    }
   ],
   "source": [
    "len(data.loc[data['event_type'] == \"view_item\"])/rows_num"
   ]
  },
  {
   "cell_type": "code",
   "execution_count": 24,
   "metadata": {},
   "outputs": [
    {
     "data": {
      "text/plain": [
       "0.01274814317571519"
      ]
     },
     "execution_count": 24,
     "metadata": {},
     "output_type": "execute_result"
    }
   ],
   "source": [
    "len(data.loc[data['event_type'] == \"purchase_item\"])/rows_num"
   ]
  },
  {
   "cell_type": "markdown",
   "metadata": {},
   "source": [
    "- dva typy: `view_item` a `purchase_item`\n",
    "- pomer je 98.7% ku 1.27%\n",
    "- žiadne NaN hodnoty"
   ]
  },
  {
   "cell_type": "markdown",
   "metadata": {},
   "source": [
    "### product_id"
   ]
  },
  {
   "cell_type": "code",
   "execution_count": 25,
   "metadata": {
    "scrolled": true
   },
   "outputs": [
    {
     "data": {
      "text/plain": [
       "count                                 14803097\n",
       "unique                                  123837\n",
       "top       31ae211d-57a9-4bfa-b95f-40776af03c3f\n",
       "freq                                     52736\n",
       "Name: product_id, dtype: object"
      ]
     },
     "execution_count": 25,
     "metadata": {},
     "output_type": "execute_result"
    }
   ],
   "source": [
    "data.product_id.describe()"
   ]
  },
  {
   "cell_type": "code",
   "execution_count": 60,
   "metadata": {},
   "outputs": [
    {
     "data": {
      "text/plain": [
       "0"
      ]
     },
     "execution_count": 60,
     "metadata": {},
     "output_type": "execute_result"
    }
   ],
   "source": [
    "len(data[data.product_id.isna()])"
   ]
  },
  {
   "cell_type": "code",
   "execution_count": 61,
   "metadata": {},
   "outputs": [
    {
     "data": {
      "text/plain": [
       "119.53694776197744"
      ]
     },
     "execution_count": 61,
     "metadata": {},
     "output_type": "execute_result"
    }
   ],
   "source": [
    "rows_num/len(data.product_id.unique())"
   ]
  },
  {
   "cell_type": "code",
   "execution_count": 62,
   "metadata": {},
   "outputs": [
    {
     "data": {
      "text/plain": [
       "17.0"
      ]
     },
     "execution_count": 62,
     "metadata": {},
     "output_type": "execute_result"
    }
   ],
   "source": [
    "data.groupby(['product_id']).count()['timestamp'].median() "
   ]
  },
  {
   "cell_type": "code",
   "execution_count": 32,
   "metadata": {},
   "outputs": [
    {
     "data": {
      "text/plain": [
       "31ae211d-57a9-4bfa-b95f-40776af03c3f    52736\n",
       "0f943312-7141-4606-abfa-81fd63a5498f    49141\n",
       "a8f0292d-5fca-42b9-b0d3-b38e7efa416b    48343\n",
       "e33cea18-ee3f-4e37-83a7-1d88c54d83b8    45421\n",
       "608f32cd-210c-4af5-99d8-6182a9678cf5    39801\n",
       "                                        ...  \n",
       "6b0e71d0-cdca-4160-8df1-ae7b43ef967c        1\n",
       "630d92d1-ed2b-4a75-a778-3dacba195eb5        1\n",
       "0633f706-85d4-4ac6-b34d-7f653fa7139d        1\n",
       "a3c46419-d8fb-4273-88ba-06dc92b42696        1\n",
       "326e712f-9733-4761-b458-217f3f695833        1\n",
       "Name: product_id, Length: 123837, dtype: int64"
      ]
     },
     "execution_count": 32,
     "metadata": {},
     "output_type": "execute_result"
    }
   ],
   "source": [
    "product_rows = data['product_id'].value_counts()\n",
    "product_rows"
   ]
  },
  {
   "cell_type": "code",
   "execution_count": 36,
   "metadata": {},
   "outputs": [
    {
     "name": "stdout",
     "output_type": "stream",
     "text": [
      "1 15982\n",
      "5 3582\n",
      "9 2365\n",
      "13 1792\n",
      "17 1376\n",
      "21 1139\n",
      "25 948\n",
      "29 810\n",
      "33 694\n",
      "37 624\n",
      "41 528\n",
      "45 501\n",
      "49 436\n"
     ]
    }
   ],
   "source": [
    "for i, num in enumerate(product_rows.value_counts()[:50:4]):\n",
    "    print(4*i+1, num)"
   ]
  },
  {
   "cell_type": "markdown",
   "metadata": {},
   "source": [
    "- 123,837 unikátnych produktov\n",
    "- žiadne NaN hodnoty\n",
    "- v priemere vyše 119 záznamov na produkt\n",
    "    - maximum je 52,736\n",
    "    - minimum je 1\n",
    "    - median je 17\n",
    "    - 15,982 produktov má len 1 záznam"
   ]
  },
  {
   "cell_type": "markdown",
   "metadata": {},
   "source": [
    "### title"
   ]
  },
  {
   "cell_type": "code",
   "execution_count": 63,
   "metadata": {
    "scrolled": true
   },
   "outputs": [
    {
     "data": {
      "text/plain": [
       "count                     14801284\n",
       "unique                       71440\n",
       "top       Lee Cooper Marl Backpack\n",
       "freq                        168766\n",
       "Name: title, dtype: object"
      ]
     },
     "execution_count": 63,
     "metadata": {},
     "output_type": "execute_result"
    }
   ],
   "source": [
    "data.title.describe()"
   ]
  },
  {
   "cell_type": "code",
   "execution_count": 72,
   "metadata": {
    "scrolled": false
   },
   "outputs": [
    {
     "data": {
      "text/plain": [
       "array(['Batoh Lee Cooper Marl', 'Lee Cooper Marl Backpack'], dtype=object)"
      ]
     },
     "execution_count": 72,
     "metadata": {},
     "output_type": "execute_result"
    }
   ],
   "source": [
    "data.loc[data['product_id'] == \"31ae211d-57a9-4bfa-b95f-40776af03c3f\"].title.unique()"
   ]
  },
  {
   "cell_type": "code",
   "execution_count": 64,
   "metadata": {},
   "outputs": [
    {
     "data": {
      "text/plain": [
       "0"
      ]
     },
     "execution_count": 64,
     "metadata": {},
     "output_type": "execute_result"
    }
   ],
   "source": [
    "len(data[data.product_id.isna()])"
   ]
  },
  {
   "cell_type": "markdown",
   "metadata": {},
   "source": [
    "- 71,440 unikátnych označení (našli sme 123,837 unikátnych produktov)\n",
    "    - produkt môže mať viac rôznych označení\n",
    "- žiadne NaN hodnoty"
   ]
  },
  {
   "cell_type": "markdown",
   "metadata": {},
   "source": [
    "### price"
   ]
  },
  {
   "cell_type": "code",
   "execution_count": 85,
   "metadata": {
    "scrolled": true
   },
   "outputs": [
    {
     "data": {
      "text/plain": [
       "count    14758211.000000\n",
       "mean           33.122065\n",
       "std           121.532833\n",
       "min             0.060000\n",
       "25%            12.710000\n",
       "50%            21.860000\n",
       "75%            39.490000\n",
       "max         32636.460000\n",
       "Name: price, dtype: object"
      ]
     },
     "execution_count": 85,
     "metadata": {},
     "output_type": "execute_result"
    }
   ],
   "source": [
    "data.price.describe().apply(lambda x: format(x, 'f'))"
   ]
  },
  {
   "cell_type": "code",
   "execution_count": 87,
   "metadata": {},
   "outputs": [
    {
     "data": {
      "text/plain": [
       "21.86"
      ]
     },
     "execution_count": 87,
     "metadata": {},
     "output_type": "execute_result"
    }
   ],
   "source": [
    "np.nanmedian(data.price)"
   ]
  },
  {
   "cell_type": "code",
   "execution_count": 73,
   "metadata": {},
   "outputs": [
    {
     "data": {
      "text/plain": [
       "44886"
      ]
     },
     "execution_count": 73,
     "metadata": {},
     "output_type": "execute_result"
    }
   ],
   "source": [
    "len(data[data.price.isna()])"
   ]
  },
  {
   "cell_type": "code",
   "execution_count": 89,
   "metadata": {},
   "outputs": [
    {
     "data": {
      "text/plain": [
       "array([12.9 , 12.73, 13.11, 13.32, 12.49, 12.71, 13.45, 12.65, 12.83,\n",
       "       11.46, 11.8 , 11.44, 11.38, 12.1 , 11.24, 11.61, 11.99, 11.55,\n",
       "        9.55,  9.56, 10.61, 10.63, 13.49,  7.32, 12.14, 12.27, 12.33,\n",
       "       13.04, 12.92, 12.51, 12.11, 12.45, 12.35, 13.09, 16.84, 16.41,\n",
       "       16.11, 16.03, 16.23, 15.95, 16.  , 15.58, 16.39, 16.97, 13.65,\n",
       "       14.75, 13.98, 14.02, 14.05, 14.22, 14.38, 14.87, 14.12, 14.37,\n",
       "       12.46, 12.37, 13.12, 12.04, 13.02, 12.39, 12.68, 12.55, 12.69,\n",
       "         nan])"
      ]
     },
     "execution_count": 89,
     "metadata": {},
     "output_type": "execute_result"
    }
   ],
   "source": [
    "data.loc[data['product_id'] == \"31ae211d-57a9-4bfa-b95f-40776af03c3f\"].price.unique()"
   ]
  },
  {
   "cell_type": "markdown",
   "metadata": {},
   "source": [
    "- priemer ceny je cca 33\n",
    "- median ceny je cca 22\n",
    "- 44,886 NaN hodnôt\n",
    "- jeden produkt môže mať viac cien"
   ]
  },
  {
   "cell_type": "markdown",
   "metadata": {},
   "source": [
    "### category_name"
   ]
  },
  {
   "cell_type": "code",
   "execution_count": 90,
   "metadata": {
    "scrolled": true
   },
   "outputs": [
    {
     "data": {
      "text/plain": [
       "count                                   11367365\n",
       "unique                                       713\n",
       "top       Men>Men Footwear>Sneakers>Low sneakers\n",
       "freq                                      462179\n",
       "Name: category_name, dtype: object"
      ]
     },
     "execution_count": 90,
     "metadata": {},
     "output_type": "execute_result"
    }
   ],
   "source": [
    "data.category_name.describe()"
   ]
  },
  {
   "cell_type": "code",
   "execution_count": 103,
   "metadata": {},
   "outputs": [
    {
     "name": "stdout",
     "output_type": "stream",
     "text": [
      "2 [nan 'Men>Men Clothing>T-Shirts & Polo shirts>Polo Shirts']\n",
      "3 [nan \"Women>Women's Clothing>Shirts\"\n",
      " \"Women>Women's Clothing>Shirts>Patterned shirts\"]\n",
      "2 [nan \"Women>Women's Clothing>Jackets & Coats>Coats\"]\n",
      "2 [nan \"Women>Women's Footwear>Slip-on\"]\n",
      "2 [nan \"Women>Women's Clothing>Dresses>Wedding dress\"]\n",
      "2 [nan 'Men>Men Clothing>T-Shirts & Polo shirts>Polo Shirts']\n",
      "2 [nan \"Sports>Running>Running Shoes>Women's Running Shoes\"]\n",
      "2 [nan 'Accessories >Backpacks and Bags>Fashion backpacks']\n",
      "3 [\"Women>Women's Clothing>Pants & Jeans>Pants\"\n",
      " \"Women>Women's Clothing>Pants >Pants\"\n",
      " \"Women>Women's Clothing>Pants >Single-colored pants\"]\n",
      "2 [nan \"Women>Women's Clothing>Jumpsuits\"]\n"
     ]
    }
   ],
   "source": [
    "for pid in data.product_id.sample(10):\n",
    "    unique_categories = data.loc[data['product_id'] == pid].category_name.unique()\n",
    "    print(len(unique_categories), unique_categories)"
   ]
  },
  {
   "cell_type": "code",
   "execution_count": 96,
   "metadata": {},
   "outputs": [
    {
     "data": {
      "text/plain": [
       "3435732"
      ]
     },
     "execution_count": 96,
     "metadata": {},
     "output_type": "execute_result"
    }
   ],
   "source": [
    "category_name_nans_num = len(data[data.category_name.isna()])\n",
    "category_name_nans_num"
   ]
  },
  {
   "cell_type": "code",
   "execution_count": 95,
   "metadata": {
    "scrolled": true
   },
   "outputs": [
    {
     "data": {
      "text/plain": [
       "0.23209548650529008"
      ]
     },
     "execution_count": 95,
     "metadata": {},
     "output_type": "execute_result"
    }
   ],
   "source": [
    "category_name_nans_num/rows_num"
   ]
  },
  {
   "cell_type": "code",
   "execution_count": 45,
   "metadata": {},
   "outputs": [
    {
     "data": {
      "text/plain": [
       "(14803097, 7)"
      ]
     },
     "execution_count": 45,
     "metadata": {},
     "output_type": "execute_result"
    }
   ],
   "source": [
    "data[\"category_name\"].str.split(\">\", expand = True).shape"
   ]
  },
  {
   "cell_type": "code",
   "execution_count": 40,
   "metadata": {},
   "outputs": [],
   "source": [
    "data_15K = data.sample(15000)"
   ]
  },
  {
   "cell_type": "code",
   "execution_count": 116,
   "metadata": {},
   "outputs": [],
   "source": [
    "categories = data_15K[\"category_name\"].str.split(\">\", expand = True)"
   ]
  },
  {
   "cell_type": "markdown",
   "metadata": {},
   "source": [
    "Keďže `data` má skoro 15M záznamov, spracovanie v niektorkých prípadoch trvá veľmi dlho. Vybrali sme len 15K."
   ]
  },
  {
   "cell_type": "code",
   "execution_count": 123,
   "metadata": {
    "scrolled": false
   },
   "outputs": [
    {
     "data": {
      "text/html": [
       "<div>\n",
       "<style scoped>\n",
       "    .dataframe tbody tr th:only-of-type {\n",
       "        vertical-align: middle;\n",
       "    }\n",
       "\n",
       "    .dataframe tbody tr th {\n",
       "        vertical-align: top;\n",
       "    }\n",
       "\n",
       "    .dataframe thead th {\n",
       "        text-align: right;\n",
       "    }\n",
       "</style>\n",
       "<table border=\"1\" class=\"dataframe\">\n",
       "  <thead>\n",
       "    <tr style=\"text-align: right;\">\n",
       "      <th></th>\n",
       "      <th>0</th>\n",
       "      <th>1</th>\n",
       "      <th>2</th>\n",
       "      <th>3</th>\n",
       "      <th>4</th>\n",
       "    </tr>\n",
       "  </thead>\n",
       "  <tbody>\n",
       "    <tr>\n",
       "      <td>2563389</td>\n",
       "      <td>NaN</td>\n",
       "      <td>NaN</td>\n",
       "      <td>NaN</td>\n",
       "      <td>NaN</td>\n",
       "      <td>NaN</td>\n",
       "    </tr>\n",
       "    <tr>\n",
       "      <td>7189282</td>\n",
       "      <td>Women</td>\n",
       "      <td>Women's Footwear</td>\n",
       "      <td>Balerinas</td>\n",
       "      <td>None</td>\n",
       "      <td>None</td>\n",
       "    </tr>\n",
       "    <tr>\n",
       "      <td>11478593</td>\n",
       "      <td>Men</td>\n",
       "      <td>Men Clothing</td>\n",
       "      <td>T-Shirts &amp; Polo shirts</td>\n",
       "      <td>Short Sleeve</td>\n",
       "      <td>None</td>\n",
       "    </tr>\n",
       "    <tr>\n",
       "      <td>6003198</td>\n",
       "      <td>Women</td>\n",
       "      <td>Women's Clothing</td>\n",
       "      <td>Swimmsuits &amp; bikins</td>\n",
       "      <td>One-piece</td>\n",
       "      <td>None</td>\n",
       "    </tr>\n",
       "    <tr>\n",
       "      <td>1495798</td>\n",
       "      <td>NaN</td>\n",
       "      <td>None</td>\n",
       "      <td>None</td>\n",
       "      <td>None</td>\n",
       "      <td>None</td>\n",
       "    </tr>\n",
       "  </tbody>\n",
       "</table>\n",
       "</div>"
      ],
      "text/plain": [
       "              0                 1                       2             3     4\n",
       "2563389     NaN               NaN                     NaN           NaN   NaN\n",
       "7189282   Women  Women's Footwear               Balerinas          None  None\n",
       "11478593    Men      Men Clothing  T-Shirts & Polo shirts  Short Sleeve  None\n",
       "6003198   Women  Women's Clothing     Swimmsuits & bikins     One-piece  None\n",
       "1495798     NaN              None                    None          None  None"
      ]
     },
     "execution_count": 123,
     "metadata": {},
     "output_type": "execute_result"
    }
   ],
   "source": [
    "categories.sample(5)"
   ]
  },
  {
   "cell_type": "code",
   "execution_count": 136,
   "metadata": {},
   "outputs": [
    {
     "name": "stdout",
     "output_type": "stream",
     "text": [
      "col_0 unique values = 21\n",
      "col_0 NaN values = 3455\n",
      "\n",
      "col_1 unique values = 38\n",
      "col_1 NaN values = 3551\n",
      "\n",
      "col_2 unique values = 154\n",
      "col_2 NaN values = 3669\n",
      "\n",
      "col_3 unique values = 216\n",
      "col_3 NaN values = 6845\n",
      "\n",
      "col_4 unique values = 49\n",
      "col_4 NaN values = 14513\n",
      "\n"
     ]
    }
   ],
   "source": [
    "for i in range(5):\n",
    "    print('col_{} unique values ='.format(i), len(categories[i].unique()))\n",
    "    print('col_{} NaN values ='.format(i), len(categories[categories[i].isna()]))\n",
    "    print()"
   ]
  },
  {
   "cell_type": "code",
   "execution_count": 126,
   "metadata": {
    "scrolled": true
   },
   "outputs": [
    {
     "data": {
      "text/plain": [
       "array([nan, 'Men', 'Women', 'Sports', \"Women's Clothing\", 'Children',\n",
       "       'Accessories ', 'Backpacks and Bags', 'Men Clothing',\n",
       "       \"Boy's Clothing\", 'Sale - Men', 'Sale - Women', 'Dresses',\n",
       "       'NEW IN', 'Unlisted', \"Children's Footwear\", 'strom kategorii',\n",
       "       'T-Shirts', 'NY FASHION WEEK', 'Sale - Children',\n",
       "       'Delivery Immediately'], dtype=object)"
      ]
     },
     "execution_count": 126,
     "metadata": {},
     "output_type": "execute_result"
    }
   ],
   "source": [
    "categories[0].unique()"
   ]
  },
  {
   "cell_type": "markdown",
   "metadata": {},
   "source": [
    "- **iba** 713 unikátnych kategórií (našli sme 123,837 unikátnych produktov)\n",
    "- jeden produkt môže mať rôzne `category_name` hodnoty, vrátane NaN\n",
    "- 23.2% záznamov je NaN\n",
    "\n",
    "- po rozparsovaní stromu `category_name` vzniklo 7 stĺpcov (t.j. výška stromu)\n",
    "- smerom od koreňa rastie počet NaN hodnôt a unikátnych hodnôt\n",
    "- vyskytujú sa tématicky rovnaké len inak napísané kategórie\n"
   ]
  },
  {
   "cell_type": "markdown",
   "metadata": {},
   "source": [
    "### Diskusia\n",
    "Potreba vyriešiť nejednotné atribúty rovnakého produktu:\n",
    "- `title`\n",
    "- `category_name`\n",
    "- možno `cena`"
   ]
  },
  {
   "cell_type": "markdown",
   "metadata": {},
   "source": [
    "---"
   ]
  },
  {
   "cell_type": "markdown",
   "metadata": {},
   "source": [
    "# Predspracovanie a oprava dát"
   ]
  },
  {
   "cell_type": "code",
   "execution_count": 7,
   "metadata": {},
   "outputs": [],
   "source": [
    "categories = data[\"category_name\"].str.split(\">\", expand = True)\n",
    "del data[\"category_name\"]\n",
    "category_names = {}\n",
    "for i in range(7):\n",
    "    category_names[i] = \"category_{}\".format(i) \n",
    "categories = categories.rename(columns=category_names)\n",
    "data = pd.concat([data, categories], axis=1, sort=False)\n",
    "del categories"
   ]
  },
  {
   "cell_type": "markdown",
   "metadata": {},
   "source": [
    "Vyparsovanie `category`"
   ]
  },
  {
   "cell_type": "code",
   "execution_count": 16,
   "metadata": {},
   "outputs": [],
   "source": [
    "# data.to_csv('vi_data/data_train.csv', encoding='utf-8')\n",
    "data = pd.read_csv('vi_data/data_train.csv', index_col=0)"
   ]
  },
  {
   "cell_type": "markdown",
   "metadata": {},
   "source": [
    "Uloženie medzi-výsledku"
   ]
  },
  {
   "cell_type": "code",
   "execution_count": 18,
   "metadata": {},
   "outputs": [
    {
     "data": {
      "text/html": [
       "<div>\n",
       "<style scoped>\n",
       "    .dataframe tbody tr th:only-of-type {\n",
       "        vertical-align: middle;\n",
       "    }\n",
       "\n",
       "    .dataframe tbody tr th {\n",
       "        vertical-align: top;\n",
       "    }\n",
       "\n",
       "    .dataframe thead th {\n",
       "        text-align: right;\n",
       "    }\n",
       "</style>\n",
       "<table border=\"1\" class=\"dataframe\">\n",
       "  <thead>\n",
       "    <tr style=\"text-align: right;\">\n",
       "      <th></th>\n",
       "      <th>customer_id</th>\n",
       "      <th>timestamp</th>\n",
       "      <th>event_type</th>\n",
       "      <th>product_id</th>\n",
       "      <th>title</th>\n",
       "      <th>price</th>\n",
       "      <th>category_0</th>\n",
       "      <th>category_1</th>\n",
       "      <th>category_2</th>\n",
       "      <th>category_3</th>\n",
       "      <th>category_4</th>\n",
       "      <th>category_5</th>\n",
       "      <th>category_6</th>\n",
       "    </tr>\n",
       "  </thead>\n",
       "  <tbody>\n",
       "    <tr>\n",
       "      <td>11468382</td>\n",
       "      <td>ddf9c84e-1ec4-4e0c-84b7-a448b38049dd</td>\n",
       "      <td>2019-08-20 10:38:26.763199 UTC</td>\n",
       "      <td>view_item</td>\n",
       "      <td>5aadee74-7b25-4f81-aec1-1c16c7113b50</td>\n",
       "      <td>Calvin Klein Zip Logo Hoody Ladies</td>\n",
       "      <td>54.37</td>\n",
       "      <td>Women</td>\n",
       "      <td>Women's Clothing</td>\n",
       "      <td>Sweatshirts</td>\n",
       "      <td>Hoodies</td>\n",
       "      <td>NaN</td>\n",
       "      <td>NaN</td>\n",
       "      <td>NaN</td>\n",
       "    </tr>\n",
       "    <tr>\n",
       "      <td>12925080</td>\n",
       "      <td>f4bea350-a2d7-4330-b2db-633cd4d1c5ac</td>\n",
       "      <td>2019-08-25 23:54:38.747408 UTC</td>\n",
       "      <td>view_item</td>\n",
       "      <td>1f22c606-9ae9-4aca-8367-42894579383b</td>\n",
       "      <td>Trendyol Lila Bikini BOTTOM</td>\n",
       "      <td>5.99</td>\n",
       "      <td>Women</td>\n",
       "      <td>Women's Clothing</td>\n",
       "      <td>Swimmsuits &amp; bikins</td>\n",
       "      <td>NaN</td>\n",
       "      <td>NaN</td>\n",
       "      <td>NaN</td>\n",
       "      <td>NaN</td>\n",
       "    </tr>\n",
       "    <tr>\n",
       "      <td>14255168</td>\n",
       "      <td>3269f188-b0d0-43d4-8051-88470ab9a874</td>\n",
       "      <td>2019-08-30 16:37:26.469128 UTC</td>\n",
       "      <td>view_item</td>\n",
       "      <td>5a808835-1649-41af-a69a-5bfbe9540db2</td>\n",
       "      <td>Men's softshell jacket B&amp;C</td>\n",
       "      <td>17.50</td>\n",
       "      <td>Men</td>\n",
       "      <td>Men Clothing</td>\n",
       "      <td>Softshell Jackets</td>\n",
       "      <td>NaN</td>\n",
       "      <td>NaN</td>\n",
       "      <td>NaN</td>\n",
       "      <td>NaN</td>\n",
       "    </tr>\n",
       "    <tr>\n",
       "      <td>2559100</td>\n",
       "      <td>fece5213-699f-4a6e-bfee-b2fec422eef5</td>\n",
       "      <td>2019-07-13 14:42:29.347857 UTC</td>\n",
       "      <td>view_item</td>\n",
       "      <td>0b116bb6-5ccb-4fc5-be4d-4bbb0d15f892</td>\n",
       "      <td>Linea Hawkins Ribbed Collar Bomber Jacket</td>\n",
       "      <td>50.85</td>\n",
       "      <td>NaN</td>\n",
       "      <td>NaN</td>\n",
       "      <td>NaN</td>\n",
       "      <td>NaN</td>\n",
       "      <td>NaN</td>\n",
       "      <td>NaN</td>\n",
       "      <td>NaN</td>\n",
       "    </tr>\n",
       "    <tr>\n",
       "      <td>14243115</td>\n",
       "      <td>68e22d79-1299-4398-8bc4-44cd5f34c4f3</td>\n",
       "      <td>2019-08-30 15:40:29.035961 UTC</td>\n",
       "      <td>view_item</td>\n",
       "      <td>caa5b93d-f2f7-43d2-bad9-bfcad5be33c5</td>\n",
       "      <td>Men's Winter Jacket Ombre C373</td>\n",
       "      <td>31.15</td>\n",
       "      <td>Sale - Men</td>\n",
       "      <td>Sale - Men's clothing</td>\n",
       "      <td>Sale - Men's Jackets</td>\n",
       "      <td>NaN</td>\n",
       "      <td>NaN</td>\n",
       "      <td>NaN</td>\n",
       "      <td>NaN</td>\n",
       "    </tr>\n",
       "  </tbody>\n",
       "</table>\n",
       "</div>"
      ],
      "text/plain": [
       "                                   customer_id  \\\n",
       "11468382  ddf9c84e-1ec4-4e0c-84b7-a448b38049dd   \n",
       "12925080  f4bea350-a2d7-4330-b2db-633cd4d1c5ac   \n",
       "14255168  3269f188-b0d0-43d4-8051-88470ab9a874   \n",
       "2559100   fece5213-699f-4a6e-bfee-b2fec422eef5   \n",
       "14243115  68e22d79-1299-4398-8bc4-44cd5f34c4f3   \n",
       "\n",
       "                               timestamp event_type  \\\n",
       "11468382  2019-08-20 10:38:26.763199 UTC  view_item   \n",
       "12925080  2019-08-25 23:54:38.747408 UTC  view_item   \n",
       "14255168  2019-08-30 16:37:26.469128 UTC  view_item   \n",
       "2559100   2019-07-13 14:42:29.347857 UTC  view_item   \n",
       "14243115  2019-08-30 15:40:29.035961 UTC  view_item   \n",
       "\n",
       "                                    product_id  \\\n",
       "11468382  5aadee74-7b25-4f81-aec1-1c16c7113b50   \n",
       "12925080  1f22c606-9ae9-4aca-8367-42894579383b   \n",
       "14255168  5a808835-1649-41af-a69a-5bfbe9540db2   \n",
       "2559100   0b116bb6-5ccb-4fc5-be4d-4bbb0d15f892   \n",
       "14243115  caa5b93d-f2f7-43d2-bad9-bfcad5be33c5   \n",
       "\n",
       "                                              title  price  category_0  \\\n",
       "11468382         Calvin Klein Zip Logo Hoody Ladies  54.37       Women   \n",
       "12925080                Trendyol Lila Bikini BOTTOM   5.99       Women   \n",
       "14255168                 Men's softshell jacket B&C  17.50         Men   \n",
       "2559100   Linea Hawkins Ribbed Collar Bomber Jacket  50.85         NaN   \n",
       "14243115             Men's Winter Jacket Ombre C373  31.15  Sale - Men   \n",
       "\n",
       "                     category_1            category_2 category_3 category_4  \\\n",
       "11468382       Women's Clothing           Sweatshirts    Hoodies        NaN   \n",
       "12925080       Women's Clothing   Swimmsuits & bikins        NaN        NaN   \n",
       "14255168           Men Clothing     Softshell Jackets        NaN        NaN   \n",
       "2559100                     NaN                   NaN        NaN        NaN   \n",
       "14243115  Sale - Men's clothing  Sale - Men's Jackets        NaN        NaN   \n",
       "\n",
       "         category_5 category_6  \n",
       "11468382        NaN        NaN  \n",
       "12925080        NaN        NaN  \n",
       "14255168        NaN        NaN  \n",
       "2559100         NaN        NaN  \n",
       "14243115        NaN        NaN  "
      ]
     },
     "execution_count": 18,
     "metadata": {},
     "output_type": "execute_result"
    }
   ],
   "source": [
    "data.sample(5)"
   ]
  },
  {
   "cell_type": "code",
   "execution_count": 58,
   "metadata": {},
   "outputs": [],
   "source": [
    "product_ids = list(data.product_id.unique())"
   ]
  },
  {
   "cell_type": "code",
   "execution_count": 59,
   "metadata": {},
   "outputs": [],
   "source": [
    "product_ids = [product_ids[0]]"
   ]
  },
  {
   "cell_type": "code",
   "execution_count": 60,
   "metadata": {
    "scrolled": true
   },
   "outputs": [
    {
     "data": {
      "text/plain": [
       "['f130c542-d793-41d0-88f6-d1c52b4fe8f0']"
      ]
     },
     "execution_count": 60,
     "metadata": {},
     "output_type": "execute_result"
    }
   ],
   "source": [
    "product_ids"
   ]
  },
  {
   "cell_type": "code",
   "execution_count": 92,
   "metadata": {},
   "outputs": [],
   "source": [
    "rows = data[:5]"
   ]
  },
  {
   "cell_type": "code",
   "execution_count": 93,
   "metadata": {},
   "outputs": [
    {
     "data": {
      "text/plain": [
       "[11.92, 11.92, 23.85, 40.0, 747.49]"
      ]
     },
     "execution_count": 93,
     "metadata": {},
     "output_type": "execute_result"
    }
   ],
   "source": [
    "list(rows.groupby(['product_id'])['price'].mean())"
   ]
  },
  {
   "cell_type": "code",
   "execution_count": 102,
   "metadata": {
    "scrolled": true
   },
   "outputs": [
    {
     "data": {
      "text/plain": [
       "[['category_0', 'category_0'],\n",
       " ['category_0', 'category_0'],\n",
       " ['category_0', 'category_0'],\n",
       " ['category_0', 'category_0'],\n",
       " ['category_0', 'category_0']]"
      ]
     },
     "execution_count": 102,
     "metadata": {},
     "output_type": "execute_result"
    }
   ],
   "source": [
    "list(rows.groupby(['product_id'])['category_0'].apply(list))"
   ]
  },
  {
   "cell_type": "code",
   "execution_count": null,
   "metadata": {},
   "outputs": [],
   "source": [
    "list(rows.groupby(['product_id'])['event_type'].apply(list))"
   ]
  },
  {
   "cell_type": "code",
   "execution_count": null,
   "metadata": {},
   "outputs": [],
   "source": [
    "rows.groupby(['product_id']).mean()"
   ]
  },
  {
   "cell_type": "code",
   "execution_count": null,
   "metadata": {},
   "outputs": [],
   "source": [
    "rows.groupby(['product_id']).mean()"
   ]
  },
  {
   "cell_type": "code",
   "execution_count": 69,
   "metadata": {
    "scrolled": true
   },
   "outputs": [
    {
     "name": "stdout",
     "output_type": "stream",
     "text": [
      "{'title': ['Michael Kors Nappa Leather Racer Jacket'], 'price': 747.49}\n"
     ]
    }
   ],
   "source": [
    "product_json = {}\n",
    "for pid in product_ids:\n",
    "    rows = data[data.product_id == pid]\n",
    "    atr['title'] = [i for i in list(rows.title.unique())]\n",
    "    atr['price'] = np.median(rows.price)\n",
    "    atr['category_0'] = list(rows.category_0.dropna().unique())[0]\n",
    "#     atr['category_1'] = list(rows.category_1.dropna().unique())[0]\n",
    "#     atr['category_2'] = list(rows.category_2.dropna().unique())[0]\n",
    "#     atr['category_3'] = list(rows.category_3.dropna().unique())[0]\n",
    "#     atr['category_4'] = list(rows.category_4.dropna().unique())[0]\n",
    "#     atr['category_5'] = list(rows.category_5.dropna().unique())[0]\n",
    "#     atr['category_6'] = list(rows.category_6.dropna().unique())[0]\n",
    "print(atr)"
   ]
  },
  {
   "cell_type": "code",
   "execution_count": null,
   "metadata": {},
   "outputs": [],
   "source": []
  },
  {
   "cell_type": "code",
   "execution_count": 103,
   "metadata": {},
   "outputs": [
    {
     "data": {
      "text/html": [
       "<div>\n",
       "<style scoped>\n",
       "    .dataframe tbody tr th:only-of-type {\n",
       "        vertical-align: middle;\n",
       "    }\n",
       "\n",
       "    .dataframe tbody tr th {\n",
       "        vertical-align: top;\n",
       "    }\n",
       "\n",
       "    .dataframe thead th {\n",
       "        text-align: right;\n",
       "    }\n",
       "</style>\n",
       "<table border=\"1\" class=\"dataframe\">\n",
       "  <thead>\n",
       "    <tr style=\"text-align: right;\">\n",
       "      <th></th>\n",
       "      <th>customer_id</th>\n",
       "      <th>timestamp</th>\n",
       "      <th>event_type</th>\n",
       "      <th>product_id</th>\n",
       "      <th>title</th>\n",
       "      <th>price</th>\n",
       "      <th>category_0</th>\n",
       "      <th>category_1</th>\n",
       "      <th>category_2</th>\n",
       "      <th>category_3</th>\n",
       "      <th>category_4</th>\n",
       "      <th>category_5</th>\n",
       "      <th>6</th>\n",
       "      <th>category_0</th>\n",
       "      <th>category_1</th>\n",
       "      <th>category_2</th>\n",
       "      <th>category_3</th>\n",
       "      <th>category_4</th>\n",
       "      <th>category_5</th>\n",
       "      <th>category_6</th>\n",
       "    </tr>\n",
       "  </thead>\n",
       "  <tbody>\n",
       "    <tr>\n",
       "      <td>0</td>\n",
       "      <td>204685f9-00f0-4a36-bab1-e0b74673c3b1</td>\n",
       "      <td>2019-07-01 00:00:01.101977 UTC</td>\n",
       "      <td>view_item</td>\n",
       "      <td>f130c542-d793-41d0-88f6-d1c52b4fe8f0</td>\n",
       "      <td>Michael Kors Nappa Leather Racer Jacket</td>\n",
       "      <td>747.49</td>\n",
       "      <td>NaN</td>\n",
       "      <td>None</td>\n",
       "      <td>None</td>\n",
       "      <td>None</td>\n",
       "      <td>None</td>\n",
       "      <td>None</td>\n",
       "      <td>None</td>\n",
       "      <td>NaN</td>\n",
       "      <td>None</td>\n",
       "      <td>None</td>\n",
       "      <td>None</td>\n",
       "      <td>None</td>\n",
       "      <td>None</td>\n",
       "      <td>None</td>\n",
       "    </tr>\n",
       "    <tr>\n",
       "      <td>50497</td>\n",
       "      <td>4246f982-6ec4-408e-ac13-0b1ae1633750</td>\n",
       "      <td>2019-07-01 09:14:26.818799 UTC</td>\n",
       "      <td>view_item</td>\n",
       "      <td>f130c542-d793-41d0-88f6-d1c52b4fe8f0</td>\n",
       "      <td>Michael Kors Nappa Leather Racer Jacket</td>\n",
       "      <td>747.49</td>\n",
       "      <td>NaN</td>\n",
       "      <td>None</td>\n",
       "      <td>None</td>\n",
       "      <td>None</td>\n",
       "      <td>None</td>\n",
       "      <td>None</td>\n",
       "      <td>None</td>\n",
       "      <td>NaN</td>\n",
       "      <td>None</td>\n",
       "      <td>None</td>\n",
       "      <td>None</td>\n",
       "      <td>None</td>\n",
       "      <td>None</td>\n",
       "      <td>None</td>\n",
       "    </tr>\n",
       "    <tr>\n",
       "      <td>56918</td>\n",
       "      <td>20c0c866-ef84-4308-809f-2fa0104aaa76</td>\n",
       "      <td>2019-07-01 09:47:45.62947 UTC</td>\n",
       "      <td>view_item</td>\n",
       "      <td>f130c542-d793-41d0-88f6-d1c52b4fe8f0</td>\n",
       "      <td>Michael Kors Nappa Leather Racer Jacket</td>\n",
       "      <td>747.49</td>\n",
       "      <td>NaN</td>\n",
       "      <td>None</td>\n",
       "      <td>None</td>\n",
       "      <td>None</td>\n",
       "      <td>None</td>\n",
       "      <td>None</td>\n",
       "      <td>None</td>\n",
       "      <td>NaN</td>\n",
       "      <td>None</td>\n",
       "      <td>None</td>\n",
       "      <td>None</td>\n",
       "      <td>None</td>\n",
       "      <td>None</td>\n",
       "      <td>None</td>\n",
       "    </tr>\n",
       "    <tr>\n",
       "      <td>120723</td>\n",
       "      <td>26cccf04-9acb-4231-b72b-45186dabfb6e</td>\n",
       "      <td>2019-07-01 15:06:00.006045 UTC</td>\n",
       "      <td>view_item</td>\n",
       "      <td>f130c542-d793-41d0-88f6-d1c52b4fe8f0</td>\n",
       "      <td>Michael Kors Nappa Leather Racer Jacket</td>\n",
       "      <td>747.49</td>\n",
       "      <td>NaN</td>\n",
       "      <td>None</td>\n",
       "      <td>None</td>\n",
       "      <td>None</td>\n",
       "      <td>None</td>\n",
       "      <td>None</td>\n",
       "      <td>None</td>\n",
       "      <td>NaN</td>\n",
       "      <td>None</td>\n",
       "      <td>None</td>\n",
       "      <td>None</td>\n",
       "      <td>None</td>\n",
       "      <td>None</td>\n",
       "      <td>None</td>\n",
       "    </tr>\n",
       "    <tr>\n",
       "      <td>211849</td>\n",
       "      <td>4262beec-3a73-45ca-a6ee-d4d5587f8777</td>\n",
       "      <td>2019-07-01 21:38:43.882073 UTC</td>\n",
       "      <td>view_item</td>\n",
       "      <td>f130c542-d793-41d0-88f6-d1c52b4fe8f0</td>\n",
       "      <td>Michael Kors Nappa Leather Racer Jacket</td>\n",
       "      <td>747.49</td>\n",
       "      <td>NaN</td>\n",
       "      <td>NaN</td>\n",
       "      <td>NaN</td>\n",
       "      <td>NaN</td>\n",
       "      <td>NaN</td>\n",
       "      <td>NaN</td>\n",
       "      <td>NaN</td>\n",
       "      <td>NaN</td>\n",
       "      <td>NaN</td>\n",
       "      <td>NaN</td>\n",
       "      <td>NaN</td>\n",
       "      <td>NaN</td>\n",
       "      <td>NaN</td>\n",
       "      <td>NaN</td>\n",
       "    </tr>\n",
       "    <tr>\n",
       "      <td>...</td>\n",
       "      <td>...</td>\n",
       "      <td>...</td>\n",
       "      <td>...</td>\n",
       "      <td>...</td>\n",
       "      <td>...</td>\n",
       "      <td>...</td>\n",
       "      <td>...</td>\n",
       "      <td>...</td>\n",
       "      <td>...</td>\n",
       "      <td>...</td>\n",
       "      <td>...</td>\n",
       "      <td>...</td>\n",
       "      <td>...</td>\n",
       "      <td>...</td>\n",
       "      <td>...</td>\n",
       "      <td>...</td>\n",
       "      <td>...</td>\n",
       "      <td>...</td>\n",
       "      <td>...</td>\n",
       "      <td>...</td>\n",
       "    </tr>\n",
       "    <tr>\n",
       "      <td>5328958</td>\n",
       "      <td>1df90fc5-6fd3-492a-ac98-323f81df6890</td>\n",
       "      <td>2019-07-26 20:38:42.181133 UTC</td>\n",
       "      <td>view_item</td>\n",
       "      <td>f130c542-d793-41d0-88f6-d1c52b4fe8f0</td>\n",
       "      <td>Michael Kors Nappa Leather Racer Jacket</td>\n",
       "      <td>695.16</td>\n",
       "      <td>Men</td>\n",
       "      <td>Men Clothing</td>\n",
       "      <td>Jackets &amp; Coats</td>\n",
       "      <td>Leather jackets</td>\n",
       "      <td>None</td>\n",
       "      <td>None</td>\n",
       "      <td>None</td>\n",
       "      <td>Men</td>\n",
       "      <td>Men Clothing</td>\n",
       "      <td>Jackets &amp; Coats</td>\n",
       "      <td>Leather jackets</td>\n",
       "      <td>None</td>\n",
       "      <td>None</td>\n",
       "      <td>None</td>\n",
       "    </tr>\n",
       "    <tr>\n",
       "      <td>5556108</td>\n",
       "      <td>16c1770b-e3cd-4f22-b6a0-4b303ba736df</td>\n",
       "      <td>2019-07-28 05:24:05.449254 UTC</td>\n",
       "      <td>view_item</td>\n",
       "      <td>f130c542-d793-41d0-88f6-d1c52b4fe8f0</td>\n",
       "      <td>Michael Kors Nappa Leather Racer Jacket</td>\n",
       "      <td>695.16</td>\n",
       "      <td>Men</td>\n",
       "      <td>Men Clothing</td>\n",
       "      <td>Jackets &amp; Coats</td>\n",
       "      <td>Leather jackets</td>\n",
       "      <td>None</td>\n",
       "      <td>None</td>\n",
       "      <td>None</td>\n",
       "      <td>Men</td>\n",
       "      <td>Men Clothing</td>\n",
       "      <td>Jackets &amp; Coats</td>\n",
       "      <td>Leather jackets</td>\n",
       "      <td>None</td>\n",
       "      <td>None</td>\n",
       "      <td>None</td>\n",
       "    </tr>\n",
       "    <tr>\n",
       "      <td>9860697</td>\n",
       "      <td>141b70c8-fa1b-47b4-8f99-68b416af2dbc</td>\n",
       "      <td>2019-08-13 17:43:44.032062 UTC</td>\n",
       "      <td>view_item</td>\n",
       "      <td>f130c542-d793-41d0-88f6-d1c52b4fe8f0</td>\n",
       "      <td>Michael Kors Nappa Leather Racer Jacket</td>\n",
       "      <td>771.31</td>\n",
       "      <td>Men</td>\n",
       "      <td>Men Clothing</td>\n",
       "      <td>Jackets &amp; Coats</td>\n",
       "      <td>Leather jackets</td>\n",
       "      <td>None</td>\n",
       "      <td>None</td>\n",
       "      <td>None</td>\n",
       "      <td>Men</td>\n",
       "      <td>Men Clothing</td>\n",
       "      <td>Jackets &amp; Coats</td>\n",
       "      <td>Leather jackets</td>\n",
       "      <td>None</td>\n",
       "      <td>None</td>\n",
       "      <td>None</td>\n",
       "    </tr>\n",
       "    <tr>\n",
       "      <td>9860738</td>\n",
       "      <td>141b70c8-fa1b-47b4-8f99-68b416af2dbc</td>\n",
       "      <td>2019-08-13 17:43:56.556062 UTC</td>\n",
       "      <td>view_item</td>\n",
       "      <td>f130c542-d793-41d0-88f6-d1c52b4fe8f0</td>\n",
       "      <td>Michael Kors Nappa Leather Racer Jacket</td>\n",
       "      <td>771.31</td>\n",
       "      <td>Men</td>\n",
       "      <td>Men Clothing</td>\n",
       "      <td>Jackets &amp; Coats</td>\n",
       "      <td>Leather jackets</td>\n",
       "      <td>None</td>\n",
       "      <td>None</td>\n",
       "      <td>None</td>\n",
       "      <td>Men</td>\n",
       "      <td>Men Clothing</td>\n",
       "      <td>Jackets &amp; Coats</td>\n",
       "      <td>Leather jackets</td>\n",
       "      <td>None</td>\n",
       "      <td>None</td>\n",
       "      <td>None</td>\n",
       "    </tr>\n",
       "    <tr>\n",
       "      <td>12703509</td>\n",
       "      <td>000444b3-d86e-47c4-9826-b7e22dbfdea2</td>\n",
       "      <td>2019-08-25 09:13:15.631153 UTC</td>\n",
       "      <td>view_item</td>\n",
       "      <td>f130c542-d793-41d0-88f6-d1c52b4fe8f0</td>\n",
       "      <td>Michael Kors Nappa Leather Racer Jacket</td>\n",
       "      <td>728.80</td>\n",
       "      <td>Men</td>\n",
       "      <td>Men Clothing</td>\n",
       "      <td>Jackets &amp; Coats</td>\n",
       "      <td>Leather jackets</td>\n",
       "      <td>None</td>\n",
       "      <td>None</td>\n",
       "      <td>None</td>\n",
       "      <td>Men</td>\n",
       "      <td>Men Clothing</td>\n",
       "      <td>Jackets &amp; Coats</td>\n",
       "      <td>Leather jackets</td>\n",
       "      <td>None</td>\n",
       "      <td>None</td>\n",
       "      <td>None</td>\n",
       "    </tr>\n",
       "  </tbody>\n",
       "</table>\n",
       "<p>77 rows × 20 columns</p>\n",
       "</div>"
      ],
      "text/plain": [
       "                                   customer_id  \\\n",
       "0         204685f9-00f0-4a36-bab1-e0b74673c3b1   \n",
       "50497     4246f982-6ec4-408e-ac13-0b1ae1633750   \n",
       "56918     20c0c866-ef84-4308-809f-2fa0104aaa76   \n",
       "120723    26cccf04-9acb-4231-b72b-45186dabfb6e   \n",
       "211849    4262beec-3a73-45ca-a6ee-d4d5587f8777   \n",
       "...                                        ...   \n",
       "5328958   1df90fc5-6fd3-492a-ac98-323f81df6890   \n",
       "5556108   16c1770b-e3cd-4f22-b6a0-4b303ba736df   \n",
       "9860697   141b70c8-fa1b-47b4-8f99-68b416af2dbc   \n",
       "9860738   141b70c8-fa1b-47b4-8f99-68b416af2dbc   \n",
       "12703509  000444b3-d86e-47c4-9826-b7e22dbfdea2   \n",
       "\n",
       "                               timestamp event_type  \\\n",
       "0         2019-07-01 00:00:01.101977 UTC  view_item   \n",
       "50497     2019-07-01 09:14:26.818799 UTC  view_item   \n",
       "56918      2019-07-01 09:47:45.62947 UTC  view_item   \n",
       "120723    2019-07-01 15:06:00.006045 UTC  view_item   \n",
       "211849    2019-07-01 21:38:43.882073 UTC  view_item   \n",
       "...                                  ...        ...   \n",
       "5328958   2019-07-26 20:38:42.181133 UTC  view_item   \n",
       "5556108   2019-07-28 05:24:05.449254 UTC  view_item   \n",
       "9860697   2019-08-13 17:43:44.032062 UTC  view_item   \n",
       "9860738   2019-08-13 17:43:56.556062 UTC  view_item   \n",
       "12703509  2019-08-25 09:13:15.631153 UTC  view_item   \n",
       "\n",
       "                                    product_id  \\\n",
       "0         f130c542-d793-41d0-88f6-d1c52b4fe8f0   \n",
       "50497     f130c542-d793-41d0-88f6-d1c52b4fe8f0   \n",
       "56918     f130c542-d793-41d0-88f6-d1c52b4fe8f0   \n",
       "120723    f130c542-d793-41d0-88f6-d1c52b4fe8f0   \n",
       "211849    f130c542-d793-41d0-88f6-d1c52b4fe8f0   \n",
       "...                                        ...   \n",
       "5328958   f130c542-d793-41d0-88f6-d1c52b4fe8f0   \n",
       "5556108   f130c542-d793-41d0-88f6-d1c52b4fe8f0   \n",
       "9860697   f130c542-d793-41d0-88f6-d1c52b4fe8f0   \n",
       "9860738   f130c542-d793-41d0-88f6-d1c52b4fe8f0   \n",
       "12703509  f130c542-d793-41d0-88f6-d1c52b4fe8f0   \n",
       "\n",
       "                                            title   price category_0  \\\n",
       "0         Michael Kors Nappa Leather Racer Jacket  747.49        NaN   \n",
       "50497     Michael Kors Nappa Leather Racer Jacket  747.49        NaN   \n",
       "56918     Michael Kors Nappa Leather Racer Jacket  747.49        NaN   \n",
       "120723    Michael Kors Nappa Leather Racer Jacket  747.49        NaN   \n",
       "211849    Michael Kors Nappa Leather Racer Jacket  747.49        NaN   \n",
       "...                                           ...     ...        ...   \n",
       "5328958   Michael Kors Nappa Leather Racer Jacket  695.16        Men   \n",
       "5556108   Michael Kors Nappa Leather Racer Jacket  695.16        Men   \n",
       "9860697   Michael Kors Nappa Leather Racer Jacket  771.31        Men   \n",
       "9860738   Michael Kors Nappa Leather Racer Jacket  771.31        Men   \n",
       "12703509  Michael Kors Nappa Leather Racer Jacket  728.80        Men   \n",
       "\n",
       "            category_1       category_2       category_3 category_4  \\\n",
       "0                 None             None             None       None   \n",
       "50497             None             None             None       None   \n",
       "56918             None             None             None       None   \n",
       "120723            None             None             None       None   \n",
       "211849             NaN              NaN              NaN        NaN   \n",
       "...                ...              ...              ...        ...   \n",
       "5328958   Men Clothing  Jackets & Coats  Leather jackets       None   \n",
       "5556108   Men Clothing  Jackets & Coats  Leather jackets       None   \n",
       "9860697   Men Clothing  Jackets & Coats  Leather jackets       None   \n",
       "9860738   Men Clothing  Jackets & Coats  Leather jackets       None   \n",
       "12703509  Men Clothing  Jackets & Coats  Leather jackets       None   \n",
       "\n",
       "         category_5     6 category_0    category_1       category_2  \\\n",
       "0              None  None        NaN          None             None   \n",
       "50497          None  None        NaN          None             None   \n",
       "56918          None  None        NaN          None             None   \n",
       "120723         None  None        NaN          None             None   \n",
       "211849          NaN   NaN        NaN           NaN              NaN   \n",
       "...             ...   ...        ...           ...              ...   \n",
       "5328958        None  None        Men  Men Clothing  Jackets & Coats   \n",
       "5556108        None  None        Men  Men Clothing  Jackets & Coats   \n",
       "9860697        None  None        Men  Men Clothing  Jackets & Coats   \n",
       "9860738        None  None        Men  Men Clothing  Jackets & Coats   \n",
       "12703509       None  None        Men  Men Clothing  Jackets & Coats   \n",
       "\n",
       "               category_3 category_4 category_5 category_6  \n",
       "0                    None       None       None       None  \n",
       "50497                None       None       None       None  \n",
       "56918                None       None       None       None  \n",
       "120723               None       None       None       None  \n",
       "211849                NaN        NaN        NaN        NaN  \n",
       "...                   ...        ...        ...        ...  \n",
       "5328958   Leather jackets       None       None       None  \n",
       "5556108   Leather jackets       None       None       None  \n",
       "9860697   Leather jackets       None       None       None  \n",
       "9860738   Leather jackets       None       None       None  \n",
       "12703509  Leather jackets       None       None       None  \n",
       "\n",
       "[77 rows x 20 columns]"
      ]
     },
     "execution_count": 103,
     "metadata": {},
     "output_type": "execute_result"
    }
   ],
   "source": [
    "data[data.product_id == product_ids[0]]"
   ]
  },
  {
   "cell_type": "code",
   "execution_count": null,
   "metadata": {},
   "outputs": [],
   "source": [
    "# data.groupby('customer')['...'].apply(list)"
   ]
  },
  {
   "cell_type": "code",
   "execution_count": 27,
   "metadata": {
    "scrolled": true
   },
   "outputs": [],
   "source": [
    "# categories_onehot = pd.get_dummies(categories)\n",
    "# categories_onehot.sample(5)"
   ]
  },
  {
   "cell_type": "markdown",
   "metadata": {},
   "source": [
    "# Primitívny odporúčač"
   ]
  },
  {
   "cell_type": "markdown",
   "metadata": {},
   "source": [
    "Odporúčanie najpredávanejších produktov"
   ]
  },
  {
   "cell_type": "code",
   "execution_count": 69,
   "metadata": {},
   "outputs": [],
   "source": [
    "class PrimitiveRecomender:\n",
    "    def __init__(self, df):\n",
    "        self.tops = list(df['product_id'].value_counts().head(10).index)\n",
    "    def recomend(self, id):\n",
    "        # ID is not used in any way\n",
    "        return self.tops"
   ]
  },
  {
   "cell_type": "markdown",
   "metadata": {},
   "source": [
    "# Obsahový odporúčač"
   ]
  },
  {
   "cell_type": "code",
   "execution_count": 130,
   "metadata": {},
   "outputs": [],
   "source": [
    "from sklearn.cluster import KMeans"
   ]
  },
  {
   "cell_type": "code",
   "execution_count": 131,
   "metadata": {},
   "outputs": [],
   "source": [
    "X = np.array([[1, 2], [1, 4], [1, 0],\n",
    "            [10, 2], [10, 4], [10, 0]])"
   ]
  },
  {
   "cell_type": "code",
   "execution_count": 132,
   "metadata": {},
   "outputs": [],
   "source": [
    "kmeans = KMeans(n_clusters=2, random_state=0).fit(X)"
   ]
  },
  {
   "cell_type": "code",
   "execution_count": 133,
   "metadata": {},
   "outputs": [
    {
     "data": {
      "text/plain": [
       "array([1, 1, 1, 0, 0, 0], dtype=int32)"
      ]
     },
     "execution_count": 133,
     "metadata": {},
     "output_type": "execute_result"
    }
   ],
   "source": [
    "kmeans.labels_"
   ]
  },
  {
   "cell_type": "code",
   "execution_count": 134,
   "metadata": {
    "scrolled": false
   },
   "outputs": [
    {
     "data": {
      "text/plain": [
       "array([1, 0], dtype=int32)"
      ]
     },
     "execution_count": 134,
     "metadata": {},
     "output_type": "execute_result"
    }
   ],
   "source": [
    "kmeans.predict([[0, 0], [12, 3]])"
   ]
  },
  {
   "cell_type": "code",
   "execution_count": 135,
   "metadata": {
    "scrolled": false
   },
   "outputs": [
    {
     "data": {
      "text/plain": [
       "array([[10.,  2.],\n",
       "       [ 1.,  2.]])"
      ]
     },
     "execution_count": 135,
     "metadata": {},
     "output_type": "execute_result"
    }
   ],
   "source": [
    "kmeans.cluster_centers_"
   ]
  },
  {
   "cell_type": "code",
   "execution_count": 27,
   "metadata": {},
   "outputs": [],
   "source": [
    "class ContentRecomender:\n",
    "    def __init__(self, train):\n",
    "        self.train = train\n",
    "    def recomend(self, id):\n",
    "        return [1, 2, 3, 4, 5]"
   ]
  },
  {
   "cell_type": "code",
   "execution_count": 32,
   "metadata": {},
   "outputs": [],
   "source": [
    "def recomendation(recomender, data):\n",
    "    results = {}\n",
    "    for id in data:\n",
    "        results[id] = recomender.recomend(id)\n",
    "    return results"
   ]
  },
  {
   "cell_type": "markdown",
   "metadata": {},
   "source": [
    "# Evaluácia"
   ]
  },
  {
   "cell_type": "markdown",
   "metadata": {},
   "source": [
    "## Metriky"
   ]
  },
  {
   "cell_type": "markdown",
   "metadata": {},
   "source": [
    "Použité implementácie z [Ranking Metrics](https://gist.github.com/bwhite/3726239)"
   ]
  },
  {
   "cell_type": "code",
   "execution_count": 101,
   "metadata": {
    "scrolled": true
   },
   "outputs": [],
   "source": [
    "def precision_at_k(r, k):\n",
    "    \"\"\"Score is precision @ k\n",
    "    Relevance is binary (nonzero is relevant).\n",
    "    Args:\n",
    "        r: Relevance scores (list or numpy) in rank order\n",
    "            (first element is the first item)\n",
    "    Returns:\n",
    "        Precision @ k\n",
    "    Raises:\n",
    "        ValueError: len(r) must be >= k\n",
    "    \"\"\"\n",
    "    assert k >= 1\n",
    "    r = np.asarray(r)[:k] != 0\n",
    "    if r.size != k:\n",
    "        raise ValueError('Relevance score length < k')\n",
    "    return np.mean(r)"
   ]
  },
  {
   "cell_type": "code",
   "execution_count": 98,
   "metadata": {},
   "outputs": [],
   "source": [
    "def relevance(predicted, test):\n",
    "    r = []\n",
    "    for x in predicted:\n",
    "        r.append(1 if x in test else 0)\n",
    "    return r"
   ]
  },
  {
   "cell_type": "markdown",
   "metadata": {},
   "source": [
    "## Výsledky"
   ]
  },
  {
   "cell_type": "markdown",
   "metadata": {},
   "source": [
    "## 1"
   ]
  },
  {
   "cell_type": "code",
   "execution_count": 70,
   "metadata": {},
   "outputs": [],
   "source": [
    "primitive_recomender = PrimitiveRecomender(data)"
   ]
  },
  {
   "cell_type": "code",
   "execution_count": 95,
   "metadata": {
    "scrolled": true
   },
   "outputs": [],
   "source": [
    "predicted_products = primitive_recomender.recomend(0)"
   ]
  },
  {
   "cell_type": "code",
   "execution_count": 105,
   "metadata": {},
   "outputs": [],
   "source": [
    "test_customers = list(data.customer_id.unique()[:100])"
   ]
  },
  {
   "cell_type": "code",
   "execution_count": 106,
   "metadata": {
    "scrolled": true
   },
   "outputs": [],
   "source": [
    "test_products = {}\n",
    "for cid in test_customers:  \n",
    "    test_products[cid] = list(data[data.customer_id == cid]['product_id'])"
   ]
  },
  {
   "cell_type": "code",
   "execution_count": 114,
   "metadata": {
    "collapsed": true
   },
   "outputs": [
    {
     "ename": "ValueError",
     "evalue": "Relevance score length < k",
     "output_type": "error",
     "traceback": [
      "\u001b[0;31m---------------------------------------------------------------------------\u001b[0m",
      "\u001b[0;31mValueError\u001b[0m                                Traceback (most recent call last)",
      "\u001b[0;32m<ipython-input-114-9f986431285c>\u001b[0m in \u001b[0;36m<module>\u001b[0;34m\u001b[0m\n\u001b[0;32m----> 1\u001b[0;31m \u001b[0mnp\u001b[0m\u001b[0;34m.\u001b[0m\u001b[0mmean\u001b[0m\u001b[0;34m(\u001b[0m\u001b[0;34m[\u001b[0m\u001b[0mprecision_at_k\u001b[0m\u001b[0;34m(\u001b[0m\u001b[0mrelevance\u001b[0m\u001b[0;34m(\u001b[0m\u001b[0mtest_products\u001b[0m\u001b[0;34m[\u001b[0m\u001b[0mkey\u001b[0m\u001b[0;34m]\u001b[0m\u001b[0;34m,\u001b[0m \u001b[0mpredicted_products\u001b[0m\u001b[0;34m)\u001b[0m\u001b[0;34m,\u001b[0m \u001b[0;36m3\u001b[0m\u001b[0;34m)\u001b[0m \u001b[0;32mfor\u001b[0m \u001b[0mkey\u001b[0m \u001b[0;32min\u001b[0m \u001b[0mtest_customers\u001b[0m\u001b[0;34m]\u001b[0m\u001b[0;34m)\u001b[0m\u001b[0;34m\u001b[0m\u001b[0;34m\u001b[0m\u001b[0m\n\u001b[0m",
      "\u001b[0;32m<ipython-input-114-9f986431285c>\u001b[0m in \u001b[0;36m<listcomp>\u001b[0;34m(.0)\u001b[0m\n\u001b[0;32m----> 1\u001b[0;31m \u001b[0mnp\u001b[0m\u001b[0;34m.\u001b[0m\u001b[0mmean\u001b[0m\u001b[0;34m(\u001b[0m\u001b[0;34m[\u001b[0m\u001b[0mprecision_at_k\u001b[0m\u001b[0;34m(\u001b[0m\u001b[0mrelevance\u001b[0m\u001b[0;34m(\u001b[0m\u001b[0mtest_products\u001b[0m\u001b[0;34m[\u001b[0m\u001b[0mkey\u001b[0m\u001b[0;34m]\u001b[0m\u001b[0;34m,\u001b[0m \u001b[0mpredicted_products\u001b[0m\u001b[0;34m)\u001b[0m\u001b[0;34m,\u001b[0m \u001b[0;36m3\u001b[0m\u001b[0;34m)\u001b[0m \u001b[0;32mfor\u001b[0m \u001b[0mkey\u001b[0m \u001b[0;32min\u001b[0m \u001b[0mtest_customers\u001b[0m\u001b[0;34m]\u001b[0m\u001b[0;34m)\u001b[0m\u001b[0;34m\u001b[0m\u001b[0;34m\u001b[0m\u001b[0m\n\u001b[0m",
      "\u001b[0;32m<ipython-input-101-fc07edeaa360>\u001b[0m in \u001b[0;36mprecision_at_k\u001b[0;34m(r, k)\u001b[0m\n\u001b[1;32m     13\u001b[0m     \u001b[0mr\u001b[0m \u001b[0;34m=\u001b[0m \u001b[0mnp\u001b[0m\u001b[0;34m.\u001b[0m\u001b[0masarray\u001b[0m\u001b[0;34m(\u001b[0m\u001b[0mr\u001b[0m\u001b[0;34m)\u001b[0m\u001b[0;34m[\u001b[0m\u001b[0;34m:\u001b[0m\u001b[0mk\u001b[0m\u001b[0;34m]\u001b[0m \u001b[0;34m!=\u001b[0m \u001b[0;36m0\u001b[0m\u001b[0;34m\u001b[0m\u001b[0;34m\u001b[0m\u001b[0m\n\u001b[1;32m     14\u001b[0m     \u001b[0;32mif\u001b[0m \u001b[0mr\u001b[0m\u001b[0;34m.\u001b[0m\u001b[0msize\u001b[0m \u001b[0;34m!=\u001b[0m \u001b[0mk\u001b[0m\u001b[0;34m:\u001b[0m\u001b[0;34m\u001b[0m\u001b[0;34m\u001b[0m\u001b[0m\n\u001b[0;32m---> 15\u001b[0;31m         \u001b[0;32mraise\u001b[0m \u001b[0mValueError\u001b[0m\u001b[0;34m(\u001b[0m\u001b[0;34m'Relevance score length < k'\u001b[0m\u001b[0;34m)\u001b[0m\u001b[0;34m\u001b[0m\u001b[0;34m\u001b[0m\u001b[0m\n\u001b[0m\u001b[1;32m     16\u001b[0m     \u001b[0;32mreturn\u001b[0m \u001b[0mnp\u001b[0m\u001b[0;34m.\u001b[0m\u001b[0mmean\u001b[0m\u001b[0;34m(\u001b[0m\u001b[0mr\u001b[0m\u001b[0;34m)\u001b[0m\u001b[0;34m\u001b[0m\u001b[0;34m\u001b[0m\u001b[0m\n",
      "\u001b[0;31mValueError\u001b[0m: Relevance score length < k"
     ]
    }
   ],
   "source": [
    "np.mean([precision_at_k(relevance(test_products[key], predicted_products), 3) for key in test_customers])"
   ]
  },
  {
   "cell_type": "markdown",
   "metadata": {},
   "source": [
    "## 2"
   ]
  },
  {
   "cell_type": "code",
   "execution_count": 35,
   "metadata": {},
   "outputs": [],
   "source": [
    "test_customers = [0, 1, 2]\n",
    "test_products = {0: [1, 2, 5], 1: [3, 4, 5], 2: [1, 2, 3, 4]}"
   ]
  },
  {
   "cell_type": "code",
   "execution_count": 33,
   "metadata": {},
   "outputs": [],
   "source": [
    "content_recomender = ContentRecomender(None)"
   ]
  },
  {
   "cell_type": "code",
   "execution_count": 36,
   "metadata": {},
   "outputs": [],
   "source": [
    "predicted_products = recomendation(content_recomender, test_customers)"
   ]
  },
  {
   "cell_type": "code",
   "execution_count": 37,
   "metadata": {
    "collapsed": true
   },
   "outputs": [
    {
     "ename": "NameError",
     "evalue": "name 'precision_at_k' is not defined",
     "output_type": "error",
     "traceback": [
      "\u001b[0;31m---------------------------------------------------------------------------\u001b[0m",
      "\u001b[0;31mNameError\u001b[0m                                 Traceback (most recent call last)",
      "\u001b[0;32m<ipython-input-37-d0c506303e51>\u001b[0m in \u001b[0;36m<module>\u001b[0;34m\u001b[0m\n\u001b[0;32m----> 1\u001b[0;31m \u001b[0mnp\u001b[0m\u001b[0;34m.\u001b[0m\u001b[0mmean\u001b[0m\u001b[0;34m(\u001b[0m\u001b[0;34m[\u001b[0m\u001b[0mprecision_at_k\u001b[0m\u001b[0;34m(\u001b[0m\u001b[0mrelevance\u001b[0m\u001b[0;34m(\u001b[0m\u001b[0mtest_products\u001b[0m\u001b[0;34m[\u001b[0m\u001b[0mkey\u001b[0m\u001b[0;34m]\u001b[0m\u001b[0;34m,\u001b[0m \u001b[0mpredicted_products\u001b[0m\u001b[0;34m[\u001b[0m\u001b[0mkey\u001b[0m\u001b[0;34m]\u001b[0m\u001b[0;34m)\u001b[0m\u001b[0;34m,\u001b[0m \u001b[0;36m3\u001b[0m\u001b[0;34m)\u001b[0m \u001b[0;32mfor\u001b[0m \u001b[0mkey\u001b[0m \u001b[0;32min\u001b[0m \u001b[0mtest_customers\u001b[0m\u001b[0;34m]\u001b[0m\u001b[0;34m)\u001b[0m\u001b[0;34m\u001b[0m\u001b[0;34m\u001b[0m\u001b[0m\n\u001b[0m",
      "\u001b[0;32m<ipython-input-37-d0c506303e51>\u001b[0m in \u001b[0;36m<listcomp>\u001b[0;34m(.0)\u001b[0m\n\u001b[0;32m----> 1\u001b[0;31m \u001b[0mnp\u001b[0m\u001b[0;34m.\u001b[0m\u001b[0mmean\u001b[0m\u001b[0;34m(\u001b[0m\u001b[0;34m[\u001b[0m\u001b[0mprecision_at_k\u001b[0m\u001b[0;34m(\u001b[0m\u001b[0mrelevance\u001b[0m\u001b[0;34m(\u001b[0m\u001b[0mtest_products\u001b[0m\u001b[0;34m[\u001b[0m\u001b[0mkey\u001b[0m\u001b[0;34m]\u001b[0m\u001b[0;34m,\u001b[0m \u001b[0mpredicted_products\u001b[0m\u001b[0;34m[\u001b[0m\u001b[0mkey\u001b[0m\u001b[0;34m]\u001b[0m\u001b[0;34m)\u001b[0m\u001b[0;34m,\u001b[0m \u001b[0;36m3\u001b[0m\u001b[0;34m)\u001b[0m \u001b[0;32mfor\u001b[0m \u001b[0mkey\u001b[0m \u001b[0;32min\u001b[0m \u001b[0mtest_customers\u001b[0m\u001b[0;34m]\u001b[0m\u001b[0;34m)\u001b[0m\u001b[0;34m\u001b[0m\u001b[0;34m\u001b[0m\u001b[0m\n\u001b[0m",
      "\u001b[0;31mNameError\u001b[0m: name 'precision_at_k' is not defined"
     ]
    }
   ],
   "source": [
    "np.mean([precision_at_k(relevance(test_products[key], predicted_products[key]), 3) for key in test_customers])"
   ]
  },
  {
   "cell_type": "markdown",
   "metadata": {},
   "source": [
    "## 3"
   ]
  },
  {
   "cell_type": "markdown",
   "metadata": {},
   "source": [
    "# Poznámky"
   ]
  },
  {
   "cell_type": "markdown",
   "metadata": {},
   "source": [
    "1. koľko odporúčaní generovať?\n",
    "2. záznamy nákupu zahodiť?"
   ]
  }
 ],
 "metadata": {
  "kernelspec": {
   "display_name": "Python 3",
   "language": "python",
   "name": "python3"
  },
  "language_info": {
   "codemirror_mode": {
    "name": "ipython",
    "version": 3
   },
   "file_extension": ".py",
   "mimetype": "text/x-python",
   "name": "python",
   "nbconvert_exporter": "python",
   "pygments_lexer": "ipython3",
   "version": "3.7.4"
  }
 },
 "nbformat": 4,
 "nbformat_minor": 2
}
