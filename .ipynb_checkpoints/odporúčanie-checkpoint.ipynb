{
 "cells": [
  {
   "cell_type": "code",
   "execution_count": 1,
   "metadata": {
    "scrolled": true
   },
   "outputs": [],
   "source": [
    "import numpy as np\n",
    "import pandas as pd\n",
    "import warnings\n",
    "import json\n",
    "import requests\n",
    "import random\n",
    "from elasticsearch import Elasticsearch\n",
    "warnings.filterwarnings('ignore')"
   ]
  },
  {
   "cell_type": "markdown",
   "metadata": {},
   "source": [
    "# Exploračná analýza"
   ]
  },
  {
   "cell_type": "markdown",
   "metadata": {},
   "source": [
    "## Tabuľka events"
   ]
  },
  {
   "cell_type": "code",
   "execution_count": 2,
   "metadata": {
    "scrolled": true
   },
   "outputs": [
    {
     "data": {
      "text/html": [
       "<div>\n",
       "<style scoped>\n",
       "    .dataframe tbody tr th:only-of-type {\n",
       "        vertical-align: middle;\n",
       "    }\n",
       "\n",
       "    .dataframe tbody tr th {\n",
       "        vertical-align: top;\n",
       "    }\n",
       "\n",
       "    .dataframe thead th {\n",
       "        text-align: right;\n",
       "    }\n",
       "</style>\n",
       "<table border=\"1\" class=\"dataframe\">\n",
       "  <thead>\n",
       "    <tr style=\"text-align: right;\">\n",
       "      <th></th>\n",
       "      <th>customer_id</th>\n",
       "      <th>timestamp</th>\n",
       "      <th>event_type</th>\n",
       "      <th>product_id</th>\n",
       "      <th>title</th>\n",
       "      <th>category_name</th>\n",
       "      <th>price</th>\n",
       "    </tr>\n",
       "  </thead>\n",
       "  <tbody>\n",
       "    <tr>\n",
       "      <td>10704929</td>\n",
       "      <td>8f702e1e-c046-4c91-8b63-4b97aff10a8d</td>\n",
       "      <td>2019-08-17 06:10:20.660117 UTC</td>\n",
       "      <td>view_item</td>\n",
       "      <td>c09c1152-a163-4d00-b11a-d8ad08ea396a</td>\n",
       "      <td>Women's skirt SAM73 GAILIA</td>\n",
       "      <td>Women&gt;Women's Clothing&gt;Skirts&gt;Mini skirts</td>\n",
       "      <td>7.53</td>\n",
       "    </tr>\n",
       "    <tr>\n",
       "      <td>5299206</td>\n",
       "      <td>8b8423f2-9284-4db8-9e73-4945656c572a</td>\n",
       "      <td>2019-07-26 18:08:28.006863 UTC</td>\n",
       "      <td>view_item</td>\n",
       "      <td>47cda0bb-3322-420e-bd5e-7914cbe60a7e</td>\n",
       "      <td>Made Of Emotion Woman's Jumpsuit M382 Powder</td>\n",
       "      <td>Women&gt;Women's Clothing&gt;Jumpsuits</td>\n",
       "      <td>40.08</td>\n",
       "    </tr>\n",
       "    <tr>\n",
       "      <td>7708020</td>\n",
       "      <td>84131674-5722-4a18-a322-d025c0a7ce87</td>\n",
       "      <td>2019-08-05 14:01:34.026415 UTC</td>\n",
       "      <td>view_item</td>\n",
       "      <td>5c57095d-76a9-4a6f-8f47-3a0f97d2dfea</td>\n",
       "      <td>Adidas Nemeziz 17.3 FG Mens Football Boots</td>\n",
       "      <td>Men&gt;Men Footwear&gt;Football Boots &amp; Indoor Trainers</td>\n",
       "      <td>45.70</td>\n",
       "    </tr>\n",
       "    <tr>\n",
       "      <td>8299183</td>\n",
       "      <td>0c962945-bc92-4089-8678-c78d9d04f243</td>\n",
       "      <td>2019-08-07 16:24:13.193066 UTC</td>\n",
       "      <td>view_item</td>\n",
       "      <td>94bf2067-89fb-4c4e-8a82-3a76dc67a4b3</td>\n",
       "      <td>Figl Woman's Dress M660</td>\n",
       "      <td>Women&gt;Women's Clothing&gt;Dresses&gt;Midi dress</td>\n",
       "      <td>39.41</td>\n",
       "    </tr>\n",
       "    <tr>\n",
       "      <td>3182710</td>\n",
       "      <td>f55e5d7b-3e16-41cd-95ae-ecd01eb27a8f</td>\n",
       "      <td>2019-07-16 05:49:03.177559 UTC</td>\n",
       "      <td>view_item</td>\n",
       "      <td>322bb79d-52d8-49e3-8078-7485bf615d71</td>\n",
       "      <td>No Fear Double Waist Shorts Mens</td>\n",
       "      <td>NaN</td>\n",
       "      <td>21.90</td>\n",
       "    </tr>\n",
       "    <tr>\n",
       "      <td>4959200</td>\n",
       "      <td>58587004-a7d2-4e1f-a3b9-f0fcb751bc97</td>\n",
       "      <td>2019-07-24 23:29:15.939124 UTC</td>\n",
       "      <td>view_item</td>\n",
       "      <td>1b07b6db-1e6f-422d-87df-8918239247e2</td>\n",
       "      <td>Made Of Emotion Woman's Dress M296</td>\n",
       "      <td>Women&gt;Women's Clothing&gt;Dresses&gt;Midi dress</td>\n",
       "      <td>39.01</td>\n",
       "    </tr>\n",
       "    <tr>\n",
       "      <td>7990197</td>\n",
       "      <td>c9442631-df03-49be-8448-798adc112fa4</td>\n",
       "      <td>2019-08-06 14:15:19.030003 UTC</td>\n",
       "      <td>view_item</td>\n",
       "      <td>01b2086b-1ef1-4b32-8b51-1f5698fc7b6c</td>\n",
       "      <td>Adidas TERREX AX2R Mid Junior Walking Boots</td>\n",
       "      <td>Children&gt;Children's Footwear&gt;Hiking shoes&gt;High...</td>\n",
       "      <td>76.02</td>\n",
       "    </tr>\n",
       "    <tr>\n",
       "      <td>7578106</td>\n",
       "      <td>7b2e3f19-9866-4943-adcb-82dc2600b4e8</td>\n",
       "      <td>2019-08-05 05:08:20.252862 UTC</td>\n",
       "      <td>view_item</td>\n",
       "      <td>1da7e9e9-ee3a-4812-a27d-1efcc95c4006</td>\n",
       "      <td>New Balance M520v5 Trainers Mens</td>\n",
       "      <td>Sports&gt;Running&gt;Running Shoes&gt;Men's Running  Shoes</td>\n",
       "      <td>63.37</td>\n",
       "    </tr>\n",
       "    <tr>\n",
       "      <td>9999635</td>\n",
       "      <td>c39bd5f6-52c3-48d0-936e-fbf7fbd72aed</td>\n",
       "      <td>2019-08-14 10:10:00.485133 UTC</td>\n",
       "      <td>view_item</td>\n",
       "      <td>ced5b9a4-e168-4c47-b1c7-8428880d2fd6</td>\n",
       "      <td>Lee Cooper Knit Jacket Mens</td>\n",
       "      <td>Men&gt;Men Clothing&gt;Sweaters&gt;Zip-up sweaters</td>\n",
       "      <td>18.37</td>\n",
       "    </tr>\n",
       "    <tr>\n",
       "      <td>4812034</td>\n",
       "      <td>4180f9ee-4854-4d69-a1f2-29fa29544932</td>\n",
       "      <td>2019-07-24 09:05:32.009108 UTC</td>\n",
       "      <td>view_item</td>\n",
       "      <td>11c70685-e0dd-423e-8029-b3977e582ce8</td>\n",
       "      <td>Biba Icon swimsuit with tummy control dámske</td>\n",
       "      <td>NaN</td>\n",
       "      <td>92.13</td>\n",
       "    </tr>\n",
       "  </tbody>\n",
       "</table>\n",
       "</div>"
      ],
      "text/plain": [
       "                                   customer_id  \\\n",
       "10704929  8f702e1e-c046-4c91-8b63-4b97aff10a8d   \n",
       "5299206   8b8423f2-9284-4db8-9e73-4945656c572a   \n",
       "7708020   84131674-5722-4a18-a322-d025c0a7ce87   \n",
       "8299183   0c962945-bc92-4089-8678-c78d9d04f243   \n",
       "3182710   f55e5d7b-3e16-41cd-95ae-ecd01eb27a8f   \n",
       "4959200   58587004-a7d2-4e1f-a3b9-f0fcb751bc97   \n",
       "7990197   c9442631-df03-49be-8448-798adc112fa4   \n",
       "7578106   7b2e3f19-9866-4943-adcb-82dc2600b4e8   \n",
       "9999635   c39bd5f6-52c3-48d0-936e-fbf7fbd72aed   \n",
       "4812034   4180f9ee-4854-4d69-a1f2-29fa29544932   \n",
       "\n",
       "                               timestamp event_type  \\\n",
       "10704929  2019-08-17 06:10:20.660117 UTC  view_item   \n",
       "5299206   2019-07-26 18:08:28.006863 UTC  view_item   \n",
       "7708020   2019-08-05 14:01:34.026415 UTC  view_item   \n",
       "8299183   2019-08-07 16:24:13.193066 UTC  view_item   \n",
       "3182710   2019-07-16 05:49:03.177559 UTC  view_item   \n",
       "4959200   2019-07-24 23:29:15.939124 UTC  view_item   \n",
       "7990197   2019-08-06 14:15:19.030003 UTC  view_item   \n",
       "7578106   2019-08-05 05:08:20.252862 UTC  view_item   \n",
       "9999635   2019-08-14 10:10:00.485133 UTC  view_item   \n",
       "4812034   2019-07-24 09:05:32.009108 UTC  view_item   \n",
       "\n",
       "                                    product_id  \\\n",
       "10704929  c09c1152-a163-4d00-b11a-d8ad08ea396a   \n",
       "5299206   47cda0bb-3322-420e-bd5e-7914cbe60a7e   \n",
       "7708020   5c57095d-76a9-4a6f-8f47-3a0f97d2dfea   \n",
       "8299183   94bf2067-89fb-4c4e-8a82-3a76dc67a4b3   \n",
       "3182710   322bb79d-52d8-49e3-8078-7485bf615d71   \n",
       "4959200   1b07b6db-1e6f-422d-87df-8918239247e2   \n",
       "7990197   01b2086b-1ef1-4b32-8b51-1f5698fc7b6c   \n",
       "7578106   1da7e9e9-ee3a-4812-a27d-1efcc95c4006   \n",
       "9999635   ced5b9a4-e168-4c47-b1c7-8428880d2fd6   \n",
       "4812034   11c70685-e0dd-423e-8029-b3977e582ce8   \n",
       "\n",
       "                                                 title  \\\n",
       "10704929                    Women's skirt SAM73 GAILIA   \n",
       "5299206   Made Of Emotion Woman's Jumpsuit M382 Powder   \n",
       "7708020     Adidas Nemeziz 17.3 FG Mens Football Boots   \n",
       "8299183                        Figl Woman's Dress M660   \n",
       "3182710               No Fear Double Waist Shorts Mens   \n",
       "4959200             Made Of Emotion Woman's Dress M296   \n",
       "7990197    Adidas TERREX AX2R Mid Junior Walking Boots   \n",
       "7578106               New Balance M520v5 Trainers Mens   \n",
       "9999635                    Lee Cooper Knit Jacket Mens   \n",
       "4812034   Biba Icon swimsuit with tummy control dámske   \n",
       "\n",
       "                                              category_name  price  \n",
       "10704929          Women>Women's Clothing>Skirts>Mini skirts   7.53  \n",
       "5299206                    Women>Women's Clothing>Jumpsuits  40.08  \n",
       "7708020   Men>Men Footwear>Football Boots & Indoor Trainers  45.70  \n",
       "8299183           Women>Women's Clothing>Dresses>Midi dress  39.41  \n",
       "3182710                                                 NaN  21.90  \n",
       "4959200           Women>Women's Clothing>Dresses>Midi dress  39.01  \n",
       "7990197   Children>Children's Footwear>Hiking shoes>High...  76.02  \n",
       "7578106   Sports>Running>Running Shoes>Men's Running  Shoes  63.37  \n",
       "9999635           Men>Men Clothing>Sweaters>Zip-up sweaters  18.37  \n",
       "4812034                                                 NaN  92.13  "
      ]
     },
     "execution_count": 2,
     "metadata": {},
     "output_type": "execute_result"
    }
   ],
   "source": [
    "events = pd.read_csv('vi_data/events_train.csv')\n",
    "events.sample(10)"
   ]
  },
  {
   "cell_type": "code",
   "execution_count": 4,
   "metadata": {},
   "outputs": [
    {
     "data": {
      "text/plain": [
       "(14614385, 7)"
      ]
     },
     "execution_count": 4,
     "metadata": {},
     "output_type": "execute_result"
    }
   ],
   "source": [
    "events.shape"
   ]
  },
  {
   "cell_type": "code",
   "execution_count": 5,
   "metadata": {
    "scrolled": true
   },
   "outputs": [
    {
     "data": {
      "text/plain": [
       "array(['view_item'], dtype=object)"
      ]
     },
     "execution_count": 5,
     "metadata": {},
     "output_type": "execute_result"
    }
   ],
   "source": [
    "events.event_type.unique()"
   ]
  },
  {
   "cell_type": "markdown",
   "metadata": {},
   "source": [
    "## Tabuľka purchases"
   ]
  },
  {
   "cell_type": "code",
   "execution_count": 3,
   "metadata": {
    "scrolled": false
   },
   "outputs": [
    {
     "data": {
      "text/html": [
       "<div>\n",
       "<style scoped>\n",
       "    .dataframe tbody tr th:only-of-type {\n",
       "        vertical-align: middle;\n",
       "    }\n",
       "\n",
       "    .dataframe tbody tr th {\n",
       "        vertical-align: top;\n",
       "    }\n",
       "\n",
       "    .dataframe thead th {\n",
       "        text-align: right;\n",
       "    }\n",
       "</style>\n",
       "<table border=\"1\" class=\"dataframe\">\n",
       "  <thead>\n",
       "    <tr style=\"text-align: right;\">\n",
       "      <th></th>\n",
       "      <th>customer_id</th>\n",
       "      <th>timestamp</th>\n",
       "      <th>event_type</th>\n",
       "      <th>product_id</th>\n",
       "      <th>title</th>\n",
       "      <th>category_name</th>\n",
       "      <th>price</th>\n",
       "    </tr>\n",
       "  </thead>\n",
       "  <tbody>\n",
       "    <tr>\n",
       "      <td>97576</td>\n",
       "      <td>f103cb77-74a1-4321-9c95-0080b876dce1</td>\n",
       "      <td>2019-08-04 14:20:01.114696 UTC</td>\n",
       "      <td>purchase_item</td>\n",
       "      <td>b572f0d3-5d63-4695-808f-932969ba1bdb</td>\n",
       "      <td>Kids socks MANY MORNINGS</td>\n",
       "      <td>Children&gt;Girl's Clothing&gt;Underwear&gt;Socks</td>\n",
       "      <td>3.51</td>\n",
       "    </tr>\n",
       "    <tr>\n",
       "      <td>97947</td>\n",
       "      <td>39843a42-b9f2-4858-b000-b960fa9ec739</td>\n",
       "      <td>2019-08-04 16:22:00.629292 UTC</td>\n",
       "      <td>purchase_item</td>\n",
       "      <td>6e82ee55-6a61-48f0-ae26-bf73ebce4d86</td>\n",
       "      <td>Womens hoodie Fruit of the Loom Basic</td>\n",
       "      <td>Women&gt;Women's Clothing&gt;Sweatshirts&gt;Hoodies</td>\n",
       "      <td>9.01</td>\n",
       "    </tr>\n",
       "    <tr>\n",
       "      <td>65238</td>\n",
       "      <td>1ae583a2-5730-4ff6-afa6-d76ee7757b7a</td>\n",
       "      <td>2019-07-25 11:27:55.507235 UTC</td>\n",
       "      <td>purchase_item</td>\n",
       "      <td>023ed07b-b1f4-4b75-be0d-56330528a799</td>\n",
       "      <td>Muddyfox Cycle Jacket Mens</td>\n",
       "      <td>Men&gt;Men Clothing&gt;Jackets &amp; Coats&gt;Lightweight s...</td>\n",
       "      <td>26.49</td>\n",
       "    </tr>\n",
       "    <tr>\n",
       "      <td>54762</td>\n",
       "      <td>a3c411c0-f31a-4f4d-9140-f1a766ae3b46</td>\n",
       "      <td>2019-07-20 20:24:40.817386 UTC</td>\n",
       "      <td>purchase_item</td>\n",
       "      <td>c0bc3023-a401-4790-ad6c-7e58ff8fb975</td>\n",
       "      <td>Trendyol Orange high waist Bikini bottom</td>\n",
       "      <td>Women&gt;Women's Clothing&gt;Swimmsuits &amp; bikins</td>\n",
       "      <td>11.58</td>\n",
       "    </tr>\n",
       "    <tr>\n",
       "      <td>124888</td>\n",
       "      <td>6c6fb741-1d37-4570-ae63-5e758875a5d2</td>\n",
       "      <td>2019-08-12 09:38:44.866307 UTC</td>\n",
       "      <td>purchase_item</td>\n",
       "      <td>73608106-72cd-4370-b6d4-a3bfd599b7c0</td>\n",
       "      <td>Nike Tanjun Girls Trainers</td>\n",
       "      <td>Women&gt;Women's Footwear&gt;Sneakers&gt;Sport sneakers</td>\n",
       "      <td>52.43</td>\n",
       "    </tr>\n",
       "    <tr>\n",
       "      <td>75922</td>\n",
       "      <td>49e43e9f-a8b0-44bc-b5c8-3e70df3cfb4d</td>\n",
       "      <td>2019-07-29 08:31:00.299825 UTC</td>\n",
       "      <td>purchase_item</td>\n",
       "      <td>d94e8a8d-64e0-4fca-953f-9b762f49a7db</td>\n",
       "      <td>Women's Dress NUMOCO 59</td>\n",
       "      <td>Women&gt;Women's Clothing&gt;Dresses&gt;Mini dress</td>\n",
       "      <td>29.40</td>\n",
       "    </tr>\n",
       "    <tr>\n",
       "      <td>90685</td>\n",
       "      <td>19dd5075-3d49-4a87-9011-a0a51fb58a61</td>\n",
       "      <td>2019-08-02 17:14:04.209189 UTC</td>\n",
       "      <td>purchase_item</td>\n",
       "      <td>c29fe27a-2146-4d77-8163-b0f6294e0354</td>\n",
       "      <td>Trendyol Khaki Swimsuit</td>\n",
       "      <td>Women&gt;Women's Clothing&gt;Swimmsuits &amp; bikins&gt;One...</td>\n",
       "      <td>28.56</td>\n",
       "    </tr>\n",
       "    <tr>\n",
       "      <td>178054</td>\n",
       "      <td>8d67f4be-60e5-44a8-a225-0c29e1c4d284</td>\n",
       "      <td>2019-08-28 19:27:07.030909 UTC</td>\n",
       "      <td>purchase_item</td>\n",
       "      <td>b8e230bc-dbb1-492b-9799-9eb9582c40ba</td>\n",
       "      <td>Slazenger 3 Pack Briefs Mens</td>\n",
       "      <td>Men&gt;Men Clothing&gt;Underwear&gt;Briefs</td>\n",
       "      <td>9.96</td>\n",
       "    </tr>\n",
       "    <tr>\n",
       "      <td>126916</td>\n",
       "      <td>1809e145-1096-456a-b0b0-2fc99d3438b9</td>\n",
       "      <td>2019-08-12 18:55:47.886959 UTC</td>\n",
       "      <td>purchase_item</td>\n",
       "      <td>a2e6be59-8f01-4543-b536-09403038d415</td>\n",
       "      <td>Women's Briefs Lee Cooper 2 Pack</td>\n",
       "      <td>Women&gt;Women's Clothing&gt;Underwear&gt;Panties</td>\n",
       "      <td>4.41</td>\n",
       "    </tr>\n",
       "    <tr>\n",
       "      <td>120498</td>\n",
       "      <td>6b836d2b-3c46-4db7-8c38-d7550330b57c</td>\n",
       "      <td>2019-08-10 22:07:49.137156 UTC</td>\n",
       "      <td>purchase_item</td>\n",
       "      <td>3973d445-ba2a-4eb4-8bc1-b227a1faa9ea</td>\n",
       "      <td>Lee Cooper Boxers 5 Pack</td>\n",
       "      <td>Men&gt;Men Clothing&gt;Underwear</td>\n",
       "      <td>11.52</td>\n",
       "    </tr>\n",
       "  </tbody>\n",
       "</table>\n",
       "</div>"
      ],
      "text/plain": [
       "                                 customer_id                       timestamp  \\\n",
       "97576   f103cb77-74a1-4321-9c95-0080b876dce1  2019-08-04 14:20:01.114696 UTC   \n",
       "97947   39843a42-b9f2-4858-b000-b960fa9ec739  2019-08-04 16:22:00.629292 UTC   \n",
       "65238   1ae583a2-5730-4ff6-afa6-d76ee7757b7a  2019-07-25 11:27:55.507235 UTC   \n",
       "54762   a3c411c0-f31a-4f4d-9140-f1a766ae3b46  2019-07-20 20:24:40.817386 UTC   \n",
       "124888  6c6fb741-1d37-4570-ae63-5e758875a5d2  2019-08-12 09:38:44.866307 UTC   \n",
       "75922   49e43e9f-a8b0-44bc-b5c8-3e70df3cfb4d  2019-07-29 08:31:00.299825 UTC   \n",
       "90685   19dd5075-3d49-4a87-9011-a0a51fb58a61  2019-08-02 17:14:04.209189 UTC   \n",
       "178054  8d67f4be-60e5-44a8-a225-0c29e1c4d284  2019-08-28 19:27:07.030909 UTC   \n",
       "126916  1809e145-1096-456a-b0b0-2fc99d3438b9  2019-08-12 18:55:47.886959 UTC   \n",
       "120498  6b836d2b-3c46-4db7-8c38-d7550330b57c  2019-08-10 22:07:49.137156 UTC   \n",
       "\n",
       "           event_type                            product_id  \\\n",
       "97576   purchase_item  b572f0d3-5d63-4695-808f-932969ba1bdb   \n",
       "97947   purchase_item  6e82ee55-6a61-48f0-ae26-bf73ebce4d86   \n",
       "65238   purchase_item  023ed07b-b1f4-4b75-be0d-56330528a799   \n",
       "54762   purchase_item  c0bc3023-a401-4790-ad6c-7e58ff8fb975   \n",
       "124888  purchase_item  73608106-72cd-4370-b6d4-a3bfd599b7c0   \n",
       "75922   purchase_item  d94e8a8d-64e0-4fca-953f-9b762f49a7db   \n",
       "90685   purchase_item  c29fe27a-2146-4d77-8163-b0f6294e0354   \n",
       "178054  purchase_item  b8e230bc-dbb1-492b-9799-9eb9582c40ba   \n",
       "126916  purchase_item  a2e6be59-8f01-4543-b536-09403038d415   \n",
       "120498  purchase_item  3973d445-ba2a-4eb4-8bc1-b227a1faa9ea   \n",
       "\n",
       "                                           title  \\\n",
       "97576                   Kids socks MANY MORNINGS   \n",
       "97947      Womens hoodie Fruit of the Loom Basic   \n",
       "65238                 Muddyfox Cycle Jacket Mens   \n",
       "54762   Trendyol Orange high waist Bikini bottom   \n",
       "124888                Nike Tanjun Girls Trainers   \n",
       "75922                    Women's Dress NUMOCO 59   \n",
       "90685                    Trendyol Khaki Swimsuit   \n",
       "178054              Slazenger 3 Pack Briefs Mens   \n",
       "126916          Women's Briefs Lee Cooper 2 Pack   \n",
       "120498                  Lee Cooper Boxers 5 Pack   \n",
       "\n",
       "                                            category_name  price  \n",
       "97576            Children>Girl's Clothing>Underwear>Socks   3.51  \n",
       "97947          Women>Women's Clothing>Sweatshirts>Hoodies   9.01  \n",
       "65238   Men>Men Clothing>Jackets & Coats>Lightweight s...  26.49  \n",
       "54762          Women>Women's Clothing>Swimmsuits & bikins  11.58  \n",
       "124888     Women>Women's Footwear>Sneakers>Sport sneakers  52.43  \n",
       "75922           Women>Women's Clothing>Dresses>Mini dress  29.40  \n",
       "90685   Women>Women's Clothing>Swimmsuits & bikins>One...  28.56  \n",
       "178054                  Men>Men Clothing>Underwear>Briefs   9.96  \n",
       "126916           Women>Women's Clothing>Underwear>Panties   4.41  \n",
       "120498                         Men>Men Clothing>Underwear  11.52  "
      ]
     },
     "execution_count": 3,
     "metadata": {},
     "output_type": "execute_result"
    }
   ],
   "source": [
    "purchases = pd.read_csv('vi_data/purchases_train.csv')\n",
    "purchases.sample(10) "
   ]
  },
  {
   "cell_type": "code",
   "execution_count": 7,
   "metadata": {
    "scrolled": false
   },
   "outputs": [
    {
     "data": {
      "text/plain": [
       "(188712, 7)"
      ]
     },
     "execution_count": 7,
     "metadata": {},
     "output_type": "execute_result"
    }
   ],
   "source": [
    "purchases.shape"
   ]
  },
  {
   "cell_type": "code",
   "execution_count": 8,
   "metadata": {},
   "outputs": [
    {
     "data": {
      "text/plain": [
       "array(['purchase_item'], dtype=object)"
      ]
     },
     "execution_count": 8,
     "metadata": {},
     "output_type": "execute_result"
    }
   ],
   "source": [
    "purchases.event_type.unique()"
   ]
  },
  {
   "cell_type": "markdown",
   "metadata": {},
   "source": [
    "tabulky events a purchaches majú roznaké stĺpce "
   ]
  },
  {
   "cell_type": "markdown",
   "metadata": {},
   "source": [
    "## Spojenie events and purchases"
   ]
  },
  {
   "cell_type": "code",
   "execution_count": 4,
   "metadata": {
    "scrolled": true
   },
   "outputs": [
    {
     "data": {
      "text/html": [
       "<div>\n",
       "<style scoped>\n",
       "    .dataframe tbody tr th:only-of-type {\n",
       "        vertical-align: middle;\n",
       "    }\n",
       "\n",
       "    .dataframe tbody tr th {\n",
       "        vertical-align: top;\n",
       "    }\n",
       "\n",
       "    .dataframe thead th {\n",
       "        text-align: right;\n",
       "    }\n",
       "</style>\n",
       "<table border=\"1\" class=\"dataframe\">\n",
       "  <thead>\n",
       "    <tr style=\"text-align: right;\">\n",
       "      <th></th>\n",
       "      <th>customer_id</th>\n",
       "      <th>timestamp</th>\n",
       "      <th>event_type</th>\n",
       "      <th>product_id</th>\n",
       "      <th>title</th>\n",
       "      <th>category_name</th>\n",
       "      <th>price</th>\n",
       "    </tr>\n",
       "  </thead>\n",
       "  <tbody>\n",
       "    <tr>\n",
       "      <td>7432605</td>\n",
       "      <td>6abcc5fa-ad10-48e2-a5a5-443d98e32138</td>\n",
       "      <td>2019-08-04 14:53:48.692227 UTC</td>\n",
       "      <td>view_item</td>\n",
       "      <td>2d3d0e2c-112f-468f-878b-694dfbcf501b</td>\n",
       "      <td>Firetrap LDN Bum Bag 93</td>\n",
       "      <td>Accessories &gt;Backpacks and Bags&gt;Bum bags</td>\n",
       "      <td>20.45</td>\n",
       "    </tr>\n",
       "    <tr>\n",
       "      <td>9645703</td>\n",
       "      <td>8d8feb23-b700-47e6-8509-34a3f8413a10</td>\n",
       "      <td>2019-08-12 20:01:36.577007 UTC</td>\n",
       "      <td>view_item</td>\n",
       "      <td>15b3e401-6159-46e2-94dd-1456cd144597</td>\n",
       "      <td>Puma Court Breaker Mens Trainers</td>\n",
       "      <td>Men&gt;Men Footwear&gt;Sneakers&gt;Low sneakers</td>\n",
       "      <td>50.62</td>\n",
       "    </tr>\n",
       "    <tr>\n",
       "      <td>12831915</td>\n",
       "      <td>1ceedea3-9d2f-41ea-ab06-410e157ce2bb</td>\n",
       "      <td>2019-08-25 17:17:28.629495 UTC</td>\n",
       "      <td>view_item</td>\n",
       "      <td>7093f50c-c7d9-4015-ab6e-bc832b9d44ff</td>\n",
       "      <td>Lemoniade Woman's Sweater LS213</td>\n",
       "      <td>Women&gt;Women's Clothing&gt;Sweaters &amp; Cardigans&gt;Ca...</td>\n",
       "      <td>34.12</td>\n",
       "    </tr>\n",
       "    <tr>\n",
       "      <td>2380034</td>\n",
       "      <td>69080ffe-407a-44ee-91bc-e82d4e9d6e5d</td>\n",
       "      <td>2019-07-12 16:14:09.839359 UTC</td>\n",
       "      <td>view_item</td>\n",
       "      <td>a1547fd5-c6c0-4dc0-989d-5fe286c893d6</td>\n",
       "      <td>DC Blitz II Trainers Mens</td>\n",
       "      <td>NaN</td>\n",
       "      <td>73.69</td>\n",
       "    </tr>\n",
       "    <tr>\n",
       "      <td>7734169</td>\n",
       "      <td>817d8add-1e27-4db9-94d2-6624e89e0e15</td>\n",
       "      <td>2019-08-05 15:48:34.34332 UTC</td>\n",
       "      <td>view_item</td>\n",
       "      <td>827bda66-2718-4549-8d56-39bfd1772a5b</td>\n",
       "      <td>Pierre Cardin Stripe Swimshorts Mens</td>\n",
       "      <td>Men&gt;Men Clothing&gt;Shorts</td>\n",
       "      <td>13.15</td>\n",
       "    </tr>\n",
       "    <tr>\n",
       "      <td>11914618</td>\n",
       "      <td>93234677-a0ae-423c-bef6-a05532f0f24e</td>\n",
       "      <td>2019-08-22 05:54:33.776936 UTC</td>\n",
       "      <td>view_item</td>\n",
       "      <td>f43e7f41-691f-4474-939c-a7487d82ce3c</td>\n",
       "      <td>Crafted Junior Boys 3 Pack Jog Set</td>\n",
       "      <td>Children&gt;Boy's Clothing&gt;Boy's sets</td>\n",
       "      <td>20.14</td>\n",
       "    </tr>\n",
       "    <tr>\n",
       "      <td>8511242</td>\n",
       "      <td>222791a6-09c0-497e-8b7a-e05a19e95877</td>\n",
       "      <td>2019-08-08 11:41:39.312886 UTC</td>\n",
       "      <td>view_item</td>\n",
       "      <td>b5861be8-fec3-4058-959d-f47f015f1598</td>\n",
       "      <td>Prince Reflex Mens Tennis Shoes</td>\n",
       "      <td>Men&gt;Men Footwear&gt;Sneakers&gt;Sport sneakers</td>\n",
       "      <td>57.42</td>\n",
       "    </tr>\n",
       "    <tr>\n",
       "      <td>6251879</td>\n",
       "      <td>464b63ec-0142-4a72-8cd9-fb0b7f0132d2</td>\n",
       "      <td>2019-07-30 20:04:46.710069 UTC</td>\n",
       "      <td>view_item</td>\n",
       "      <td>fa7b221d-95a1-48a3-96b2-c19a2bc6e7dc</td>\n",
       "      <td>Trendyol Black Patent Leather Detailed Women's...</td>\n",
       "      <td>Women&gt;Women's Footwear&gt;Court shoes</td>\n",
       "      <td>25.26</td>\n",
       "    </tr>\n",
       "    <tr>\n",
       "      <td>4502318</td>\n",
       "      <td>46d04df5-6331-4e61-b907-3f29f00b133c</td>\n",
       "      <td>2019-07-22 17:54:34.156284 UTC</td>\n",
       "      <td>view_item</td>\n",
       "      <td>6aa5329b-719e-4087-aaad-8f24a9ce24c0</td>\n",
       "      <td>Slazenger Canvas Kung Snr93</td>\n",
       "      <td>Men&gt;Men Footwear&gt;Sneakers&gt;Low sneakers</td>\n",
       "      <td>16.97</td>\n",
       "    </tr>\n",
       "    <tr>\n",
       "      <td>9041043</td>\n",
       "      <td>1ad4cf0a-c156-4888-924d-88d5cf39d788</td>\n",
       "      <td>2019-08-10 14:08:07.641959 UTC</td>\n",
       "      <td>view_item</td>\n",
       "      <td>d5a8b3f3-da4e-4009-89c6-f8102a256a8c</td>\n",
       "      <td>Blowfish Balta Boots</td>\n",
       "      <td>Women&gt;Women's Footwear&gt;Ankle shoes&gt;on wedge heel</td>\n",
       "      <td>38.14</td>\n",
       "    </tr>\n",
       "  </tbody>\n",
       "</table>\n",
       "</div>"
      ],
      "text/plain": [
       "                                   customer_id  \\\n",
       "7432605   6abcc5fa-ad10-48e2-a5a5-443d98e32138   \n",
       "9645703   8d8feb23-b700-47e6-8509-34a3f8413a10   \n",
       "12831915  1ceedea3-9d2f-41ea-ab06-410e157ce2bb   \n",
       "2380034   69080ffe-407a-44ee-91bc-e82d4e9d6e5d   \n",
       "7734169   817d8add-1e27-4db9-94d2-6624e89e0e15   \n",
       "11914618  93234677-a0ae-423c-bef6-a05532f0f24e   \n",
       "8511242   222791a6-09c0-497e-8b7a-e05a19e95877   \n",
       "6251879   464b63ec-0142-4a72-8cd9-fb0b7f0132d2   \n",
       "4502318   46d04df5-6331-4e61-b907-3f29f00b133c   \n",
       "9041043   1ad4cf0a-c156-4888-924d-88d5cf39d788   \n",
       "\n",
       "                               timestamp event_type  \\\n",
       "7432605   2019-08-04 14:53:48.692227 UTC  view_item   \n",
       "9645703   2019-08-12 20:01:36.577007 UTC  view_item   \n",
       "12831915  2019-08-25 17:17:28.629495 UTC  view_item   \n",
       "2380034   2019-07-12 16:14:09.839359 UTC  view_item   \n",
       "7734169    2019-08-05 15:48:34.34332 UTC  view_item   \n",
       "11914618  2019-08-22 05:54:33.776936 UTC  view_item   \n",
       "8511242   2019-08-08 11:41:39.312886 UTC  view_item   \n",
       "6251879   2019-07-30 20:04:46.710069 UTC  view_item   \n",
       "4502318   2019-07-22 17:54:34.156284 UTC  view_item   \n",
       "9041043   2019-08-10 14:08:07.641959 UTC  view_item   \n",
       "\n",
       "                                    product_id  \\\n",
       "7432605   2d3d0e2c-112f-468f-878b-694dfbcf501b   \n",
       "9645703   15b3e401-6159-46e2-94dd-1456cd144597   \n",
       "12831915  7093f50c-c7d9-4015-ab6e-bc832b9d44ff   \n",
       "2380034   a1547fd5-c6c0-4dc0-989d-5fe286c893d6   \n",
       "7734169   827bda66-2718-4549-8d56-39bfd1772a5b   \n",
       "11914618  f43e7f41-691f-4474-939c-a7487d82ce3c   \n",
       "8511242   b5861be8-fec3-4058-959d-f47f015f1598   \n",
       "6251879   fa7b221d-95a1-48a3-96b2-c19a2bc6e7dc   \n",
       "4502318   6aa5329b-719e-4087-aaad-8f24a9ce24c0   \n",
       "9041043   d5a8b3f3-da4e-4009-89c6-f8102a256a8c   \n",
       "\n",
       "                                                      title  \\\n",
       "7432605                             Firetrap LDN Bum Bag 93   \n",
       "9645703                    Puma Court Breaker Mens Trainers   \n",
       "12831915                    Lemoniade Woman's Sweater LS213   \n",
       "2380034                           DC Blitz II Trainers Mens   \n",
       "7734169                Pierre Cardin Stripe Swimshorts Mens   \n",
       "11914618                 Crafted Junior Boys 3 Pack Jog Set   \n",
       "8511242                     Prince Reflex Mens Tennis Shoes   \n",
       "6251879   Trendyol Black Patent Leather Detailed Women's...   \n",
       "4502318                         Slazenger Canvas Kung Snr93   \n",
       "9041043                                Blowfish Balta Boots   \n",
       "\n",
       "                                              category_name  price  \n",
       "7432605            Accessories >Backpacks and Bags>Bum bags  20.45  \n",
       "9645703              Men>Men Footwear>Sneakers>Low sneakers  50.62  \n",
       "12831915  Women>Women's Clothing>Sweaters & Cardigans>Ca...  34.12  \n",
       "2380034                                                 NaN  73.69  \n",
       "7734169                             Men>Men Clothing>Shorts  13.15  \n",
       "11914618                 Children>Boy's Clothing>Boy's sets  20.14  \n",
       "8511242            Men>Men Footwear>Sneakers>Sport sneakers  57.42  \n",
       "6251879                  Women>Women's Footwear>Court shoes  25.26  \n",
       "4502318              Men>Men Footwear>Sneakers>Low sneakers  16.97  \n",
       "9041043    Women>Women's Footwear>Ankle shoes>on wedge heel  38.14  "
      ]
     },
     "execution_count": 4,
     "metadata": {},
     "output_type": "execute_result"
    }
   ],
   "source": [
    "data = pd.concat([events, purchases], ignore_index=True)\n",
    "data.sample(10)"
   ]
  },
  {
   "cell_type": "code",
   "execution_count": 25,
   "metadata": {
    "scrolled": true
   },
   "outputs": [
    {
     "name": "stdout",
     "output_type": "stream",
     "text": [
      "14803097\n",
      "7\n"
     ]
    }
   ],
   "source": [
    "rows_num, cols_num = data.shape\n",
    "print(rows_num)\n",
    "print(cols_num)"
   ]
  },
  {
   "cell_type": "code",
   "execution_count": 5,
   "metadata": {},
   "outputs": [],
   "source": [
    "del events\n",
    "del purchases"
   ]
  },
  {
   "cell_type": "markdown",
   "metadata": {},
   "source": [
    "## Atribúty"
   ]
  },
  {
   "cell_type": "markdown",
   "metadata": {},
   "source": [
    "### customer_id"
   ]
  },
  {
   "cell_type": "code",
   "execution_count": 11,
   "metadata": {
    "scrolled": true
   },
   "outputs": [
    {
     "data": {
      "text/plain": [
       "count                                 14803097\n",
       "unique                                 2211386\n",
       "top       53f841c7-970b-4e0b-96bf-97a95ecfb734\n",
       "freq                                      4804\n",
       "Name: customer_id, dtype: object"
      ]
     },
     "execution_count": 11,
     "metadata": {},
     "output_type": "execute_result"
    }
   ],
   "source": [
    "data.customer_id.describe()"
   ]
  },
  {
   "cell_type": "code",
   "execution_count": 12,
   "metadata": {
    "scrolled": false
   },
   "outputs": [
    {
     "data": {
      "text/plain": [
       "0"
      ]
     },
     "execution_count": 12,
     "metadata": {},
     "output_type": "execute_result"
    }
   ],
   "source": [
    "len(data[data.customer_id.isna()])"
   ]
  },
  {
   "cell_type": "code",
   "execution_count": 13,
   "metadata": {},
   "outputs": [
    {
     "data": {
      "text/plain": [
       "6.694035776657716"
      ]
     },
     "execution_count": 13,
     "metadata": {},
     "output_type": "execute_result"
    }
   ],
   "source": [
    "rows_num/len(data.customer_id.unique())"
   ]
  },
  {
   "cell_type": "code",
   "execution_count": 14,
   "metadata": {
    "scrolled": true
   },
   "outputs": [
    {
     "data": {
      "text/plain": [
       "2.0"
      ]
     },
     "execution_count": 14,
     "metadata": {},
     "output_type": "execute_result"
    }
   ],
   "source": [
    "data.groupby(['customer_id']).count()['timestamp'].median()"
   ]
  },
  {
   "cell_type": "code",
   "execution_count": 14,
   "metadata": {
    "scrolled": true
   },
   "outputs": [
    {
     "data": {
      "text/plain": [
       "53f841c7-970b-4e0b-96bf-97a95ecfb734    4804\n",
       "9eb76d09-8006-4262-b5eb-459556f338a9    3577\n",
       "546a1146-64be-4549-a472-a8a4a8ca41b0    3189\n",
       "a3fe2d55-b8fc-4aaa-8f7f-99f6498b191f    3060\n",
       "68b2c520-5366-4143-a253-04fd96aeb251    2855\n",
       "                                        ... \n",
       "28f3de37-5d91-451b-9d71-c016ff28765a       1\n",
       "ddaea6ea-cf1e-4ef3-84d0-4d97f5019dab       1\n",
       "ee2c4b69-2194-4785-a817-76a30ea8a54b       1\n",
       "db9f09e8-ea9e-4444-986a-39c973a7dfe3       1\n",
       "3fe6ea93-4d29-4d6f-990a-6a873f19c2ed       1\n",
       "Name: customer_id, Length: 2211386, dtype: int64"
      ]
     },
     "execution_count": 14,
     "metadata": {},
     "output_type": "execute_result"
    }
   ],
   "source": [
    "customer_rows = data['customer_id'].value_counts()\n",
    "customer_rows"
   ]
  },
  {
   "cell_type": "code",
   "execution_count": 28,
   "metadata": {},
   "outputs": [
    {
     "name": "stdout",
     "output_type": "stream",
     "text": [
      "1 913643\n",
      "2 329587\n",
      "3 199175\n"
     ]
    }
   ],
   "source": [
    "for i, num in enumerate(customer_rows.value_counts()[:3]):\n",
    "    print(i+1, num)"
   ]
  },
  {
   "cell_type": "code",
   "execution_count": 29,
   "metadata": {},
   "outputs": [
    {
     "data": {
      "text/plain": [
       "0.4131540129131685"
      ]
     },
     "execution_count": 29,
     "metadata": {},
     "output_type": "execute_result"
    }
   ],
   "source": [
    "(913643)/2211386"
   ]
  },
  {
   "cell_type": "code",
   "execution_count": 20,
   "metadata": {},
   "outputs": [
    {
     "data": {
      "text/plain": [
       "0.5621949311427313"
      ]
     },
     "execution_count": 20,
     "metadata": {},
     "output_type": "execute_result"
    }
   ],
   "source": [
    "(913643+329587)/2211386"
   ]
  },
  {
   "cell_type": "code",
   "execution_count": 26,
   "metadata": {
    "scrolled": true
   },
   "outputs": [
    {
     "name": "stdout",
     "output_type": "stream",
     "text": [
      "4 129721\n",
      "8 45301\n",
      "12 22832\n",
      "16 13311\n",
      "20 8728\n",
      "24 6193\n",
      "28 4481\n",
      "32 3349\n",
      "36 2677\n",
      "40 2124\n",
      "44 1784\n",
      "48 1405\n"
     ]
    }
   ],
   "source": [
    "for i, num in enumerate(customer_rows.value_counts()[3:50:4]):\n",
    "    print(4*i+4, num)"
   ]
  },
  {
   "cell_type": "markdown",
   "metadata": {},
   "source": [
    "- 2,211,386 unikátnych zákazníkov\n",
    "- žiadne NaN hodnoty\n",
    "- v priemere vyše 6 záznamov na zákazníka\n",
    "    - ale median je iba 2\n",
    "    - 913,643 (41%) zákazníkov má len 1 záznam\n",
    "    - 56% zákazníkov má 2 záznamy"
   ]
  },
  {
   "cell_type": "markdown",
   "metadata": {},
   "source": [
    "### timestamp"
   ]
  },
  {
   "cell_type": "code",
   "execution_count": 16,
   "metadata": {
    "scrolled": false
   },
   "outputs": [
    {
     "data": {
      "text/plain": [
       "count                           14803097\n",
       "unique                          14802889\n",
       "top       2019-07-22 04:33:52.889148 UTC\n",
       "freq                                   4\n",
       "Name: timestamp, dtype: object"
      ]
     },
     "execution_count": 16,
     "metadata": {},
     "output_type": "execute_result"
    }
   ],
   "source": [
    "data.timestamp.describe()"
   ]
  },
  {
   "cell_type": "code",
   "execution_count": 17,
   "metadata": {},
   "outputs": [
    {
     "data": {
      "text/html": [
       "<div>\n",
       "<style scoped>\n",
       "    .dataframe tbody tr th:only-of-type {\n",
       "        vertical-align: middle;\n",
       "    }\n",
       "\n",
       "    .dataframe tbody tr th {\n",
       "        vertical-align: top;\n",
       "    }\n",
       "\n",
       "    .dataframe thead th {\n",
       "        text-align: right;\n",
       "    }\n",
       "</style>\n",
       "<table border=\"1\" class=\"dataframe\">\n",
       "  <thead>\n",
       "    <tr style=\"text-align: right;\">\n",
       "      <th></th>\n",
       "      <th>customer_id</th>\n",
       "      <th>timestamp</th>\n",
       "      <th>event_type</th>\n",
       "      <th>product_id</th>\n",
       "      <th>title</th>\n",
       "      <th>category_name</th>\n",
       "      <th>price</th>\n",
       "    </tr>\n",
       "  </thead>\n",
       "  <tbody>\n",
       "    <tr>\n",
       "      <td>4361630</td>\n",
       "      <td>8b57d536-f432-45a9-8b45-3bd54d68ba69</td>\n",
       "      <td>2019-07-22 04:33:52.889148 UTC</td>\n",
       "      <td>view_item</td>\n",
       "      <td>5bbe88b4-9650-4c1a-8f95-9a09c264b2c9</td>\n",
       "      <td>Hot Tuna Crew T Shirt Mens</td>\n",
       "      <td>Men&gt;Men Clothing&gt;T-Shirts &amp; Polo shirts</td>\n",
       "      <td>12.84</td>\n",
       "    </tr>\n",
       "    <tr>\n",
       "      <td>4361631</td>\n",
       "      <td>8b57d536-f432-45a9-8b45-3bd54d68ba69</td>\n",
       "      <td>2019-07-22 04:33:52.889148 UTC</td>\n",
       "      <td>view_item</td>\n",
       "      <td>248faf65-d1e2-4d7b-84c8-ce1c459ee086</td>\n",
       "      <td>Lonsdale Jersey Polo Shirt Mens</td>\n",
       "      <td>Men&gt;Men Clothing&gt;T-Shirts &amp; Polo shirts&gt;Polo S...</td>\n",
       "      <td>12.90</td>\n",
       "    </tr>\n",
       "    <tr>\n",
       "      <td>4361632</td>\n",
       "      <td>8b57d536-f432-45a9-8b45-3bd54d68ba69</td>\n",
       "      <td>2019-07-22 04:33:52.889148 UTC</td>\n",
       "      <td>view_item</td>\n",
       "      <td>377bdb75-6f46-4c29-b559-9af0c6ba2ae8</td>\n",
       "      <td>Pierre Cardin Web Belt Shorts Mens</td>\n",
       "      <td>Men&gt;Men Clothing&gt;Shorts</td>\n",
       "      <td>17.12</td>\n",
       "    </tr>\n",
       "    <tr>\n",
       "      <td>4361633</td>\n",
       "      <td>8b57d536-f432-45a9-8b45-3bd54d68ba69</td>\n",
       "      <td>2019-07-22 04:33:52.889148 UTC</td>\n",
       "      <td>view_item</td>\n",
       "      <td>b2bcef2f-df2d-4c23-aee7-73ca112ef815</td>\n",
       "      <td>Lee Cooper Men's boxers 5-pack</td>\n",
       "      <td>Men&gt;Men Clothing&gt;Underwear&gt;Boxer shorts &amp; trunks</td>\n",
       "      <td>13.10</td>\n",
       "    </tr>\n",
       "  </tbody>\n",
       "</table>\n",
       "</div>"
      ],
      "text/plain": [
       "                                  customer_id                       timestamp  \\\n",
       "4361630  8b57d536-f432-45a9-8b45-3bd54d68ba69  2019-07-22 04:33:52.889148 UTC   \n",
       "4361631  8b57d536-f432-45a9-8b45-3bd54d68ba69  2019-07-22 04:33:52.889148 UTC   \n",
       "4361632  8b57d536-f432-45a9-8b45-3bd54d68ba69  2019-07-22 04:33:52.889148 UTC   \n",
       "4361633  8b57d536-f432-45a9-8b45-3bd54d68ba69  2019-07-22 04:33:52.889148 UTC   \n",
       "\n",
       "        event_type                            product_id  \\\n",
       "4361630  view_item  5bbe88b4-9650-4c1a-8f95-9a09c264b2c9   \n",
       "4361631  view_item  248faf65-d1e2-4d7b-84c8-ce1c459ee086   \n",
       "4361632  view_item  377bdb75-6f46-4c29-b559-9af0c6ba2ae8   \n",
       "4361633  view_item  b2bcef2f-df2d-4c23-aee7-73ca112ef815   \n",
       "\n",
       "                                      title  \\\n",
       "4361630          Hot Tuna Crew T Shirt Mens   \n",
       "4361631     Lonsdale Jersey Polo Shirt Mens   \n",
       "4361632  Pierre Cardin Web Belt Shorts Mens   \n",
       "4361633      Lee Cooper Men's boxers 5-pack   \n",
       "\n",
       "                                             category_name  price  \n",
       "4361630            Men>Men Clothing>T-Shirts & Polo shirts  12.84  \n",
       "4361631  Men>Men Clothing>T-Shirts & Polo shirts>Polo S...  12.90  \n",
       "4361632                            Men>Men Clothing>Shorts  17.12  \n",
       "4361633   Men>Men Clothing>Underwear>Boxer shorts & trunks  13.10  "
      ]
     },
     "execution_count": 17,
     "metadata": {},
     "output_type": "execute_result"
    }
   ],
   "source": [
    "data.loc[data['timestamp'] == \"2019-07-22 04:33:52.889148 UTC\"]"
   ]
  },
  {
   "cell_type": "code",
   "execution_count": 47,
   "metadata": {},
   "outputs": [],
   "source": [
    "# data[\"timestamp\"] = pd.to_datetime(data[\"timestamp\"])"
   ]
  },
  {
   "cell_type": "code",
   "execution_count": 18,
   "metadata": {},
   "outputs": [
    {
     "data": {
      "text/plain": [
       "'2019-07-01 00:00:01.101977 UTC'"
      ]
     },
     "execution_count": 18,
     "metadata": {},
     "output_type": "execute_result"
    }
   ],
   "source": [
    "min(data.timestamp)"
   ]
  },
  {
   "cell_type": "code",
   "execution_count": 19,
   "metadata": {},
   "outputs": [
    {
     "data": {
      "text/plain": [
       "'2019-08-31 23:59:59.536067 UTC'"
      ]
     },
     "execution_count": 19,
     "metadata": {},
     "output_type": "execute_result"
    }
   ],
   "source": [
    "max(data.timestamp)"
   ]
  },
  {
   "cell_type": "code",
   "execution_count": 7,
   "metadata": {
    "scrolled": true
   },
   "outputs": [
    {
     "data": {
      "text/plain": [
       "0"
      ]
     },
     "execution_count": 7,
     "metadata": {},
     "output_type": "execute_result"
    }
   ],
   "source": [
    "len(data[data.timestamp.isna()])"
   ]
  },
  {
   "cell_type": "markdown",
   "metadata": {},
   "source": [
    "- dátumy z intervalu 2 mesiacov\n",
    "- žiadne NaN hodnoty\n",
    "- existujú záznamy typu `view_item`, kde je daný zákazník v danom čase a rôzne produkty. "
   ]
  },
  {
   "cell_type": "markdown",
   "metadata": {},
   "source": [
    "### event_type"
   ]
  },
  {
   "cell_type": "code",
   "execution_count": 21,
   "metadata": {
    "scrolled": true
   },
   "outputs": [
    {
     "data": {
      "text/plain": [
       "array(['view_item', 'purchase_item'], dtype=object)"
      ]
     },
     "execution_count": 21,
     "metadata": {},
     "output_type": "execute_result"
    }
   ],
   "source": [
    "data.event_type.unique()"
   ]
  },
  {
   "cell_type": "code",
   "execution_count": 22,
   "metadata": {
    "scrolled": true
   },
   "outputs": [
    {
     "data": {
      "text/plain": [
       "0"
      ]
     },
     "execution_count": 22,
     "metadata": {},
     "output_type": "execute_result"
    }
   ],
   "source": [
    "len(data[data.event_type.isna()])"
   ]
  },
  {
   "cell_type": "code",
   "execution_count": 23,
   "metadata": {},
   "outputs": [
    {
     "data": {
      "text/plain": [
       "0.9872518568242848"
      ]
     },
     "execution_count": 23,
     "metadata": {},
     "output_type": "execute_result"
    }
   ],
   "source": [
    "len(data.loc[data['event_type'] == \"view_item\"])/rows_num"
   ]
  },
  {
   "cell_type": "code",
   "execution_count": 24,
   "metadata": {},
   "outputs": [
    {
     "data": {
      "text/plain": [
       "0.01274814317571519"
      ]
     },
     "execution_count": 24,
     "metadata": {},
     "output_type": "execute_result"
    }
   ],
   "source": [
    "len(data.loc[data['event_type'] == \"purchase_item\"])/rows_num"
   ]
  },
  {
   "cell_type": "markdown",
   "metadata": {},
   "source": [
    "- dva typy: `view_item` a `purchase_item`\n",
    "- pomer je 98.7% ku 1.27%\n",
    "- žiadne NaN hodnoty"
   ]
  },
  {
   "cell_type": "markdown",
   "metadata": {},
   "source": [
    "### product_id"
   ]
  },
  {
   "cell_type": "code",
   "execution_count": 25,
   "metadata": {
    "scrolled": true
   },
   "outputs": [
    {
     "data": {
      "text/plain": [
       "count                                 14803097\n",
       "unique                                  123837\n",
       "top       31ae211d-57a9-4bfa-b95f-40776af03c3f\n",
       "freq                                     52736\n",
       "Name: product_id, dtype: object"
      ]
     },
     "execution_count": 25,
     "metadata": {},
     "output_type": "execute_result"
    }
   ],
   "source": [
    "data.product_id.describe()"
   ]
  },
  {
   "cell_type": "code",
   "execution_count": 60,
   "metadata": {},
   "outputs": [
    {
     "data": {
      "text/plain": [
       "0"
      ]
     },
     "execution_count": 60,
     "metadata": {},
     "output_type": "execute_result"
    }
   ],
   "source": [
    "len(data[data.product_id.isna()])"
   ]
  },
  {
   "cell_type": "code",
   "execution_count": 61,
   "metadata": {},
   "outputs": [
    {
     "data": {
      "text/plain": [
       "119.53694776197744"
      ]
     },
     "execution_count": 61,
     "metadata": {},
     "output_type": "execute_result"
    }
   ],
   "source": [
    "rows_num/len(data.product_id.unique())"
   ]
  },
  {
   "cell_type": "code",
   "execution_count": 62,
   "metadata": {},
   "outputs": [
    {
     "data": {
      "text/plain": [
       "17.0"
      ]
     },
     "execution_count": 62,
     "metadata": {},
     "output_type": "execute_result"
    }
   ],
   "source": [
    "data.groupby(['product_id']).count()['timestamp'].median() "
   ]
  },
  {
   "cell_type": "code",
   "execution_count": 32,
   "metadata": {},
   "outputs": [
    {
     "data": {
      "text/plain": [
       "31ae211d-57a9-4bfa-b95f-40776af03c3f    52736\n",
       "0f943312-7141-4606-abfa-81fd63a5498f    49141\n",
       "a8f0292d-5fca-42b9-b0d3-b38e7efa416b    48343\n",
       "e33cea18-ee3f-4e37-83a7-1d88c54d83b8    45421\n",
       "608f32cd-210c-4af5-99d8-6182a9678cf5    39801\n",
       "                                        ...  \n",
       "6b0e71d0-cdca-4160-8df1-ae7b43ef967c        1\n",
       "630d92d1-ed2b-4a75-a778-3dacba195eb5        1\n",
       "0633f706-85d4-4ac6-b34d-7f653fa7139d        1\n",
       "a3c46419-d8fb-4273-88ba-06dc92b42696        1\n",
       "326e712f-9733-4761-b458-217f3f695833        1\n",
       "Name: product_id, Length: 123837, dtype: int64"
      ]
     },
     "execution_count": 32,
     "metadata": {},
     "output_type": "execute_result"
    }
   ],
   "source": [
    "product_rows = data['product_id'].value_counts()\n",
    "product_rows"
   ]
  },
  {
   "cell_type": "code",
   "execution_count": 36,
   "metadata": {},
   "outputs": [
    {
     "name": "stdout",
     "output_type": "stream",
     "text": [
      "1 15982\n",
      "5 3582\n",
      "9 2365\n",
      "13 1792\n",
      "17 1376\n",
      "21 1139\n",
      "25 948\n",
      "29 810\n",
      "33 694\n",
      "37 624\n",
      "41 528\n",
      "45 501\n",
      "49 436\n"
     ]
    }
   ],
   "source": [
    "for i, num in enumerate(product_rows.value_counts()[:50:4]):\n",
    "    print(4*i+1, num)"
   ]
  },
  {
   "cell_type": "markdown",
   "metadata": {},
   "source": [
    "- 123,837 unikátnych produktov\n",
    "- žiadne NaN hodnoty\n",
    "- v priemere vyše 119 záznamov na produkt\n",
    "    - maximum je 52,736\n",
    "    - minimum je 1\n",
    "    - median je 17\n",
    "    - 15,982 produktov má len 1 záznam"
   ]
  },
  {
   "cell_type": "markdown",
   "metadata": {},
   "source": [
    "### title"
   ]
  },
  {
   "cell_type": "code",
   "execution_count": 63,
   "metadata": {
    "scrolled": true
   },
   "outputs": [
    {
     "data": {
      "text/plain": [
       "count                     14801284\n",
       "unique                       71440\n",
       "top       Lee Cooper Marl Backpack\n",
       "freq                        168766\n",
       "Name: title, dtype: object"
      ]
     },
     "execution_count": 63,
     "metadata": {},
     "output_type": "execute_result"
    }
   ],
   "source": [
    "data.title.describe()"
   ]
  },
  {
   "cell_type": "code",
   "execution_count": 72,
   "metadata": {
    "scrolled": false
   },
   "outputs": [
    {
     "data": {
      "text/plain": [
       "array(['Batoh Lee Cooper Marl', 'Lee Cooper Marl Backpack'], dtype=object)"
      ]
     },
     "execution_count": 72,
     "metadata": {},
     "output_type": "execute_result"
    }
   ],
   "source": [
    "data.loc[data['product_id'] == \"31ae211d-57a9-4bfa-b95f-40776af03c3f\"].title.unique()"
   ]
  },
  {
   "cell_type": "code",
   "execution_count": 64,
   "metadata": {},
   "outputs": [
    {
     "data": {
      "text/plain": [
       "0"
      ]
     },
     "execution_count": 64,
     "metadata": {},
     "output_type": "execute_result"
    }
   ],
   "source": [
    "len(data[data.product_id.isna()])"
   ]
  },
  {
   "cell_type": "markdown",
   "metadata": {},
   "source": [
    "- 71,440 unikátnych označení (našli sme 123,837 unikátnych produktov)\n",
    "    - produkt môže mať viac rôznych označení\n",
    "- žiadne NaN hodnoty"
   ]
  },
  {
   "cell_type": "markdown",
   "metadata": {},
   "source": [
    "### price"
   ]
  },
  {
   "cell_type": "code",
   "execution_count": 85,
   "metadata": {
    "scrolled": true
   },
   "outputs": [
    {
     "data": {
      "text/plain": [
       "count    14758211.000000\n",
       "mean           33.122065\n",
       "std           121.532833\n",
       "min             0.060000\n",
       "25%            12.710000\n",
       "50%            21.860000\n",
       "75%            39.490000\n",
       "max         32636.460000\n",
       "Name: price, dtype: object"
      ]
     },
     "execution_count": 85,
     "metadata": {},
     "output_type": "execute_result"
    }
   ],
   "source": [
    "data.price.describe().apply(lambda x: format(x, 'f'))"
   ]
  },
  {
   "cell_type": "code",
   "execution_count": 87,
   "metadata": {},
   "outputs": [
    {
     "data": {
      "text/plain": [
       "21.86"
      ]
     },
     "execution_count": 87,
     "metadata": {},
     "output_type": "execute_result"
    }
   ],
   "source": [
    "np.nanmedian(data.price)"
   ]
  },
  {
   "cell_type": "code",
   "execution_count": 73,
   "metadata": {},
   "outputs": [
    {
     "data": {
      "text/plain": [
       "44886"
      ]
     },
     "execution_count": 73,
     "metadata": {},
     "output_type": "execute_result"
    }
   ],
   "source": [
    "len(data[data.price.isna()])"
   ]
  },
  {
   "cell_type": "code",
   "execution_count": 89,
   "metadata": {},
   "outputs": [
    {
     "data": {
      "text/plain": [
       "array([12.9 , 12.73, 13.11, 13.32, 12.49, 12.71, 13.45, 12.65, 12.83,\n",
       "       11.46, 11.8 , 11.44, 11.38, 12.1 , 11.24, 11.61, 11.99, 11.55,\n",
       "        9.55,  9.56, 10.61, 10.63, 13.49,  7.32, 12.14, 12.27, 12.33,\n",
       "       13.04, 12.92, 12.51, 12.11, 12.45, 12.35, 13.09, 16.84, 16.41,\n",
       "       16.11, 16.03, 16.23, 15.95, 16.  , 15.58, 16.39, 16.97, 13.65,\n",
       "       14.75, 13.98, 14.02, 14.05, 14.22, 14.38, 14.87, 14.12, 14.37,\n",
       "       12.46, 12.37, 13.12, 12.04, 13.02, 12.39, 12.68, 12.55, 12.69,\n",
       "         nan])"
      ]
     },
     "execution_count": 89,
     "metadata": {},
     "output_type": "execute_result"
    }
   ],
   "source": [
    "data.loc[data['product_id'] == \"31ae211d-57a9-4bfa-b95f-40776af03c3f\"].price.unique()"
   ]
  },
  {
   "cell_type": "markdown",
   "metadata": {},
   "source": [
    "- priemer ceny je cca 33\n",
    "- median ceny je cca 22\n",
    "- 44,886 NaN hodnôt\n",
    "- jeden produkt môže mať viac cien"
   ]
  },
  {
   "cell_type": "markdown",
   "metadata": {},
   "source": [
    "### category_name"
   ]
  },
  {
   "cell_type": "code",
   "execution_count": 90,
   "metadata": {
    "scrolled": true
   },
   "outputs": [
    {
     "data": {
      "text/plain": [
       "count                                   11367365\n",
       "unique                                       713\n",
       "top       Men>Men Footwear>Sneakers>Low sneakers\n",
       "freq                                      462179\n",
       "Name: category_name, dtype: object"
      ]
     },
     "execution_count": 90,
     "metadata": {},
     "output_type": "execute_result"
    }
   ],
   "source": [
    "data.category_name.describe()"
   ]
  },
  {
   "cell_type": "code",
   "execution_count": 103,
   "metadata": {},
   "outputs": [
    {
     "name": "stdout",
     "output_type": "stream",
     "text": [
      "2 [nan 'Men>Men Clothing>T-Shirts & Polo shirts>Polo Shirts']\n",
      "3 [nan \"Women>Women's Clothing>Shirts\"\n",
      " \"Women>Women's Clothing>Shirts>Patterned shirts\"]\n",
      "2 [nan \"Women>Women's Clothing>Jackets & Coats>Coats\"]\n",
      "2 [nan \"Women>Women's Footwear>Slip-on\"]\n",
      "2 [nan \"Women>Women's Clothing>Dresses>Wedding dress\"]\n",
      "2 [nan 'Men>Men Clothing>T-Shirts & Polo shirts>Polo Shirts']\n",
      "2 [nan \"Sports>Running>Running Shoes>Women's Running Shoes\"]\n",
      "2 [nan 'Accessories >Backpacks and Bags>Fashion backpacks']\n",
      "3 [\"Women>Women's Clothing>Pants & Jeans>Pants\"\n",
      " \"Women>Women's Clothing>Pants >Pants\"\n",
      " \"Women>Women's Clothing>Pants >Single-colored pants\"]\n",
      "2 [nan \"Women>Women's Clothing>Jumpsuits\"]\n"
     ]
    }
   ],
   "source": [
    "for pid in data.product_id.sample(10):\n",
    "    unique_categories = data.loc[data['product_id'] == pid].category_name.unique()\n",
    "    print(len(unique_categories), unique_categories)"
   ]
  },
  {
   "cell_type": "code",
   "execution_count": 96,
   "metadata": {},
   "outputs": [
    {
     "data": {
      "text/plain": [
       "3435732"
      ]
     },
     "execution_count": 96,
     "metadata": {},
     "output_type": "execute_result"
    }
   ],
   "source": [
    "category_name_nans_num = len(data[data.category_name.isna()])\n",
    "category_name_nans_num"
   ]
  },
  {
   "cell_type": "code",
   "execution_count": 95,
   "metadata": {
    "scrolled": true
   },
   "outputs": [
    {
     "data": {
      "text/plain": [
       "0.23209548650529008"
      ]
     },
     "execution_count": 95,
     "metadata": {},
     "output_type": "execute_result"
    }
   ],
   "source": [
    "category_name_nans_num/rows_num"
   ]
  },
  {
   "cell_type": "code",
   "execution_count": 45,
   "metadata": {},
   "outputs": [
    {
     "data": {
      "text/plain": [
       "(14803097, 7)"
      ]
     },
     "execution_count": 45,
     "metadata": {},
     "output_type": "execute_result"
    }
   ],
   "source": [
    "data[\"category_name\"].str.split(\">\", expand = True).shape"
   ]
  },
  {
   "cell_type": "code",
   "execution_count": 40,
   "metadata": {},
   "outputs": [],
   "source": [
    "data_15K = data.sample(15000)"
   ]
  },
  {
   "cell_type": "code",
   "execution_count": 116,
   "metadata": {},
   "outputs": [],
   "source": [
    "categories = data_15K[\"category_name\"].str.split(\">\", expand = True)"
   ]
  },
  {
   "cell_type": "markdown",
   "metadata": {},
   "source": [
    "Keďže `data` má skoro 15M záznamov, spracovanie v niektorkých prípadoch trvá veľmi dlho. Vybrali sme len 15K."
   ]
  },
  {
   "cell_type": "code",
   "execution_count": 123,
   "metadata": {
    "scrolled": false
   },
   "outputs": [
    {
     "data": {
      "text/html": [
       "<div>\n",
       "<style scoped>\n",
       "    .dataframe tbody tr th:only-of-type {\n",
       "        vertical-align: middle;\n",
       "    }\n",
       "\n",
       "    .dataframe tbody tr th {\n",
       "        vertical-align: top;\n",
       "    }\n",
       "\n",
       "    .dataframe thead th {\n",
       "        text-align: right;\n",
       "    }\n",
       "</style>\n",
       "<table border=\"1\" class=\"dataframe\">\n",
       "  <thead>\n",
       "    <tr style=\"text-align: right;\">\n",
       "      <th></th>\n",
       "      <th>0</th>\n",
       "      <th>1</th>\n",
       "      <th>2</th>\n",
       "      <th>3</th>\n",
       "      <th>4</th>\n",
       "    </tr>\n",
       "  </thead>\n",
       "  <tbody>\n",
       "    <tr>\n",
       "      <td>2563389</td>\n",
       "      <td>NaN</td>\n",
       "      <td>NaN</td>\n",
       "      <td>NaN</td>\n",
       "      <td>NaN</td>\n",
       "      <td>NaN</td>\n",
       "    </tr>\n",
       "    <tr>\n",
       "      <td>7189282</td>\n",
       "      <td>Women</td>\n",
       "      <td>Women's Footwear</td>\n",
       "      <td>Balerinas</td>\n",
       "      <td>None</td>\n",
       "      <td>None</td>\n",
       "    </tr>\n",
       "    <tr>\n",
       "      <td>11478593</td>\n",
       "      <td>Men</td>\n",
       "      <td>Men Clothing</td>\n",
       "      <td>T-Shirts &amp; Polo shirts</td>\n",
       "      <td>Short Sleeve</td>\n",
       "      <td>None</td>\n",
       "    </tr>\n",
       "    <tr>\n",
       "      <td>6003198</td>\n",
       "      <td>Women</td>\n",
       "      <td>Women's Clothing</td>\n",
       "      <td>Swimmsuits &amp; bikins</td>\n",
       "      <td>One-piece</td>\n",
       "      <td>None</td>\n",
       "    </tr>\n",
       "    <tr>\n",
       "      <td>1495798</td>\n",
       "      <td>NaN</td>\n",
       "      <td>None</td>\n",
       "      <td>None</td>\n",
       "      <td>None</td>\n",
       "      <td>None</td>\n",
       "    </tr>\n",
       "  </tbody>\n",
       "</table>\n",
       "</div>"
      ],
      "text/plain": [
       "              0                 1                       2             3     4\n",
       "2563389     NaN               NaN                     NaN           NaN   NaN\n",
       "7189282   Women  Women's Footwear               Balerinas          None  None\n",
       "11478593    Men      Men Clothing  T-Shirts & Polo shirts  Short Sleeve  None\n",
       "6003198   Women  Women's Clothing     Swimmsuits & bikins     One-piece  None\n",
       "1495798     NaN              None                    None          None  None"
      ]
     },
     "execution_count": 123,
     "metadata": {},
     "output_type": "execute_result"
    }
   ],
   "source": [
    "categories.sample(5)"
   ]
  },
  {
   "cell_type": "code",
   "execution_count": 136,
   "metadata": {},
   "outputs": [
    {
     "name": "stdout",
     "output_type": "stream",
     "text": [
      "col_0 unique values = 21\n",
      "col_0 NaN values = 3455\n",
      "\n",
      "col_1 unique values = 38\n",
      "col_1 NaN values = 3551\n",
      "\n",
      "col_2 unique values = 154\n",
      "col_2 NaN values = 3669\n",
      "\n",
      "col_3 unique values = 216\n",
      "col_3 NaN values = 6845\n",
      "\n",
      "col_4 unique values = 49\n",
      "col_4 NaN values = 14513\n",
      "\n"
     ]
    }
   ],
   "source": [
    "for i in range(5):\n",
    "    print('col_{} unique values ='.format(i), len(categories[i].unique()))\n",
    "    print('col_{} NaN values ='.format(i), len(categories[categories[i].isna()]))\n",
    "    print()"
   ]
  },
  {
   "cell_type": "code",
   "execution_count": 126,
   "metadata": {
    "scrolled": true
   },
   "outputs": [
    {
     "data": {
      "text/plain": [
       "array([nan, 'Men', 'Women', 'Sports', \"Women's Clothing\", 'Children',\n",
       "       'Accessories ', 'Backpacks and Bags', 'Men Clothing',\n",
       "       \"Boy's Clothing\", 'Sale - Men', 'Sale - Women', 'Dresses',\n",
       "       'NEW IN', 'Unlisted', \"Children's Footwear\", 'strom kategorii',\n",
       "       'T-Shirts', 'NY FASHION WEEK', 'Sale - Children',\n",
       "       'Delivery Immediately'], dtype=object)"
      ]
     },
     "execution_count": 126,
     "metadata": {},
     "output_type": "execute_result"
    }
   ],
   "source": [
    "categories[0].unique()"
   ]
  },
  {
   "cell_type": "markdown",
   "metadata": {},
   "source": [
    "- **iba** 713 unikátnych kategórií (našli sme 123,837 unikátnych produktov)\n",
    "- jeden produkt môže mať rôzne `category_name` hodnoty, vrátane NaN\n",
    "- 23.2% záznamov je NaN\n",
    "\n",
    "- po rozparsovaní stromu `category_name` vzniklo 7 stĺpcov (t.j. výška stromu)\n",
    "- smerom od koreňa rastie počet NaN hodnôt a unikátnych hodnôt\n",
    "- vyskytujú sa tématicky rovnaké len inak napísané kategórie\n"
   ]
  },
  {
   "cell_type": "markdown",
   "metadata": {},
   "source": [
    "### Diskusia\n",
    "Potreba vyriešiť nejednotné atribúty rovnakého produktu:\n",
    "- `title`\n",
    "- `category_name`\n",
    "- možno `cena`"
   ]
  },
  {
   "cell_type": "markdown",
   "metadata": {},
   "source": [
    "---"
   ]
  },
  {
   "cell_type": "markdown",
   "metadata": {},
   "source": [
    "# Predspracovanie a oprava dát"
   ]
  },
  {
   "cell_type": "code",
   "execution_count": 7,
   "metadata": {},
   "outputs": [],
   "source": [
    "categories = data[\"category_name\"].str.split(\">\", expand = True)\n",
    "del data[\"category_name\"]\n",
    "category_names = {}\n",
    "for i in range(7):\n",
    "    category_names[i] = \"category_{}\".format(i) \n",
    "categories = categories.rename(columns=category_names)\n",
    "data = pd.concat([data, categories], axis=1, sort=False)\n",
    "del categories"
   ]
  },
  {
   "cell_type": "markdown",
   "metadata": {},
   "source": [
    "Vyparsovanie `category`"
   ]
  },
  {
   "cell_type": "code",
   "execution_count": 2,
   "metadata": {},
   "outputs": [],
   "source": [
    "# data.to_csv('vi_data/data_train.csv', encoding='utf-8')\n",
    "data = pd.read_csv('vi_data/data_train.csv', index_col=0)"
   ]
  },
  {
   "cell_type": "markdown",
   "metadata": {},
   "source": [
    "Uloženie medzi-výsledku"
   ]
  },
  {
   "cell_type": "code",
   "execution_count": 219,
   "metadata": {},
   "outputs": [
    {
     "data": {
      "text/html": [
       "<div>\n",
       "<style scoped>\n",
       "    .dataframe tbody tr th:only-of-type {\n",
       "        vertical-align: middle;\n",
       "    }\n",
       "\n",
       "    .dataframe tbody tr th {\n",
       "        vertical-align: top;\n",
       "    }\n",
       "\n",
       "    .dataframe thead th {\n",
       "        text-align: right;\n",
       "    }\n",
       "</style>\n",
       "<table border=\"1\" class=\"dataframe\">\n",
       "  <thead>\n",
       "    <tr style=\"text-align: right;\">\n",
       "      <th></th>\n",
       "      <th>customer_id</th>\n",
       "      <th>timestamp</th>\n",
       "      <th>event_type</th>\n",
       "      <th>product_id</th>\n",
       "      <th>title</th>\n",
       "      <th>price</th>\n",
       "      <th>category_0</th>\n",
       "      <th>category_1</th>\n",
       "      <th>category_2</th>\n",
       "      <th>category_3</th>\n",
       "      <th>category_4</th>\n",
       "      <th>category_5</th>\n",
       "      <th>category_6</th>\n",
       "    </tr>\n",
       "  </thead>\n",
       "  <tbody>\n",
       "    <tr>\n",
       "      <td>13029308</td>\n",
       "      <td>a307441c-2131-4cfe-a3f5-ceba85324cdb</td>\n",
       "      <td>2019-08-26 11:38:54.520998 UTC</td>\n",
       "      <td>view_item</td>\n",
       "      <td>7e40885a-c1e4-48e3-80e3-71951fc25a44</td>\n",
       "      <td>Children's Ski jacket LOAP FALDA</td>\n",
       "      <td>39.52</td>\n",
       "      <td>Children</td>\n",
       "      <td>Boy's Clothing</td>\n",
       "      <td>Jackets</td>\n",
       "      <td>Winter jackets</td>\n",
       "      <td>NaN</td>\n",
       "      <td>NaN</td>\n",
       "      <td>NaN</td>\n",
       "    </tr>\n",
       "    <tr>\n",
       "      <td>9634041</td>\n",
       "      <td>0e42ec0e-8d82-4d4a-b6ef-17ef06e3de1a</td>\n",
       "      <td>2019-08-12 19:25:21.494362 UTC</td>\n",
       "      <td>view_item</td>\n",
       "      <td>43bee0d7-2d3f-42ac-bef2-99de2b660be2</td>\n",
       "      <td>Top Secret LADY'S DRESS</td>\n",
       "      <td>15.34</td>\n",
       "      <td>Women</td>\n",
       "      <td>Women's Clothing</td>\n",
       "      <td>Dresses</td>\n",
       "      <td>Mini dress</td>\n",
       "      <td>NaN</td>\n",
       "      <td>NaN</td>\n",
       "      <td>NaN</td>\n",
       "    </tr>\n",
       "    <tr>\n",
       "      <td>14697110</td>\n",
       "      <td>7c04bdf3-0ea1-4830-9047-0350d7071ef2</td>\n",
       "      <td>2019-07-31 09:10:17.624419 UTC</td>\n",
       "      <td>purchase_item</td>\n",
       "      <td>ca3ccb9a-933f-45fb-a10a-dfde4eb046ee</td>\n",
       "      <td>Everlast Heavy Bomber Jacket Mens</td>\n",
       "      <td>35.00</td>\n",
       "      <td>Men Clothing</td>\n",
       "      <td>Men</td>\n",
       "      <td>Jackets &amp; Coats</td>\n",
       "      <td>Bomber jackets</td>\n",
       "      <td>NaN</td>\n",
       "      <td>NaN</td>\n",
       "      <td>NaN</td>\n",
       "    </tr>\n",
       "  </tbody>\n",
       "</table>\n",
       "</div>"
      ],
      "text/plain": [
       "                                   customer_id  \\\n",
       "13029308  a307441c-2131-4cfe-a3f5-ceba85324cdb   \n",
       "9634041   0e42ec0e-8d82-4d4a-b6ef-17ef06e3de1a   \n",
       "14697110  7c04bdf3-0ea1-4830-9047-0350d7071ef2   \n",
       "\n",
       "                               timestamp     event_type  \\\n",
       "13029308  2019-08-26 11:38:54.520998 UTC      view_item   \n",
       "9634041   2019-08-12 19:25:21.494362 UTC      view_item   \n",
       "14697110  2019-07-31 09:10:17.624419 UTC  purchase_item   \n",
       "\n",
       "                                    product_id  \\\n",
       "13029308  7e40885a-c1e4-48e3-80e3-71951fc25a44   \n",
       "9634041   43bee0d7-2d3f-42ac-bef2-99de2b660be2   \n",
       "14697110  ca3ccb9a-933f-45fb-a10a-dfde4eb046ee   \n",
       "\n",
       "                                      title  price    category_0  \\\n",
       "13029308   Children's Ski jacket LOAP FALDA  39.52      Children   \n",
       "9634041             Top Secret LADY'S DRESS  15.34         Women   \n",
       "14697110  Everlast Heavy Bomber Jacket Mens  35.00  Men Clothing   \n",
       "\n",
       "                category_1       category_2      category_3 category_4  \\\n",
       "13029308    Boy's Clothing          Jackets  Winter jackets        NaN   \n",
       "9634041   Women's Clothing          Dresses      Mini dress        NaN   \n",
       "14697110               Men  Jackets & Coats  Bomber jackets        NaN   \n",
       "\n",
       "         category_5 category_6  \n",
       "13029308        NaN        NaN  \n",
       "9634041         NaN        NaN  \n",
       "14697110        NaN        NaN  "
      ]
     },
     "execution_count": 219,
     "metadata": {},
     "output_type": "execute_result"
    }
   ],
   "source": [
    "data.sample(3)"
   ]
  },
  {
   "cell_type": "markdown",
   "metadata": {},
   "source": [
    "# Vytvorenie elastic indexu a naplnenie produktami"
   ]
  },
  {
   "cell_type": "markdown",
   "metadata": {},
   "source": [
    "**PUT http://localhost:9200/vi_products**\n",
    "```json\n",
    "{'settings': {'number_of_shards': 1, 'number_of_replicas': 0},\n",
    " 'mappings': {'properties': {'product_id': {'type': 'keyword'},\n",
    "   'title': {'type': 'text', 'analyzer': 'english'},\n",
    "   'price': {'type': 'double'},\n",
    "   'events_number': {'type': 'integer'},\n",
    "   'category_0': {'type': 'keyword'},\n",
    "   'category_1': {'type': 'keyword'},\n",
    "   'category_2': {'type': 'keyword'},\n",
    "   'category_3': {'type': 'keyword'},\n",
    "   'category_4': {'type': 'keyword'},\n",
    "   'category_5': {'type': 'keyword'},\n",
    "   'category_6': {'type': 'keyword'}}}}\n",
    "```"
   ]
  },
  {
   "cell_type": "code",
   "execution_count": 194,
   "metadata": {},
   "outputs": [],
   "source": [
    "product_ids = list(data.product_id.unique())"
   ]
  },
  {
   "cell_type": "code",
   "execution_count": 195,
   "metadata": {},
   "outputs": [
    {
     "data": {
      "text/plain": [
       "123837"
      ]
     },
     "execution_count": 195,
     "metadata": {},
     "output_type": "execute_result"
    }
   ],
   "source": [
    "len(product_ids)"
   ]
  },
  {
   "cell_type": "code",
   "execution_count": 192,
   "metadata": {
    "scrolled": true
   },
   "outputs": [],
   "source": [
    "def fill_index():\n",
    "    es = Elasticsearch([{'host': '127.0.0.1', 'port': 9200}])\n",
    "    doc = {}\n",
    "    for pid in product_ids:\n",
    "        rows = data[data.product_id == pid]\n",
    "        doc['product_id'] = pid\n",
    "        try:\n",
    "            doc['title'] = list(rows.title.dropna().unique())[0]\n",
    "        except IndexError:\n",
    "            pass\n",
    "        try:\n",
    "            doc['price'] = np.mean(rows.price.dropna().unique())\n",
    "        except IndexError:\n",
    "            pass\n",
    "        try:\n",
    "            doc['events_number'] = len(rows)\n",
    "        except IndexError:\n",
    "            pass\n",
    "        try:\n",
    "            doc['category_0'] = list(rows.category_0.dropna().unique())[0]\n",
    "        except IndexError:\n",
    "            pass\n",
    "        try:\n",
    "            doc['category_1'] = list(rows.category_1.dropna().unique())[0]\n",
    "        except IndexError:\n",
    "            pass\n",
    "        try:\n",
    "            doc['category_2'] = list(rows.category_2.dropna().unique())[0]\n",
    "        except IndexError:\n",
    "            pass\n",
    "        try:\n",
    "            doc['category_3'] = list(rows.category_3.dropna().unique())[0]\n",
    "        except IndexError:\n",
    "            pass\n",
    "        try:\n",
    "            doc['category_4'] = list(rows.category_4.dropna().unique())[0]\n",
    "        except IndexError:\n",
    "            pass\n",
    "        try:\n",
    "            doc['category_5'] = list(rows.category_5.dropna().unique())[0]\n",
    "        except IndexError:\n",
    "            pass\n",
    "        try:\n",
    "            doc['category_6'] = list(rows.category_6.dropna().unique())[0]\n",
    "        except IndexError:\n",
    "            pass\n",
    "        if np.isnan(doc['price']):\n",
    "            del doc['price']\n",
    "        es.index(index='vi_products', body=doc)"
   ]
  },
  {
   "cell_type": "code",
   "execution_count": 218,
   "metadata": {
    "scrolled": false
   },
   "outputs": [],
   "source": [
    "# fill_index()"
   ]
  },
  {
   "cell_type": "markdown",
   "metadata": {},
   "source": [
    "# Obsahový odporúčač"
   ]
  },
  {
   "cell_type": "code",
   "execution_count": 194,
   "metadata": {},
   "outputs": [],
   "source": [
    "def cr2(product_ids, count=10):\n",
    "    url = 'http://localhost:9200/vi_products/_search'\n",
    "    def transform_id(pid):\n",
    "        data = {'query': {'bool': {'filter': {'term': {'product_id': pid}}}}}\n",
    "        r = requests.post(url, json=data)\n",
    "        try:\n",
    "            return json.loads(r.text)['hits']['hits'][0]['_id']\n",
    "        except IndexError:\n",
    "            return None\n",
    "    \n",
    "    ids = [transform_id(pid) for pid in product_ids if pid]\n",
    "    should = []\n",
    "    for i in ids:\n",
    "        if i:\n",
    "            mlt = {\n",
    "              \"more_like_this\": {\n",
    "                \"fields\": [\n",
    "                  \"title\", \"category_0\", \"category_1\", \"category_2\", \"category_3\"\n",
    "                ],\n",
    "                \"like\": [\n",
    "                  {\n",
    "                    \"_index\": \"vi_products\",\n",
    "                    \"_id\": i\n",
    "                  }\n",
    "                ],\n",
    "                \"min_term_freq\": 1,\n",
    "                \"min_doc_freq\": 1,\n",
    "                \"max_query_terms\": 100,\n",
    "                \"include\": True\n",
    "              }\n",
    "            }\n",
    "            should.append(mlt)\n",
    "            \n",
    "    data = {\n",
    "              \"from\": 0,\n",
    "              \"size\": 10,\n",
    "              \"query\": {\n",
    "                \"bool\": {\n",
    "                  \"should\": should\n",
    "                }\n",
    "              }\n",
    "            }    \n",
    "#     print(json.dumps(data))\n",
    "    r = requests.post(url, json=data)\n",
    "    try: \n",
    "        return [hit['_source']['product_id'] for hit in json.loads(r.text)['hits']['hits']]\n",
    "    except KeyError as e:\n",
    "        print('KeyError:'+e, r.text) "
   ]
  },
  {
   "cell_type": "code",
   "execution_count": 195,
   "metadata": {},
   "outputs": [],
   "source": [
    "def cr3(product_ids, count=10):\n",
    "    url = 'http://localhost:9200/vi_products/_search'\n",
    "    def transform_id(pid):\n",
    "        data = {'query': {'bool': {'filter': {'term': {'product_id': pid}}}}}\n",
    "        r = requests.post(url, json=data)\n",
    "        try:\n",
    "            return json.loads(r.text)['hits']['hits'][0]['_id']\n",
    "        except IndexError:\n",
    "            return None\n",
    "    \n",
    "    ids = [transform_id(pid) for pid in product_ids if pid]\n",
    "    queries = []\n",
    "    for i in ids:\n",
    "        if i:\n",
    "            mlt = {\n",
    "              \"more_like_this\": {\n",
    "                \"fields\": [\n",
    "                  \"title\", \"category_0\", \"category_1\", \"category_2\", \"category_3\"\n",
    "                ],\n",
    "                \"like\": [\n",
    "                  {\n",
    "                    \"_index\": \"vi_products\",\n",
    "                    \"_id\": i\n",
    "                  }\n",
    "                ],\n",
    "                \"min_term_freq\": 1,\n",
    "                \"min_doc_freq\": 1,\n",
    "                \"max_query_terms\": 100,\n",
    "                \"include\": True\n",
    "              }\n",
    "            }\n",
    "            queries.append(mlt)\n",
    "            \n",
    "    data = {\n",
    "                \"from\":0,\n",
    "                \"size\":10,\n",
    "                \"query\": { \n",
    "                    \"dis_max\": {\n",
    "                       \"queries\": queries\n",
    "                    }\n",
    "                }\n",
    "            }   \n",
    "#     print(json.dumps(data))\n",
    "    r = requests.post(url, json=data)\n",
    "    try: \n",
    "        return [hit['_source']['product_id'] for hit in json.loads(r.text)['hits']['hits']]\n",
    "    except KeyError as e:\n",
    "        print('KeyError:'+e, r.text) "
   ]
  },
  {
   "cell_type": "markdown",
   "metadata": {},
   "source": [
    "# Evaluácia"
   ]
  },
  {
   "cell_type": "markdown",
   "metadata": {},
   "source": [
    "## Metriky"
   ]
  },
  {
   "cell_type": "code",
   "execution_count": 204,
   "metadata": {},
   "outputs": [],
   "source": [
    "def precision_at_k(recommendation, test, k=10):\n",
    "    relevance = []\n",
    "    for x in recommendation:\n",
    "        relevance.append(1 if x in test else 0)\n",
    "    k = len(relevance) if len(relevance)<k else k\n",
    "    r = np.asarray(relevance)[:k] != 0\n",
    "    if r.size != k:\n",
    "        raise ValueError('Relevance score length < k')\n",
    "    return np.mean(r)"
   ]
  },
  {
   "cell_type": "markdown",
   "metadata": {},
   "source": [
    "Upravené implementácie z [Ranking Metrics](https://gist.github.com/bwhite/3726239)"
   ]
  },
  {
   "cell_type": "code",
   "execution_count": 205,
   "metadata": {},
   "outputs": [],
   "source": [
    "def test_precision(customer_id, cr_function):\n",
    "    def split_products(products):\n",
    "        middle = (len(products)+1)//2\n",
    "        return [set(products[:middle]), products[middle:]]\n",
    "    customer_products = data[data.customer_id == customer_id].sort_values(by ='timestamp')\n",
    "    if len(customer_products) == 1:\n",
    "        raise Exception(customer_id + ' has just one product')\n",
    "    product_ids = list(customer_products.product_id)\n",
    "    train, test = split_products(product_ids)\n",
    "    recommendation = cr_function(train, count=10)\n",
    "    return precision_at_k(recommendation, test, k=10)"
   ]
  },
  {
   "cell_type": "markdown",
   "metadata": {},
   "source": [
    "Na vygenerovenie odporúčania bola použitá tabuľka `events`"
   ]
  },
  {
   "cell_type": "markdown",
   "metadata": {},
   "source": [
    "## Výsledky"
   ]
  },
  {
   "cell_type": "code",
   "execution_count": 12,
   "metadata": {},
   "outputs": [],
   "source": [
    "customer_ids = sorted(list(events.customer_id.unique()), key=lambda k: random.random())"
   ]
  },
  {
   "cell_type": "code",
   "execution_count": 13,
   "metadata": {},
   "outputs": [
    {
     "data": {
      "text/plain": [
       "2210171"
      ]
     },
     "execution_count": 13,
     "metadata": {},
     "output_type": "execute_result"
    }
   ],
   "source": [
    "len(customer_ids)"
   ]
  },
  {
   "cell_type": "code",
   "execution_count": 207,
   "metadata": {
    "scrolled": true
   },
   "outputs": [
    {
     "name": "stdout",
     "output_type": "stream",
     "text": [
      "number of tested customers 0\n",
      "average precision nan\n"
     ]
    }
   ],
   "source": [
    "p = []\n",
    "number_tested = 100\n",
    "for cid in customer_ids:\n",
    "    try:\n",
    "        precision = test_precision(cid, cr3)\n",
    "        if not np.isnan(precision):\n",
    "            p.append(precision)\n",
    "    except:\n",
    "        pass\n",
    "    if len(p) >= number_tested:\n",
    "        break\n",
    "print('number of tested customers', len(p))\n",
    "print('average precision', np.mean(p))"
   ]
  },
  {
   "cell_type": "markdown",
   "metadata": {},
   "source": [
    "## Zapracovat\n",
    "* boostovanie datumu, field asi nepojde\n",
    "* pridat/ubrat fieldy\n",
    "* dalsie metriky"
   ]
  },
  {
   "cell_type": "markdown",
   "metadata": {},
   "source": [
    "# vi-challenge kaggle"
   ]
  },
  {
   "cell_type": "code",
   "execution_count": 203,
   "metadata": {
    "scrolled": true
   },
   "outputs": [
    {
     "data": {
      "text/plain": [
       "1000"
      ]
     },
     "execution_count": 203,
     "metadata": {},
     "output_type": "execute_result"
    }
   ],
   "source": [
    "vi_challenge_uID = pd.read_csv('vi_challenge_uID.csv', header=None)\n",
    "len(vi_challenge_uID)"
   ]
  },
  {
   "cell_type": "code",
   "execution_count": 163,
   "metadata": {
    "collapsed": true
   },
   "outputs": [
    {
     "data": {
      "text/html": [
       "<div>\n",
       "<style scoped>\n",
       "    .dataframe tbody tr th:only-of-type {\n",
       "        vertical-align: middle;\n",
       "    }\n",
       "\n",
       "    .dataframe tbody tr th {\n",
       "        vertical-align: top;\n",
       "    }\n",
       "\n",
       "    .dataframe thead th {\n",
       "        text-align: right;\n",
       "    }\n",
       "</style>\n",
       "<table border=\"1\" class=\"dataframe\">\n",
       "  <thead>\n",
       "    <tr style=\"text-align: right;\">\n",
       "      <th></th>\n",
       "      <th>customer_id</th>\n",
       "      <th>timestamp</th>\n",
       "      <th>event_type</th>\n",
       "      <th>product_id</th>\n",
       "      <th>title</th>\n",
       "      <th>category_name</th>\n",
       "      <th>price</th>\n",
       "    </tr>\n",
       "  </thead>\n",
       "  <tbody>\n",
       "    <tr>\n",
       "      <td>14113018</td>\n",
       "      <td>050849d4-2b54-481b-b32b-822709bc18fd</td>\n",
       "      <td>2019-08-30 06:44:57.490581 UTC</td>\n",
       "      <td>view_item</td>\n",
       "      <td>023a7ed6-5dea-4915-a793-64c5e8b06eff</td>\n",
       "      <td>Trendyol Green Strapless Dress</td>\n",
       "      <td>Women&gt;Women's Clothing&gt;Dresses</td>\n",
       "      <td>38.46</td>\n",
       "    </tr>\n",
       "  </tbody>\n",
       "</table>\n",
       "</div>"
      ],
      "text/plain": [
       "                                   customer_id  \\\n",
       "14113018  050849d4-2b54-481b-b32b-822709bc18fd   \n",
       "\n",
       "                               timestamp event_type  \\\n",
       "14113018  2019-08-30 06:44:57.490581 UTC  view_item   \n",
       "\n",
       "                                    product_id  \\\n",
       "14113018  023a7ed6-5dea-4915-a793-64c5e8b06eff   \n",
       "\n",
       "                                   title                   category_name  \\\n",
       "14113018  Trendyol Green Strapless Dress  Women>Women's Clothing>Dresses   \n",
       "\n",
       "          price  \n",
       "14113018  38.46  "
      ]
     },
     "execution_count": 163,
     "metadata": {},
     "output_type": "execute_result"
    }
   ],
   "source": [
    "events[events.customer_id == '050849d4-2b54-481b-b32b-822709bc18fd']"
   ]
  },
  {
   "cell_type": "code",
   "execution_count": 197,
   "metadata": {
    "collapsed": true
   },
   "outputs": [
    {
     "data": {
      "text/plain": [
       "['24e8d758-f36e-4a46-a3f7-f580c9d8c5e8',\n",
       " '3a246c67-751d-4082-9d2c-903620112a64',\n",
       " '29d63b9b-c948-4df6-a76a-9ff5e5922003',\n",
       " 'daeac09b-6a06-4abd-8ef8-83d9cd3f0bbb',\n",
       " '91a9de35-14c3-4623-b516-24d5fe4c7759',\n",
       " '23f6a87c-54cb-4ceb-b35f-32ee29903af6',\n",
       " 'a1157781-f2c3-4466-827f-da713727a802',\n",
       " '65b07a7a-75dc-4e27-851d-17f674ea1364',\n",
       " 'b2e5b028-b452-40af-be72-9840e0fda6b0',\n",
       " '7598fc5e-3e2a-454b-b173-a52dd6e0f250']"
      ]
     },
     "execution_count": 197,
     "metadata": {},
     "output_type": "execute_result"
    }
   ],
   "source": [
    "cr3(set(events[events.customer_id == '0036fbad-4a20-47f7-a682-aebb275456dc'].product_id))"
   ]
  },
  {
   "cell_type": "code",
   "execution_count": 198,
   "metadata": {
    "collapsed": true
   },
   "outputs": [
    {
     "data": {
      "text/plain": [
       "['023a7ed6-5dea-4915-a793-64c5e8b06eff',\n",
       " 'fcb993c5-ea43-4e88-a8a2-44908f7e8316',\n",
       " '8262b507-0713-4794-b004-26794d10fed2',\n",
       " 'd2dde762-279a-4bf5-b645-78ef0828780a',\n",
       " '3371f29f-16cf-43ca-9be5-2a03a5001da0',\n",
       " '34825f1b-de28-40fd-b08b-75e02dab6b4a',\n",
       " '99bd86ca-bd24-4e90-b644-98aa2a121011',\n",
       " '66a324b4-87e9-4568-b9eb-35ddc42768e2',\n",
       " 'eb48ef50-15f8-4884-ab1d-047e12b41710',\n",
       " 'bb079987-9fb4-4f2d-b953-04805d166a6f']"
      ]
     },
     "execution_count": 198,
     "metadata": {},
     "output_type": "execute_result"
    }
   ],
   "source": [
    "cr3(set(events[events.customer_id == '050849d4-2b54-481b-b32b-822709bc18fd'].product_id))"
   ]
  },
  {
   "cell_type": "code",
   "execution_count": 95,
   "metadata": {},
   "outputs": [],
   "source": [
    "most_popular_products = list(events.product_id.value_counts().index[:10])"
   ]
  },
  {
   "cell_type": "code",
   "execution_count": 200,
   "metadata": {
    "collapsed": true
   },
   "outputs": [
    {
     "name": "stdout",
     "output_type": "stream",
     "text": [
      "0 :  10\n",
      "1 :  10\n",
      "2 MPP\n",
      "3 MPP\n",
      "4 :  10\n",
      "5 MPP\n",
      "6 :  10\n",
      "7 MPP\n",
      "8 :  10\n",
      "9 :  10\n",
      "10 MPP\n",
      "11 :  10\n",
      "12 :  10\n",
      "13 :  10\n",
      "14 :  10\n",
      "15 :  10\n",
      "16 :  10\n",
      "17 MPP\n",
      "18 MPP\n",
      "19 MPP\n",
      "20 MPP\n",
      "21 :  10\n",
      "22 :  10\n",
      "23 :  10\n",
      "24 :  10\n",
      "25 :  10\n",
      "26 :  10\n",
      "27 :  10\n",
      "28 MPP\n",
      "29 :  10\n",
      "30 :  10\n",
      "31 :  10\n",
      "32 :  10\n",
      "33 MPP\n",
      "34 :  10\n",
      "35 :  10\n",
      "36 MPP\n",
      "37 :  10\n",
      "38 MPP\n",
      "39 :  10\n",
      "40 :  10\n",
      "41 :  10\n",
      "42 :  10\n",
      "43 :  10\n",
      "44 :  10\n",
      "45 :  10\n",
      "46 :  10\n",
      "47 :  10\n",
      "48 :  10\n",
      "49 :  10\n",
      "50 :  10\n",
      "51 :  10\n",
      "52 MPP\n",
      "53 :  10\n",
      "54 :  10\n",
      "55 :  10\n",
      "56 :  10\n",
      "57 :  10\n",
      "58 :  10\n",
      "59 :  10\n",
      "60 :  10\n",
      "61 :  10\n",
      "62 :  10\n",
      "63 :  10\n",
      "64 :  10\n",
      "65 :  10\n",
      "66 :  10\n",
      "67 :  10\n",
      "68 :  10\n",
      "69 :  10\n",
      "70 :  10\n",
      "71 :  10\n",
      "72 :  10\n",
      "73 :  10\n",
      "74 :  10\n",
      "75 :  10\n",
      "76 :  10\n",
      "77 MPP\n",
      "78 :  10\n",
      "79 :  10\n",
      "80 :  10\n",
      "81 :  10\n",
      "82 :  10\n",
      "83 :  10\n",
      "84 MPP\n",
      "85 MPP\n",
      "86 :  10\n",
      "87 :  10\n",
      "88 MPP\n",
      "89 :  10\n",
      "90 :  10\n",
      "91 :  10\n",
      "92 :  10\n",
      "93 :  10\n",
      "94 :  10\n",
      "95 :  10\n",
      "96 :  10\n",
      "97 :  10\n",
      "98 :  10\n",
      "99 :  10\n",
      "100 :  10\n",
      "101 :  10\n",
      "102 :  10\n",
      "103 :  10\n",
      "104 :  10\n",
      "105 :  10\n",
      "106 :  10\n",
      "107 :  10\n",
      "108 :  10\n",
      "109 :  10\n",
      "110 :  10\n",
      "111 :  10\n",
      "112 :  10\n",
      "113 :  10\n",
      "114 :  10\n",
      "115 :  10\n",
      "116 :  10\n",
      "117 :  10\n",
      "118 MPP\n",
      "119 :  10\n",
      "120 :  10\n",
      "121 :  10\n",
      "122 :  10\n",
      "123 :  10\n",
      "124 :  10\n",
      "125 :  10\n",
      "126 :  10\n",
      "127 :  10\n",
      "128 :  10\n",
      "129 :  10\n",
      "130 :  10\n",
      "131 :  10\n",
      "132 :  10\n",
      "133 MPP\n",
      "134 :  10\n",
      "135 MPP\n",
      "136 MPP\n",
      "137 :  10\n",
      "138 :  10\n",
      "139 :  10\n",
      "140 :  10\n",
      "141 :  10\n",
      "142 :  10\n",
      "143 :  10\n",
      "144 :  10\n",
      "145 :  10\n",
      "146 :  10\n",
      "147 :  10\n",
      "148 MPP\n",
      "149 :  10\n",
      "150 :  10\n",
      "151 :  10\n",
      "152 :  10\n",
      "153 :  10\n",
      "154 :  10\n",
      "155 MPP\n",
      "156 MPP\n",
      "157 :  10\n",
      "158 :  10\n",
      "159 :  10\n",
      "160 :  10\n",
      "161 :  10\n",
      "162 :  10\n",
      "163 :  10\n",
      "164 MPP\n",
      "165 :  10\n",
      "166 MPP\n",
      "167 :  10\n",
      "168 :  10\n",
      "169 :  10\n",
      "170 :  10\n",
      "171 :  10\n",
      "172 :  10\n",
      "173 :  10\n",
      "174 :  10\n",
      "175 :  10\n",
      "176 :  10\n",
      "177 MPP\n",
      "178 :  10\n",
      "179 :  10\n",
      "180 :  10\n",
      "181 :  10\n",
      "182 :  10\n",
      "183 :  10\n",
      "184 :  10\n",
      "185 :  10\n",
      "186 :  10\n",
      "187 :  10\n",
      "188 :  10\n",
      "189 :  10\n",
      "190 :  10\n",
      "191 :  10\n",
      "192 :  10\n",
      "193 :  10\n",
      "194 :  10\n",
      "195 :  10\n",
      "196 :  10\n",
      "197 :  10\n",
      "198 MPP\n",
      "199 :  10\n",
      "200 :  10\n",
      "201 :  10\n",
      "202 :  10\n",
      "203 :  10\n",
      "204 :  10\n",
      "205 :  10\n",
      "206 :  10\n",
      "207 :  10\n",
      "208 :  10\n",
      "209 :  10\n",
      "210 :  10\n",
      "211 :  10\n",
      "212 :  10\n",
      "213 :  10\n",
      "214 :  10\n",
      "215 :  10\n",
      "216 :  10\n",
      "217 :  10\n",
      "218 MPP\n",
      "219 :  10\n",
      "220 :  10\n",
      "221 :  10\n",
      "222 :  10\n",
      "223 MPP\n",
      "224 :  10\n",
      "225 :  10\n",
      "226 :  10\n",
      "227 :  10\n",
      "228 MPP\n",
      "229 :  10\n",
      "230 MPP\n",
      "231 MPP\n",
      "232 :  10\n",
      "233 MPP\n",
      "234 :  10\n",
      "235 :  10\n",
      "236 :  10\n",
      "237 MPP\n",
      "238 :  10\n",
      "239 :  10\n",
      "240 :  10\n",
      "241 MPP\n",
      "242 :  10\n",
      "243 :  10\n",
      "244 :  10\n",
      "245 :  10\n",
      "246 :  10\n",
      "247 :  10\n",
      "248 :  10\n",
      "249 :  10\n",
      "250 :  10\n",
      "251 :  10\n",
      "252 :  10\n",
      "253 :  10\n",
      "254 :  10\n",
      "255 :  10\n",
      "256 MPP\n",
      "257 :  10\n",
      "258 :  10\n",
      "259 :  10\n",
      "260 :  10\n",
      "261 :  10\n",
      "262 :  10\n",
      "263 :  10\n",
      "264 :  10\n",
      "265 :  10\n",
      "266 :  10\n",
      "267 :  10\n",
      "268 MPP\n",
      "269 :  10\n",
      "270 :  10\n",
      "271 :  10\n",
      "272 :  10\n",
      "273 :  10\n",
      "274 :  10\n",
      "275 :  10\n",
      "276 :  10\n",
      "277 :  10\n",
      "278 :  10\n",
      "279 :  10\n",
      "280 :  10\n",
      "281 :  10\n",
      "282 MPP\n",
      "283 :  10\n",
      "284 :  10\n",
      "285 :  10\n",
      "286 :  10\n",
      "287 MPP\n",
      "288 :  10\n",
      "289 :  10\n",
      "290 :  10\n",
      "291 :  10\n",
      "292 MPP\n",
      "293 :  10\n",
      "294 :  10\n",
      "295 :  10\n",
      "296 MPP\n",
      "297 :  10\n",
      "298 :  10\n",
      "299 :  10\n",
      "300 :  10\n",
      "301 :  10\n",
      "302 :  10\n",
      "303 MPP\n",
      "304 MPP\n",
      "305 :  10\n",
      "306 :  10\n",
      "307 MPP\n",
      "308 :  10\n",
      "309 :  10\n",
      "310 MPP\n",
      "311 :  10\n",
      "312 :  10\n",
      "313 :  10\n",
      "314 :  10\n",
      "315 :  10\n",
      "316 :  10\n",
      "317 MPP\n",
      "318 :  10\n",
      "319 :  10\n",
      "320 :  10\n",
      "321 MPP\n",
      "322 :  10\n",
      "323 MPP\n",
      "324 :  10\n",
      "325 :  10\n",
      "326 MPP\n",
      "327 :  10\n",
      "328 :  10\n",
      "329 :  10\n",
      "330 :  10\n",
      "331 :  10\n",
      "332 :  10\n",
      "333 :  10\n",
      "334 :  10\n",
      "335 :  10\n",
      "336 :  10\n",
      "337 MPP\n",
      "338 :  10\n",
      "339 :  10\n",
      "340 :  10\n",
      "341 :  10\n",
      "342 :  10\n",
      "343 MPP\n",
      "344 :  10\n",
      "345 :  10\n",
      "346 :  10\n",
      "347 :  10\n",
      "348 :  10\n",
      "349 :  10\n",
      "350 :  10\n",
      "351 :  10\n",
      "352 :  10\n",
      "353 MPP\n",
      "354 :  10\n",
      "355 :  10\n",
      "356 :  10\n",
      "357 :  10\n",
      "358 :  10\n",
      "359 :  10\n",
      "360 :  10\n",
      "361 :  10\n",
      "362 :  10\n",
      "363 MPP\n",
      "364 :  10\n",
      "365 :  10\n",
      "366 :  10\n",
      "367 :  10\n",
      "368 :  10\n",
      "369 :  10\n",
      "370 :  10\n",
      "371 :  10\n",
      "372 :  10\n",
      "373 MPP\n",
      "374 :  10\n",
      "375 :  10\n",
      "376 :  10\n",
      "377 :  10\n",
      "378 :  10\n",
      "379 :  10\n",
      "380 MPP\n",
      "381 :  10\n",
      "382 :  10\n",
      "383 :  10\n",
      "384 :  10\n",
      "385 MPP\n",
      "386 :  10\n",
      "387 :  10\n",
      "388 :  10\n",
      "389 MPP\n",
      "390 :  10\n",
      "391 :  10\n",
      "392 :  10\n",
      "393 :  10\n",
      "394 :  10\n",
      "395 MPP\n",
      "396 :  10\n",
      "397 :  10\n",
      "398 :  10\n",
      "399 :  10\n",
      "400 :  10\n",
      "401 :  10\n",
      "402 :  10\n",
      "403 :  10\n",
      "404 :  10\n",
      "405 :  10\n",
      "406 MPP\n",
      "407 MPP\n",
      "408 :  10\n",
      "409 :  10\n",
      "410 :  10\n",
      "411 MPP\n",
      "412 :  10\n",
      "413 :  10\n",
      "414 :  10\n",
      "415 :  10\n",
      "416 MPP\n",
      "417 MPP\n",
      "418 :  10\n",
      "419 :  10\n",
      "420 :  10\n",
      "421 :  10\n",
      "422 :  10\n",
      "423 :  10\n",
      "424 :  10\n",
      "425 :  10\n",
      "426 :  10\n",
      "427 :  10\n",
      "428 :  10\n",
      "429 :  10\n",
      "430 :  10\n",
      "431 :  10\n",
      "432 :  10\n",
      "433 :  10\n",
      "434 :  10\n",
      "435 :  10\n",
      "436 :  10\n",
      "437 :  10\n",
      "438 :  10\n",
      "439 :  10\n",
      "440 MPP\n",
      "441 :  10\n",
      "442 :  10\n",
      "443 :  10\n",
      "444 :  10\n",
      "445 :  10\n",
      "446 :  10\n",
      "447 :  10\n",
      "448 :  10\n",
      "449 :  10\n",
      "450 :  10\n",
      "451 :  10\n",
      "452 :  10\n",
      "453 :  10\n",
      "454 :  10\n",
      "455 MPP\n",
      "456 :  10\n",
      "457 :  10\n",
      "458 :  10\n",
      "459 MPP\n",
      "460 :  10\n",
      "461 :  10\n",
      "462 :  10\n",
      "463 :  10\n",
      "464 :  10\n",
      "465 MPP\n",
      "466 :  10\n",
      "467 MPP\n",
      "468 :  10\n",
      "469 :  10\n",
      "470 :  10\n",
      "471 :  10\n",
      "472 :  10\n",
      "473 :  10\n",
      "474 :  10\n",
      "475 :  10\n",
      "476 :  10\n",
      "477 :  10\n",
      "478 :  10\n",
      "479 :  10\n",
      "480 :  10\n",
      "481 :  10\n",
      "482 :  10\n",
      "483 :  10\n",
      "484 :  10\n",
      "485 MPP\n",
      "486 :  10\n",
      "487 MPP\n",
      "488 :  10\n",
      "489 :  10\n",
      "490 :  10\n",
      "491 :  10\n",
      "492 :  10\n",
      "493 MPP\n",
      "494 :  10\n",
      "495 :  10\n",
      "496 :  10\n",
      "497 :  10\n",
      "498 MPP\n",
      "499 :  10\n",
      "500 :  10\n",
      "501 :  10\n",
      "502 :  10\n",
      "503 :  10\n",
      "504 :  10\n",
      "505 MPP\n",
      "506 :  10\n",
      "507 :  10\n",
      "508 :  10\n",
      "509 :  10\n",
      "510 :  10\n",
      "511 :  10\n",
      "512 :  10\n",
      "513 MPP\n",
      "514 :  10\n",
      "515 :  10\n",
      "516 :  10\n",
      "517 :  10\n",
      "518 :  10\n",
      "519 :  10\n",
      "520 :  10\n",
      "521 :  10\n",
      "522 :  10\n",
      "523 :  10\n",
      "524 :  10\n",
      "525 MPP\n",
      "526 MPP\n",
      "527 MPP\n",
      "528 :  10\n",
      "529 :  10\n",
      "530 :  10\n",
      "531 :  10\n",
      "532 :  10\n",
      "533 :  10\n",
      "534 :  10\n",
      "535 :  10\n",
      "536 MPP\n",
      "537 :  10\n",
      "538 :  10\n",
      "539 :  10\n",
      "540 MPP\n",
      "541 :  10\n",
      "542 :  10\n",
      "543 :  10\n",
      "544 :  10\n",
      "545 :  10\n",
      "546 :  10\n",
      "547 :  10\n",
      "548 :  10\n",
      "549 :  10\n",
      "550 MPP\n",
      "551 :  10\n",
      "552 :  10\n",
      "553 :  10\n",
      "554 :  10\n",
      "555 :  10\n",
      "556 MPP\n",
      "557 :  10\n",
      "558 MPP\n",
      "559 :  10\n",
      "560 :  10\n",
      "561 MPP\n",
      "562 MPP\n",
      "563 :  10\n",
      "564 MPP\n",
      "565 :  10\n",
      "566 :  10\n",
      "567 :  10\n",
      "568 :  10\n",
      "569 :  10\n",
      "570 :  10\n",
      "571 :  10\n",
      "572 :  10\n",
      "573 :  10\n",
      "574 :  10\n",
      "575 :  10\n",
      "576 :  10\n",
      "577 :  10\n",
      "578 :  10\n",
      "579 :  10\n",
      "580 :  10\n",
      "581 MPP\n",
      "582 :  10\n",
      "583 :  10\n",
      "584 :  10\n",
      "585 :  10\n",
      "586 :  10\n",
      "587 MPP\n",
      "588 :  10\n",
      "589 :  10\n",
      "590 :  10\n",
      "591 :  10\n",
      "592 :  10\n",
      "593 :  10\n",
      "594 :  10\n",
      "595 :  10\n",
      "596 :  10\n",
      "597 :  10\n",
      "598 :  10\n",
      "599 :  10\n",
      "600 :  10\n",
      "601 :  10\n",
      "602 :  10\n",
      "603 :  10\n",
      "604 MPP\n",
      "605 :  10\n",
      "606 :  10\n",
      "607 :  10\n",
      "608 :  10\n",
      "609 :  10\n",
      "610 :  10\n",
      "611 :  10\n",
      "612 :  10\n",
      "613 :  10\n",
      "614 :  10\n",
      "615 :  10\n",
      "616 :  10\n",
      "617 :  10\n",
      "618 :  10\n",
      "619 :  10\n",
      "620 :  10\n",
      "621 :  10\n",
      "622 :  10\n",
      "623 :  10\n",
      "624 :  10\n",
      "625 :  10\n",
      "626 MPP\n",
      "627 :  10\n",
      "628 MPP\n",
      "629 :  10\n",
      "630 :  10\n",
      "631 MPP\n",
      "632 :  10\n",
      "633 :  10\n",
      "634 :  10\n",
      "635 :  10\n",
      "636 :  10\n",
      "637 :  10\n",
      "638 :  10\n",
      "639 :  10\n",
      "640 :  10\n",
      "641 :  10\n",
      "642 :  10\n",
      "643 :  10\n",
      "644 :  10\n",
      "645 :  10\n",
      "646 :  10\n",
      "647 :  10\n",
      "648 :  10\n",
      "649 :  10\n",
      "650 :  10\n",
      "651 :  10\n",
      "652 :  10\n",
      "653 :  10\n",
      "654 MPP\n",
      "655 :  10\n",
      "656 :  10\n",
      "657 :  10\n",
      "658 MPP\n",
      "659 :  10\n",
      "660 :  10\n",
      "661 :  10\n",
      "662 :  10\n",
      "663 :  10\n",
      "664 :  10\n",
      "665 :  10\n",
      "666 :  10\n",
      "667 :  10\n",
      "668 MPP\n",
      "669 :  10\n",
      "670 :  10\n",
      "671 :  10\n",
      "672 :  10\n",
      "673 :  10\n",
      "674 :  10\n",
      "675 :  10\n",
      "676 :  10\n",
      "677 :  10\n",
      "678 :  10\n",
      "679 :  10\n",
      "680 :  10\n",
      "681 :  10\n",
      "682 :  10\n",
      "683 :  10\n",
      "684 :  10\n",
      "685 MPP\n",
      "686 :  10\n",
      "687 MPP\n",
      "688 :  10\n",
      "689 :  10\n",
      "690 :  10\n",
      "691 :  10\n",
      "692 :  10\n",
      "693 :  10\n",
      "694 :  10\n",
      "695 MPP\n",
      "696 :  10\n",
      "697 :  10\n",
      "698 :  10\n",
      "699 :  10\n",
      "700 :  10\n",
      "701 :  10\n",
      "702 MPP\n",
      "703 :  10\n",
      "704 MPP\n",
      "705 :  10\n",
      "706 :  10\n",
      "707 :  10\n",
      "708 :  10\n",
      "709 :  10\n",
      "710 MPP\n",
      "711 MPP\n",
      "712 :  10\n",
      "713 :  10\n",
      "714 :  10\n",
      "715 :  10\n",
      "716 :  10\n",
      "717 :  10\n",
      "718 :  10\n",
      "719 :  10\n",
      "720 MPP\n",
      "721 :  10\n",
      "722 :  10\n",
      "723 :  10\n",
      "724 MPP\n",
      "725 :  10\n",
      "726 :  10\n",
      "727 :  10\n",
      "728 MPP\n",
      "729 :  10\n",
      "730 :  10\n",
      "731 :  10\n",
      "732 :  10\n",
      "733 MPP\n",
      "734 :  10\n",
      "735 :  10\n",
      "736 :  10\n",
      "737 :  10\n",
      "738 :  10\n",
      "739 :  10\n",
      "740 :  10\n",
      "741 :  10\n",
      "742 :  10\n",
      "743 :  10\n",
      "744 :  10\n",
      "745 :  10\n",
      "746 :  10\n",
      "747 MPP\n",
      "748 :  10\n",
      "749 :  10\n",
      "750 :  10\n",
      "751 MPP\n",
      "752 MPP\n",
      "753 :  10\n",
      "754 :  10\n",
      "755 :  10\n",
      "756 :  10\n",
      "757 MPP\n",
      "758 :  10\n",
      "759 :  10\n",
      "760 :  10\n",
      "761 :  10\n",
      "762 MPP\n",
      "763 :  10\n",
      "764 :  10\n",
      "765 :  10\n",
      "766 :  10\n",
      "767 :  10\n",
      "768 :  10\n",
      "769 :  10\n",
      "770 :  10\n",
      "771 :  10\n",
      "772 :  10\n",
      "773 :  10\n",
      "774 :  10\n",
      "775 :  10\n",
      "776 :  10\n",
      "777 :  10\n",
      "778 :  10\n",
      "779 :  10\n",
      "780 :  10\n",
      "781 :  10\n",
      "782 :  10\n",
      "783 :  10\n",
      "784 MPP\n",
      "785 :  10\n",
      "786 MPP\n",
      "787 :  10\n",
      "788 :  10\n",
      "789 :  10\n",
      "790 :  10\n",
      "791 :  10\n",
      "792 MPP\n",
      "793 :  10\n",
      "794 :  10\n",
      "795 MPP\n",
      "796 MPP\n",
      "797 :  10\n",
      "798 :  10\n",
      "799 :  10\n",
      "800 :  10\n",
      "801 :  10\n",
      "802 :  10\n",
      "803 :  10\n",
      "804 :  10\n",
      "805 :  10\n",
      "806 :  10\n",
      "807 :  10\n",
      "808 :  10\n",
      "809 :  10\n",
      "810 :  10\n",
      "811 :  10\n",
      "812 :  10\n",
      "813 :  10\n",
      "814 :  10\n",
      "815 MPP\n",
      "816 MPP\n",
      "817 :  10\n",
      "818 :  10\n",
      "819 :  10\n",
      "820 :  10\n",
      "821 :  10\n",
      "822 :  10\n",
      "823 :  10\n",
      "824 :  10\n",
      "825 :  10\n",
      "826 :  10\n",
      "827 :  10\n",
      "828 :  10\n",
      "829 :  10\n",
      "830 :  10\n",
      "831 :  10\n",
      "832 :  10\n",
      "833 MPP\n",
      "834 MPP\n",
      "835 MPP\n",
      "836 :  10\n",
      "837 :  10\n",
      "838 MPP\n",
      "839 :  10\n",
      "840 :  10\n",
      "841 :  10\n",
      "842 :  10\n",
      "843 :  10\n",
      "844 :  10\n",
      "845 :  10\n",
      "846 MPP\n",
      "847 :  10\n",
      "848 :  10\n",
      "849 :  10\n",
      "850 MPP\n",
      "851 :  10\n",
      "852 :  10\n",
      "853 :  10\n",
      "854 :  10\n",
      "855 :  10\n",
      "856 :  10\n"
     ]
    },
    {
     "name": "stdout",
     "output_type": "stream",
     "text": [
      "857 :  10\n",
      "858 :  10\n",
      "859 MPP\n",
      "860 :  10\n",
      "861 MPP\n",
      "862 :  10\n",
      "863 :  10\n",
      "864 :  10\n",
      "865 :  10\n",
      "866 :  10\n",
      "867 :  10\n",
      "868 :  10\n",
      "869 :  10\n",
      "870 :  10\n",
      "871 :  10\n",
      "872 MPP\n",
      "873 :  10\n",
      "874 :  10\n",
      "875 :  10\n",
      "876 :  10\n",
      "877 :  10\n",
      "878 MPP\n",
      "879 :  10\n",
      "880 :  10\n",
      "881 :  10\n",
      "882 :  10\n",
      "883 :  10\n",
      "884 MPP\n",
      "885 :  10\n",
      "886 :  10\n",
      "887 :  10\n",
      "888 :  10\n",
      "889 :  10\n",
      "890 :  10\n",
      "891 :  10\n",
      "892 :  10\n",
      "893 :  10\n",
      "894 :  10\n",
      "895 :  10\n",
      "896 :  10\n",
      "897 :  10\n",
      "898 :  10\n",
      "899 :  10\n",
      "900 :  10\n",
      "901 :  10\n",
      "902 MPP\n",
      "903 :  10\n",
      "904 :  10\n",
      "905 :  10\n",
      "906 :  10\n",
      "907 :  10\n",
      "908 :  10\n",
      "909 :  10\n",
      "910 :  10\n",
      "911 :  10\n",
      "912 MPP\n",
      "913 :  10\n",
      "914 :  10\n",
      "915 MPP\n",
      "916 :  10\n",
      "917 MPP\n",
      "918 :  10\n",
      "919 MPP\n",
      "920 :  10\n",
      "921 :  10\n",
      "922 :  10\n",
      "923 :  10\n",
      "924 :  10\n",
      "925 :  10\n",
      "926 :  10\n",
      "927 :  10\n",
      "928 :  10\n",
      "929 :  10\n",
      "930 MPP\n",
      "931 :  10\n",
      "932 MPP\n",
      "933 :  10\n",
      "934 :  10\n",
      "935 :  10\n",
      "936 :  10\n",
      "937 :  10\n",
      "938 :  10\n",
      "939 :  10\n",
      "940 MPP\n",
      "941 :  10\n",
      "942 :  10\n",
      "943 :  10\n",
      "944 MPP\n",
      "945 MPP\n",
      "946 :  10\n",
      "947 :  10\n",
      "948 :  10\n",
      "949 MPP\n",
      "950 MPP\n",
      "951 :  10\n",
      "952 :  10\n",
      "953 :  10\n",
      "954 :  10\n",
      "955 :  10\n",
      "956 MPP\n",
      "957 :  10\n",
      "958 :  10\n",
      "959 :  10\n",
      "960 :  10\n",
      "961 :  10\n",
      "962 MPP\n",
      "963 :  10\n",
      "964 :  10\n",
      "965 :  10\n",
      "966 :  10\n",
      "967 :  10\n",
      "968 :  10\n",
      "969 MPP\n",
      "970 :  10\n",
      "971 :  10\n",
      "972 :  10\n",
      "973 :  10\n",
      "974 MPP\n",
      "975 :  10\n",
      "976 :  10\n",
      "977 :  10\n",
      "978 :  10\n",
      "979 :  10\n",
      "980 :  10\n",
      "981 :  10\n",
      "982 :  10\n",
      "983 :  10\n",
      "984 MPP\n",
      "985 :  10\n",
      "986 :  10\n",
      "987 :  10\n",
      "988 :  10\n",
      "989 :  10\n",
      "990 :  10\n",
      "991 MPP\n",
      "992 :  10\n",
      "993 :  10\n",
      "994 :  10\n",
      "995 :  10\n",
      "996 :  10\n",
      "997 MPP\n",
      "998 :  10\n",
      "999 MPP\n"
     ]
    }
   ],
   "source": [
    "output = list()\n",
    "for i, uid in enumerate(vi_challenge_uID[0]):\n",
    "    customer_products = set(events[events.customer_id == uid].product_id)\n",
    "    if customer_products:\n",
    "        recomended = cr3(customer_products)\n",
    "        print(i, \": \", len(recomended))\n",
    "        for r in recomended:\n",
    "            output.append([uid, r])\n",
    "#             print('\\t', [uid, r])\n",
    "    else:\n",
    "        print(i, \"MPP\")\n",
    "        for r in most_popular_products:\n",
    "            output.append([uid, r])\n",
    "#             print('\\t', [uid, r])"
   ]
  },
  {
   "cell_type": "code",
   "execution_count": 202,
   "metadata": {},
   "outputs": [
    {
     "data": {
      "text/plain": [
       "10000"
      ]
     },
     "execution_count": 202,
     "metadata": {},
     "output_type": "execute_result"
    }
   ],
   "source": [
    "submission = pd.DataFrame(output, columns=['customer_id', 'product_id'])\n",
    "submission.to_csv('harnusekSubmission--.csv', index=False)\n",
    "len(submission)"
   ]
  },
  {
   "cell_type": "markdown",
   "metadata": {},
   "source": [
    "# -------------------------------------------------------------------------------------------"
   ]
  },
  {
   "cell_type": "code",
   "execution_count": 15,
   "metadata": {
    "scrolled": true
   },
   "outputs": [
    {
     "data": {
      "text/plain": [
       "['22a0be82-d2fb-421a-a2a7-de0499eaaaac',\n",
       " '25729ed4-1073-427c-a3bd-6993e49878de',\n",
       " 'f08aa62b-40d0-4dd5-9087-ffeb4e27c180',\n",
       " 'b51f15ae-5594-4b48-a224-2e09190fde0c',\n",
       " 'a6b2cfe9-b8d4-4ee1-a650-3aee40a5c089',\n",
       " '8783d5f2-746f-4dd4-aa05-c2960aea211f',\n",
       " 'b1854f8d-4706-425a-8385-b9c822f63ac6',\n",
       " 'c695f445-058a-4768-9c1a-09fb2b52c4b3',\n",
       " '5603a51a-1e83-4262-888e-1cf7a98fa008',\n",
       " 'b5eb85fb-1e8e-45c4-a8a2-b8addc27dc3d']"
      ]
     },
     "execution_count": 15,
     "metadata": {},
     "output_type": "execute_result"
    }
   ],
   "source": [
    "customer_ids[:10]"
   ]
  },
  {
   "cell_type": "code",
   "execution_count": 49,
   "metadata": {},
   "outputs": [],
   "source": [
    "def split_products(products):\n",
    "    \"\"\"\n",
    "    Returns train:set and test:list data\n",
    "    \"\"\"\n",
    "    middle = (len(products)+1)//2\n",
    "    return [set(products[:middle]), products[middle:]]"
   ]
  },
  {
   "cell_type": "code",
   "execution_count": 187,
   "metadata": {},
   "outputs": [
    {
     "data": {
      "text/html": [
       "<div>\n",
       "<style scoped>\n",
       "    .dataframe tbody tr th:only-of-type {\n",
       "        vertical-align: middle;\n",
       "    }\n",
       "\n",
       "    .dataframe tbody tr th {\n",
       "        vertical-align: top;\n",
       "    }\n",
       "\n",
       "    .dataframe thead th {\n",
       "        text-align: right;\n",
       "    }\n",
       "</style>\n",
       "<table border=\"1\" class=\"dataframe\">\n",
       "  <thead>\n",
       "    <tr style=\"text-align: right;\">\n",
       "      <th></th>\n",
       "      <th>customer_id</th>\n",
       "      <th>timestamp</th>\n",
       "      <th>event_type</th>\n",
       "      <th>product_id</th>\n",
       "      <th>title</th>\n",
       "      <th>category_name</th>\n",
       "      <th>price</th>\n",
       "    </tr>\n",
       "  </thead>\n",
       "  <tbody>\n",
       "    <tr>\n",
       "      <td>3624786</td>\n",
       "      <td>5603a51a-1e83-4262-888e-1cf7a98fa008</td>\n",
       "      <td>2019-07-18 09:46:51.367906 UTC</td>\n",
       "      <td>view_item</td>\n",
       "      <td>31ae211d-57a9-4bfa-b95f-40776af03c3f</td>\n",
       "      <td>Lee Cooper Marl Backpack</td>\n",
       "      <td>Accessories &gt;Backpacks and Bags</td>\n",
       "      <td>13.32</td>\n",
       "    </tr>\n",
       "    <tr>\n",
       "      <td>3625083</td>\n",
       "      <td>5603a51a-1e83-4262-888e-1cf7a98fa008</td>\n",
       "      <td>2019-07-18 09:48:35.856906 UTC</td>\n",
       "      <td>view_item</td>\n",
       "      <td>cc21bf26-0ca7-463f-973f-1f644a53514e</td>\n",
       "      <td>No Fear Urban Backpack</td>\n",
       "      <td>Accessories &gt;Backpacks and Bags&gt;Urban Backpacks</td>\n",
       "      <td>11.98</td>\n",
       "    </tr>\n",
       "    <tr>\n",
       "      <td>3625243</td>\n",
       "      <td>5603a51a-1e83-4262-888e-1cf7a98fa008</td>\n",
       "      <td>2019-07-18 09:49:28.294906 UTC</td>\n",
       "      <td>view_item</td>\n",
       "      <td>e9d3a1e9-cc3c-4101-b3ef-21ae55875213</td>\n",
       "      <td>Lonsdale Sport Backpack</td>\n",
       "      <td>Accessories &gt;Backpacks and Bags&gt;Urban Backpacks</td>\n",
       "      <td>13.32</td>\n",
       "    </tr>\n",
       "    <tr>\n",
       "      <td>3625263</td>\n",
       "      <td>5603a51a-1e83-4262-888e-1cf7a98fa008</td>\n",
       "      <td>2019-07-18 09:49:34.658906 UTC</td>\n",
       "      <td>view_item</td>\n",
       "      <td>db149e6d-553f-4d2b-9755-84e5224011ab</td>\n",
       "      <td>Ocean Pacific Backpack</td>\n",
       "      <td>Accessories &gt;Backpacks and Bags&gt;Urban Backpacks</td>\n",
       "      <td>9.28</td>\n",
       "    </tr>\n",
       "    <tr>\n",
       "      <td>3625267</td>\n",
       "      <td>5603a51a-1e83-4262-888e-1cf7a98fa008</td>\n",
       "      <td>2019-07-18 09:49:36.594906 UTC</td>\n",
       "      <td>view_item</td>\n",
       "      <td>cc21bf26-0ca7-463f-973f-1f644a53514e</td>\n",
       "      <td>No Fear Urban Backpack</td>\n",
       "      <td>Accessories &gt;Backpacks and Bags&gt;Urban Backpacks</td>\n",
       "      <td>11.98</td>\n",
       "    </tr>\n",
       "    <tr>\n",
       "      <td>3625301</td>\n",
       "      <td>5603a51a-1e83-4262-888e-1cf7a98fa008</td>\n",
       "      <td>2019-07-18 09:49:44.554906 UTC</td>\n",
       "      <td>view_item</td>\n",
       "      <td>e05b6cc7-950c-4d87-adf0-52457c6bd70f</td>\n",
       "      <td>Slazenger Shoe Bag</td>\n",
       "      <td>Accessories &gt;Backpacks and Bags&gt;Urban Backpacks</td>\n",
       "      <td>10.29</td>\n",
       "    </tr>\n",
       "    <tr>\n",
       "      <td>3625659</td>\n",
       "      <td>5603a51a-1e83-4262-888e-1cf7a98fa008</td>\n",
       "      <td>2019-07-18 09:51:52.953906 UTC</td>\n",
       "      <td>view_item</td>\n",
       "      <td>8a4d4ccb-d481-4d2c-b948-12943cf159e8</td>\n",
       "      <td>Hot Tuna Galaxy Backpack</td>\n",
       "      <td>Backpacks and Bags&gt;Accessories &gt;School Backpacks</td>\n",
       "      <td>11.98</td>\n",
       "    </tr>\n",
       "    <tr>\n",
       "      <td>3625806</td>\n",
       "      <td>5603a51a-1e83-4262-888e-1cf7a98fa008</td>\n",
       "      <td>2019-07-18 09:52:43.531906 UTC</td>\n",
       "      <td>view_item</td>\n",
       "      <td>a8282066-c887-40be-91e2-085ba96c059b</td>\n",
       "      <td>Hot Tuna Tuna Explorer B P 93</td>\n",
       "      <td>Backpacks and Bags&gt;Accessories &gt;School Backpacks</td>\n",
       "      <td>11.98</td>\n",
       "    </tr>\n",
       "    <tr>\n",
       "      <td>3626453</td>\n",
       "      <td>5603a51a-1e83-4262-888e-1cf7a98fa008</td>\n",
       "      <td>2019-07-18 09:56:14.835906 UTC</td>\n",
       "      <td>view_item</td>\n",
       "      <td>a535819f-7be0-4fad-84e5-f49229a81731</td>\n",
       "      <td>Hot Tuna Tuna Graph Suitcase84</td>\n",
       "      <td>Accessories &gt;Backpacks and Bags&gt;Travel bags an...</td>\n",
       "      <td>34.85</td>\n",
       "    </tr>\n",
       "  </tbody>\n",
       "</table>\n",
       "</div>"
      ],
      "text/plain": [
       "                                  customer_id                       timestamp  \\\n",
       "3624786  5603a51a-1e83-4262-888e-1cf7a98fa008  2019-07-18 09:46:51.367906 UTC   \n",
       "3625083  5603a51a-1e83-4262-888e-1cf7a98fa008  2019-07-18 09:48:35.856906 UTC   \n",
       "3625243  5603a51a-1e83-4262-888e-1cf7a98fa008  2019-07-18 09:49:28.294906 UTC   \n",
       "3625263  5603a51a-1e83-4262-888e-1cf7a98fa008  2019-07-18 09:49:34.658906 UTC   \n",
       "3625267  5603a51a-1e83-4262-888e-1cf7a98fa008  2019-07-18 09:49:36.594906 UTC   \n",
       "3625301  5603a51a-1e83-4262-888e-1cf7a98fa008  2019-07-18 09:49:44.554906 UTC   \n",
       "3625659  5603a51a-1e83-4262-888e-1cf7a98fa008  2019-07-18 09:51:52.953906 UTC   \n",
       "3625806  5603a51a-1e83-4262-888e-1cf7a98fa008  2019-07-18 09:52:43.531906 UTC   \n",
       "3626453  5603a51a-1e83-4262-888e-1cf7a98fa008  2019-07-18 09:56:14.835906 UTC   \n",
       "\n",
       "        event_type                            product_id  \\\n",
       "3624786  view_item  31ae211d-57a9-4bfa-b95f-40776af03c3f   \n",
       "3625083  view_item  cc21bf26-0ca7-463f-973f-1f644a53514e   \n",
       "3625243  view_item  e9d3a1e9-cc3c-4101-b3ef-21ae55875213   \n",
       "3625263  view_item  db149e6d-553f-4d2b-9755-84e5224011ab   \n",
       "3625267  view_item  cc21bf26-0ca7-463f-973f-1f644a53514e   \n",
       "3625301  view_item  e05b6cc7-950c-4d87-adf0-52457c6bd70f   \n",
       "3625659  view_item  8a4d4ccb-d481-4d2c-b948-12943cf159e8   \n",
       "3625806  view_item  a8282066-c887-40be-91e2-085ba96c059b   \n",
       "3626453  view_item  a535819f-7be0-4fad-84e5-f49229a81731   \n",
       "\n",
       "                                  title  \\\n",
       "3624786        Lee Cooper Marl Backpack   \n",
       "3625083          No Fear Urban Backpack   \n",
       "3625243         Lonsdale Sport Backpack   \n",
       "3625263          Ocean Pacific Backpack   \n",
       "3625267          No Fear Urban Backpack   \n",
       "3625301              Slazenger Shoe Bag   \n",
       "3625659        Hot Tuna Galaxy Backpack   \n",
       "3625806   Hot Tuna Tuna Explorer B P 93   \n",
       "3626453  Hot Tuna Tuna Graph Suitcase84   \n",
       "\n",
       "                                             category_name  price  \n",
       "3624786                    Accessories >Backpacks and Bags  13.32  \n",
       "3625083    Accessories >Backpacks and Bags>Urban Backpacks  11.98  \n",
       "3625243    Accessories >Backpacks and Bags>Urban Backpacks  13.32  \n",
       "3625263    Accessories >Backpacks and Bags>Urban Backpacks   9.28  \n",
       "3625267    Accessories >Backpacks and Bags>Urban Backpacks  11.98  \n",
       "3625301    Accessories >Backpacks and Bags>Urban Backpacks  10.29  \n",
       "3625659   Backpacks and Bags>Accessories >School Backpacks  11.98  \n",
       "3625806   Backpacks and Bags>Accessories >School Backpacks  11.98  \n",
       "3626453  Accessories >Backpacks and Bags>Travel bags an...  34.85  "
      ]
     },
     "execution_count": 187,
     "metadata": {},
     "output_type": "execute_result"
    }
   ],
   "source": [
    "tested_customer = events[events.customer_id == '5603a51a-1e83-4262-888e-1cf7a98fa008'].sort_values(by ='timestamp')\n",
    "tested_customer"
   ]
  },
  {
   "cell_type": "code",
   "execution_count": 188,
   "metadata": {},
   "outputs": [],
   "source": [
    "train, test = split_products(list(tested_customer.product_id))"
   ]
  },
  {
   "cell_type": "code",
   "execution_count": 189,
   "metadata": {},
   "outputs": [
    {
     "data": {
      "text/plain": [
       "{'31ae211d-57a9-4bfa-b95f-40776af03c3f',\n",
       " 'cc21bf26-0ca7-463f-973f-1f644a53514e',\n",
       " 'db149e6d-553f-4d2b-9755-84e5224011ab',\n",
       " 'e9d3a1e9-cc3c-4101-b3ef-21ae55875213'}"
      ]
     },
     "execution_count": 189,
     "metadata": {},
     "output_type": "execute_result"
    }
   ],
   "source": [
    "train"
   ]
  },
  {
   "cell_type": "code",
   "execution_count": 190,
   "metadata": {
    "scrolled": true
   },
   "outputs": [
    {
     "data": {
      "text/plain": [
       "['e05b6cc7-950c-4d87-adf0-52457c6bd70f',\n",
       " '8a4d4ccb-d481-4d2c-b948-12943cf159e8',\n",
       " 'a8282066-c887-40be-91e2-085ba96c059b',\n",
       " 'a535819f-7be0-4fad-84e5-f49229a81731']"
      ]
     },
     "execution_count": 190,
     "metadata": {},
     "output_type": "execute_result"
    }
   ],
   "source": [
    "test"
   ]
  },
  {
   "cell_type": "code",
   "execution_count": 191,
   "metadata": {
    "scrolled": true
   },
   "outputs": [
    {
     "data": {
      "text/plain": [
       "['db149e6d-553f-4d2b-9755-84e5224011ab',\n",
       " 'cc21bf26-0ca7-463f-973f-1f644a53514e',\n",
       " 'd7daceeb-0205-4bc8-879a-add2635c380c',\n",
       " 'e9d3a1e9-cc3c-4101-b3ef-21ae55875213',\n",
       " '327be795-3882-47ac-a2d2-9c027f411eae',\n",
       " 'c552587b-cb1e-4698-a101-3c8a4762b40a',\n",
       " '9480b05d-dd2f-4104-ac8a-ef3c1767a975',\n",
       " '731f8fcb-c9b2-430a-8a5a-f3597b579e58',\n",
       " '17990900-a833-4c08-92e1-4eb634269c51',\n",
       " '11b92fb0-5615-4201-bbfa-686fbf8daf11']"
      ]
     },
     "execution_count": 191,
     "metadata": {},
     "output_type": "execute_result"
    }
   ],
   "source": [
    "cr2(train)"
   ]
  }
 ],
 "metadata": {
  "kernelspec": {
   "display_name": "Python 3",
   "language": "python",
   "name": "python3"
  },
  "language_info": {
   "codemirror_mode": {
    "name": "ipython",
    "version": 3
   },
   "file_extension": ".py",
   "mimetype": "text/x-python",
   "name": "python",
   "nbconvert_exporter": "python",
   "pygments_lexer": "ipython3",
   "version": "3.7.4"
  }
 },
 "nbformat": 4,
 "nbformat_minor": 2
}
